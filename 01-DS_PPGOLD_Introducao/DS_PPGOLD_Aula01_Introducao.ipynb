{
  "cells": [
    {
      "cell_type": "markdown",
      "metadata": {
        "id": "kf5t4e_0dIhp"
      },
      "source": [
        "\n",
        "<p style =\"text-align:center\">\n",
        "    <img src=\"http://epecora.com.br/DataFiles/PPGOLD_logo.png\" width=\"300\" alt=\"PPGOLD Data Science: INTRO\"  />\n",
        "</p>\n",
        "\n",
        "# Aula 01 de Data Science - LAB01\n",
        "\n",
        "## Introdução\n",
        "Tempo estimado: **60** minutos\n",
        "\n",
        "\n"
      ]
    },
    {
      "cell_type": "markdown",
      "metadata": {},
      "source": [
        "## Objetivos\n",
        "Após completar esse lab você será capaz de :\n",
        "* Obter dados\n",
        "* Entender os dados (dicionario de variáveis)\n",
        "* Criar Histograma \n",
        "* Tratar valores ausentes (missing values)\n",
        "* Formatar os dados (tipos)\n",
        "* Exportar dados"
      ]
    },
    {
      "cell_type": "markdown",
      "metadata": {},
      "source": [
        "<h2>Obtenção de dados</h2>\n",
        "<p>\n",
        "    As bases de dados podem estar contidas em arquivos de diversos formatos, como por exemplo: .csv, json e etc. \n",
        "    Para esse lab existem duas formas de obter esses dados:\n",
        "    <ol>\n",
        "        <li> Direto do github (online):\n",
        "            <ul>\n",
        "                <li><a href=\"https://raw.githubusercontent.com/EduPekUfpr/PPGOLD7037/main/Data/auto.csv\"> https://raw.githubusercontent.com/EduPekUfpr/PPGOLD7037/main/Data/auto.csv</a></li>\n",
        "                <li> Arquivo .csv</li>\n",
        "            </ul>\n",
        "        </li>\n",
        "        <li> Importando do seu computador:\n",
        "            <ul>\n",
        "                <li> Clique no seguinte ícone:\n",
        "                <br>\n",
        "                    <img src=\"data:image/png;base64,iVBORw0KGgoAAAANSUhEUgAAADAAAAA2CAYAAACBWxqaAAABT0lEQVRoBe2YzQ2DMAyFGYs7C3BnAAZgF9gC7gzAAIzBnXOqd0CyIpo6Mb/VO0QNlYv97K8mJsvz3L15ZW8OHrFTwN0VZAVYAWMXJEJEiAgZM0CEjAlkF3o8QkVRuLZt3TRNqlVV1aXH8yBCZVm6ZVncuq7qBfsrRQQFDMOgDlyKvFJEUACwkYHF7CEC6MWupmmiEDxNQIxY33aeZ4f/nqZBPFIABHVdd6wAZEXbiVLt4GOrBu5xaAXqulbdUOP0mw18UIDMjuxCrIDi0EaEJD7YEyEFNjJpREhmgwhF4oOEESEilICNTBoRktnA/q8eZH3fR4+HseMkfBx6nE4d6rcgLJ/w7ROxdx0cKVNeq1iC3n6LFwLwvRew/11QAIwxXGM+Hcfx9JESPuBLO9Ajvp8CfMVPu6aAuyvCCrACxvMTESJCRMiYASJkTODru9AHCTyk6xJDbpwAAAAASUVORK5CYII=\" alt=\"Imagem em base64\">\n",
        "                </li>\n",
        "                <li> Em seguida escolha o local no qual o arquivo se emcontra no seu computador e faça o upload</li>\n",
        "            </ul>\n",
        "        </li>\n",
        "    </ol>\n",
        "</p>"
      ]
    },
    {
      "cell_type": "markdown",
      "metadata": {},
      "source": [
        "* Se você não estiver usando o colab será necessário inportar a biblioteca pandas\n",
        "* Repare que `pd` é uma abreviação que estamos dando para a bibioteca"
      ]
    },
    {
      "cell_type": "code",
      "execution_count": 72,
      "metadata": {},
      "outputs": [],
      "source": [
        "import pandas as pd "
      ]
    },
    {
      "cell_type": "markdown",
      "metadata": {},
      "source": [
        " * Vamos passar o caminho do arquivo para um objeto chamado `caminho`.\n",
        " * Em seguida passar o caminho para o objeto e ele vai armazena-lo.\n",
        " * Por último criar um novo objteto chamado `df` e armazenando."
      ]
    },
    {
      "cell_type": "code",
      "execution_count": 73,
      "metadata": {
        "id": "3NAqLaubEPgI"
      },
      "outputs": [],
      "source": [
        "caminho = \"\" # o objeto ainda está vazio. \n",
        "\n",
        "caminho = \"https://raw.githubusercontent.com/EduPekUfpr/PPGOLD7037/main/Data/auto.csv\" \n",
        "\n",
        "df = pd.read_csv(caminho, header = None) "
      ]
    },
    {
      "cell_type": "markdown",
      "metadata": {},
      "source": [
        "* Verifique quantas linhas e colunas existem no dataframe usando o método `.shape` que retornará `(linhas,colunas)`"
      ]
    },
    {
      "cell_type": "code",
      "execution_count": 74,
      "metadata": {},
      "outputs": [
        {
          "data": {
            "text/plain": [
              "(205, 26)"
            ]
          },
          "execution_count": 74,
          "metadata": {},
          "output_type": "execute_result"
        }
      ],
      "source": [
        "df.shape"
      ]
    },
    {
      "cell_type": "markdown",
      "metadata": {
        "id": "CI6ksvYKNgkS"
      },
      "source": [
        "* Vamos verificar a estrutura do dataframe que está armazenado dentro do objeto `df`.\n",
        "* Para isso podemos usar o método `.head()`, ele retorna as primeira 5 linhas do dataframe.\n",
        "* Para visualizar as primeira dez linhas podemos usar `.head(10)`"
      ]
    },
    {
      "cell_type": "code",
      "execution_count": 75,
      "metadata": {
        "colab": {
          "base_uri": "https://localhost:8080/",
          "height": 363
        },
        "id": "9RLrq1y_JY-c",
        "outputId": "053de910-a893-4f14-de83-d3073331d14b"
      },
      "outputs": [
        {
          "data": {
            "text/html": [
              "<div>\n",
              "<style scoped>\n",
              "    .dataframe tbody tr th:only-of-type {\n",
              "        vertical-align: middle;\n",
              "    }\n",
              "\n",
              "    .dataframe tbody tr th {\n",
              "        vertical-align: top;\n",
              "    }\n",
              "\n",
              "    .dataframe thead th {\n",
              "        text-align: right;\n",
              "    }\n",
              "</style>\n",
              "<table border=\"1\" class=\"dataframe\">\n",
              "  <thead>\n",
              "    <tr style=\"text-align: right;\">\n",
              "      <th></th>\n",
              "      <th>0</th>\n",
              "      <th>1</th>\n",
              "      <th>2</th>\n",
              "      <th>3</th>\n",
              "      <th>4</th>\n",
              "      <th>5</th>\n",
              "      <th>6</th>\n",
              "      <th>7</th>\n",
              "      <th>8</th>\n",
              "      <th>9</th>\n",
              "      <th>...</th>\n",
              "      <th>16</th>\n",
              "      <th>17</th>\n",
              "      <th>18</th>\n",
              "      <th>19</th>\n",
              "      <th>20</th>\n",
              "      <th>21</th>\n",
              "      <th>22</th>\n",
              "      <th>23</th>\n",
              "      <th>24</th>\n",
              "      <th>25</th>\n",
              "    </tr>\n",
              "  </thead>\n",
              "  <tbody>\n",
              "    <tr>\n",
              "      <th>0</th>\n",
              "      <td>3</td>\n",
              "      <td>?</td>\n",
              "      <td>alfa-romero</td>\n",
              "      <td>gas</td>\n",
              "      <td>std</td>\n",
              "      <td>two</td>\n",
              "      <td>convertible</td>\n",
              "      <td>rwd</td>\n",
              "      <td>front</td>\n",
              "      <td>88.6</td>\n",
              "      <td>...</td>\n",
              "      <td>130</td>\n",
              "      <td>mpfi</td>\n",
              "      <td>3.47</td>\n",
              "      <td>2.68</td>\n",
              "      <td>9.0</td>\n",
              "      <td>111</td>\n",
              "      <td>5000</td>\n",
              "      <td>21</td>\n",
              "      <td>27</td>\n",
              "      <td>13495</td>\n",
              "    </tr>\n",
              "    <tr>\n",
              "      <th>1</th>\n",
              "      <td>3</td>\n",
              "      <td>?</td>\n",
              "      <td>alfa-romero</td>\n",
              "      <td>gas</td>\n",
              "      <td>std</td>\n",
              "      <td>two</td>\n",
              "      <td>convertible</td>\n",
              "      <td>rwd</td>\n",
              "      <td>front</td>\n",
              "      <td>88.6</td>\n",
              "      <td>...</td>\n",
              "      <td>130</td>\n",
              "      <td>mpfi</td>\n",
              "      <td>3.47</td>\n",
              "      <td>2.68</td>\n",
              "      <td>9.0</td>\n",
              "      <td>111</td>\n",
              "      <td>5000</td>\n",
              "      <td>21</td>\n",
              "      <td>27</td>\n",
              "      <td>16500</td>\n",
              "    </tr>\n",
              "    <tr>\n",
              "      <th>2</th>\n",
              "      <td>1</td>\n",
              "      <td>?</td>\n",
              "      <td>alfa-romero</td>\n",
              "      <td>gas</td>\n",
              "      <td>std</td>\n",
              "      <td>two</td>\n",
              "      <td>hatchback</td>\n",
              "      <td>rwd</td>\n",
              "      <td>front</td>\n",
              "      <td>94.5</td>\n",
              "      <td>...</td>\n",
              "      <td>152</td>\n",
              "      <td>mpfi</td>\n",
              "      <td>2.68</td>\n",
              "      <td>3.47</td>\n",
              "      <td>9.0</td>\n",
              "      <td>154</td>\n",
              "      <td>5000</td>\n",
              "      <td>19</td>\n",
              "      <td>26</td>\n",
              "      <td>16500</td>\n",
              "    </tr>\n",
              "    <tr>\n",
              "      <th>3</th>\n",
              "      <td>2</td>\n",
              "      <td>164</td>\n",
              "      <td>audi</td>\n",
              "      <td>gas</td>\n",
              "      <td>std</td>\n",
              "      <td>four</td>\n",
              "      <td>sedan</td>\n",
              "      <td>fwd</td>\n",
              "      <td>front</td>\n",
              "      <td>99.8</td>\n",
              "      <td>...</td>\n",
              "      <td>109</td>\n",
              "      <td>mpfi</td>\n",
              "      <td>3.19</td>\n",
              "      <td>3.40</td>\n",
              "      <td>10.0</td>\n",
              "      <td>102</td>\n",
              "      <td>5500</td>\n",
              "      <td>24</td>\n",
              "      <td>30</td>\n",
              "      <td>13950</td>\n",
              "    </tr>\n",
              "    <tr>\n",
              "      <th>4</th>\n",
              "      <td>2</td>\n",
              "      <td>164</td>\n",
              "      <td>audi</td>\n",
              "      <td>gas</td>\n",
              "      <td>std</td>\n",
              "      <td>four</td>\n",
              "      <td>sedan</td>\n",
              "      <td>4wd</td>\n",
              "      <td>front</td>\n",
              "      <td>99.4</td>\n",
              "      <td>...</td>\n",
              "      <td>136</td>\n",
              "      <td>mpfi</td>\n",
              "      <td>3.19</td>\n",
              "      <td>3.40</td>\n",
              "      <td>8.0</td>\n",
              "      <td>115</td>\n",
              "      <td>5500</td>\n",
              "      <td>18</td>\n",
              "      <td>22</td>\n",
              "      <td>17450</td>\n",
              "    </tr>\n",
              "    <tr>\n",
              "      <th>5</th>\n",
              "      <td>2</td>\n",
              "      <td>?</td>\n",
              "      <td>audi</td>\n",
              "      <td>gas</td>\n",
              "      <td>std</td>\n",
              "      <td>two</td>\n",
              "      <td>sedan</td>\n",
              "      <td>fwd</td>\n",
              "      <td>front</td>\n",
              "      <td>99.8</td>\n",
              "      <td>...</td>\n",
              "      <td>136</td>\n",
              "      <td>mpfi</td>\n",
              "      <td>3.19</td>\n",
              "      <td>3.40</td>\n",
              "      <td>8.5</td>\n",
              "      <td>110</td>\n",
              "      <td>5500</td>\n",
              "      <td>19</td>\n",
              "      <td>25</td>\n",
              "      <td>15250</td>\n",
              "    </tr>\n",
              "    <tr>\n",
              "      <th>6</th>\n",
              "      <td>1</td>\n",
              "      <td>158</td>\n",
              "      <td>audi</td>\n",
              "      <td>gas</td>\n",
              "      <td>std</td>\n",
              "      <td>four</td>\n",
              "      <td>sedan</td>\n",
              "      <td>fwd</td>\n",
              "      <td>front</td>\n",
              "      <td>105.8</td>\n",
              "      <td>...</td>\n",
              "      <td>136</td>\n",
              "      <td>mpfi</td>\n",
              "      <td>3.19</td>\n",
              "      <td>3.40</td>\n",
              "      <td>8.5</td>\n",
              "      <td>110</td>\n",
              "      <td>5500</td>\n",
              "      <td>19</td>\n",
              "      <td>25</td>\n",
              "      <td>17710</td>\n",
              "    </tr>\n",
              "    <tr>\n",
              "      <th>7</th>\n",
              "      <td>1</td>\n",
              "      <td>?</td>\n",
              "      <td>audi</td>\n",
              "      <td>gas</td>\n",
              "      <td>std</td>\n",
              "      <td>four</td>\n",
              "      <td>wagon</td>\n",
              "      <td>fwd</td>\n",
              "      <td>front</td>\n",
              "      <td>105.8</td>\n",
              "      <td>...</td>\n",
              "      <td>136</td>\n",
              "      <td>mpfi</td>\n",
              "      <td>3.19</td>\n",
              "      <td>3.40</td>\n",
              "      <td>8.5</td>\n",
              "      <td>110</td>\n",
              "      <td>5500</td>\n",
              "      <td>19</td>\n",
              "      <td>25</td>\n",
              "      <td>18920</td>\n",
              "    </tr>\n",
              "    <tr>\n",
              "      <th>8</th>\n",
              "      <td>1</td>\n",
              "      <td>158</td>\n",
              "      <td>audi</td>\n",
              "      <td>gas</td>\n",
              "      <td>turbo</td>\n",
              "      <td>four</td>\n",
              "      <td>sedan</td>\n",
              "      <td>fwd</td>\n",
              "      <td>front</td>\n",
              "      <td>105.8</td>\n",
              "      <td>...</td>\n",
              "      <td>131</td>\n",
              "      <td>mpfi</td>\n",
              "      <td>3.13</td>\n",
              "      <td>3.40</td>\n",
              "      <td>8.3</td>\n",
              "      <td>140</td>\n",
              "      <td>5500</td>\n",
              "      <td>17</td>\n",
              "      <td>20</td>\n",
              "      <td>23875</td>\n",
              "    </tr>\n",
              "    <tr>\n",
              "      <th>9</th>\n",
              "      <td>0</td>\n",
              "      <td>?</td>\n",
              "      <td>aud</td>\n",
              "      <td>gas</td>\n",
              "      <td>turbo</td>\n",
              "      <td>two</td>\n",
              "      <td>hatchback</td>\n",
              "      <td>4wd</td>\n",
              "      <td>front</td>\n",
              "      <td>99.5</td>\n",
              "      <td>...</td>\n",
              "      <td>131</td>\n",
              "      <td>mpfi</td>\n",
              "      <td>3.13</td>\n",
              "      <td>3.40</td>\n",
              "      <td>7.0</td>\n",
              "      <td>160</td>\n",
              "      <td>5500</td>\n",
              "      <td>16</td>\n",
              "      <td>22</td>\n",
              "      <td>?</td>\n",
              "    </tr>\n",
              "  </tbody>\n",
              "</table>\n",
              "<p>10 rows × 26 columns</p>\n",
              "</div>"
            ],
            "text/plain": [
              "   0    1            2    3      4     5            6    7      8      9   \\\n",
              "0   3    ?  alfa-romero  gas    std   two  convertible  rwd  front   88.6   \n",
              "1   3    ?  alfa-romero  gas    std   two  convertible  rwd  front   88.6   \n",
              "2   1    ?  alfa-romero  gas    std   two    hatchback  rwd  front   94.5   \n",
              "3   2  164         audi  gas    std  four        sedan  fwd  front   99.8   \n",
              "4   2  164         audi  gas    std  four        sedan  4wd  front   99.4   \n",
              "5   2    ?         audi  gas    std   two        sedan  fwd  front   99.8   \n",
              "6   1  158         audi  gas    std  four        sedan  fwd  front  105.8   \n",
              "7   1    ?         audi  gas    std  four        wagon  fwd  front  105.8   \n",
              "8   1  158         audi  gas  turbo  four        sedan  fwd  front  105.8   \n",
              "9   0    ?          aud  gas  turbo   two    hatchback  4wd  front   99.5   \n",
              "\n",
              "   ...   16    17    18    19    20   21    22  23  24     25  \n",
              "0  ...  130  mpfi  3.47  2.68   9.0  111  5000  21  27  13495  \n",
              "1  ...  130  mpfi  3.47  2.68   9.0  111  5000  21  27  16500  \n",
              "2  ...  152  mpfi  2.68  3.47   9.0  154  5000  19  26  16500  \n",
              "3  ...  109  mpfi  3.19  3.40  10.0  102  5500  24  30  13950  \n",
              "4  ...  136  mpfi  3.19  3.40   8.0  115  5500  18  22  17450  \n",
              "5  ...  136  mpfi  3.19  3.40   8.5  110  5500  19  25  15250  \n",
              "6  ...  136  mpfi  3.19  3.40   8.5  110  5500  19  25  17710  \n",
              "7  ...  136  mpfi  3.19  3.40   8.5  110  5500  19  25  18920  \n",
              "8  ...  131  mpfi  3.13  3.40   8.3  140  5500  17  20  23875  \n",
              "9  ...  131  mpfi  3.13  3.40   7.0  160  5500  16  22      ?  \n",
              "\n",
              "[10 rows x 26 columns]"
            ]
          },
          "execution_count": 75,
          "metadata": {},
          "output_type": "execute_result"
        }
      ],
      "source": [
        "df.head(10)"
      ]
    },
    {
      "cell_type": "markdown",
      "metadata": {},
      "source": [
        "* Podemos também visualizar as últimas linhas utilizando o método `.tail()`"
      ]
    },
    {
      "cell_type": "code",
      "execution_count": 76,
      "metadata": {},
      "outputs": [
        {
          "data": {
            "text/html": [
              "<div>\n",
              "<style scoped>\n",
              "    .dataframe tbody tr th:only-of-type {\n",
              "        vertical-align: middle;\n",
              "    }\n",
              "\n",
              "    .dataframe tbody tr th {\n",
              "        vertical-align: top;\n",
              "    }\n",
              "\n",
              "    .dataframe thead th {\n",
              "        text-align: right;\n",
              "    }\n",
              "</style>\n",
              "<table border=\"1\" class=\"dataframe\">\n",
              "  <thead>\n",
              "    <tr style=\"text-align: right;\">\n",
              "      <th></th>\n",
              "      <th>0</th>\n",
              "      <th>1</th>\n",
              "      <th>2</th>\n",
              "      <th>3</th>\n",
              "      <th>4</th>\n",
              "      <th>5</th>\n",
              "      <th>6</th>\n",
              "      <th>7</th>\n",
              "      <th>8</th>\n",
              "      <th>9</th>\n",
              "      <th>...</th>\n",
              "      <th>16</th>\n",
              "      <th>17</th>\n",
              "      <th>18</th>\n",
              "      <th>19</th>\n",
              "      <th>20</th>\n",
              "      <th>21</th>\n",
              "      <th>22</th>\n",
              "      <th>23</th>\n",
              "      <th>24</th>\n",
              "      <th>25</th>\n",
              "    </tr>\n",
              "  </thead>\n",
              "  <tbody>\n",
              "    <tr>\n",
              "      <th>200</th>\n",
              "      <td>-1</td>\n",
              "      <td>95</td>\n",
              "      <td>volvo</td>\n",
              "      <td>gas</td>\n",
              "      <td>std</td>\n",
              "      <td>four</td>\n",
              "      <td>sedan</td>\n",
              "      <td>rwd</td>\n",
              "      <td>front</td>\n",
              "      <td>109.1</td>\n",
              "      <td>...</td>\n",
              "      <td>141</td>\n",
              "      <td>mpfi</td>\n",
              "      <td>3.78</td>\n",
              "      <td>3.15</td>\n",
              "      <td>9.5</td>\n",
              "      <td>114</td>\n",
              "      <td>5400</td>\n",
              "      <td>23</td>\n",
              "      <td>28</td>\n",
              "      <td>16845</td>\n",
              "    </tr>\n",
              "    <tr>\n",
              "      <th>201</th>\n",
              "      <td>-1</td>\n",
              "      <td>95</td>\n",
              "      <td>volvo</td>\n",
              "      <td>gas</td>\n",
              "      <td>turbo</td>\n",
              "      <td>four</td>\n",
              "      <td>sedan</td>\n",
              "      <td>rwd</td>\n",
              "      <td>front</td>\n",
              "      <td>109.1</td>\n",
              "      <td>...</td>\n",
              "      <td>141</td>\n",
              "      <td>mpfi</td>\n",
              "      <td>3.78</td>\n",
              "      <td>3.15</td>\n",
              "      <td>8.7</td>\n",
              "      <td>160</td>\n",
              "      <td>5300</td>\n",
              "      <td>19</td>\n",
              "      <td>25</td>\n",
              "      <td>19045</td>\n",
              "    </tr>\n",
              "    <tr>\n",
              "      <th>202</th>\n",
              "      <td>-1</td>\n",
              "      <td>95</td>\n",
              "      <td>volvo</td>\n",
              "      <td>gas</td>\n",
              "      <td>std</td>\n",
              "      <td>four</td>\n",
              "      <td>sedan</td>\n",
              "      <td>rwd</td>\n",
              "      <td>front</td>\n",
              "      <td>109.1</td>\n",
              "      <td>...</td>\n",
              "      <td>173</td>\n",
              "      <td>mpfi</td>\n",
              "      <td>3.58</td>\n",
              "      <td>2.87</td>\n",
              "      <td>8.8</td>\n",
              "      <td>134</td>\n",
              "      <td>5500</td>\n",
              "      <td>18</td>\n",
              "      <td>23</td>\n",
              "      <td>21485</td>\n",
              "    </tr>\n",
              "    <tr>\n",
              "      <th>203</th>\n",
              "      <td>-1</td>\n",
              "      <td>95</td>\n",
              "      <td>volvo</td>\n",
              "      <td>diesel</td>\n",
              "      <td>turbo</td>\n",
              "      <td>four</td>\n",
              "      <td>sedan</td>\n",
              "      <td>rwd</td>\n",
              "      <td>front</td>\n",
              "      <td>109.1</td>\n",
              "      <td>...</td>\n",
              "      <td>145</td>\n",
              "      <td>idi</td>\n",
              "      <td>3.01</td>\n",
              "      <td>3.40</td>\n",
              "      <td>23.0</td>\n",
              "      <td>106</td>\n",
              "      <td>4800</td>\n",
              "      <td>26</td>\n",
              "      <td>27</td>\n",
              "      <td>22470</td>\n",
              "    </tr>\n",
              "    <tr>\n",
              "      <th>204</th>\n",
              "      <td>-1</td>\n",
              "      <td>95</td>\n",
              "      <td>volvo</td>\n",
              "      <td>gas</td>\n",
              "      <td>turbo</td>\n",
              "      <td>four</td>\n",
              "      <td>sedan</td>\n",
              "      <td>rwd</td>\n",
              "      <td>front</td>\n",
              "      <td>109.1</td>\n",
              "      <td>...</td>\n",
              "      <td>141</td>\n",
              "      <td>mpfi</td>\n",
              "      <td>3.78</td>\n",
              "      <td>3.15</td>\n",
              "      <td>9.5</td>\n",
              "      <td>114</td>\n",
              "      <td>5400</td>\n",
              "      <td>19</td>\n",
              "      <td>25</td>\n",
              "      <td>22625</td>\n",
              "    </tr>\n",
              "  </tbody>\n",
              "</table>\n",
              "<p>5 rows × 26 columns</p>\n",
              "</div>"
            ],
            "text/plain": [
              "     0   1      2       3      4     5      6    7      8      9   ...   16  \\\n",
              "200  -1  95  volvo     gas    std  four  sedan  rwd  front  109.1  ...  141   \n",
              "201  -1  95  volvo     gas  turbo  four  sedan  rwd  front  109.1  ...  141   \n",
              "202  -1  95  volvo     gas    std  four  sedan  rwd  front  109.1  ...  173   \n",
              "203  -1  95  volvo  diesel  turbo  four  sedan  rwd  front  109.1  ...  145   \n",
              "204  -1  95  volvo     gas  turbo  four  sedan  rwd  front  109.1  ...  141   \n",
              "\n",
              "       17    18    19    20   21    22  23  24     25  \n",
              "200  mpfi  3.78  3.15   9.5  114  5400  23  28  16845  \n",
              "201  mpfi  3.78  3.15   8.7  160  5300  19  25  19045  \n",
              "202  mpfi  3.58  2.87   8.8  134  5500  18  23  21485  \n",
              "203   idi  3.01  3.40  23.0  106  4800  26  27  22470  \n",
              "204  mpfi  3.78  3.15   9.5  114  5400  19  25  22625  \n",
              "\n",
              "[5 rows x 26 columns]"
            ]
          },
          "execution_count": 76,
          "metadata": {},
          "output_type": "execute_result"
        }
      ],
      "source": [
        "df.tail()"
      ]
    },
    {
      "cell_type": "markdown",
      "metadata": {},
      "source": [
        "<h2>Entendendo os dados (dicionário das variáveis)</h2>"
      ]
    },
    {
      "cell_type": "markdown",
      "metadata": {},
      "source": [
        "* Vamos analisar as colunas."
      ]
    },
    {
      "cell_type": "code",
      "execution_count": 77,
      "metadata": {},
      "outputs": [
        {
          "data": {
            "text/plain": [
              "Int64Index([ 0,  1,  2,  3,  4,  5,  6,  7,  8,  9, 10, 11, 12, 13, 14, 15, 16,\n",
              "            17, 18, 19, 20, 21, 22, 23, 24, 25],\n",
              "           dtype='int64')"
            ]
          },
          "execution_count": 77,
          "metadata": {},
          "output_type": "execute_result"
        }
      ],
      "source": [
        "df.columns"
      ]
    },
    {
      "cell_type": "markdown",
      "metadata": {},
      "source": [
        "* Dicionário das variáveis\n",
        "\n",
        "| Índice    | Nome                  | Intervalo                             |\n",
        "| ------    | ----                  | ---                                   |\n",
        "|0          |symboling              |-3, -2, -1, 0, 1, 2, 3                 |\n",
        "|1          |normalized-losses      |continuous from 65 to 256              |\n",
        "|2          |make                   |alfa-romero, audi, bmw ...             |\n",
        "|3          |fuel-type              |diesel, gas                            |\n",
        "|4          |aspiration             |std, turbo                             |\n",
        "|5          |num-of-doors           |four, two                              |\n",
        "|6          |body-style             |hardtop, wagon, sedan, hatchback ...   |\n",
        "|7          |drive-wheels           |4wd, fwd, rwd                          |\n",
        "|8          |engine-location        |front, rear                            |\n",
        "|9          |wheel-base             |continuous from 86.6 120.9             |\n",
        "|10         |length                 |continuous from 141.1 to 208.1.        |\n",
        "|11         |width                  |continuous from 60.3 to 72.3.          |\n",
        "|12         |height                 |continuous from 47.8 to 59.8.          |\n",
        "|13         |curb-weight            |continuous from 1488 to 4066.          |\n",
        "|14         |engine-type            |dohc, dohcv, l, ohc, ohcf, ohcv, rotor |\n",
        "|15         |num-of-cylinders       | eight, five, four, six, three, ...    |\n",
        "|16         |engine-size            | continuous from 61 to 326.            |\n",
        "|17         | fuel-system           | 1bbl, 2bbl, 4bbl, idi, mfi, mpfi ...  |\n",
        "|18         | bore                  | continuous from 2.54 to 3.94.         |\n",
        "|19         | stroke                |continuous from 2.07 to 4.17.          |     \n",
        "|20         | compression-ratio     | continuous from 7 to 23.              |\n",
        "|21         | horsepower            | continuous from 48 to 288.            |\n",
        "|22         | peak-rpm              |continuous from 4150 to 6600.          |\n",
        "|23         | city-mpg              |continuous from 13 to 49.              |\n",
        "|24         | highway-mpg           | continuous from 16 to 54.             |\n",
        "|25         | price                 |continuous from 5118 to 45400.         |"
      ]
    },
    {
      "cell_type": "markdown",
      "metadata": {},
      "source": [
        "* Como o dataframe está sem o cabeçalho, vamos adicioná-lo usando na propriedade `.columns` do dataframe.\n",
        "* Para isso vamos criar uma lista chamada `cabecalhos` .\n",
        "* Em seguida usamos a propriedade já mencionada."
      ]
    },
    {
      "cell_type": "code",
      "execution_count": 78,
      "metadata": {},
      "outputs": [
        {
          "data": {
            "text/html": [
              "<div>\n",
              "<style scoped>\n",
              "    .dataframe tbody tr th:only-of-type {\n",
              "        vertical-align: middle;\n",
              "    }\n",
              "\n",
              "    .dataframe tbody tr th {\n",
              "        vertical-align: top;\n",
              "    }\n",
              "\n",
              "    .dataframe thead th {\n",
              "        text-align: right;\n",
              "    }\n",
              "</style>\n",
              "<table border=\"1\" class=\"dataframe\">\n",
              "  <thead>\n",
              "    <tr style=\"text-align: right;\">\n",
              "      <th></th>\n",
              "      <th>symboling</th>\n",
              "      <th>normalized-losses</th>\n",
              "      <th>make</th>\n",
              "      <th>fuel-type</th>\n",
              "      <th>aspiration</th>\n",
              "      <th>num-of-doors</th>\n",
              "      <th>body-style</th>\n",
              "      <th>drive-wheels</th>\n",
              "      <th>engine-location</th>\n",
              "      <th>wheel-base</th>\n",
              "      <th>...</th>\n",
              "      <th>engine-size</th>\n",
              "      <th>fuel-system</th>\n",
              "      <th>bore</th>\n",
              "      <th>stroke</th>\n",
              "      <th>compression-ratio</th>\n",
              "      <th>horsepower</th>\n",
              "      <th>peak-rpm</th>\n",
              "      <th>city-mpg</th>\n",
              "      <th>highway-mpg</th>\n",
              "      <th>price</th>\n",
              "    </tr>\n",
              "  </thead>\n",
              "  <tbody>\n",
              "    <tr>\n",
              "      <th>0</th>\n",
              "      <td>3</td>\n",
              "      <td>?</td>\n",
              "      <td>alfa-romero</td>\n",
              "      <td>gas</td>\n",
              "      <td>std</td>\n",
              "      <td>two</td>\n",
              "      <td>convertible</td>\n",
              "      <td>rwd</td>\n",
              "      <td>front</td>\n",
              "      <td>88.6</td>\n",
              "      <td>...</td>\n",
              "      <td>130</td>\n",
              "      <td>mpfi</td>\n",
              "      <td>3.47</td>\n",
              "      <td>2.68</td>\n",
              "      <td>9.0</td>\n",
              "      <td>111</td>\n",
              "      <td>5000</td>\n",
              "      <td>21</td>\n",
              "      <td>27</td>\n",
              "      <td>13495</td>\n",
              "    </tr>\n",
              "    <tr>\n",
              "      <th>1</th>\n",
              "      <td>3</td>\n",
              "      <td>?</td>\n",
              "      <td>alfa-romero</td>\n",
              "      <td>gas</td>\n",
              "      <td>std</td>\n",
              "      <td>two</td>\n",
              "      <td>convertible</td>\n",
              "      <td>rwd</td>\n",
              "      <td>front</td>\n",
              "      <td>88.6</td>\n",
              "      <td>...</td>\n",
              "      <td>130</td>\n",
              "      <td>mpfi</td>\n",
              "      <td>3.47</td>\n",
              "      <td>2.68</td>\n",
              "      <td>9.0</td>\n",
              "      <td>111</td>\n",
              "      <td>5000</td>\n",
              "      <td>21</td>\n",
              "      <td>27</td>\n",
              "      <td>16500</td>\n",
              "    </tr>\n",
              "    <tr>\n",
              "      <th>2</th>\n",
              "      <td>1</td>\n",
              "      <td>?</td>\n",
              "      <td>alfa-romero</td>\n",
              "      <td>gas</td>\n",
              "      <td>std</td>\n",
              "      <td>two</td>\n",
              "      <td>hatchback</td>\n",
              "      <td>rwd</td>\n",
              "      <td>front</td>\n",
              "      <td>94.5</td>\n",
              "      <td>...</td>\n",
              "      <td>152</td>\n",
              "      <td>mpfi</td>\n",
              "      <td>2.68</td>\n",
              "      <td>3.47</td>\n",
              "      <td>9.0</td>\n",
              "      <td>154</td>\n",
              "      <td>5000</td>\n",
              "      <td>19</td>\n",
              "      <td>26</td>\n",
              "      <td>16500</td>\n",
              "    </tr>\n",
              "    <tr>\n",
              "      <th>3</th>\n",
              "      <td>2</td>\n",
              "      <td>164</td>\n",
              "      <td>audi</td>\n",
              "      <td>gas</td>\n",
              "      <td>std</td>\n",
              "      <td>four</td>\n",
              "      <td>sedan</td>\n",
              "      <td>fwd</td>\n",
              "      <td>front</td>\n",
              "      <td>99.8</td>\n",
              "      <td>...</td>\n",
              "      <td>109</td>\n",
              "      <td>mpfi</td>\n",
              "      <td>3.19</td>\n",
              "      <td>3.40</td>\n",
              "      <td>10.0</td>\n",
              "      <td>102</td>\n",
              "      <td>5500</td>\n",
              "      <td>24</td>\n",
              "      <td>30</td>\n",
              "      <td>13950</td>\n",
              "    </tr>\n",
              "    <tr>\n",
              "      <th>4</th>\n",
              "      <td>2</td>\n",
              "      <td>164</td>\n",
              "      <td>audi</td>\n",
              "      <td>gas</td>\n",
              "      <td>std</td>\n",
              "      <td>four</td>\n",
              "      <td>sedan</td>\n",
              "      <td>4wd</td>\n",
              "      <td>front</td>\n",
              "      <td>99.4</td>\n",
              "      <td>...</td>\n",
              "      <td>136</td>\n",
              "      <td>mpfi</td>\n",
              "      <td>3.19</td>\n",
              "      <td>3.40</td>\n",
              "      <td>8.0</td>\n",
              "      <td>115</td>\n",
              "      <td>5500</td>\n",
              "      <td>18</td>\n",
              "      <td>22</td>\n",
              "      <td>17450</td>\n",
              "    </tr>\n",
              "    <tr>\n",
              "      <th>5</th>\n",
              "      <td>2</td>\n",
              "      <td>?</td>\n",
              "      <td>audi</td>\n",
              "      <td>gas</td>\n",
              "      <td>std</td>\n",
              "      <td>two</td>\n",
              "      <td>sedan</td>\n",
              "      <td>fwd</td>\n",
              "      <td>front</td>\n",
              "      <td>99.8</td>\n",
              "      <td>...</td>\n",
              "      <td>136</td>\n",
              "      <td>mpfi</td>\n",
              "      <td>3.19</td>\n",
              "      <td>3.40</td>\n",
              "      <td>8.5</td>\n",
              "      <td>110</td>\n",
              "      <td>5500</td>\n",
              "      <td>19</td>\n",
              "      <td>25</td>\n",
              "      <td>15250</td>\n",
              "    </tr>\n",
              "    <tr>\n",
              "      <th>6</th>\n",
              "      <td>1</td>\n",
              "      <td>158</td>\n",
              "      <td>audi</td>\n",
              "      <td>gas</td>\n",
              "      <td>std</td>\n",
              "      <td>four</td>\n",
              "      <td>sedan</td>\n",
              "      <td>fwd</td>\n",
              "      <td>front</td>\n",
              "      <td>105.8</td>\n",
              "      <td>...</td>\n",
              "      <td>136</td>\n",
              "      <td>mpfi</td>\n",
              "      <td>3.19</td>\n",
              "      <td>3.40</td>\n",
              "      <td>8.5</td>\n",
              "      <td>110</td>\n",
              "      <td>5500</td>\n",
              "      <td>19</td>\n",
              "      <td>25</td>\n",
              "      <td>17710</td>\n",
              "    </tr>\n",
              "    <tr>\n",
              "      <th>7</th>\n",
              "      <td>1</td>\n",
              "      <td>?</td>\n",
              "      <td>audi</td>\n",
              "      <td>gas</td>\n",
              "      <td>std</td>\n",
              "      <td>four</td>\n",
              "      <td>wagon</td>\n",
              "      <td>fwd</td>\n",
              "      <td>front</td>\n",
              "      <td>105.8</td>\n",
              "      <td>...</td>\n",
              "      <td>136</td>\n",
              "      <td>mpfi</td>\n",
              "      <td>3.19</td>\n",
              "      <td>3.40</td>\n",
              "      <td>8.5</td>\n",
              "      <td>110</td>\n",
              "      <td>5500</td>\n",
              "      <td>19</td>\n",
              "      <td>25</td>\n",
              "      <td>18920</td>\n",
              "    </tr>\n",
              "    <tr>\n",
              "      <th>8</th>\n",
              "      <td>1</td>\n",
              "      <td>158</td>\n",
              "      <td>audi</td>\n",
              "      <td>gas</td>\n",
              "      <td>turbo</td>\n",
              "      <td>four</td>\n",
              "      <td>sedan</td>\n",
              "      <td>fwd</td>\n",
              "      <td>front</td>\n",
              "      <td>105.8</td>\n",
              "      <td>...</td>\n",
              "      <td>131</td>\n",
              "      <td>mpfi</td>\n",
              "      <td>3.13</td>\n",
              "      <td>3.40</td>\n",
              "      <td>8.3</td>\n",
              "      <td>140</td>\n",
              "      <td>5500</td>\n",
              "      <td>17</td>\n",
              "      <td>20</td>\n",
              "      <td>23875</td>\n",
              "    </tr>\n",
              "    <tr>\n",
              "      <th>9</th>\n",
              "      <td>0</td>\n",
              "      <td>?</td>\n",
              "      <td>aud</td>\n",
              "      <td>gas</td>\n",
              "      <td>turbo</td>\n",
              "      <td>two</td>\n",
              "      <td>hatchback</td>\n",
              "      <td>4wd</td>\n",
              "      <td>front</td>\n",
              "      <td>99.5</td>\n",
              "      <td>...</td>\n",
              "      <td>131</td>\n",
              "      <td>mpfi</td>\n",
              "      <td>3.13</td>\n",
              "      <td>3.40</td>\n",
              "      <td>7.0</td>\n",
              "      <td>160</td>\n",
              "      <td>5500</td>\n",
              "      <td>16</td>\n",
              "      <td>22</td>\n",
              "      <td>?</td>\n",
              "    </tr>\n",
              "  </tbody>\n",
              "</table>\n",
              "<p>10 rows × 26 columns</p>\n",
              "</div>"
            ],
            "text/plain": [
              "   symboling normalized-losses         make fuel-type aspiration num-of-doors  \\\n",
              "0          3                 ?  alfa-romero       gas        std          two   \n",
              "1          3                 ?  alfa-romero       gas        std          two   \n",
              "2          1                 ?  alfa-romero       gas        std          two   \n",
              "3          2               164         audi       gas        std         four   \n",
              "4          2               164         audi       gas        std         four   \n",
              "5          2                 ?         audi       gas        std          two   \n",
              "6          1               158         audi       gas        std         four   \n",
              "7          1                 ?         audi       gas        std         four   \n",
              "8          1               158         audi       gas      turbo         four   \n",
              "9          0                 ?          aud       gas      turbo          two   \n",
              "\n",
              "    body-style drive-wheels engine-location  wheel-base  ...  engine-size  \\\n",
              "0  convertible          rwd           front        88.6  ...          130   \n",
              "1  convertible          rwd           front        88.6  ...          130   \n",
              "2    hatchback          rwd           front        94.5  ...          152   \n",
              "3        sedan          fwd           front        99.8  ...          109   \n",
              "4        sedan          4wd           front        99.4  ...          136   \n",
              "5        sedan          fwd           front        99.8  ...          136   \n",
              "6        sedan          fwd           front       105.8  ...          136   \n",
              "7        wagon          fwd           front       105.8  ...          136   \n",
              "8        sedan          fwd           front       105.8  ...          131   \n",
              "9    hatchback          4wd           front        99.5  ...          131   \n",
              "\n",
              "   fuel-system  bore  stroke compression-ratio horsepower  peak-rpm city-mpg  \\\n",
              "0         mpfi  3.47    2.68               9.0        111      5000       21   \n",
              "1         mpfi  3.47    2.68               9.0        111      5000       21   \n",
              "2         mpfi  2.68    3.47               9.0        154      5000       19   \n",
              "3         mpfi  3.19    3.40              10.0        102      5500       24   \n",
              "4         mpfi  3.19    3.40               8.0        115      5500       18   \n",
              "5         mpfi  3.19    3.40               8.5        110      5500       19   \n",
              "6         mpfi  3.19    3.40               8.5        110      5500       19   \n",
              "7         mpfi  3.19    3.40               8.5        110      5500       19   \n",
              "8         mpfi  3.13    3.40               8.3        140      5500       17   \n",
              "9         mpfi  3.13    3.40               7.0        160      5500       16   \n",
              "\n",
              "  highway-mpg  price  \n",
              "0          27  13495  \n",
              "1          27  16500  \n",
              "2          26  16500  \n",
              "3          30  13950  \n",
              "4          22  17450  \n",
              "5          25  15250  \n",
              "6          25  17710  \n",
              "7          25  18920  \n",
              "8          20  23875  \n",
              "9          22      ?  \n",
              "\n",
              "[10 rows x 26 columns]"
            ]
          },
          "execution_count": 78,
          "metadata": {},
          "output_type": "execute_result"
        }
      ],
      "source": [
        "# Criamos o cabeçalho\n",
        "cabecalhos = [\"symboling\",\"normalized-losses\",\"make\",\"fuel-type\",\"aspiration\", \"num-of-doors\",\"body-style\",\n",
        "         \"drive-wheels\",\"engine-location\",\"wheel-base\", \"length\",\"width\",\"height\",\"curb-weight\",\"engine-type\",\n",
        "         \"num-of-cylinders\", \"engine-size\",\"fuel-system\",\"bore\",\"stroke\",\"compression-ratio\",\"horsepower\",\n",
        "         \"peak-rpm\",\"city-mpg\",\"highway-mpg\",\"price\"]\n",
        "\n",
        "# Passando a lista de cabeçalho para a coluna\n",
        "df.columns = cabecalhos\n",
        "# Fazendo a verificação da nova estrutura\n",
        "df.head(10)         "
      ]
    },
    {
      "cell_type": "markdown",
      "metadata": {},
      "source": [
        "<h2>Criando um histograma</h2>\n",
        "<p>\n",
        "    <ul>\n",
        "        <li>Usaremos o método <strong>.hist()</strong>\n",
        "            <ul>\n",
        "                <li>\n",
        "                    O Pandas possui uma integração com o matplotlib que permite plotar gráficos através de uma forma simples.\n",
        "                </li>\n",
        "                <li>\n",
        "                    Passando por parâmetro o <strong>figsize(largura,altura)</strong> conseguimos modificar as dimensões do gráfico plotado.\n",
        "                </li>\n",
        "            </li>\n",
        "         </ul>\n",
        "    </ul>\n",
        "</p>\n"
      ]
    },
    {
      "cell_type": "code",
      "execution_count": 79,
      "metadata": {},
      "outputs": [
        {
          "data": {
            "text/plain": [
              "array([[<AxesSubplot: title={'center': 'symboling'}>,\n",
              "        <AxesSubplot: title={'center': 'wheel-base'}>,\n",
              "        <AxesSubplot: title={'center': 'length'}>],\n",
              "       [<AxesSubplot: title={'center': 'width'}>,\n",
              "        <AxesSubplot: title={'center': 'height'}>,\n",
              "        <AxesSubplot: title={'center': 'curb-weight'}>],\n",
              "       [<AxesSubplot: title={'center': 'engine-size'}>,\n",
              "        <AxesSubplot: title={'center': 'compression-ratio'}>,\n",
              "        <AxesSubplot: title={'center': 'city-mpg'}>],\n",
              "       [<AxesSubplot: title={'center': 'highway-mpg'}>, <AxesSubplot: >,\n",
              "        <AxesSubplot: >]], dtype=object)"
            ]
          },
          "execution_count": 79,
          "metadata": {},
          "output_type": "execute_result"
        },
        {
          "data": {
            "image/png": "[encoded data removed]",
            "text/plain": [
              "<Figure size 1152x792 with 12 Axes>"
            ]
          },
          "metadata": {
            "needs_background": "light"
          },
          "output_type": "display_data"
        }
      ],
      "source": [
        "df.hist(figsize=(16,11))"
      ]
    },
    {
      "cell_type": "markdown",
      "metadata": {},
      "source": [
        "<h2>Tratando Valores ausentes (missing values)</h2>\n",
        "<li>\n",
        "     Os valores ausentes estão marcados com uma <strong>?</strong>\n",
        "</li>\n",
        "<li>\n",
        "     Vamos alterá-los para <strong>np.nan</strong>\n",
        "</li>\n",
        "<li>\n",
        "     Para isso vamos primeiro importar  a biblioteca numpy\n",
        "</li>"
      ]
    },
    {
      "cell_type": "code",
      "execution_count": 80,
      "metadata": {},
      "outputs": [],
      "source": [
        "import numpy as np "
      ]
    },
    {
      "cell_type": "markdown",
      "metadata": {},
      "source": [
        "* Vamos fazer a alteraçção usando o método `.replace()` do pandas. \n",
        "* Em seguida informamos dois parâmetros, valor a ser alterado e o valor novo , sendo eles  `?` e `np.nan` respectivamente"
      ]
    },
    {
      "cell_type": "code",
      "execution_count": 81,
      "metadata": {},
      "outputs": [],
      "source": [
        "df=df.replace('?',np.nan)"
      ]
    },
    {
      "cell_type": "code",
      "execution_count": 82,
      "metadata": {},
      "outputs": [
        {
          "data": {
            "text/plain": [
              "symboling             0\n",
              "normalized-losses    41\n",
              "make                  0\n",
              "fuel-type             0\n",
              "aspiration            0\n",
              "num-of-doors          2\n",
              "body-style            0\n",
              "drive-wheels          0\n",
              "engine-location       0\n",
              "wheel-base            0\n",
              "length                0\n",
              "width                 0\n",
              "height                0\n",
              "curb-weight           0\n",
              "engine-type           0\n",
              "num-of-cylinders      0\n",
              "engine-size           0\n",
              "fuel-system           0\n",
              "bore                  4\n",
              "stroke                4\n",
              "compression-ratio     0\n",
              "horsepower            2\n",
              "peak-rpm              2\n",
              "city-mpg              0\n",
              "highway-mpg           0\n",
              "price                 4\n",
              "dtype: int64"
            ]
          },
          "execution_count": 82,
          "metadata": {},
          "output_type": "execute_result"
        }
      ],
      "source": [
        "df.isna().sum()"
      ]
    },
    {
      "cell_type": "markdown",
      "metadata": {},
      "source": [
        "* Uma outra forma interessante é ver através de um mapa de calor.\n",
        "* Podemos fazer isso através do seaborn.\n",
        "* Para tanto vamos importar a biblioteca do seaborn."
      ]
    },
    {
      "cell_type": "code",
      "execution_count": 83,
      "metadata": {},
      "outputs": [],
      "source": [
        "import seaborn as sns"
      ]
    },
    {
      "cell_type": "markdown",
      "metadata": {},
      "source": [
        "* Vamos usar o gráfico chamado `.heatmap()`\n",
        "* Agora basta passar o método `.isna()` do dataframe como parâmetro"
      ]
    },
    {
      "cell_type": "code",
      "execution_count": 84,
      "metadata": {},
      "outputs": [
        {
          "data": {
            "text/plain": [
              "<AxesSubplot: >"
            ]
          },
          "execution_count": 84,
          "metadata": {},
          "output_type": "execute_result"
        },
        {
          "data": {
            "image/png": "[encoded data removed]",
            "text/plain": [
              "<Figure size 432x288 with 2 Axes>"
            ]
          },
          "metadata": {
            "needs_background": "light"
          },
          "output_type": "display_data"
        }
      ],
      "source": [
        "sns.heatmap(df.isna())"
      ]
    },
    {
      "cell_type": "markdown",
      "metadata": {},
      "source": [
        "###  Quais são as opções para lidar com dados ausentes?\n",
        "\n",
        "\n",
        "#### Deletar os Dados\n",
        "  * Deletar a linha inteira\n",
        "  * Deletar a coluna inteira\n",
        "\n",
        "As colunas inteiras só devem ser descartadas se a maioria dos dados da coluna estiver vazia. Em nosso conjunto de dados, nenhuma das colunas está vazia o suficiente para ser descartada completamente.\n",
        "\n",
        "Quando temos uma linha com muitos dados faltantes, levanta-se a hipótese da veracidade dela. Portanto também podemos deletá-la.\n",
        "\n",
        "-----\n",
        "**Deletar a linha inteira:**\n",
        "\n",
        "* \"preço\": 4 dados em falta, basta apagar a linha inteira\n",
        "\n",
        "Razão: o preço é o que queremos prever. Qualquer entrada de dados sem dados de preço não pode ser usada para previsão; portanto, qualquer linha sem dados de preço não nos é útil.\n",
        "\n",
        "-----"
      ]
    },
    {
      "cell_type": "markdown",
      "metadata": {},
      "source": [
        "* Vamos conferir primeiro quantas linhas e colunas existem através do método `.shape()`"
      ]
    },
    {
      "cell_type": "code",
      "execution_count": 85,
      "metadata": {},
      "outputs": [
        {
          "data": {
            "text/plain": [
              "(205, 26)"
            ]
          },
          "execution_count": 85,
          "metadata": {},
          "output_type": "execute_result"
        }
      ],
      "source": [
        "df.shape"
      ]
    },
    {
      "cell_type": "code",
      "execution_count": 86,
      "metadata": {},
      "outputs": [
        {
          "data": {
            "text/html": [
              "<div>\n",
              "<style scoped>\n",
              "    .dataframe tbody tr th:only-of-type {\n",
              "        vertical-align: middle;\n",
              "    }\n",
              "\n",
              "    .dataframe tbody tr th {\n",
              "        vertical-align: top;\n",
              "    }\n",
              "\n",
              "    .dataframe thead th {\n",
              "        text-align: right;\n",
              "    }\n",
              "</style>\n",
              "<table border=\"1\" class=\"dataframe\">\n",
              "  <thead>\n",
              "    <tr style=\"text-align: right;\">\n",
              "      <th></th>\n",
              "      <th>symboling</th>\n",
              "      <th>normalized-losses</th>\n",
              "      <th>make</th>\n",
              "      <th>fuel-type</th>\n",
              "      <th>aspiration</th>\n",
              "      <th>num-of-doors</th>\n",
              "      <th>body-style</th>\n",
              "      <th>drive-wheels</th>\n",
              "      <th>engine-location</th>\n",
              "      <th>wheel-base</th>\n",
              "      <th>...</th>\n",
              "      <th>engine-size</th>\n",
              "      <th>fuel-system</th>\n",
              "      <th>bore</th>\n",
              "      <th>stroke</th>\n",
              "      <th>compression-ratio</th>\n",
              "      <th>horsepower</th>\n",
              "      <th>peak-rpm</th>\n",
              "      <th>city-mpg</th>\n",
              "      <th>highway-mpg</th>\n",
              "      <th>price</th>\n",
              "    </tr>\n",
              "  </thead>\n",
              "  <tbody>\n",
              "    <tr>\n",
              "      <th>0</th>\n",
              "      <td>3</td>\n",
              "      <td>NaN</td>\n",
              "      <td>alfa-romero</td>\n",
              "      <td>gas</td>\n",
              "      <td>std</td>\n",
              "      <td>two</td>\n",
              "      <td>convertible</td>\n",
              "      <td>rwd</td>\n",
              "      <td>front</td>\n",
              "      <td>88.6</td>\n",
              "      <td>...</td>\n",
              "      <td>130</td>\n",
              "      <td>mpfi</td>\n",
              "      <td>3.47</td>\n",
              "      <td>2.68</td>\n",
              "      <td>9.0</td>\n",
              "      <td>111</td>\n",
              "      <td>5000</td>\n",
              "      <td>21</td>\n",
              "      <td>27</td>\n",
              "      <td>13495</td>\n",
              "    </tr>\n",
              "    <tr>\n",
              "      <th>1</th>\n",
              "      <td>3</td>\n",
              "      <td>NaN</td>\n",
              "      <td>alfa-romero</td>\n",
              "      <td>gas</td>\n",
              "      <td>std</td>\n",
              "      <td>two</td>\n",
              "      <td>convertible</td>\n",
              "      <td>rwd</td>\n",
              "      <td>front</td>\n",
              "      <td>88.6</td>\n",
              "      <td>...</td>\n",
              "      <td>130</td>\n",
              "      <td>mpfi</td>\n",
              "      <td>3.47</td>\n",
              "      <td>2.68</td>\n",
              "      <td>9.0</td>\n",
              "      <td>111</td>\n",
              "      <td>5000</td>\n",
              "      <td>21</td>\n",
              "      <td>27</td>\n",
              "      <td>16500</td>\n",
              "    </tr>\n",
              "    <tr>\n",
              "      <th>2</th>\n",
              "      <td>1</td>\n",
              "      <td>NaN</td>\n",
              "      <td>alfa-romero</td>\n",
              "      <td>gas</td>\n",
              "      <td>std</td>\n",
              "      <td>two</td>\n",
              "      <td>hatchback</td>\n",
              "      <td>rwd</td>\n",
              "      <td>front</td>\n",
              "      <td>94.5</td>\n",
              "      <td>...</td>\n",
              "      <td>152</td>\n",
              "      <td>mpfi</td>\n",
              "      <td>2.68</td>\n",
              "      <td>3.47</td>\n",
              "      <td>9.0</td>\n",
              "      <td>154</td>\n",
              "      <td>5000</td>\n",
              "      <td>19</td>\n",
              "      <td>26</td>\n",
              "      <td>16500</td>\n",
              "    </tr>\n",
              "    <tr>\n",
              "      <th>3</th>\n",
              "      <td>2</td>\n",
              "      <td>164</td>\n",
              "      <td>audi</td>\n",
              "      <td>gas</td>\n",
              "      <td>std</td>\n",
              "      <td>four</td>\n",
              "      <td>sedan</td>\n",
              "      <td>fwd</td>\n",
              "      <td>front</td>\n",
              "      <td>99.8</td>\n",
              "      <td>...</td>\n",
              "      <td>109</td>\n",
              "      <td>mpfi</td>\n",
              "      <td>3.19</td>\n",
              "      <td>3.40</td>\n",
              "      <td>10.0</td>\n",
              "      <td>102</td>\n",
              "      <td>5500</td>\n",
              "      <td>24</td>\n",
              "      <td>30</td>\n",
              "      <td>13950</td>\n",
              "    </tr>\n",
              "    <tr>\n",
              "      <th>4</th>\n",
              "      <td>2</td>\n",
              "      <td>164</td>\n",
              "      <td>audi</td>\n",
              "      <td>gas</td>\n",
              "      <td>std</td>\n",
              "      <td>four</td>\n",
              "      <td>sedan</td>\n",
              "      <td>4wd</td>\n",
              "      <td>front</td>\n",
              "      <td>99.4</td>\n",
              "      <td>...</td>\n",
              "      <td>136</td>\n",
              "      <td>mpfi</td>\n",
              "      <td>3.19</td>\n",
              "      <td>3.40</td>\n",
              "      <td>8.0</td>\n",
              "      <td>115</td>\n",
              "      <td>5500</td>\n",
              "      <td>18</td>\n",
              "      <td>22</td>\n",
              "      <td>17450</td>\n",
              "    </tr>\n",
              "  </tbody>\n",
              "</table>\n",
              "<p>5 rows × 26 columns</p>\n",
              "</div>"
            ],
            "text/plain": [
              "   symboling normalized-losses         make fuel-type aspiration num-of-doors  \\\n",
              "0          3               NaN  alfa-romero       gas        std          two   \n",
              "1          3               NaN  alfa-romero       gas        std          two   \n",
              "2          1               NaN  alfa-romero       gas        std          two   \n",
              "3          2               164         audi       gas        std         four   \n",
              "4          2               164         audi       gas        std         four   \n",
              "\n",
              "    body-style drive-wheels engine-location  wheel-base  ...  engine-size  \\\n",
              "0  convertible          rwd           front        88.6  ...          130   \n",
              "1  convertible          rwd           front        88.6  ...          130   \n",
              "2    hatchback          rwd           front        94.5  ...          152   \n",
              "3        sedan          fwd           front        99.8  ...          109   \n",
              "4        sedan          4wd           front        99.4  ...          136   \n",
              "\n",
              "   fuel-system  bore  stroke compression-ratio horsepower  peak-rpm city-mpg  \\\n",
              "0         mpfi  3.47    2.68               9.0        111      5000       21   \n",
              "1         mpfi  3.47    2.68               9.0        111      5000       21   \n",
              "2         mpfi  2.68    3.47               9.0        154      5000       19   \n",
              "3         mpfi  3.19    3.40              10.0        102      5500       24   \n",
              "4         mpfi  3.19    3.40               8.0        115      5500       18   \n",
              "\n",
              "  highway-mpg  price  \n",
              "0          27  13495  \n",
              "1          27  16500  \n",
              "2          26  16500  \n",
              "3          30  13950  \n",
              "4          22  17450  \n",
              "\n",
              "[5 rows x 26 columns]"
            ]
          },
          "execution_count": 86,
          "metadata": {},
          "output_type": "execute_result"
        }
      ],
      "source": [
        "# Delete a linha toda com NaN na coluna \"price\" \n",
        "df.dropna(subset=[\"price\"], axis=0, inplace = True)\n",
        "\n",
        "# vamos resetar os indices das linhas pois algumas linhas foram deletadas\n",
        "df.reset_index(drop = True, inplace = True)\n",
        "\n",
        "df.head()"
      ]
    },
    {
      "cell_type": "markdown",
      "metadata": {},
      "source": [
        "* Agora conferindo novamente quantas linhas e colunas temos"
      ]
    },
    {
      "cell_type": "code",
      "execution_count": 87,
      "metadata": {},
      "outputs": [
        {
          "data": {
            "text/plain": [
              "(201, 26)"
            ]
          },
          "execution_count": 87,
          "metadata": {},
          "output_type": "execute_result"
        }
      ],
      "source": [
        "df.shape"
      ]
    },
    {
      "cell_type": "markdown",
      "metadata": {},
      "source": [
        "### Substituir dados\n",
        "* Substituir pela média\n",
        "* Substituir pela maior frequência\n",
        "* Substituir com base em outras funções\n",
        "\n",
        "Temos alguma liberdade para escolher qual método substituir os dados; no entanto, alguns métodos podem parecer mais razoáveis do que outros. \n",
        "\n",
        "**Substituir pela média:**\n",
        "\n",
        "* \"normalized-losses\": 41 dados faltantes, substitua-os pela média\n",
        "*\"stroke\": 4 dados faltantes, substitua-os pela média\n",
        "* \"bore\": 4 dados faltantes, substitua-os pela média<\n",
        "*\"horse-power\": 2 dados faltantes, substitua-os pela média\n",
        "*\"peak-rpm\": 2 dados faltantes, substitua-os pela média\n",
        "\n",
        "**Substituir pela frequência:**\n",
        "\n",
        "* \"num-of-doors\": 2 dados faltantes, substitua-os pelo valor mais frequente.\n",
        "\n",
        "Razão: 84% de sedans são quatro portas. Como quatro portas é a mais frequente, é mais provável que ocorra"
      ]
    },
    {
      "cell_type": "code",
      "execution_count": 88,
      "metadata": {},
      "outputs": [
        {
          "name": "stdout",
          "output_type": "stream",
          "text": [
            "Average of normalized-losses: 122.0\n"
          ]
        }
      ],
      "source": [
        "# Cálculo da média normalized-losses\n",
        "avg_norm_loss = df[\"normalized-losses\"].astype(\"float\").mean(axis=0)\n",
        "print(\"Average of normalized-losses:\", avg_norm_loss)\n",
        "\n",
        "# Substituição pela média normalized-losses\n",
        "df[\"normalized-losses\"].replace(np.nan, avg_norm_loss, inplace=True) "
      ]
    },
    {
      "cell_type": "code",
      "execution_count": 89,
      "metadata": {},
      "outputs": [
        {
          "name": "stdout",
          "output_type": "stream",
          "text": [
            "Average of bore: 3.330710659898477\n",
            "Average stroke: 3.256903553299492\n",
            "Average horsepower: 103.39698492462311\n",
            "Average peak rpm: 5117.587939698493\n"
          ]
        }
      ],
      "source": [
        "# bore\n",
        "avg_bore= df[\"bore\"].astype(\"float\").mean(axis=0)\n",
        "print(\"Average of bore:\", avg_bore)\n",
        "df[\"bore\"].replace(np.nan, avg_bore, inplace=True) \n",
        "\n",
        "# stroke\n",
        "avg_stroke=df['stroke'].astype('float').mean(axis=0)\n",
        "print(\"Average stroke:\", avg_stroke)\n",
        "df['stroke'].replace(np.nan, avg_stroke, inplace=True)\n",
        "\n",
        "# horsepower\n",
        "avg_horsepower = df['horsepower'].astype('float').mean(axis=0)\n",
        "print(\"Average horsepower:\", avg_horsepower)\n",
        "df['horsepower'].replace(np.nan, avg_horsepower, inplace=True)\n",
        "\n",
        "# peak-rpm\n",
        "avg_peakrpm=df['peak-rpm'].astype('float').mean(axis=0)\n",
        "print(\"Average peak rpm:\", avg_peakrpm)\n",
        "df['peak-rpm'].replace(np.nan, avg_peakrpm, inplace=True)"
      ]
    },
    {
      "cell_type": "markdown",
      "metadata": {},
      "source": [
        "### Categorical Data\n",
        "\n",
        "* **Valor mais frequente (Dados Categóricos)**"
      ]
    },
    {
      "cell_type": "code",
      "execution_count": 90,
      "metadata": {},
      "outputs": [
        {
          "name": "stdout",
          "output_type": "stream",
          "text": [
            "four    113\n",
            "two      86\n",
            "Name: num-of-doors, dtype: int64\n",
            "Valor mais frequente de num-of-doors:  four\n"
          ]
        }
      ],
      "source": [
        "# Valor mais frequente de num-of-doors\n",
        "print(df['num-of-doors'].value_counts()) # imprime a contagem de cada valor\n",
        "\n",
        "a = df['num-of-doors'].value_counts().idxmax() # idxmax pega o índice o maior valor\n",
        "\n",
        "print(\"Valor mais frequente de num-of-doors: \", a)\n",
        "\n",
        "#Substitua o valor 'num-of-doors' pelo mais frequente\n",
        "df[\"num-of-doors\"].replace(np.nan, a, inplace=True)"
      ]
    },
    {
      "cell_type": "markdown",
      "metadata": {},
      "source": [
        "* **Dá pra fazer melhor ?**\n",
        "    * SEMPRE !"
      ]
    },
    {
      "cell_type": "code",
      "execution_count": 91,
      "metadata": {},
      "outputs": [
        {
          "data": {
            "text/plain": [
              "num-of-doors  body-style \n",
              "four          hatchback      10\n",
              "              sedan          80\n",
              "              wagon          25\n",
              "two           convertible     6\n",
              "              hardtop         8\n",
              "              hatchback      58\n",
              "              sedan          14\n",
              "dtype: int64"
            ]
          },
          "execution_count": 91,
          "metadata": {},
          "output_type": "execute_result"
        }
      ],
      "source": [
        "df.groupby(['num-of-doors', \"body-style\"]).size()"
      ]
    },
    {
      "cell_type": "markdown",
      "metadata": {},
      "source": [
        "* Vamos analisar agora se está tudo limpo mesmo?"
      ]
    },
    {
      "cell_type": "code",
      "execution_count": 92,
      "metadata": {},
      "outputs": [
        {
          "data": {
            "text/plain": [
              "symboling            0\n",
              "normalized-losses    0\n",
              "make                 0\n",
              "fuel-type            0\n",
              "aspiration           0\n",
              "num-of-doors         0\n",
              "body-style           0\n",
              "drive-wheels         0\n",
              "engine-location      0\n",
              "wheel-base           0\n",
              "length               0\n",
              "width                0\n",
              "height               0\n",
              "curb-weight          0\n",
              "engine-type          0\n",
              "num-of-cylinders     0\n",
              "engine-size          0\n",
              "fuel-system          0\n",
              "bore                 0\n",
              "stroke               0\n",
              "compression-ratio    0\n",
              "horsepower           0\n",
              "peak-rpm             0\n",
              "city-mpg             0\n",
              "highway-mpg          0\n",
              "price                0\n",
              "dtype: int64"
            ]
          },
          "execution_count": 92,
          "metadata": {},
          "output_type": "execute_result"
        }
      ],
      "source": [
        "df.isna().sum()"
      ]
    },
    {
      "cell_type": "markdown",
      "metadata": {},
      "source": [
        "## Formatando os dados "
      ]
    },
    {
      "cell_type": "markdown",
      "metadata": {},
      "source": [
        "<h3>Data Types</h3>\n",
        "\n",
        "Os dados vêm em vários tipos.<br>\n",
        "\n",
        "Os principais tipos armazenados em DataFrames Pandas são <b>object</b>, <b>float</b>, <b>int</b>, <b>bool</b> e <b>datetime64</b>. \n",
        "\n",
        "Para conhecer melhor cada atributo, é sempre bom para nós conhecermos o tipo de dados de cada coluna. \n",
        "Na Biblioteca Pandas para verificar os tipos digite:\n",
        "\n",
        "```\n",
        "df.dtypes\n",
        "```\n",
        "\n",
        "E uma série com o tipo de dado de cada coluna será retornada.\n",
        "    \n",
        "Para mais informações sobre os tipos básicos de dados na Pandas veja:\n",
        "* https://pandas.pydata.org/docs/user_guide/basics.html#basics-dtypes \n",
        "* https://pandas.pydata.org/docs/reference/api/pandas.DataFrame.dtypes.html\n",
        "\n"
      ]
    },
    {
      "cell_type": "code",
      "execution_count": 93,
      "metadata": {},
      "outputs": [
        {
          "data": {
            "text/plain": [
              "symboling              int64\n",
              "normalized-losses     object\n",
              "make                  object\n",
              "fuel-type             object\n",
              "aspiration            object\n",
              "num-of-doors          object\n",
              "body-style            object\n",
              "drive-wheels          object\n",
              "engine-location       object\n",
              "wheel-base           float64\n",
              "length               float64\n",
              "width                float64\n",
              "height               float64\n",
              "curb-weight            int64\n",
              "engine-type           object\n",
              "num-of-cylinders      object\n",
              "engine-size            int64\n",
              "fuel-system           object\n",
              "bore                  object\n",
              "stroke                object\n",
              "compression-ratio    float64\n",
              "horsepower            object\n",
              "peak-rpm              object\n",
              "city-mpg               int64\n",
              "highway-mpg            int64\n",
              "price                 object\n",
              "dtype: object"
            ]
          },
          "execution_count": 93,
          "metadata": {},
          "output_type": "execute_result"
        }
      ],
      "source": [
        "df.dtypes"
      ]
    },
    {
      "cell_type": "markdown",
      "metadata": {},
      "source": [
        "* Podemos usar o método `.info()` para retornar informações do nosso dataset.\n",
        "* Além de retornar quantas linhas não nulas existem, esse método também nos mostra o tipo de cada coluna."
      ]
    },
    {
      "cell_type": "code",
      "execution_count": 94,
      "metadata": {},
      "outputs": [
        {
          "name": "stdout",
          "output_type": "stream",
          "text": [
            "<class 'pandas.core.frame.DataFrame'>\n",
            "RangeIndex: 201 entries, 0 to 200\n",
            "Data columns (total 26 columns):\n",
            " #   Column             Non-Null Count  Dtype  \n",
            "---  ------             --------------  -----  \n",
            " 0   symboling          201 non-null    int64  \n",
            " 1   normalized-losses  201 non-null    object \n",
            " 2   make               201 non-null    object \n",
            " 3   fuel-type          201 non-null    object \n",
            " 4   aspiration         201 non-null    object \n",
            " 5   num-of-doors       201 non-null    object \n",
            " 6   body-style         201 non-null    object \n",
            " 7   drive-wheels       201 non-null    object \n",
            " 8   engine-location    201 non-null    object \n",
            " 9   wheel-base         201 non-null    float64\n",
            " 10  length             201 non-null    float64\n",
            " 11  width              201 non-null    float64\n",
            " 12  height             201 non-null    float64\n",
            " 13  curb-weight        201 non-null    int64  \n",
            " 14  engine-type        201 non-null    object \n",
            " 15  num-of-cylinders   201 non-null    object \n",
            " 16  engine-size        201 non-null    int64  \n",
            " 17  fuel-system        201 non-null    object \n",
            " 18  bore               201 non-null    object \n",
            " 19  stroke             201 non-null    object \n",
            " 20  compression-ratio  201 non-null    float64\n",
            " 21  horsepower         201 non-null    object \n",
            " 22  peak-rpm           201 non-null    object \n",
            " 23  city-mpg           201 non-null    int64  \n",
            " 24  highway-mpg        201 non-null    int64  \n",
            " 25  price              201 non-null    object \n",
            "dtypes: float64(5), int64(5), object(16)\n",
            "memory usage: 41.0+ KB\n"
          ]
        }
      ],
      "source": [
        "df.info()"
      ]
    },
    {
      "cell_type": "markdown",
      "metadata": {},
      "source": [
        "### Tipo dos dados\n",
        "\n",
        "Para trocar o tipo dos dados usamos:\n",
        "\n",
        "``` python\n",
        "as.type(int)\n",
        "```\n",
        "ou\n",
        "\n",
        "```python\n",
        "as.type(float)\n",
        "```"
      ]
    },
    {
      "cell_type": "markdown",
      "metadata": {},
      "source": [
        "* Vamos trocar o tipo da coluna *normalized-losses*"
      ]
    },
    {
      "cell_type": "code",
      "execution_count": 96,
      "metadata": {},
      "outputs": [
        {
          "data": {
            "text/plain": [
              "0      122.0\n",
              "1      122.0\n",
              "2      122.0\n",
              "3        164\n",
              "4        164\n",
              "       ...  \n",
              "196       95\n",
              "197       95\n",
              "198       95\n",
              "199       95\n",
              "200       95\n",
              "Name: normalized-losses, Length: 201, dtype: object"
            ]
          },
          "execution_count": 96,
          "metadata": {},
          "output_type": "execute_result"
        }
      ],
      "source": [
        "df['normalized-losses'] # verificando a serie de dados"
      ]
    },
    {
      "cell_type": "markdown",
      "metadata": {},
      "source": [
        " * Alterando o valor do indice 2 da coluna *normalized-losses*"
      ]
    },
    {
      "cell_type": "code",
      "execution_count": 97,
      "metadata": {},
      "outputs": [],
      "source": [
        "df.loc[2,'normalized-losses'] = \"KKK\" "
      ]
    },
    {
      "cell_type": "markdown",
      "metadata": {},
      "source": [
        "* Avaliando os registros únicos da coluna"
      ]
    },
    {
      "cell_type": "code",
      "execution_count": 99,
      "metadata": {},
      "outputs": [
        {
          "name": "stdout",
          "output_type": "stream",
          "text": [
            "[122.0 'KKK' '164' '158' '192' '188' '121' '98' '81' '118' '148' '110'\n",
            " '145' '137' '101' '78' '106' '85' '107' '104' '113' '150' '129' '115'\n",
            " '93' '142' '161' '153' '125' '128' '122' '103' '168' '108' '194' '231'\n",
            " '119' '154' '74' '186' '83' '102' '89' '87' '77' '91' '134' '65' '197'\n",
            " '90' '94' '256' '95']\n"
          ]
        }
      ],
      "source": [
        "print(df['normalized-losses'].unique())"
      ]
    },
    {
      "cell_type": "markdown",
      "metadata": {},
      "source": [
        "* Alterando a coluna *Normalized-losses*  para o tipo `float`"
      ]
    },
    {
      "cell_type": "code",
      "execution_count": 100,
      "metadata": {},
      "outputs": [
        {
          "ename": "ValueError",
          "evalue": "could not convert string to float: 'KKK'",
          "output_type": "error",
          "traceback": [
            "\u001b[1;31m---------------------------------------------------------------------------\u001b[0m",
            "\u001b[1;31mValueError\u001b[0m                                Traceback (most recent call last)",
            "\u001b[1;32mg:\\Meu Drive\\Mestrado\\DataScience\\PPGOLD7037\\01-DS_PPGOLD_Introducao\\DS_PPGOLD_Aula01_Introducao.ipynb Célula: 59\u001b[0m in \u001b[0;36m<cell line: 1>\u001b[1;34m()\u001b[0m\n\u001b[1;32m----> <a href='vscode-notebook-cell:/g%3A/Meu%20Drive/Mestrado/DataScience/PPGOLD7037/01-DS_PPGOLD_Introducao/DS_PPGOLD_Aula01_Introducao.ipynb#ch0000088?line=0'>1</a>\u001b[0m df[\u001b[39m'\u001b[39m\u001b[39mnormalized-losses\u001b[39m\u001b[39m'\u001b[39m] \u001b[39m=\u001b[39m df[\u001b[39m'\u001b[39;49m\u001b[39mnormalized-losses\u001b[39;49m\u001b[39m'\u001b[39;49m]\u001b[39m.\u001b[39;49mastype(\u001b[39mfloat\u001b[39;49m)\n",
            "File \u001b[1;32mc:\\Users\\User\\AppData\\Local\\Programs\\Python\\Python39\\lib\\site-packages\\pandas\\core\\generic.py:5815\u001b[0m, in \u001b[0;36mNDFrame.astype\u001b[1;34m(self, dtype, copy, errors)\u001b[0m\n\u001b[0;32m   5808\u001b[0m     results \u001b[39m=\u001b[39m [\n\u001b[0;32m   5809\u001b[0m         \u001b[39mself\u001b[39m\u001b[39m.\u001b[39miloc[:, i]\u001b[39m.\u001b[39mastype(dtype, copy\u001b[39m=\u001b[39mcopy)\n\u001b[0;32m   5810\u001b[0m         \u001b[39mfor\u001b[39;00m i \u001b[39min\u001b[39;00m \u001b[39mrange\u001b[39m(\u001b[39mlen\u001b[39m(\u001b[39mself\u001b[39m\u001b[39m.\u001b[39mcolumns))\n\u001b[0;32m   5811\u001b[0m     ]\n\u001b[0;32m   5813\u001b[0m \u001b[39melse\u001b[39;00m:\n\u001b[0;32m   5814\u001b[0m     \u001b[39m# else, only a single dtype is given\u001b[39;00m\n\u001b[1;32m-> 5815\u001b[0m     new_data \u001b[39m=\u001b[39m \u001b[39mself\u001b[39;49m\u001b[39m.\u001b[39;49m_mgr\u001b[39m.\u001b[39;49mastype(dtype\u001b[39m=\u001b[39;49mdtype, copy\u001b[39m=\u001b[39;49mcopy, errors\u001b[39m=\u001b[39;49merrors)\n\u001b[0;32m   5816\u001b[0m     \u001b[39mreturn\u001b[39;00m \u001b[39mself\u001b[39m\u001b[39m.\u001b[39m_constructor(new_data)\u001b[39m.\u001b[39m__finalize__(\u001b[39mself\u001b[39m, method\u001b[39m=\u001b[39m\u001b[39m\"\u001b[39m\u001b[39mastype\u001b[39m\u001b[39m\"\u001b[39m)\n\u001b[0;32m   5818\u001b[0m \u001b[39m# GH 33113: handle empty frame or series\u001b[39;00m\n",
            "File \u001b[1;32mc:\\Users\\User\\AppData\\Local\\Programs\\Python\\Python39\\lib\\site-packages\\pandas\\core\\internals\\managers.py:418\u001b[0m, in \u001b[0;36mBaseBlockManager.astype\u001b[1;34m(self, dtype, copy, errors)\u001b[0m\n\u001b[0;32m    417\u001b[0m \u001b[39mdef\u001b[39;00m \u001b[39mastype\u001b[39m(\u001b[39mself\u001b[39m: T, dtype, copy: \u001b[39mbool\u001b[39m \u001b[39m=\u001b[39m \u001b[39mFalse\u001b[39;00m, errors: \u001b[39mstr\u001b[39m \u001b[39m=\u001b[39m \u001b[39m\"\u001b[39m\u001b[39mraise\u001b[39m\u001b[39m\"\u001b[39m) \u001b[39m-\u001b[39m\u001b[39m>\u001b[39m T:\n\u001b[1;32m--> 418\u001b[0m     \u001b[39mreturn\u001b[39;00m \u001b[39mself\u001b[39;49m\u001b[39m.\u001b[39;49mapply(\u001b[39m\"\u001b[39;49m\u001b[39mastype\u001b[39;49m\u001b[39m\"\u001b[39;49m, dtype\u001b[39m=\u001b[39;49mdtype, copy\u001b[39m=\u001b[39;49mcopy, errors\u001b[39m=\u001b[39;49merrors)\n",
            "File \u001b[1;32mc:\\Users\\User\\AppData\\Local\\Programs\\Python\\Python39\\lib\\site-packages\\pandas\\core\\internals\\managers.py:327\u001b[0m, in \u001b[0;36mBaseBlockManager.apply\u001b[1;34m(self, f, align_keys, ignore_failures, **kwargs)\u001b[0m\n\u001b[0;32m    325\u001b[0m         applied \u001b[39m=\u001b[39m b\u001b[39m.\u001b[39mapply(f, \u001b[39m*\u001b[39m\u001b[39m*\u001b[39mkwargs)\n\u001b[0;32m    326\u001b[0m     \u001b[39melse\u001b[39;00m:\n\u001b[1;32m--> 327\u001b[0m         applied \u001b[39m=\u001b[39m \u001b[39mgetattr\u001b[39m(b, f)(\u001b[39m*\u001b[39m\u001b[39m*\u001b[39mkwargs)\n\u001b[0;32m    328\u001b[0m \u001b[39mexcept\u001b[39;00m (\u001b[39mTypeError\u001b[39;00m, \u001b[39mNotImplementedError\u001b[39;00m):\n\u001b[0;32m    329\u001b[0m     \u001b[39mif\u001b[39;00m \u001b[39mnot\u001b[39;00m ignore_failures:\n",
            "File \u001b[1;32mc:\\Users\\User\\AppData\\Local\\Programs\\Python\\Python39\\lib\\site-packages\\pandas\\core\\internals\\blocks.py:592\u001b[0m, in \u001b[0;36mBlock.astype\u001b[1;34m(self, dtype, copy, errors)\u001b[0m\n\u001b[0;32m    574\u001b[0m \u001b[39m\"\"\"\u001b[39;00m\n\u001b[0;32m    575\u001b[0m \u001b[39mCoerce to the new dtype.\u001b[39;00m\n\u001b[0;32m    576\u001b[0m \n\u001b[1;32m   (...)\u001b[0m\n\u001b[0;32m    588\u001b[0m \u001b[39mBlock\u001b[39;00m\n\u001b[0;32m    589\u001b[0m \u001b[39m\"\"\"\u001b[39;00m\n\u001b[0;32m    590\u001b[0m values \u001b[39m=\u001b[39m \u001b[39mself\u001b[39m\u001b[39m.\u001b[39mvalues\n\u001b[1;32m--> 592\u001b[0m new_values \u001b[39m=\u001b[39m astype_array_safe(values, dtype, copy\u001b[39m=\u001b[39;49mcopy, errors\u001b[39m=\u001b[39;49merrors)\n\u001b[0;32m    594\u001b[0m new_values \u001b[39m=\u001b[39m maybe_coerce_values(new_values)\n\u001b[0;32m    595\u001b[0m newb \u001b[39m=\u001b[39m \u001b[39mself\u001b[39m\u001b[39m.\u001b[39mmake_block(new_values)\n",
            "File \u001b[1;32mc:\\Users\\User\\AppData\\Local\\Programs\\Python\\Python39\\lib\\site-packages\\pandas\\core\\dtypes\\cast.py:1309\u001b[0m, in \u001b[0;36mastype_array_safe\u001b[1;34m(values, dtype, copy, errors)\u001b[0m\n\u001b[0;32m   1306\u001b[0m dtype \u001b[39m=\u001b[39m pandas_dtype(dtype)\n\u001b[0;32m   1308\u001b[0m \u001b[39mtry\u001b[39;00m:\n\u001b[1;32m-> 1309\u001b[0m     new_values \u001b[39m=\u001b[39m astype_array(values, dtype, copy\u001b[39m=\u001b[39;49mcopy)\n\u001b[0;32m   1310\u001b[0m \u001b[39mexcept\u001b[39;00m (\u001b[39mValueError\u001b[39;00m, \u001b[39mTypeError\u001b[39;00m):\n\u001b[0;32m   1311\u001b[0m     \u001b[39m# e.g. astype_nansafe can fail on object-dtype of strings\u001b[39;00m\n\u001b[0;32m   1312\u001b[0m     \u001b[39m#  trying to convert to float\u001b[39;00m\n\u001b[0;32m   1313\u001b[0m     \u001b[39mif\u001b[39;00m errors \u001b[39m==\u001b[39m \u001b[39m\"\u001b[39m\u001b[39mignore\u001b[39m\u001b[39m\"\u001b[39m:\n",
            "File \u001b[1;32mc:\\Users\\User\\AppData\\Local\\Programs\\Python\\Python39\\lib\\site-packages\\pandas\\core\\dtypes\\cast.py:1257\u001b[0m, in \u001b[0;36mastype_array\u001b[1;34m(values, dtype, copy)\u001b[0m\n\u001b[0;32m   1254\u001b[0m     values \u001b[39m=\u001b[39m values\u001b[39m.\u001b[39mastype(dtype, copy\u001b[39m=\u001b[39mcopy)\n\u001b[0;32m   1256\u001b[0m \u001b[39melse\u001b[39;00m:\n\u001b[1;32m-> 1257\u001b[0m     values \u001b[39m=\u001b[39m astype_nansafe(values, dtype, copy\u001b[39m=\u001b[39;49mcopy)\n\u001b[0;32m   1259\u001b[0m \u001b[39m# in pandas we don't store numpy str dtypes, so convert to object\u001b[39;00m\n\u001b[0;32m   1260\u001b[0m \u001b[39mif\u001b[39;00m \u001b[39misinstance\u001b[39m(dtype, np\u001b[39m.\u001b[39mdtype) \u001b[39mand\u001b[39;00m \u001b[39missubclass\u001b[39m(values\u001b[39m.\u001b[39mdtype\u001b[39m.\u001b[39mtype, \u001b[39mstr\u001b[39m):\n",
            "File \u001b[1;32mc:\\Users\\User\\AppData\\Local\\Programs\\Python\\Python39\\lib\\site-packages\\pandas\\core\\dtypes\\cast.py:1201\u001b[0m, in \u001b[0;36mastype_nansafe\u001b[1;34m(arr, dtype, copy, skipna)\u001b[0m\n\u001b[0;32m   1197\u001b[0m     \u001b[39mraise\u001b[39;00m \u001b[39mValueError\u001b[39;00m(msg)\n\u001b[0;32m   1199\u001b[0m \u001b[39mif\u001b[39;00m copy \u001b[39mor\u001b[39;00m is_object_dtype(arr\u001b[39m.\u001b[39mdtype) \u001b[39mor\u001b[39;00m is_object_dtype(dtype):\n\u001b[0;32m   1200\u001b[0m     \u001b[39m# Explicit copy, or required since NumPy can't view from / to object.\u001b[39;00m\n\u001b[1;32m-> 1201\u001b[0m     \u001b[39mreturn\u001b[39;00m arr\u001b[39m.\u001b[39;49mastype(dtype, copy\u001b[39m=\u001b[39;49m\u001b[39mTrue\u001b[39;49;00m)\n\u001b[0;32m   1203\u001b[0m \u001b[39mreturn\u001b[39;00m arr\u001b[39m.\u001b[39mastype(dtype, copy\u001b[39m=\u001b[39mcopy)\n",
            "\u001b[1;31mValueError\u001b[0m: could not convert string to float: 'KKK'"
          ]
        }
      ],
      "source": [
        "df['normalized-losses'] = df['normalized-losses'].astype(float) "
      ]
    },
    {
      "cell_type": "markdown",
      "metadata": {},
      "source": [
        "* Lembra do valor `KKK` que colocamos anteriormente?\n",
        "* Ele está gerando erro pois a coluna tem valores de tipos diferentes."
      ]
    },
    {
      "cell_type": "markdown",
      "metadata": {},
      "source": [
        "* Vamos passar um valor numérico novamente."
      ]
    },
    {
      "cell_type": "code",
      "execution_count": 101,
      "metadata": {},
      "outputs": [],
      "source": [
        "df.loc[2, 'normalized-losses'] = 164"
      ]
    },
    {
      "cell_type": "code",
      "execution_count": 102,
      "metadata": {},
      "outputs": [
        {
          "name": "stdout",
          "output_type": "stream",
          "text": [
            "<class 'pandas.core.frame.DataFrame'>\n",
            "RangeIndex: 201 entries, 0 to 200\n",
            "Data columns (total 26 columns):\n",
            " #   Column             Non-Null Count  Dtype  \n",
            "---  ------             --------------  -----  \n",
            " 0   symboling          201 non-null    int64  \n",
            " 1   normalized-losses  201 non-null    float64\n",
            " 2   make               201 non-null    object \n",
            " 3   fuel-type          201 non-null    object \n",
            " 4   aspiration         201 non-null    object \n",
            " 5   num-of-doors       201 non-null    object \n",
            " 6   body-style         201 non-null    object \n",
            " 7   drive-wheels       201 non-null    object \n",
            " 8   engine-location    201 non-null    object \n",
            " 9   wheel-base         201 non-null    float64\n",
            " 10  length             201 non-null    float64\n",
            " 11  width              201 non-null    float64\n",
            " 12  height             201 non-null    float64\n",
            " 13  curb-weight        201 non-null    int64  \n",
            " 14  engine-type        201 non-null    object \n",
            " 15  num-of-cylinders   201 non-null    object \n",
            " 16  engine-size        201 non-null    int64  \n",
            " 17  fuel-system        201 non-null    object \n",
            " 18  bore               201 non-null    float64\n",
            " 19  stroke             201 non-null    float64\n",
            " 20  compression-ratio  201 non-null    float64\n",
            " 21  horsepower         201 non-null    float64\n",
            " 22  peak-rpm           201 non-null    float64\n",
            " 23  city-mpg           201 non-null    int64  \n",
            " 24  highway-mpg        201 non-null    int64  \n",
            " 25  price              201 non-null    float64\n",
            "dtypes: float64(11), int64(5), object(10)\n",
            "memory usage: 41.0+ KB\n"
          ]
        }
      ],
      "source": [
        "\n",
        "df['normalized-losses'] = df['normalized-losses'].astype(float) \n",
        "df['price'] = df['price'].astype(float) \n",
        "df['horsepower'] = df['horsepower'].astype(float) \n",
        "df['peak-rpm'] = df['peak-rpm'].astype(float) \n",
        "df['bore'] = df['bore'].astype(float) \n",
        "df['stroke'] = df['stroke'].astype(float) \n",
        "df['normalized-losses'] = df['normalized-losses'].astype(float) \n",
        "\n",
        "df.info()"
      ]
    },
    {
      "cell_type": "markdown",
      "metadata": {},
      "source": [
        "* Outra forma para ajustar seria a seguinte"
      ]
    },
    {
      "cell_type": "code",
      "execution_count": 103,
      "metadata": {},
      "outputs": [],
      "source": [
        "df[[\"bore\", \"peak-rpm\",\"stroke\", \"price\"]] = df[[\"bore\", \"peak-rpm\", \"stroke\",\"price\"]].astype(\"float\")\n",
        "df[[\"normalized-losses\"]] = df[[\"normalized-losses\"]].astype(\"int\")"
      ]
    },
    {
      "cell_type": "markdown",
      "metadata": {},
      "source": [
        "## Exportando o dataframe\n",
        "\n",
        "<p>\n",
        "A Pandas nos permite salvar os dados para um arquivo csv. Usando o método <code>dataframe.to_csv()</code>, você pode adicionar o caminho e o nome do arquivo juntamente com aspas entre parênteses.\n",
        "</p>\n",
        "<p>\n",
        "Por exemplo, se você salvar o DataFrame <b>df</b> como <b>Auto.csv</b> em sua máquina local, você pode usar a sintaxe abaixo, onde <code>index = False</code> significa que os nomes das linhas não serão escritos.\n",
        "\n",
        "---\n",
        "\n",
        "\n",
        "</p>"
      ]
    },
    {
      "cell_type": "code",
      "execution_count": 104,
      "metadata": {},
      "outputs": [],
      "source": [
        "caminho = \"../Data/MeuAutoLimpo.csv\"\n",
        "\n",
        "#path = \"C:/windows/.../Auto.csv\"  \n",
        "#path = \"/Users/pecorajr/Documents/Auto.csv\"\n",
        "\n",
        "df.to_csv(caminho, index = False)\n",
        "\n"
      ]
    }
  ],
  "metadata": {
    "colab": {
      "collapsed_sections": [],
      "name": "DS_LAB01.ipynb",
      "provenance": []
    },
    "kernelspec": {
      "display_name": "Python 3.9.7 64-bit",
      "language": "python",
      "name": "python3"
    },
    "language_info": {
      "codemirror_mode": {
        "name": "ipython",
        "version": 3
      },
      "file_extension": ".py",
      "mimetype": "text/x-python",
      "name": "python",
      "nbconvert_exporter": "python",
      "pygments_lexer": "ipython3",
      "version": "3.9.7"
    },
    "vscode": {
      "interpreter": {
        "hash": "cf92aa13fedf815d5c8dd192b8d835913fde3e8bc926b2a0ad6cc74ef2ba3ca2"
      }
    }
  },
  "nbformat": 4,
  "nbformat_minor": 0
}
