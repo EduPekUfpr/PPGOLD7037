{
 "cells": [
  {
   "cell_type": "markdown",
   "metadata": {},
   "source": [
    "<p style =\"text-align:center\">\n",
    "    <img src=\"http://epecora.com.br/DataFiles/PPGOLD_logo.png\" width=\"300\" alt=\"PPGOLD Data Science: INTRO\"  />\n",
    "</p>\n",
    "\n",
    "# Aula 09-1 de Data Science"
   ]
  },
  {
   "cell_type": "markdown",
   "metadata": {},
   "source": [
    "## PCA\n",
    "* Tempo estimado: **60** minutos"
   ]
  },
  {
   "cell_type": "markdown",
   "metadata": {},
   "source": [
    "## Objetivos"
   ]
  },
  {
   "cell_type": "markdown",
   "metadata": {},
   "source": [
    "\n",
    "Após completar essa aula você será capaz de :\n",
    "\n",
    "* Entender o algoritmo PCA\n",
    "* Realizar Ranqueamentos com PCA"
   ]
  },
  {
   "cell_type": "markdown",
   "metadata": {},
   "source": [
    "## Bibliotecas"
   ]
  },
  {
   "cell_type": "code",
   "execution_count": 1,
   "metadata": {},
   "outputs": [],
   "source": [
    "import pandas as pd\n",
    "import numpy as np\n",
    "np.set_printoptions(precision=None, suppress=True)\n",
    "import seaborn as sns\n",
    "import matplotlib.pyplot as plt\n",
    "import matplotlib as mpl\n",
    "# Usando um estilo\n",
    "mpl.style.use(['seaborn-v0_8-white']) \n",
    "from sklearn.decomposition import PCA\n",
    "from sklearn.preprocessing import StandardScaler"
   ]
  },
  {
   "cell_type": "markdown",
   "metadata": {},
   "source": [
    "## Obtendo Dados"
   ]
  },
  {
   "cell_type": "code",
   "execution_count": 2,
   "metadata": {},
   "outputs": [
    {
     "data": {
      "text/html": [
       "<div>\n",
       "<style scoped>\n",
       "    .dataframe tbody tr th:only-of-type {\n",
       "        vertical-align: middle;\n",
       "    }\n",
       "\n",
       "    .dataframe tbody tr th {\n",
       "        vertical-align: top;\n",
       "    }\n",
       "\n",
       "    .dataframe thead th {\n",
       "        text-align: right;\n",
       "    }\n",
       "</style>\n",
       "<table border=\"1\" class=\"dataframe\">\n",
       "  <thead>\n",
       "    <tr style=\"text-align: right;\">\n",
       "      <th></th>\n",
       "      <th>Nota de Finanças</th>\n",
       "      <th>Nota de Custos</th>\n",
       "      <th>Nota de Marketing</th>\n",
       "      <th>Nota de Atuária</th>\n",
       "    </tr>\n",
       "  </thead>\n",
       "  <tbody>\n",
       "    <tr>\n",
       "      <th>Gabriela</th>\n",
       "      <td>5.8</td>\n",
       "      <td>4.0</td>\n",
       "      <td>1.0</td>\n",
       "      <td>6.0</td>\n",
       "    </tr>\n",
       "    <tr>\n",
       "      <th>Luiz Felipe</th>\n",
       "      <td>3.1</td>\n",
       "      <td>3.0</td>\n",
       "      <td>10.0</td>\n",
       "      <td>2.0</td>\n",
       "    </tr>\n",
       "    <tr>\n",
       "      <th>Patrícia</th>\n",
       "      <td>3.1</td>\n",
       "      <td>4.0</td>\n",
       "      <td>4.0</td>\n",
       "      <td>4.0</td>\n",
       "    </tr>\n",
       "    <tr>\n",
       "      <th>Gustavo</th>\n",
       "      <td>10.0</td>\n",
       "      <td>8.0</td>\n",
       "      <td>8.0</td>\n",
       "      <td>8.0</td>\n",
       "    </tr>\n",
       "    <tr>\n",
       "      <th>Letícia</th>\n",
       "      <td>3.4</td>\n",
       "      <td>2.0</td>\n",
       "      <td>3.2</td>\n",
       "      <td>3.2</td>\n",
       "    </tr>\n",
       "    <tr>\n",
       "      <th>...</th>\n",
       "      <td>...</td>\n",
       "      <td>...</td>\n",
       "      <td>...</td>\n",
       "      <td>...</td>\n",
       "    </tr>\n",
       "    <tr>\n",
       "      <th>Sheila</th>\n",
       "      <td>7.7</td>\n",
       "      <td>4.3</td>\n",
       "      <td>5.2</td>\n",
       "      <td>5.1</td>\n",
       "    </tr>\n",
       "    <tr>\n",
       "      <th>Pedro</th>\n",
       "      <td>9.0</td>\n",
       "      <td>6.0</td>\n",
       "      <td>4.0</td>\n",
       "      <td>9.8</td>\n",
       "    </tr>\n",
       "    <tr>\n",
       "      <th>Horácio</th>\n",
       "      <td>9.3</td>\n",
       "      <td>6.0</td>\n",
       "      <td>7.0</td>\n",
       "      <td>7.0</td>\n",
       "    </tr>\n",
       "    <tr>\n",
       "      <th>Leandro</th>\n",
       "      <td>9.0</td>\n",
       "      <td>6.5</td>\n",
       "      <td>3.0</td>\n",
       "      <td>9.0</td>\n",
       "    </tr>\n",
       "    <tr>\n",
       "      <th>Estela</th>\n",
       "      <td>8.9</td>\n",
       "      <td>5.0</td>\n",
       "      <td>2.0</td>\n",
       "      <td>8.0</td>\n",
       "    </tr>\n",
       "  </tbody>\n",
       "</table>\n",
       "<p>100 rows × 4 columns</p>\n",
       "</div>"
      ],
      "text/plain": [
       "             Nota de Finanças  Nota de Custos  Nota de Marketing  \\\n",
       "Gabriela                  5.8             4.0                1.0   \n",
       "Luiz Felipe               3.1             3.0               10.0   \n",
       "Patrícia                  3.1             4.0                4.0   \n",
       "Gustavo                  10.0             8.0                8.0   \n",
       "Letícia                   3.4             2.0                3.2   \n",
       "...                       ...             ...                ...   \n",
       "Sheila                    7.7             4.3                5.2   \n",
       "Pedro                     9.0             6.0                4.0   \n",
       "Horácio                   9.3             6.0                7.0   \n",
       "Leandro                   9.0             6.5                3.0   \n",
       "Estela                    8.9             5.0                2.0   \n",
       "\n",
       "             Nota de Atuária  \n",
       "Gabriela                 6.0  \n",
       "Luiz Felipe              2.0  \n",
       "Patrícia                 4.0  \n",
       "Gustavo                  8.0  \n",
       "Letícia                  3.2  \n",
       "...                      ...  \n",
       "Sheila                   5.1  \n",
       "Pedro                    9.8  \n",
       "Horácio                  7.0  \n",
       "Leandro                  9.0  \n",
       "Estela                   8.0  \n",
       "\n",
       "[100 rows x 4 columns]"
      ]
     },
     "execution_count": 2,
     "metadata": {},
     "output_type": "execute_result"
    }
   ],
   "source": [
    "caminho = 'https://raw.githubusercontent.com/EduPekUfpr/PPGOLD7037/main/Data/NotasFatorial.csv'\n",
    "df_notas = pd.read_csv(caminho)\n",
    "df_notas.head()\n",
    "df_notas.set_index(keys='Estudante',inplace=True)\n",
    "df_notas.index.name=None\n",
    "df_notas"
   ]
  },
  {
   "cell_type": "code",
   "execution_count": 3,
   "metadata": {},
   "outputs": [
    {
     "data": {
      "text/plain": [
       "<AxesSubplot: >"
      ]
     },
     "execution_count": 3,
     "metadata": {},
     "output_type": "execute_result"
    },
    {
     "data": {
      "image/png": "[encoded data removed]",
      "text/plain": [
       "<Figure size 720x576 with 2 Axes>"
      ]
     },
     "metadata": {
      "needs_background": "light"
     },
     "output_type": "display_data"
    }
   ],
   "source": [
    "fig = plt.figure(figsize=(10,8))\n",
    "sns.heatmap(df_notas.corr(),annot=True,fmt='.3g')"
   ]
  },
  {
   "cell_type": "markdown",
   "metadata": {},
   "source": [
    "## Padronizando"
   ]
  },
  {
   "cell_type": "code",
   "execution_count": 4,
   "metadata": {},
   "outputs": [
    {
     "name": "stdout",
     "output_type": "stream",
     "text": [
      "[[-0.01094269 -0.29340898 -1.65874597  0.27434724]\n",
      " [-0.87992139 -0.70262652  1.53935038 -1.32534513]\n",
      " [-0.87992139 -0.29340898 -0.59271386 -0.52549895]\n",
      " [ 1.34080194  1.3434612   0.8286623   1.07419343]\n",
      " [-0.7833682  -1.11184407 -0.87698909 -0.84543742]\n",
      " [ 1.34080194  2.16189629 -1.65874597  1.87403962]\n",
      " [-0.26841786  0.11580857  0.8286623  -0.12557585]\n",
      " [-0.13968028  0.52502611  0.11797422  0.27434724]\n",
      " [ 0.0212417  -0.29340898 -0.59271386 -0.52549895]\n",
      " [ 0.08561049 -0.29340898 -0.59271386 -0.52549895]\n",
      " [-0.7511838  -1.11184407  1.43274717 -1.32534513]\n",
      " [ 0.60056083  2.16189629  1.53935038  1.87403962]\n",
      " [-0.42933984  2.16189629 -0.23736982 -0.12557585]\n",
      " [ 1.34080194 -0.29340898  1.18400634  1.47411653]\n",
      " [ 0.11779489  2.16189629  1.53935038  1.87403962]\n",
      " [ 0.92240479  2.16189629  1.18400634  1.47411653]\n",
      " [ 1.34080194  0.52502611  0.11797422  0.27434724]\n",
      " [ 1.34080194  0.52502611  0.8286623   1.07419343]\n",
      " [ 1.27643314  2.16189629  0.47331826  1.87403962]\n",
      " [ 1.34080194  2.16189629 -1.30340194  1.75406269]\n",
      " [-0.87992139 -1.11184407 -1.30340194 -1.32534513]\n",
      " [ 1.34080194  2.08005278 -1.65874597  1.87403962]\n",
      " [ 0.92240479  2.16189629 -1.65874597  1.87403962]\n",
      " [ 1.34080194  0.52502611 -1.30340194  0.27434724]\n",
      " [ 0.08561049 -0.29340898 -0.59271386 -0.52549895]\n",
      " [-0.7511838  -1.11184407  0.47331826 -1.32534513]\n",
      " [-0.26841786 -1.11184407 -0.9480579  -0.92542204]\n",
      " [ 1.34080194  1.3434612  -1.12572992  1.07419343]\n",
      " [ 1.30861754  2.16189629  1.53935038  1.87403962]\n",
      " [-0.87992139 -1.11184407 -1.30340194 -1.32534513]\n",
      " [-1.42705612 -0.98907881 -0.59271386  0.15437031]\n",
      " [ 0.79366721 -0.29340898 -0.23736982 -0.12557585]\n",
      " [ 1.05114237  0.27949558  0.11797422  0.27434724]\n",
      " [ 0.60056083 -0.17064372  1.53935038 -0.04559123]\n",
      " [ 1.01895798  0.52502611 -1.62321157  0.71426265]\n",
      " [ 1.11551117  1.13885243 -1.16126432  0.9542165 ]\n",
      " [ 1.01895798  0.72963488 -1.30340194  0.47430879]\n",
      " [ 0.98677358  0.11580857  0.11797422  0.27434724]\n",
      " [ 1.01895798  0.68871313 -0.69931707 -0.68546818]\n",
      " [ 1.27643314  1.75267874  1.18400634  1.47411653]\n",
      " [-0.01094269  0.11580857  0.11797422  0.27434724]\n",
      " [ 0.50400764 -0.49801775  0.8286623  -1.1653759 ]\n",
      " [ 0.72929841  1.3434612  -1.65874597  1.59409345]\n",
      " [-0.39715545 -0.37525249  0.8286623   0.59428572]\n",
      " [-0.62244622 -0.74354828  0.47331826 -0.84543742]\n",
      " [-0.59026182 -0.33433073  0.47331826 -0.20556047]\n",
      " [-1.00865897 -0.86631354  0.8286623  -0.60548356]\n",
      " [-0.13968028 -0.49801775  1.18400634 -0.3255374 ]\n",
      " [-1.00865897 -0.82539179  0.8286623  -0.68546818]\n",
      " [-0.91210578 -0.53893951  1.18400634 -0.52549895]\n",
      " [-1.52360931 -1.15276582 -1.41000515 -1.44532206]\n",
      " [-1.29831853 -0.53893951  1.53935038 -1.04539897]\n",
      " [-1.45924051 -0.9072353   1.53935038 -1.20536821]\n",
      " [-1.23394974 -0.98907881  0.8286623  -0.40552202]\n",
      " [-1.68453129 -1.15276582 -0.9480579  -0.84543742]\n",
      " [-0.04312709 -0.12972196  0.11797422  0.47430879]\n",
      " [-1.65234689 -1.15276582 -1.0191267  -1.00540666]\n",
      " [-0.55807743 -0.70262652 -0.9480579  -0.92542204]\n",
      " [-0.7511838  -0.457096   -1.16126432 -1.1653759 ]\n",
      " [-1.10521216 -0.70262652 -1.19679872 -1.20536821]\n",
      " [ 0.31090127 -0.0069567  -0.23736982 -0.16556816]\n",
      " [-1.42705612 -0.98907881 -0.23736982  0.15437031]\n",
      " [ 0.79366721 -0.29340898  1.18400634 -0.7654528 ]\n",
      " [ 1.05114237  0.27949558  0.11797422  0.27434724]\n",
      " [ 0.60056083 -0.17064372  0.8286623  -0.04559123]\n",
      " [ 1.01895798 -0.25248723  0.47331826  0.67427034]\n",
      " [ 1.11551117  0.93424365  0.50885266  0.71426265]\n",
      " [ 1.01895798  1.3434612   0.97079991  1.23416267]\n",
      " [ 0.98677358  0.11580857  1.53935038 -0.3255374 ]\n",
      " [ 1.01895798  0.68871313  1.53935038 -0.68546818]\n",
      " [ 1.27643314  1.75267874  0.8286623   0.9542165 ]\n",
      " [-0.01094269 -0.62078302 -1.30340194 -1.24536052]\n",
      " [ 0.50400764 -0.49801775 -0.9480579  -1.1653759 ]\n",
      " [ 0.72929841 -0.0069567  -1.30340194  1.59409345]\n",
      " [-0.39715545 -0.37525249  0.47331826  0.59428572]\n",
      " [-0.62244622 -0.74354828 -0.87698909 -0.84543742]\n",
      " [-0.59026182 -0.33433073 -0.30843863 -0.20556047]\n",
      " [-1.33050293 -0.86631354 -0.80592028 -0.7654528 ]\n",
      " [-0.13968028 -0.49801775 -0.41504184 -0.3255374 ]\n",
      " [-1.00865897 -0.82539179 -0.73485147 -0.68546818]\n",
      " [-0.91210578 -0.53893951 -0.59271386 -0.48550664]\n",
      " [-1.52360931 -1.15276582  0.47331826 -1.32534513]\n",
      " [-1.29831853 -0.53893951  1.18400634 -1.04539897]\n",
      " [-1.45924051 -0.9072353   0.8286623  -1.20536821]\n",
      " [-1.23394974 -0.98907881 -0.48611065 -0.40552202]\n",
      " [-1.68453129 -1.15276582  0.8286623  -0.84543742]\n",
      " [-1.36268733 -1.03000056  0.29564624  0.47430879]\n",
      " [-1.65234689 -1.15276582  0.47331826 -1.00540666]\n",
      " [-0.55807743 -0.70262652  1.18400634 -1.24536052]\n",
      " [-0.7511838  -0.457096    1.53935038 -1.1653759 ]\n",
      " [-1.10521216 -0.70262652 -1.19679872 -1.20536821]\n",
      " [ 0.31090127 -0.0069567  -0.23736982 -0.12557585]\n",
      " [-1.42705612 -0.98907881  0.01137101  0.15437031]\n",
      " [ 0.79366721 -0.29340898  0.72205909  0.9542165 ]\n",
      " [ 1.05114237  0.27949558  0.22457743  0.39432417]\n",
      " [ 0.60056083 -0.17064372 -0.16630101 -0.08558354]\n",
      " [ 1.01895798  0.52502611 -0.59271386  1.794055  ]\n",
      " [ 1.11551117  0.52502611  0.47331826  0.67427034]\n",
      " [ 1.01895798  0.72963488 -0.9480579   1.47411653]\n",
      " [ 0.98677358  0.11580857 -1.30340194  1.07419343]]\n"
     ]
    }
   ],
   "source": [
    "scaler = StandardScaler()\n",
    "X = scaler.fit_transform(df_notas)\n",
    "print(X)"
   ]
  },
  {
   "cell_type": "markdown",
   "metadata": {},
   "source": [
    "## PCA"
   ]
  },
  {
   "cell_type": "markdown",
   "metadata": {},
   "source": [
    "\n",
    "* Componentes principais no espaço de características, representando as direções de máxima variância nos dados.\n",
    "* Os componentes são ordenados por variação_explicativa decrescente.\n",
    "* Em resumo são os autovetores da matriz de covariância dos dados originais"
   ]
  },
  {
   "cell_type": "code",
   "execution_count": 5,
   "metadata": {},
   "outputs": [
    {
     "data": {
      "text/html": [
       "<div>\n",
       "<style scoped>\n",
       "    .dataframe tbody tr th:only-of-type {\n",
       "        vertical-align: middle;\n",
       "    }\n",
       "\n",
       "    .dataframe tbody tr th {\n",
       "        vertical-align: top;\n",
       "    }\n",
       "\n",
       "    .dataframe thead th {\n",
       "        text-align: right;\n",
       "    }\n",
       "</style>\n",
       "<table border=\"1\" class=\"dataframe\">\n",
       "  <thead>\n",
       "    <tr style=\"text-align: right;\">\n",
       "      <th></th>\n",
       "    </tr>\n",
       "  </thead>\n",
       "  <tbody>\n",
       "    <tr>\n",
       "      <th>Nota de Finanças</th>\n",
       "    </tr>\n",
       "    <tr>\n",
       "      <th>Nota de Custos</th>\n",
       "    </tr>\n",
       "    <tr>\n",
       "      <th>Nota de Marketing</th>\n",
       "    </tr>\n",
       "    <tr>\n",
       "      <th>Nota de Atuária</th>\n",
       "    </tr>\n",
       "  </tbody>\n",
       "</table>\n",
       "</div>"
      ],
      "text/plain": [
       "Empty DataFrame\n",
       "Columns: []\n",
       "Index: [Nota de Finanças, Nota de Custos, Nota de Marketing, Nota de Atuária]"
      ]
     },
     "execution_count": 5,
     "metadata": {},
     "output_type": "execute_result"
    }
   ],
   "source": [
    "df_components = pd.DataFrame(index=df_notas.columns)\n",
    "df_components"
   ]
  },
  {
   "cell_type": "code",
   "execution_count": 6,
   "metadata": {},
   "outputs": [
    {
     "data": {
      "text/html": [
       "<div>\n",
       "<style scoped>\n",
       "    .dataframe tbody tr th:only-of-type {\n",
       "        vertical-align: middle;\n",
       "    }\n",
       "\n",
       "    .dataframe tbody tr th {\n",
       "        vertical-align: top;\n",
       "    }\n",
       "\n",
       "    .dataframe thead th {\n",
       "        text-align: right;\n",
       "    }\n",
       "</style>\n",
       "<table border=\"1\" class=\"dataframe\">\n",
       "  <thead>\n",
       "    <tr style=\"text-align: right;\">\n",
       "      <th></th>\n",
       "      <th>pca0</th>\n",
       "      <th>pca1</th>\n",
       "      <th>pca2</th>\n",
       "      <th>pca3</th>\n",
       "    </tr>\n",
       "  </thead>\n",
       "  <tbody>\n",
       "    <tr>\n",
       "      <th>Nota de Finanças</th>\n",
       "      <td>0.564257</td>\n",
       "      <td>-0.007084</td>\n",
       "      <td>-0.800525</td>\n",
       "      <td>-0.201799</td>\n",
       "    </tr>\n",
       "    <tr>\n",
       "      <th>Nota de Custos</th>\n",
       "      <td>0.588604</td>\n",
       "      <td>-0.048571</td>\n",
       "      <td>0.219567</td>\n",
       "      <td>0.776515</td>\n",
       "    </tr>\n",
       "    <tr>\n",
       "      <th>Nota de Marketing</th>\n",
       "      <td>-0.026761</td>\n",
       "      <td>-0.998743</td>\n",
       "      <td>0.000657</td>\n",
       "      <td>-0.042372</td>\n",
       "    </tr>\n",
       "    <tr>\n",
       "      <th>Nota de Atuária</th>\n",
       "      <td>0.578310</td>\n",
       "      <td>0.010131</td>\n",
       "      <td>0.557628</td>\n",
       "      <td>-0.595404</td>\n",
       "    </tr>\n",
       "  </tbody>\n",
       "</table>\n",
       "</div>"
      ],
      "text/plain": [
       "                       pca0      pca1      pca2      pca3\n",
       "Nota de Finanças   0.564257 -0.007084 -0.800525 -0.201799\n",
       "Nota de Custos     0.588604 -0.048571  0.219567  0.776515\n",
       "Nota de Marketing -0.026761 -0.998743  0.000657 -0.042372\n",
       "Nota de Atuária    0.578310  0.010131  0.557628 -0.595404"
      ]
     },
     "execution_count": 6,
     "metadata": {},
     "output_type": "execute_result"
    }
   ],
   "source": [
    "factor_n=4\n",
    "pca = PCA(n_components=factor_n)\n",
    "pca.fit(X)\n",
    "\n",
    "for i in range(factor_n):\n",
    "    df_components[pca.get_feature_names_out()[i]] = pca.components_[i]\n",
    "df_components"
   ]
  },
  {
   "cell_type": "code",
   "execution_count": 7,
   "metadata": {},
   "outputs": [
    {
     "data": {
      "text/plain": [
       "<AxesSubplot: >"
      ]
     },
     "execution_count": 7,
     "metadata": {},
     "output_type": "execute_result"
    },
    {
     "data": {
      "image/png": "[encoded data removed]",
      "text/plain": [
       "<Figure size 720x360 with 1 Axes>"
      ]
     },
     "metadata": {
      "needs_background": "light"
     },
     "output_type": "display_data"
    }
   ],
   "source": [
    "df_components.transpose().plot.bar(figsize=(10,5))"
   ]
  },
  {
   "cell_type": "code",
   "execution_count": 8,
   "metadata": {},
   "outputs": [
    {
     "data": {
      "text/plain": [
       "Text(0.5, 1.0, 'Components')"
      ]
     },
     "execution_count": 8,
     "metadata": {},
     "output_type": "execute_result"
    },
    {
     "data": {
      "image/png": "[encoded data removed]",
      "text/plain": [
       "<Figure size 720x432 with 2 Axes>"
      ]
     },
     "metadata": {
      "needs_background": "light"
     },
     "output_type": "display_data"
    }
   ],
   "source": [
    "fig  = plt.figure(figsize=(10,6))\n",
    "ax = sns.heatmap(df_components,annot=True,fmt='.4g')\n",
    "ax.set_title(\"Components\",fontdict={'fontsize':14})"
   ]
  },
  {
   "cell_type": "markdown",
   "metadata": {},
   "source": [
    "### fit_transform()"
   ]
  },
  {
   "cell_type": "code",
   "execution_count": 9,
   "metadata": {},
   "outputs": [
    {
     "name": "stdout",
     "output_type": "stream",
     "text": [
      "[[ 0.02417163  1.67376958  0.09623124 -0.31869085]\n",
      " [-1.7177264  -1.51048202 -0.18791294  0.35585641]\n",
      " [-0.9572434   0.60712988  0.34655403  0.28772909]\n",
      " [ 2.14636514 -0.89149032 -0.17882139  0.09795502]\n",
      " [-1.56191301  0.92687496 -0.08903389 -0.1647446 ]\n",
      " [ 3.15722486  1.56114275  0.44526277  0.36264818]\n",
      " [-0.17808919 -0.83261651  0.17082267  0.18374948]\n",
      " [ 0.3857176  -0.13955817  0.38015718  0.26753186]\n",
      " [-0.44875543  0.60074574 -0.37484979  0.10587566]\n",
      " [-0.41243486  0.60028973 -0.42637863  0.09288613]\n",
      " [-1.88309966 -1.38504854 -0.38089125  0.01663066]\n",
      " [ 2.65395304 -1.62769013  1.03994518  0.37651699]\n",
      " [ 0.96397401  0.13383447  0.74819754  1.85021212]\n",
      " [ 1.40466616 -1.16283092 -0.31498195 -1.42627234]\n",
      " [ 2.38154878 -1.62427006  1.42641151  0.47393847]\n",
      " [ 2.6137859  -1.27912449  0.55905913  0.56474187]\n",
      " [ 1.22109068 -0.15004639 -0.80500624 -0.03122734]\n",
      " [ 1.66463066 -0.85173777 -0.35852259 -0.5375724 ]\n",
      " [ 3.06384744 -0.56778591  0.49819208  0.28529718]\n",
      " [ 3.07833154  1.20502978  0.37859365  0.41902615]\n",
      " [-1.88251785  1.3485738  -0.27963082  0.15854672]\n",
      " [ 3.10905141  1.565118    0.42729265  0.29909543]\n",
      " [ 2.92114116  1.56410681  0.78020026  0.44708013]\n",
      " [ 1.25912858  1.26954338 -0.80593989  0.02899967]\n",
      " [-0.41243486  0.60028973 -0.42637863  0.09288613]\n",
      " [-1.85742408 -0.42682544 -0.38152146  0.05728389]\n",
      " [-1.31570246  0.99339602 -0.54591301 -0.21802634]\n",
      " [ 2.19866724  1.06044562 -0.18010515  0.18076717]\n",
      " [ 3.0534793  -1.63270624  0.47312789  0.23363216]\n",
      " [-1.88251785  1.3485738  -0.27963082  0.15854672]\n",
      " [-1.28226746  0.65168361  1.0109175  -0.54685502]\n",
      " [ 0.20886138  0.24442793 -0.76995409 -0.30317123]\n",
      " [ 0.91312778 -0.13606858 -0.6270368  -0.16343268]\n",
      " [ 0.17086837 -1.53384379 -0.54264364 -0.29178045]\n",
      " [ 1.34049167  1.59568806 -0.30319648 -0.15442895]\n",
      " [ 1.88267874  1.10625401 -0.11160536  0.14028908]\n",
      " [ 1.31359909  1.26391117 -0.39186616  0.13377129]\n",
      " [ 0.78046031 -0.12766207 -0.6114482  -0.27754864]\n",
      " [ 0.60263582  0.65082306 -1.04717883  0.76693418]\n",
      " [ 2.57268179 -1.26175628  0.18579988  0.17553574]\n",
      " [ 0.2174915  -0.12059391  0.18724889 -0.07621091]\n",
      " [-0.70486982 -0.81880878 -1.16212125  0.17033055]\n",
      " [ 2.16854935  1.60239116  0.5989797   0.01720234]\n",
      " [-0.12346798 -0.80055981  0.56747479 -0.60019631]\n",
      " [-1.29046708 -0.440764   -0.1361035   0.03155325]\n",
      " [-0.66139241 -0.45438547  0.28479614 -0.03816304]\n",
      " [-1.45139246 -0.78453145  0.28015284 -0.1437649 ]\n",
      " [-0.59189811 -1.16063744 -0.17828171 -0.21487402]\n",
      " [-1.47356163 -0.78732943  0.24453622 -0.06436538]\n",
      " [-1.1674714  -1.15520358  0.31957515  0.02828186]\n",
      " [-2.33634126  1.46037524  0.15970001  0.33261742]\n",
      " [-1.69556758 -1.51263224  0.33907068  0.4007128 ]\n",
      " [-2.09566131 -1.49522427  0.29782389  0.24244559]\n",
      " [-1.53513489 -0.77494665  0.54505283 -0.31268854]\n",
      " [-2.0925858   1.00622621  0.62333819 -0.01165619]\n",
      " [ 0.1704506  -0.10641427  0.27060716 -0.37943226]\n",
      " [-2.16503541  1.075357    0.50832371  0.0801067 ]\n",
      " [-1.23827778  0.97557179 -0.22418262  0.15819026]\n",
      " [-1.33578113  1.17552147 -0.14963082  0.53972059]\n",
      " [-1.7022416   1.22503986  0.05754328  0.44582203]\n",
      " [ 0.08193624  0.23352944 -0.34289318  0.04049643]\n",
      " [-1.29177693  0.29678616  1.01115091 -0.56191177]\n",
      " [-0.19922365 -1.18164465 -1.12583392  0.01758699]\n",
      " [ 0.91312778 -0.13606858 -0.6270368  -0.16343268]\n",
      " [ 0.18988732 -0.82404891 -0.54311046 -0.26166694]\n",
      " [ 0.80361007 -0.46084711 -0.49483633 -0.82320327]\n",
      " [ 1.57878292 -0.55425689 -0.28923868  0.05350994]\n",
      " [ 2.05347029 -1.02954855  0.16811956  0.06163367]\n",
      " [ 0.39550323 -1.55332947 -0.94502718  0.01939801]\n",
      " [ 0.54272613 -1.58503084 -1.04570834  0.67207663]\n",
      " [ 2.28152797 -0.91212611 -0.10434447  0.500143  ]\n",
      " [-1.05689359  1.31937649 -0.82284782  0.31688136]\n",
      " [-0.65732245  0.95567844 -1.1632883   0.24561432]\n",
      " [ 1.36417799  1.31308542  0.30270614 -1.04647466]\n",
      " [-0.11395851 -0.44566237  0.56724138 -0.58513955]\n",
      " [-1.25433107  0.90784629 -0.13699047  0.08876891]\n",
      " [-0.64047157  0.32638891  0.28428264 -0.00503819]\n",
      " [-1.68176351  0.84865614  0.44752001  0.08569013]\n",
      " [-0.54910548  0.43640105 -0.17933206 -0.14711863]\n",
      " [-1.43171994  0.77421933  0.24350921  0.00188434]\n",
      " [-1.09679608  0.61968882  0.34070894  0.07975406]\n",
      " [-2.31735763 -0.41936569  0.22783962  0.18138189]\n",
      " [-1.68605811 -1.1577348   0.33883727  0.41576955]\n",
      " [-2.07664236 -0.78542938  0.29735707  0.2725591 ]\n",
      " [-1.49994984  0.53817389  0.54418921 -0.25697855]\n",
      " [-2.14013318 -0.768261    0.62450524 -0.08693996]\n",
      " [-1.10878373 -0.23078698  1.12939386 -0.81975542]\n",
      " [-2.2049752  -0.41521227  0.50930404  0.01686833]\n",
      " [-1.48035819 -1.15705428 -0.40118889  0.25834235]\n",
      " [-1.40805314 -1.5216991  -0.1478569   0.42528926]\n",
      " [-1.7022416   1.22503986  0.05754328  0.44582203]\n",
      " [ 0.10506418  0.23393461 -0.32059234  0.01668485]\n",
      " [-1.29843356  0.04835795  1.0113143  -0.5724515 ]\n",
      " [ 0.80764035 -0.70285544 -0.16720115 -0.98673705]\n",
      " [ 0.97965878 -0.24132229 -0.56006425 -0.23938444]\n",
      " [ 0.1933859   0.16925876 -0.56606486 -0.19569645]\n",
      " [ 1.93736874  0.57742521  0.29960315 -0.84100612]\n",
      " [ 1.31573868 -0.49929605 -0.40141346 -0.23893651]\n",
      " [ 1.88228826  0.91914311  0.1658883  -0.47657489]\n",
      " [ 1.28105713  1.30003122 -0.16636501 -0.69355317]]\n"
     ]
    }
   ],
   "source": [
    "X_fitted = pca.fit_transform(X)\n",
    "print(X_fitted)"
   ]
  },
  {
   "cell_type": "code",
   "execution_count": 10,
   "metadata": {},
   "outputs": [
    {
     "data": {
      "image/png": "[encoded data removed]",
      "text/plain": [
       "<Figure size 1152x1152 with 1 Axes>"
      ]
     },
     "metadata": {
      "needs_background": "light"
     },
     "output_type": "display_data"
    }
   ],
   "source": [
    "fig, ax = plt.subplots(figsize=(16,16))\n",
    "pca_df = pd.DataFrame(\n",
    "                        X_fitted,\n",
    "                        columns=pca.get_feature_names_out(),\n",
    "                    )\n",
    "\n",
    "evr = pca.explained_variance_ratio_\n",
    "x_idx = 0 # x_pc\n",
    "y_idx = 1 # y_pc\n",
    "ax.set_aspect(evr[y_idx] / evr[x_idx])\n",
    "x_col = pca_df.columns[x_idx]\n",
    "y_col = pca_df.columns[y_idx]\n",
    "sns.scatterplot(\n",
    "            x=x_col,\n",
    "            y=y_col,\n",
    "            data=pca_df,\n",
    "            alpha=0.5,\n",
    "            ax=ax,\n",
    "        )\n",
    "scale=4\n",
    "for idx, s in df_components.iterrows():\n",
    "    plt.arrow(\n",
    "                0,\n",
    "                0,\n",
    "                s[0] * scale,\n",
    "                s[1] * scale,\n",
    "                color=\"k\",\n",
    "            )\n",
    "    plt.text(\n",
    "                s[0] * scale,\n",
    "                s[1] * scale,\n",
    "                idx,\n",
    "                weight=\"bold\",\n",
    "            )"
   ]
  },
  {
   "cell_type": "markdown",
   "metadata": {},
   "source": [
    "### explained_variance_\n",
    "\n",
    "* A quantidade de variação explicada por cada um dos componentes selecionados.\n",
    "* A estimativa de variância usa n_amostras - 1 grau de liberdade.\n",
    "* Igual a n_componentes maiores valores próprios da matriz de covariância de X."
   ]
  },
  {
   "cell_type": "code",
   "execution_count": 11,
   "metadata": {},
   "outputs": [
    {
     "name": "stdout",
     "output_type": "stream",
     "text": [
      "[2.54356244 1.01048414 0.30062207 0.1857354 ]\n",
      "4.040404040404039\n"
     ]
    }
   ],
   "source": [
    "print(pca.explained_variance_)\n",
    "print(pca.explained_variance_.sum())"
   ]
  },
  {
   "cell_type": "code",
   "execution_count": 12,
   "metadata": {},
   "outputs": [
    {
     "data": {
      "text/plain": [
       "<BarContainer object of 4 artists>"
      ]
     },
     "execution_count": 12,
     "metadata": {},
     "output_type": "execute_result"
    },
    {
     "data": {
      "image/png": "[encoded data removed]",
      "text/plain": [
       "<Figure size 432x288 with 1 Axes>"
      ]
     },
     "metadata": {
      "needs_background": "light"
     },
     "output_type": "display_data"
    }
   ],
   "source": [
    "plt.bar(x=pca.get_feature_names_out(), height = pca.explained_variance_,width = 0.8) "
   ]
  },
  {
   "cell_type": "markdown",
   "metadata": {},
   "source": [
    "### Standard Deviation"
   ]
  },
  {
   "cell_type": "code",
   "execution_count": 13,
   "metadata": {},
   "outputs": [
    {
     "name": "stdout",
     "output_type": "stream",
     "text": [
      "[1.59485499 1.0052284  0.54829013 0.4309703 ]\n"
     ]
    }
   ],
   "source": [
    "print(np.sqrt(pca.explained_variance_))"
   ]
  },
  {
   "cell_type": "markdown",
   "metadata": {},
   "source": [
    "### explained_variance_ratio_\n",
    "\n",
    "* Porcentagem de variação explicada por cada um dos componentes selecionados.\n",
    "* Se n_componentes não estiver definido, todos os componentes são armazenados e a soma das proporções é igual a 1,0.\n"
   ]
  },
  {
   "cell_type": "code",
   "execution_count": 14,
   "metadata": {},
   "outputs": [
    {
     "name": "stdout",
     "output_type": "stream",
     "text": [
      "[0.6295317  0.25009482 0.07440396 0.04596951]\n",
      "1.0\n"
     ]
    }
   ],
   "source": [
    "print(pca.explained_variance_ratio_)\n",
    "print(pca.explained_variance_ratio_.sum())"
   ]
  },
  {
   "cell_type": "code",
   "execution_count": 15,
   "metadata": {},
   "outputs": [
    {
     "data": {
      "text/plain": [
       "<matplotlib.legend.Legend at 0x1783c58e280>"
      ]
     },
     "execution_count": 15,
     "metadata": {},
     "output_type": "execute_result"
    },
    {
     "data": {
      "image/png": "[encoded data removed]",
      "text/plain": [
       "<Figure size 720x720 with 1 Axes>"
      ]
     },
     "metadata": {},
     "output_type": "display_data"
    }
   ],
   "source": [
    "mpl.style.use(['seaborn-v0_8-white']) \n",
    "fig = plt.figure(figsize = (10,10))\n",
    "plt.pie(x=pca.explained_variance_ratio_,labels=None,autopct='%.2f%%',pctdistance=1.1,startangle=90,textprops={'fontsize':12,'fontweight':'bold'}) \n",
    "plt.title(\"Explained Variance Ratio\",fontdict={'fontsize':16,'fontweight':'bold'})\n",
    "plt.legend(pca.get_feature_names_out())"
   ]
  },
  {
   "cell_type": "code",
   "execution_count": 16,
   "metadata": {},
   "outputs": [
    {
     "data": {
      "text/plain": [
       "<matplotlib.collections.LineCollection at 0x1783c679e20>"
      ]
     },
     "execution_count": 16,
     "metadata": {},
     "output_type": "execute_result"
    },
    {
     "data": {
      "image/png": "[encoded data removed]",
      "text/plain": [
       "<Figure size 720x576 with 1 Axes>"
      ]
     },
     "metadata": {},
     "output_type": "display_data"
    }
   ],
   "source": [
    "mpl.style.use(['seaborn-v0_8-white']) \n",
    "fig, ax = plt.subplots(figsize = (10,8))\n",
    "n = np.size(pca.get_feature_names_out())\n",
    "ax.plot(np.cumsum(pca.explained_variance_ratio_),)\n",
    "plt.title(\"Explained Variance Ratio Cumulative\",fontdict={'fontsize':16,'fontweight':'bold'})\n",
    "ax.set_xlim(0,n+1)\n",
    "ax.set_ylim(0,1)\n",
    "ax.vlines(1,ymin=0,ymax=1,colors='r')\n",
    "ax.vlines(2,ymin=0,ymax=1,colors='r')"
   ]
  },
  {
   "cell_type": "markdown",
   "metadata": {},
   "source": [
    "## inverse_transform()\n",
    "\n",
    "* Transformar os dados de volta ao seu espaço original.\n",
    "* Em outras palavras, devolver uma entrada X_original cuja transformação seria X."
   ]
  },
  {
   "cell_type": "code",
   "execution_count": 17,
   "metadata": {},
   "outputs": [
    {
     "name": "stdout",
     "output_type": "stream",
     "text": [
      "[[-0.01094269 -0.29340898 -1.65874597  0.27434724]\n",
      " [-0.87992139 -0.70262652  1.53935038 -1.32534513]\n",
      " [-0.87992139 -0.29340898 -0.59271386 -0.52549895]\n",
      " [ 1.34080194  1.3434612   0.8286623   1.07419343]\n",
      " [-0.7833682  -1.11184407 -0.87698909 -0.84543742]\n",
      " [ 1.34080194  2.16189629 -1.65874597  1.87403962]\n",
      " [-0.26841786  0.11580857  0.8286623  -0.12557585]\n",
      " [-0.13968028  0.52502611  0.11797422  0.27434724]\n",
      " [ 0.0212417  -0.29340898 -0.59271386 -0.52549895]\n",
      " [ 0.08561049 -0.29340898 -0.59271386 -0.52549895]\n",
      " [-0.7511838  -1.11184407  1.43274717 -1.32534513]\n",
      " [ 0.60056083  2.16189629  1.53935038  1.87403962]\n",
      " [-0.42933984  2.16189629 -0.23736982 -0.12557585]\n",
      " [ 1.34080194 -0.29340898  1.18400634  1.47411653]\n",
      " [ 0.11779489  2.16189629  1.53935038  1.87403962]\n",
      " [ 0.92240479  2.16189629  1.18400634  1.47411653]\n",
      " [ 1.34080194  0.52502611  0.11797422  0.27434724]\n",
      " [ 1.34080194  0.52502611  0.8286623   1.07419343]\n",
      " [ 1.27643314  2.16189629  0.47331826  1.87403962]\n",
      " [ 1.34080194  2.16189629 -1.30340194  1.75406269]\n",
      " [-0.87992139 -1.11184407 -1.30340194 -1.32534513]\n",
      " [ 1.34080194  2.08005278 -1.65874597  1.87403962]\n",
      " [ 0.92240479  2.16189629 -1.65874597  1.87403962]\n",
      " [ 1.34080194  0.52502611 -1.30340194  0.27434724]\n",
      " [ 0.08561049 -0.29340898 -0.59271386 -0.52549895]\n",
      " [-0.7511838  -1.11184407  0.47331826 -1.32534513]\n",
      " [-0.26841786 -1.11184407 -0.9480579  -0.92542204]\n",
      " [ 1.34080194  1.3434612  -1.12572992  1.07419343]\n",
      " [ 1.30861754  2.16189629  1.53935038  1.87403962]\n",
      " [-0.87992139 -1.11184407 -1.30340194 -1.32534513]\n",
      " [-1.42705612 -0.98907881 -0.59271386  0.15437031]\n",
      " [ 0.79366721 -0.29340898 -0.23736982 -0.12557585]\n",
      " [ 1.05114237  0.27949558  0.11797422  0.27434724]\n",
      " [ 0.60056083 -0.17064372  1.53935038 -0.04559123]\n",
      " [ 1.01895798  0.52502611 -1.62321157  0.71426265]\n",
      " [ 1.11551117  1.13885243 -1.16126432  0.9542165 ]\n",
      " [ 1.01895798  0.72963488 -1.30340194  0.47430879]\n",
      " [ 0.98677358  0.11580857  0.11797422  0.27434724]\n",
      " [ 1.01895798  0.68871313 -0.69931707 -0.68546818]\n",
      " [ 1.27643314  1.75267874  1.18400634  1.47411653]\n",
      " [-0.01094269  0.11580857  0.11797422  0.27434724]\n",
      " [ 0.50400764 -0.49801775  0.8286623  -1.1653759 ]\n",
      " [ 0.72929841  1.3434612  -1.65874597  1.59409345]\n",
      " [-0.39715545 -0.37525249  0.8286623   0.59428572]\n",
      " [-0.62244622 -0.74354828  0.47331826 -0.84543742]\n",
      " [-0.59026182 -0.33433073  0.47331826 -0.20556047]\n",
      " [-1.00865897 -0.86631354  0.8286623  -0.60548356]\n",
      " [-0.13968028 -0.49801775  1.18400634 -0.3255374 ]\n",
      " [-1.00865897 -0.82539179  0.8286623  -0.68546818]\n",
      " [-0.91210578 -0.53893951  1.18400634 -0.52549895]\n",
      " [-1.52360931 -1.15276582 -1.41000515 -1.44532206]\n",
      " [-1.29831853 -0.53893951  1.53935038 -1.04539897]\n",
      " [-1.45924051 -0.9072353   1.53935038 -1.20536821]\n",
      " [-1.23394974 -0.98907881  0.8286623  -0.40552202]\n",
      " [-1.68453129 -1.15276582 -0.9480579  -0.84543742]\n",
      " [-0.04312709 -0.12972196  0.11797422  0.47430879]\n",
      " [-1.65234689 -1.15276582 -1.0191267  -1.00540666]\n",
      " [-0.55807743 -0.70262652 -0.9480579  -0.92542204]\n",
      " [-0.7511838  -0.457096   -1.16126432 -1.1653759 ]\n",
      " [-1.10521216 -0.70262652 -1.19679872 -1.20536821]\n",
      " [ 0.31090127 -0.0069567  -0.23736982 -0.16556816]\n",
      " [-1.42705612 -0.98907881 -0.23736982  0.15437031]\n",
      " [ 0.79366721 -0.29340898  1.18400634 -0.7654528 ]\n",
      " [ 1.05114237  0.27949558  0.11797422  0.27434724]\n",
      " [ 0.60056083 -0.17064372  0.8286623  -0.04559123]\n",
      " [ 1.01895798 -0.25248723  0.47331826  0.67427034]\n",
      " [ 1.11551117  0.93424365  0.50885266  0.71426265]\n",
      " [ 1.01895798  1.3434612   0.97079991  1.23416267]\n",
      " [ 0.98677358  0.11580857  1.53935038 -0.3255374 ]\n",
      " [ 1.01895798  0.68871313  1.53935038 -0.68546818]\n",
      " [ 1.27643314  1.75267874  0.8286623   0.9542165 ]\n",
      " [-0.01094269 -0.62078302 -1.30340194 -1.24536052]\n",
      " [ 0.50400764 -0.49801775 -0.9480579  -1.1653759 ]\n",
      " [ 0.72929841 -0.0069567  -1.30340194  1.59409345]\n",
      " [-0.39715545 -0.37525249  0.47331826  0.59428572]\n",
      " [-0.62244622 -0.74354828 -0.87698909 -0.84543742]\n",
      " [-0.59026182 -0.33433073 -0.30843863 -0.20556047]\n",
      " [-1.33050293 -0.86631354 -0.80592028 -0.7654528 ]\n",
      " [-0.13968028 -0.49801775 -0.41504184 -0.3255374 ]\n",
      " [-1.00865897 -0.82539179 -0.73485147 -0.68546818]\n",
      " [-0.91210578 -0.53893951 -0.59271386 -0.48550664]\n",
      " [-1.52360931 -1.15276582  0.47331826 -1.32534513]\n",
      " [-1.29831853 -0.53893951  1.18400634 -1.04539897]\n",
      " [-1.45924051 -0.9072353   0.8286623  -1.20536821]\n",
      " [-1.23394974 -0.98907881 -0.48611065 -0.40552202]\n",
      " [-1.68453129 -1.15276582  0.8286623  -0.84543742]\n",
      " [-1.36268733 -1.03000056  0.29564624  0.47430879]\n",
      " [-1.65234689 -1.15276582  0.47331826 -1.00540666]\n",
      " [-0.55807743 -0.70262652  1.18400634 -1.24536052]\n",
      " [-0.7511838  -0.457096    1.53935038 -1.1653759 ]\n",
      " [-1.10521216 -0.70262652 -1.19679872 -1.20536821]\n",
      " [ 0.31090127 -0.0069567  -0.23736982 -0.12557585]\n",
      " [-1.42705612 -0.98907881  0.01137101  0.15437031]\n",
      " [ 0.79366721 -0.29340898  0.72205909  0.9542165 ]\n",
      " [ 1.05114237  0.27949558  0.22457743  0.39432417]\n",
      " [ 0.60056083 -0.17064372 -0.16630101 -0.08558354]\n",
      " [ 1.01895798  0.52502611 -0.59271386  1.794055  ]\n",
      " [ 1.11551117  0.52502611  0.47331826  0.67427034]\n",
      " [ 1.01895798  0.72963488 -0.9480579   1.47411653]\n",
      " [ 0.98677358  0.11580857 -1.30340194  1.07419343]]\n"
     ]
    }
   ],
   "source": [
    "print(pca.inverse_transform(X_fitted))"
   ]
  },
  {
   "cell_type": "markdown",
   "metadata": {},
   "source": [
    "## Cargas fatoriais \n",
    "* Correlações de pearson entre as variáveis originais e os componentes principais\n",
    "* Autovetor, representando a variância de cada componente.\n",
    "* Raiz quadrada dos autovetores."
   ]
  },
  {
   "cell_type": "code",
   "execution_count": 18,
   "metadata": {},
   "outputs": [
    {
     "name": "stdout",
     "output_type": "stream",
     "text": [
      "autovetores\n",
      " [[ 0.56425743 -0.00708433]\n",
      " [ 0.58860438 -0.04857141]\n",
      " [-0.02676132 -0.9987432 ]\n",
      " [ 0.57830984  0.01013133]]\n",
      "desvio_padrao\n",
      " [1.59485499 1.0052284 ]\n"
     ]
    }
   ],
   "source": [
    "autovetores = df_components.loc[:,pca.get_feature_names_out()[range(2)]]\n",
    "autovetores = np.array(autovetores)  \n",
    "desvio_padrao = np.sqrt(pca.explained_variance_[range(2)])\n",
    "print('autovetores\\n',autovetores)\n",
    "print('desvio_padrao\\n',desvio_padrao)"
   ]
  },
  {
   "cell_type": "code",
   "execution_count": 19,
   "metadata": {},
   "outputs": [
    {
     "name": "stdout",
     "output_type": "stream",
     "text": [
      "scores\n",
      " [[ 0.89990877 -0.00712137]\n",
      " [ 0.93873863 -0.04882536]\n",
      " [-0.04268042 -1.00396503]\n",
      " [ 0.92232033  0.0101843 ]]\n"
     ]
    }
   ],
   "source": [
    "# Scores Fatoriais\n",
    "scores = desvio_padrao*autovetores\n",
    "print('scores\\n',scores)\n"
   ]
  },
  {
   "cell_type": "code",
   "execution_count": 20,
   "metadata": {},
   "outputs": [
    {
     "data": {
      "text/plain": [
       "array([0.80988651, 0.88361414, 1.00976741, 0.85077852])"
      ]
     },
     "execution_count": 20,
     "metadata": {},
     "output_type": "execute_result"
    }
   ],
   "source": [
    "# Comunalidade\n",
    "comunalidade = np.sum(scores**2,axis=1)\n",
    "comunalidade"
   ]
  },
  {
   "cell_type": "markdown",
   "metadata": {},
   "source": [
    "## Ranqueamento"
   ]
  },
  {
   "cell_type": "code",
   "execution_count": 21,
   "metadata": {},
   "outputs": [
    {
     "name": "stdout",
     "output_type": "stream",
     "text": [
      "[[ 0.02417163  1.67376958]\n",
      " [-1.7177264  -1.51048202]\n",
      " [-0.9572434   0.60712988]\n",
      " [ 2.14636514 -0.89149032]\n",
      " [-1.56191301  0.92687496]\n",
      " [ 3.15722486  1.56114275]\n",
      " [-0.17808919 -0.83261651]\n",
      " [ 0.3857176  -0.13955817]\n",
      " [-0.44875543  0.60074574]\n",
      " [-0.41243486  0.60028973]\n",
      " [-1.88309966 -1.38504854]\n",
      " [ 2.65395304 -1.62769013]\n",
      " [ 0.96397401  0.13383447]\n",
      " [ 1.40466616 -1.16283092]\n",
      " [ 2.38154878 -1.62427006]\n",
      " [ 2.6137859  -1.27912449]\n",
      " [ 1.22109068 -0.15004639]\n",
      " [ 1.66463066 -0.85173777]\n",
      " [ 3.06384744 -0.56778591]\n",
      " [ 3.07833154  1.20502978]\n",
      " [-1.88251785  1.3485738 ]\n",
      " [ 3.10905141  1.565118  ]\n",
      " [ 2.92114116  1.56410681]\n",
      " [ 1.25912858  1.26954338]\n",
      " [-0.41243486  0.60028973]\n",
      " [-1.85742408 -0.42682544]\n",
      " [-1.31570246  0.99339602]\n",
      " [ 2.19866724  1.06044562]\n",
      " [ 3.0534793  -1.63270624]\n",
      " [-1.88251785  1.3485738 ]\n",
      " [-1.28226746  0.65168361]\n",
      " [ 0.20886138  0.24442793]\n",
      " [ 0.91312778 -0.13606858]\n",
      " [ 0.17086837 -1.53384379]\n",
      " [ 1.34049167  1.59568806]\n",
      " [ 1.88267874  1.10625401]\n",
      " [ 1.31359909  1.26391117]\n",
      " [ 0.78046031 -0.12766207]\n",
      " [ 0.60263582  0.65082306]\n",
      " [ 2.57268179 -1.26175628]\n",
      " [ 0.2174915  -0.12059391]\n",
      " [-0.70486982 -0.81880878]\n",
      " [ 2.16854935  1.60239116]\n",
      " [-0.12346798 -0.80055981]\n",
      " [-1.29046708 -0.440764  ]\n",
      " [-0.66139241 -0.45438547]\n",
      " [-1.45139246 -0.78453145]\n",
      " [-0.59189811 -1.16063744]\n",
      " [-1.47356163 -0.78732943]\n",
      " [-1.1674714  -1.15520358]\n",
      " [-2.33634126  1.46037524]\n",
      " [-1.69556758 -1.51263224]\n",
      " [-2.09566131 -1.49522427]\n",
      " [-1.53513489 -0.77494665]\n",
      " [-2.0925858   1.00622621]\n",
      " [ 0.1704506  -0.10641427]\n",
      " [-2.16503541  1.075357  ]\n",
      " [-1.23827778  0.97557179]\n",
      " [-1.33578113  1.17552147]\n",
      " [-1.7022416   1.22503986]\n",
      " [ 0.08193624  0.23352944]\n",
      " [-1.29177693  0.29678616]\n",
      " [-0.19922365 -1.18164465]\n",
      " [ 0.91312778 -0.13606858]\n",
      " [ 0.18988732 -0.82404891]\n",
      " [ 0.80361007 -0.46084711]\n",
      " [ 1.57878292 -0.55425689]\n",
      " [ 2.05347029 -1.02954855]\n",
      " [ 0.39550323 -1.55332947]\n",
      " [ 0.54272613 -1.58503084]\n",
      " [ 2.28152797 -0.91212611]\n",
      " [-1.05689359  1.31937649]\n",
      " [-0.65732245  0.95567844]\n",
      " [ 1.36417799  1.31308542]\n",
      " [-0.11395851 -0.44566237]\n",
      " [-1.25433107  0.90784629]\n",
      " [-0.64047157  0.32638891]\n",
      " [-1.68176351  0.84865614]\n",
      " [-0.54910548  0.43640105]\n",
      " [-1.43171994  0.77421933]\n",
      " [-1.09679608  0.61968882]\n",
      " [-2.31735763 -0.41936569]\n",
      " [-1.68605811 -1.1577348 ]\n",
      " [-2.07664236 -0.78542938]\n",
      " [-1.49994984  0.53817389]\n",
      " [-2.14013318 -0.768261  ]\n",
      " [-1.10878373 -0.23078698]\n",
      " [-2.2049752  -0.41521227]\n",
      " [-1.48035819 -1.15705428]\n",
      " [-1.40805314 -1.5216991 ]\n",
      " [-1.7022416   1.22503986]\n",
      " [ 0.10506418  0.23393461]\n",
      " [-1.29843356  0.04835795]\n",
      " [ 0.80764035 -0.70285544]\n",
      " [ 0.97965878 -0.24132229]\n",
      " [ 0.1933859   0.16925876]\n",
      " [ 1.93736874  0.57742521]\n",
      " [ 1.31573868 -0.49929605]\n",
      " [ 1.88228826  0.91914311]\n",
      " [ 1.28105713  1.30003122]]\n"
     ]
    }
   ],
   "source": [
    "pca_f2 = PCA(n_components=2)\n",
    "pca_f2.fit(X)\n",
    "X_fitted_f2 = pca_f2.fit_transform(X)\n",
    "print(X_fitted_f2)"
   ]
  },
  {
   "cell_type": "code",
   "execution_count": 22,
   "metadata": {},
   "outputs": [],
   "source": [
    "df_notas[['PCA1','PCA2']] = X_fitted_f2"
   ]
  },
  {
   "cell_type": "code",
   "execution_count": 23,
   "metadata": {},
   "outputs": [
    {
     "name": "stdout",
     "output_type": "stream",
     "text": [
      "ratio_pca1=  0.6295317026757451 ratio_pca2=  -0.2500948246879979\n"
     ]
    }
   ],
   "source": [
    "# Como o Fator2 pegou a correlação negativa de marquetin, quanto maior a nota mais negativo, temos que multiplicar por menos 1 para o ranking se ajustar\n",
    "# elas são ortogonais\n",
    "# ponderando pela proporção\n",
    "ratio_pca1 =pca_f2.explained_variance_ratio_[0]\n",
    "ratio_pca2 =pca_f2.explained_variance_ratio_[1]*-1\n",
    "print('ratio_pca1= ',ratio_pca1,'ratio_pca2= ',ratio_pca2)"
   ]
  },
  {
   "cell_type": "code",
   "execution_count": 24,
   "metadata": {},
   "outputs": [],
   "source": [
    "df_notas['Rank'] = df_notas['PCA1'] * ratio_pca1 + df_notas['PCA2'] * ratio_pca2"
   ]
  },
  {
   "cell_type": "code",
   "execution_count": 25,
   "metadata": {},
   "outputs": [
    {
     "data": {
      "text/html": [
       "<div>\n",
       "<style scoped>\n",
       "    .dataframe tbody tr th:only-of-type {\n",
       "        vertical-align: middle;\n",
       "    }\n",
       "\n",
       "    .dataframe tbody tr th {\n",
       "        vertical-align: top;\n",
       "    }\n",
       "\n",
       "    .dataframe thead th {\n",
       "        text-align: right;\n",
       "    }\n",
       "</style>\n",
       "<table border=\"1\" class=\"dataframe\">\n",
       "  <thead>\n",
       "    <tr style=\"text-align: right;\">\n",
       "      <th></th>\n",
       "      <th>Nota de Finanças</th>\n",
       "      <th>Nota de Custos</th>\n",
       "      <th>Nota de Marketing</th>\n",
       "      <th>Nota de Atuária</th>\n",
       "      <th>PCA1</th>\n",
       "      <th>PCA2</th>\n",
       "      <th>Rank</th>\n",
       "    </tr>\n",
       "  </thead>\n",
       "  <tbody>\n",
       "    <tr>\n",
       "      <th>Adelino</th>\n",
       "      <td>9.9</td>\n",
       "      <td>10.0</td>\n",
       "      <td>10.0</td>\n",
       "      <td>10.0</td>\n",
       "      <td>3.053479</td>\n",
       "      <td>-1.632706</td>\n",
       "      <td>2.330593</td>\n",
       "    </tr>\n",
       "    <tr>\n",
       "      <th>Renata</th>\n",
       "      <td>7.7</td>\n",
       "      <td>10.0</td>\n",
       "      <td>10.0</td>\n",
       "      <td>10.0</td>\n",
       "      <td>2.653953</td>\n",
       "      <td>-1.627690</td>\n",
       "      <td>2.077824</td>\n",
       "    </tr>\n",
       "    <tr>\n",
       "      <th>Cecília</th>\n",
       "      <td>9.8</td>\n",
       "      <td>10.0</td>\n",
       "      <td>7.0</td>\n",
       "      <td>10.0</td>\n",
       "      <td>3.063847</td>\n",
       "      <td>-0.567786</td>\n",
       "      <td>2.070789</td>\n",
       "    </tr>\n",
       "    <tr>\n",
       "      <th>Felipe</th>\n",
       "      <td>8.7</td>\n",
       "      <td>10.0</td>\n",
       "      <td>9.0</td>\n",
       "      <td>9.0</td>\n",
       "      <td>2.613786</td>\n",
       "      <td>-1.279124</td>\n",
       "      <td>1.965364</td>\n",
       "    </tr>\n",
       "    <tr>\n",
       "      <th>Claudio</th>\n",
       "      <td>9.8</td>\n",
       "      <td>9.0</td>\n",
       "      <td>9.0</td>\n",
       "      <td>9.0</td>\n",
       "      <td>2.572682</td>\n",
       "      <td>-1.261756</td>\n",
       "      <td>1.935143</td>\n",
       "    </tr>\n",
       "    <tr>\n",
       "      <th>Giulia</th>\n",
       "      <td>6.2</td>\n",
       "      <td>10.0</td>\n",
       "      <td>10.0</td>\n",
       "      <td>10.0</td>\n",
       "      <td>2.381549</td>\n",
       "      <td>-1.624270</td>\n",
       "      <td>1.905482</td>\n",
       "    </tr>\n",
       "    <tr>\n",
       "      <th>Robson</th>\n",
       "      <td>9.8</td>\n",
       "      <td>9.0</td>\n",
       "      <td>8.0</td>\n",
       "      <td>7.7</td>\n",
       "      <td>2.281528</td>\n",
       "      <td>-0.912126</td>\n",
       "      <td>1.664412</td>\n",
       "    </tr>\n",
       "    <tr>\n",
       "      <th>Gisele</th>\n",
       "      <td>10.0</td>\n",
       "      <td>10.0</td>\n",
       "      <td>2.0</td>\n",
       "      <td>9.7</td>\n",
       "      <td>3.078332</td>\n",
       "      <td>1.205030</td>\n",
       "      <td>1.636536</td>\n",
       "    </tr>\n",
       "    <tr>\n",
       "      <th>Ovídio</th>\n",
       "      <td>10.0</td>\n",
       "      <td>10.0</td>\n",
       "      <td>1.0</td>\n",
       "      <td>10.0</td>\n",
       "      <td>3.157225</td>\n",
       "      <td>1.561143</td>\n",
       "      <td>1.597139</td>\n",
       "    </tr>\n",
       "    <tr>\n",
       "      <th>Gustavo</th>\n",
       "      <td>10.0</td>\n",
       "      <td>8.0</td>\n",
       "      <td>8.0</td>\n",
       "      <td>8.0</td>\n",
       "      <td>2.146365</td>\n",
       "      <td>-0.891490</td>\n",
       "      <td>1.574162</td>\n",
       "    </tr>\n",
       "    <tr>\n",
       "      <th>Kamal</th>\n",
       "      <td>10.0</td>\n",
       "      <td>9.8</td>\n",
       "      <td>1.0</td>\n",
       "      <td>10.0</td>\n",
       "      <td>3.109051</td>\n",
       "      <td>1.565118</td>\n",
       "      <td>1.565819</td>\n",
       "    </tr>\n",
       "    <tr>\n",
       "      <th>Cida</th>\n",
       "      <td>9.0</td>\n",
       "      <td>8.0</td>\n",
       "      <td>8.4</td>\n",
       "      <td>8.4</td>\n",
       "      <td>2.053470</td>\n",
       "      <td>-1.029549</td>\n",
       "      <td>1.550209</td>\n",
       "    </tr>\n",
       "    <tr>\n",
       "      <th>Rodolfo</th>\n",
       "      <td>8.7</td>\n",
       "      <td>10.0</td>\n",
       "      <td>1.0</td>\n",
       "      <td>10.0</td>\n",
       "      <td>2.921141</td>\n",
       "      <td>1.564107</td>\n",
       "      <td>1.447776</td>\n",
       "    </tr>\n",
       "    <tr>\n",
       "      <th>Pietro</th>\n",
       "      <td>10.0</td>\n",
       "      <td>6.0</td>\n",
       "      <td>8.0</td>\n",
       "      <td>8.0</td>\n",
       "      <td>1.664631</td>\n",
       "      <td>-0.851738</td>\n",
       "      <td>1.260953</td>\n",
       "    </tr>\n",
       "    <tr>\n",
       "      <th>Rodrigo</th>\n",
       "      <td>10.0</td>\n",
       "      <td>4.0</td>\n",
       "      <td>9.0</td>\n",
       "      <td>9.0</td>\n",
       "      <td>1.404666</td>\n",
       "      <td>-1.162831</td>\n",
       "      <td>1.175100</td>\n",
       "    </tr>\n",
       "    <tr>\n",
       "      <th>Cristiane</th>\n",
       "      <td>9.3</td>\n",
       "      <td>7.0</td>\n",
       "      <td>7.1</td>\n",
       "      <td>7.1</td>\n",
       "      <td>1.578783</td>\n",
       "      <td>-0.554257</td>\n",
       "      <td>1.132511</td>\n",
       "    </tr>\n",
       "    <tr>\n",
       "      <th>Adriano</th>\n",
       "      <td>10.0</td>\n",
       "      <td>8.0</td>\n",
       "      <td>2.5</td>\n",
       "      <td>8.0</td>\n",
       "      <td>2.198667</td>\n",
       "      <td>1.060446</td>\n",
       "      <td>1.118919</td>\n",
       "    </tr>\n",
       "    <tr>\n",
       "      <th>Pedro</th>\n",
       "      <td>9.0</td>\n",
       "      <td>6.0</td>\n",
       "      <td>4.0</td>\n",
       "      <td>9.8</td>\n",
       "      <td>1.937369</td>\n",
       "      <td>0.577425</td>\n",
       "      <td>1.075224</td>\n",
       "    </tr>\n",
       "    <tr>\n",
       "      <th>Edson</th>\n",
       "      <td>8.1</td>\n",
       "      <td>8.0</td>\n",
       "      <td>1.0</td>\n",
       "      <td>9.3</td>\n",
       "      <td>2.168549</td>\n",
       "      <td>1.602391</td>\n",
       "      <td>0.964421</td>\n",
       "    </tr>\n",
       "    <tr>\n",
       "      <th>Leandro</th>\n",
       "      <td>9.0</td>\n",
       "      <td>6.5</td>\n",
       "      <td>3.0</td>\n",
       "      <td>9.0</td>\n",
       "      <td>1.882288</td>\n",
       "      <td>0.919143</td>\n",
       "      <td>0.955087</td>\n",
       "    </tr>\n",
       "  </tbody>\n",
       "</table>\n",
       "</div>"
      ],
      "text/plain": [
       "           Nota de Finanças  Nota de Custos  Nota de Marketing  \\\n",
       "Adelino                 9.9            10.0               10.0   \n",
       "Renata                  7.7            10.0               10.0   \n",
       "Cecília                 9.8            10.0                7.0   \n",
       "Felipe                  8.7            10.0                9.0   \n",
       "Claudio                 9.8             9.0                9.0   \n",
       "Giulia                  6.2            10.0               10.0   \n",
       "Robson                  9.8             9.0                8.0   \n",
       "Gisele                 10.0            10.0                2.0   \n",
       "Ovídio                 10.0            10.0                1.0   \n",
       "Gustavo                10.0             8.0                8.0   \n",
       "Kamal                  10.0             9.8                1.0   \n",
       "Cida                    9.0             8.0                8.4   \n",
       "Rodolfo                 8.7            10.0                1.0   \n",
       "Pietro                 10.0             6.0                8.0   \n",
       "Rodrigo                10.0             4.0                9.0   \n",
       "Cristiane               9.3             7.0                7.1   \n",
       "Adriano                10.0             8.0                2.5   \n",
       "Pedro                   9.0             6.0                4.0   \n",
       "Edson                   8.1             8.0                1.0   \n",
       "Leandro                 9.0             6.5                3.0   \n",
       "\n",
       "           Nota de Atuária      PCA1      PCA2      Rank  \n",
       "Adelino               10.0  3.053479 -1.632706  2.330593  \n",
       "Renata                10.0  2.653953 -1.627690  2.077824  \n",
       "Cecília               10.0  3.063847 -0.567786  2.070789  \n",
       "Felipe                 9.0  2.613786 -1.279124  1.965364  \n",
       "Claudio                9.0  2.572682 -1.261756  1.935143  \n",
       "Giulia                10.0  2.381549 -1.624270  1.905482  \n",
       "Robson                 7.7  2.281528 -0.912126  1.664412  \n",
       "Gisele                 9.7  3.078332  1.205030  1.636536  \n",
       "Ovídio                10.0  3.157225  1.561143  1.597139  \n",
       "Gustavo                8.0  2.146365 -0.891490  1.574162  \n",
       "Kamal                 10.0  3.109051  1.565118  1.565819  \n",
       "Cida                   8.4  2.053470 -1.029549  1.550209  \n",
       "Rodolfo               10.0  2.921141  1.564107  1.447776  \n",
       "Pietro                 8.0  1.664631 -0.851738  1.260953  \n",
       "Rodrigo                9.0  1.404666 -1.162831  1.175100  \n",
       "Cristiane              7.1  1.578783 -0.554257  1.132511  \n",
       "Adriano                8.0  2.198667  1.060446  1.118919  \n",
       "Pedro                  9.8  1.937369  0.577425  1.075224  \n",
       "Edson                  9.3  2.168549  1.602391  0.964421  \n",
       "Leandro                9.0  1.882288  0.919143  0.955087  "
      ]
     },
     "execution_count": 25,
     "metadata": {},
     "output_type": "execute_result"
    }
   ],
   "source": [
    "df_notas.sort_values(by='Rank',inplace=True,ascending=False)\n",
    "df_notas.head(20)"
   ]
  },
  {
   "cell_type": "code",
   "execution_count": 26,
   "metadata": {},
   "outputs": [
    {
     "data": {
      "text/html": [
       "<div>\n",
       "<style scoped>\n",
       "    .dataframe tbody tr th:only-of-type {\n",
       "        vertical-align: middle;\n",
       "    }\n",
       "\n",
       "    .dataframe tbody tr th {\n",
       "        vertical-align: top;\n",
       "    }\n",
       "\n",
       "    .dataframe thead th {\n",
       "        text-align: right;\n",
       "    }\n",
       "</style>\n",
       "<table border=\"1\" class=\"dataframe\">\n",
       "  <thead>\n",
       "    <tr style=\"text-align: right;\">\n",
       "      <th></th>\n",
       "      <th>Nota de Finanças</th>\n",
       "      <th>Nota de Custos</th>\n",
       "      <th>Nota de Marketing</th>\n",
       "      <th>Nota de Atuária</th>\n",
       "      <th>PCA1</th>\n",
       "      <th>PCA2</th>\n",
       "      <th>Rank</th>\n",
       "    </tr>\n",
       "  </thead>\n",
       "  <tbody>\n",
       "    <tr>\n",
       "      <th>Alexandre</th>\n",
       "      <td>3.9</td>\n",
       "      <td>2.9</td>\n",
       "      <td>3.2</td>\n",
       "      <td>3.2</td>\n",
       "      <td>-1.254331</td>\n",
       "      <td>0.907846</td>\n",
       "      <td>-1.016689</td>\n",
       "    </tr>\n",
       "    <tr>\n",
       "      <th>Bianca</th>\n",
       "      <td>4.1</td>\n",
       "      <td>3.0</td>\n",
       "      <td>3.0</td>\n",
       "      <td>3.0</td>\n",
       "      <td>-1.238278</td>\n",
       "      <td>0.975572</td>\n",
       "      <td>-1.023521</td>\n",
       "    </tr>\n",
       "    <tr>\n",
       "      <th>Danielle</th>\n",
       "      <td>3.5</td>\n",
       "      <td>2.0</td>\n",
       "      <td>7.0</td>\n",
       "      <td>2.0</td>\n",
       "      <td>-1.857424</td>\n",
       "      <td>-0.426825</td>\n",
       "      <td>-1.062561</td>\n",
       "    </tr>\n",
       "    <tr>\n",
       "      <th>Juliana</th>\n",
       "      <td>5.0</td>\n",
       "      <td>2.0</td>\n",
       "      <td>3.0</td>\n",
       "      <td>3.0</td>\n",
       "      <td>-1.315702</td>\n",
       "      <td>0.993396</td>\n",
       "      <td>-1.076720</td>\n",
       "    </tr>\n",
       "    <tr>\n",
       "      <th>Reinaldo</th>\n",
       "      <td>2.0</td>\n",
       "      <td>2.3</td>\n",
       "      <td>4.3</td>\n",
       "      <td>4.3</td>\n",
       "      <td>-1.499950</td>\n",
       "      <td>0.538174</td>\n",
       "      <td>-1.078860</td>\n",
       "    </tr>\n",
       "    <tr>\n",
       "      <th>Andréa</th>\n",
       "      <td>2.7</td>\n",
       "      <td>2.7</td>\n",
       "      <td>3.6</td>\n",
       "      <td>3.6</td>\n",
       "      <td>-1.431720</td>\n",
       "      <td>0.774219</td>\n",
       "      <td>-1.094941</td>\n",
       "    </tr>\n",
       "    <tr>\n",
       "      <th>Afonso</th>\n",
       "      <td>1.3</td>\n",
       "      <td>2.5</td>\n",
       "      <td>8.0</td>\n",
       "      <td>2.3</td>\n",
       "      <td>-2.076642</td>\n",
       "      <td>-0.785429</td>\n",
       "      <td>-1.110880</td>\n",
       "    </tr>\n",
       "    <tr>\n",
       "      <th>Angélica</th>\n",
       "      <td>3.5</td>\n",
       "      <td>3.6</td>\n",
       "      <td>2.4</td>\n",
       "      <td>2.4</td>\n",
       "      <td>-1.335781</td>\n",
       "      <td>1.175521</td>\n",
       "      <td>-1.134908</td>\n",
       "    </tr>\n",
       "    <tr>\n",
       "      <th>César</th>\n",
       "      <td>0.6</td>\n",
       "      <td>1.9</td>\n",
       "      <td>8.0</td>\n",
       "      <td>3.2</td>\n",
       "      <td>-2.140133</td>\n",
       "      <td>-0.768261</td>\n",
       "      <td>-1.155144</td>\n",
       "    </tr>\n",
       "    <tr>\n",
       "      <th>Letícia</th>\n",
       "      <td>3.4</td>\n",
       "      <td>2.0</td>\n",
       "      <td>3.2</td>\n",
       "      <td>3.2</td>\n",
       "      <td>-1.561913</td>\n",
       "      <td>0.926875</td>\n",
       "      <td>-1.215080</td>\n",
       "    </tr>\n",
       "    <tr>\n",
       "      <th>Paola</th>\n",
       "      <td>1.7</td>\n",
       "      <td>2.6</td>\n",
       "      <td>3.4</td>\n",
       "      <td>3.4</td>\n",
       "      <td>-1.681764</td>\n",
       "      <td>0.848656</td>\n",
       "      <td>-1.270968</td>\n",
       "    </tr>\n",
       "    <tr>\n",
       "      <th>Márcia</th>\n",
       "      <td>0.7</td>\n",
       "      <td>1.9</td>\n",
       "      <td>7.0</td>\n",
       "      <td>2.8</td>\n",
       "      <td>-2.204975</td>\n",
       "      <td>-0.415212</td>\n",
       "      <td>-1.284259</td>\n",
       "    </tr>\n",
       "    <tr>\n",
       "      <th>Edinalva</th>\n",
       "      <td>1.1</td>\n",
       "      <td>1.9</td>\n",
       "      <td>7.0</td>\n",
       "      <td>2.0</td>\n",
       "      <td>-2.317358</td>\n",
       "      <td>-0.419366</td>\n",
       "      <td>-1.353969</td>\n",
       "    </tr>\n",
       "    <tr>\n",
       "      <th>Sandra</th>\n",
       "      <td>2.4</td>\n",
       "      <td>3.0</td>\n",
       "      <td>2.3</td>\n",
       "      <td>2.3</td>\n",
       "      <td>-1.702242</td>\n",
       "      <td>1.225040</td>\n",
       "      <td>-1.377991</td>\n",
       "    </tr>\n",
       "    <tr>\n",
       "      <th>Frederico</th>\n",
       "      <td>2.4</td>\n",
       "      <td>3.0</td>\n",
       "      <td>2.3</td>\n",
       "      <td>2.3</td>\n",
       "      <td>-1.702242</td>\n",
       "      <td>1.225040</td>\n",
       "      <td>-1.377991</td>\n",
       "    </tr>\n",
       "    <tr>\n",
       "      <th>Elaine</th>\n",
       "      <td>3.1</td>\n",
       "      <td>2.0</td>\n",
       "      <td>2.0</td>\n",
       "      <td>2.0</td>\n",
       "      <td>-1.882518</td>\n",
       "      <td>1.348574</td>\n",
       "      <td>-1.522376</td>\n",
       "    </tr>\n",
       "    <tr>\n",
       "      <th>Carolina</th>\n",
       "      <td>3.1</td>\n",
       "      <td>2.0</td>\n",
       "      <td>2.0</td>\n",
       "      <td>2.0</td>\n",
       "      <td>-1.882518</td>\n",
       "      <td>1.348574</td>\n",
       "      <td>-1.522376</td>\n",
       "    </tr>\n",
       "    <tr>\n",
       "      <th>Ester</th>\n",
       "      <td>0.6</td>\n",
       "      <td>1.9</td>\n",
       "      <td>3.0</td>\n",
       "      <td>3.2</td>\n",
       "      <td>-2.092586</td>\n",
       "      <td>1.006226</td>\n",
       "      <td>-1.569001</td>\n",
       "    </tr>\n",
       "    <tr>\n",
       "      <th>Viviane</th>\n",
       "      <td>0.7</td>\n",
       "      <td>1.9</td>\n",
       "      <td>2.8</td>\n",
       "      <td>2.8</td>\n",
       "      <td>-2.165035</td>\n",
       "      <td>1.075357</td>\n",
       "      <td>-1.631900</td>\n",
       "    </tr>\n",
       "    <tr>\n",
       "      <th>Gilmar</th>\n",
       "      <td>1.1</td>\n",
       "      <td>1.9</td>\n",
       "      <td>1.7</td>\n",
       "      <td>1.7</td>\n",
       "      <td>-2.336341</td>\n",
       "      <td>1.460375</td>\n",
       "      <td>-1.836033</td>\n",
       "    </tr>\n",
       "  </tbody>\n",
       "</table>\n",
       "</div>"
      ],
      "text/plain": [
       "           Nota de Finanças  Nota de Custos  Nota de Marketing  \\\n",
       "Alexandre               3.9             2.9                3.2   \n",
       "Bianca                  4.1             3.0                3.0   \n",
       "Danielle                3.5             2.0                7.0   \n",
       "Juliana                 5.0             2.0                3.0   \n",
       "Reinaldo                2.0             2.3                4.3   \n",
       "Andréa                  2.7             2.7                3.6   \n",
       "Afonso                  1.3             2.5                8.0   \n",
       "Angélica                3.5             3.6                2.4   \n",
       "César                   0.6             1.9                8.0   \n",
       "Letícia                 3.4             2.0                3.2   \n",
       "Paola                   1.7             2.6                3.4   \n",
       "Márcia                  0.7             1.9                7.0   \n",
       "Edinalva                1.1             1.9                7.0   \n",
       "Sandra                  2.4             3.0                2.3   \n",
       "Frederico               2.4             3.0                2.3   \n",
       "Elaine                  3.1             2.0                2.0   \n",
       "Carolina                3.1             2.0                2.0   \n",
       "Ester                   0.6             1.9                3.0   \n",
       "Viviane                 0.7             1.9                2.8   \n",
       "Gilmar                  1.1             1.9                1.7   \n",
       "\n",
       "           Nota de Atuária      PCA1      PCA2      Rank  \n",
       "Alexandre              3.2 -1.254331  0.907846 -1.016689  \n",
       "Bianca                 3.0 -1.238278  0.975572 -1.023521  \n",
       "Danielle               2.0 -1.857424 -0.426825 -1.062561  \n",
       "Juliana                3.0 -1.315702  0.993396 -1.076720  \n",
       "Reinaldo               4.3 -1.499950  0.538174 -1.078860  \n",
       "Andréa                 3.6 -1.431720  0.774219 -1.094941  \n",
       "Afonso                 2.3 -2.076642 -0.785429 -1.110880  \n",
       "Angélica               2.4 -1.335781  1.175521 -1.134908  \n",
       "César                  3.2 -2.140133 -0.768261 -1.155144  \n",
       "Letícia                3.2 -1.561913  0.926875 -1.215080  \n",
       "Paola                  3.4 -1.681764  0.848656 -1.270968  \n",
       "Márcia                 2.8 -2.204975 -0.415212 -1.284259  \n",
       "Edinalva               2.0 -2.317358 -0.419366 -1.353969  \n",
       "Sandra                 2.3 -1.702242  1.225040 -1.377991  \n",
       "Frederico              2.3 -1.702242  1.225040 -1.377991  \n",
       "Elaine                 2.0 -1.882518  1.348574 -1.522376  \n",
       "Carolina               2.0 -1.882518  1.348574 -1.522376  \n",
       "Ester                  3.2 -2.092586  1.006226 -1.569001  \n",
       "Viviane                2.8 -2.165035  1.075357 -1.631900  \n",
       "Gilmar                 1.7 -2.336341  1.460375 -1.836033  "
      ]
     },
     "execution_count": 26,
     "metadata": {},
     "output_type": "execute_result"
    }
   ],
   "source": [
    "df_notas.tail(20)"
   ]
  },
  {
   "cell_type": "markdown",
   "metadata": {},
   "source": [
    "# References\n",
    "\n",
    "[1] https://scikit-learn.org/stable/auto_examples/decomposition/plot_pca_3d.html#sphx-glr-auto-examples-decomposition-plot-pca-3d-py\n",
    "\n",
    "[2] Matt Harrinson - Machine Learning - Pocket Reference - O'Reilly\n",
    "\n",
    "[3] Capítulo 09 do livro: FÁVERO, Luiz Paulo; BELFIORE, Patrícia. `Manual de análise de dados: estatística e modelagem multivariada com Excel®, SPSS® e Stata®`. Elsevier Brasil, 2017."
   ]
  },
  {
   "cell_type": "markdown",
   "metadata": {},
   "source": [
    "## Autores\n",
    "\n",
    "<a href=\"https://www.linkedin.com/in/eduardopecora/\" target=\"_blank\">Eduardo Pecora</a>\n",
    "\n",
    "<a href=\"https://www.linkedin.com/in/hesauhugocavalcanti/\" target=\"_blank\">Hesau Hugo</a>\n",
    "\n",
    "## Log de modificações\n",
    "\n",
    "| Data | Versão | Modificado por | Descrição |\n",
    "| ----------------- | ------- | ---------- | ---------------------------------- |\n",
    "| 17-04-2023       | 1.0     | Hesau Hugo        | Inicial        |"
   ]
  }
 ],
 "metadata": {
  "kernelspec": {
   "display_name": "Python 3.9.7 64-bit",
   "language": "python",
   "name": "python3"
  },
  "language_info": {
   "codemirror_mode": {
    "name": "ipython",
    "version": 3
   },
   "file_extension": ".py",
   "mimetype": "text/x-python",
   "name": "python",
   "nbconvert_exporter": "python",
   "pygments_lexer": "ipython3",
   "version": "3.9.7"
  },
  "orig_nbformat": 4,
  "vscode": {
   "interpreter": {
    "hash": "cf92aa13fedf815d5c8dd192b8d835913fde3e8bc926b2a0ad6cc74ef2ba3ca2"
   }
  }
 },
 "nbformat": 4,
 "nbformat_minor": 2
}
