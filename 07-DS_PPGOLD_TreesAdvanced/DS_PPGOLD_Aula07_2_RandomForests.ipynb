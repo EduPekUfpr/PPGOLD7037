{
 "cells": [
  {
   "cell_type": "markdown",
   "metadata": {},
   "source": [
    "<p style =\"text-align:center\">\n",
    "    <img src=\"http://epecora.com.br/DataFiles/PPGOLD_logo.png\" width=\"300\" alt=\"PPGOLD Data Science: INTRO\"  />\n",
    "</p>\n",
    "\n",
    "# Aula 07-2 de Data Science"
   ]
  },
  {
   "cell_type": "markdown",
   "metadata": {},
   "source": [
    "## Árvores de Decisão Avançado (Random Forests)"
   ]
  },
  {
   "cell_type": "markdown",
   "metadata": {
    "id": "kf5t4e_0dIhp"
   },
   "source": [
    "* **Case de distribuição de e-commerce**\n",
    "* Tempo estimado: **40** minutos"
   ]
  },
  {
   "cell_type": "markdown",
   "metadata": {},
   "source": [
    "# Objetivos"
   ]
  },
  {
   "cell_type": "markdown",
   "metadata": {},
   "source": [
    "* Após completar esta aula, você será capaz de:\n",
    "\n",
    "    * Obter os dados do case\n",
    "    * Realizar um pré processamento nos dados\n",
    "    * Realizar uma classificação supervisionada através de `Florestas Aleatórias`\n",
    "    * Medir o desempenho do modelo de classificação"
   ]
  },
  {
   "cell_type": "markdown",
   "metadata": {},
   "source": [
    "# Bibliotecas"
   ]
  },
  {
   "cell_type": "code",
   "execution_count": 1,
   "metadata": {},
   "outputs": [
    {
     "name": "stdout",
     "output_type": "stream",
     "text": [
      "Python 3.9.7\n",
      "['Solarize_Light2', '_classic_test_patch', '_mpl-gallery', '_mpl-gallery-nogrid', 'bmh', 'classic', 'dark_background', 'fast', 'fivethirtyeight', 'ggplot', 'grayscale', 'seaborn-v0_8', 'seaborn-v0_8-bright', 'seaborn-v0_8-colorblind', 'seaborn-v0_8-dark', 'seaborn-v0_8-dark-palette', 'seaborn-v0_8-darkgrid', 'seaborn-v0_8-deep', 'seaborn-v0_8-muted', 'seaborn-v0_8-notebook', 'seaborn-v0_8-paper', 'seaborn-v0_8-pastel', 'seaborn-v0_8-poster', 'seaborn-v0_8-talk', 'seaborn-v0_8-ticks', 'seaborn-v0_8-white', 'seaborn-v0_8-whitegrid', 'tableau-colorblind10']\n"
     ]
    }
   ],
   "source": [
    "# check Python version\n",
    "!python -V\n",
    "\n",
    "import pandas as pd # download library to read data into dataframe\n",
    "import numpy as np # import numpy library\n",
    "import matplotlib as mpl\n",
    "import matplotlib.pyplot as plt # plots\n",
    "import collections\n",
    "import random # library for random number generation\n",
    "\n",
    "import matplotlib.pyplot as plt\n",
    "import seaborn as sns\n",
    "\n",
    "# import decision trees scikit-learn libraries\n",
    "%matplotlib inline\n",
    "from sklearn import tree\n",
    "from sklearn.metrics import accuracy_score, confusion_matrix # Não usaremos essas métricas neste exemplo\n",
    "import matplotlib.pyplot as plt\n",
    "\n",
    "#!conda install python-graphviz --yes\n",
    "import graphviz\n",
    "from sklearn.tree import export_graphviz\n",
    "import itertools\n",
    "\n",
    "from sklearn.preprocessing import OneHotEncoder\n",
    "\n",
    "from sklearn.model_selection import train_test_split # Import train_test_split function\n",
    "\n",
    "from sklearn.metrics import confusion_matrix\n",
    "\n",
    "from sklearn.model_selection import GridSearchCV\n",
    "\n",
    "from sklearn.ensemble import RandomForestClassifier\n",
    "\n",
    "# Visualizando os estilos de gráficos disponibilizados pelo matplotlib\n",
    "print(plt.style.available)\n",
    "# Usando um estilo\n",
    "mpl.style.use(['ggplot']) "
   ]
  },
  {
   "cell_type": "markdown",
   "metadata": {
    "id": "G1w1UAvzCjle"
   },
   "source": [
    "# Obtendo Dados"
   ]
  },
  {
   "cell_type": "code",
   "execution_count": 2,
   "metadata": {
    "button": false,
    "colab": {
     "base_uri": "https://localhost:8080/"
    },
    "id": "v16i9xgdlGwH",
    "new_sheet": false,
    "outputId": "d589bec0-ceaa-46c6-bf73-5a7b5d4bf08d",
    "run_control": {
     "read_only": false
    }
   },
   "outputs": [],
   "source": [
    "file_path = \"https://raw.githubusercontent.com/EduPek/PPGOLD7037/main/Data/Distribution_12k.csv\"\n",
    "starsData = pd.read_csv(file_path)"
   ]
  },
  {
   "cell_type": "markdown",
   "metadata": {},
   "source": [
    "# Pré Processamento"
   ]
  },
  {
   "cell_type": "code",
   "execution_count": 3,
   "metadata": {},
   "outputs": [
    {
     "name": "stderr",
     "output_type": "stream",
     "text": [
      "C:\\Users\\User\\AppData\\Roaming\\Python\\Python39\\site-packages\\sklearn\\preprocessing\\_encoders.py:828: FutureWarning: `sparse` was renamed to `sparse_output` in version 1.2 and will be removed in 1.4. `sparse_output` is ignored unless you leave `sparse` to its default value.\n",
      "  warnings.warn(\n",
      "C:\\Users\\User\\AppData\\Roaming\\Python\\Python39\\site-packages\\sklearn\\preprocessing\\_encoders.py:828: FutureWarning: `sparse` was renamed to `sparse_output` in version 1.2 and will be removed in 1.4. `sparse_output` is ignored unless you leave `sparse` to its default value.\n",
      "  warnings.warn(\n",
      "C:\\Users\\User\\AppData\\Roaming\\Python\\Python39\\site-packages\\sklearn\\preprocessing\\_encoders.py:828: FutureWarning: `sparse` was renamed to `sparse_output` in version 1.2 and will be removed in 1.4. `sparse_output` is ignored unless you leave `sparse` to its default value.\n",
      "  warnings.warn(\n",
      "C:\\Users\\User\\AppData\\Roaming\\Python\\Python39\\site-packages\\sklearn\\preprocessing\\_encoders.py:828: FutureWarning: `sparse` was renamed to `sparse_output` in version 1.2 and will be removed in 1.4. `sparse_output` is ignored unless you leave `sparse` to its default value.\n",
      "  warnings.warn(\n",
      "C:\\Users\\User\\AppData\\Roaming\\Python\\Python39\\site-packages\\sklearn\\preprocessing\\_encoders.py:828: FutureWarning: `sparse` was renamed to `sparse_output` in version 1.2 and will be removed in 1.4. `sparse_output` is ignored unless you leave `sparse` to its default value.\n",
      "  warnings.warn(\n",
      "C:\\Users\\User\\AppData\\Roaming\\Python\\Python39\\site-packages\\sklearn\\preprocessing\\_encoders.py:828: FutureWarning: `sparse` was renamed to `sparse_output` in version 1.2 and will be removed in 1.4. `sparse_output` is ignored unless you leave `sparse` to its default value.\n",
      "  warnings.warn(\n",
      "C:\\Users\\User\\AppData\\Roaming\\Python\\Python39\\site-packages\\sklearn\\preprocessing\\_encoders.py:828: FutureWarning: `sparse` was renamed to `sparse_output` in version 1.2 and will be removed in 1.4. `sparse_output` is ignored unless you leave `sparse` to its default value.\n",
      "  warnings.warn(\n"
     ]
    }
   ],
   "source": [
    "# Obtendo o nome das colunas\n",
    "column_names = starsData.columns.values\n",
    "\n",
    "# Alterando a primeira posição da lista para 'stars'\n",
    "column_names[0] = \"stars\"\n",
    "\n",
    "# Passando o novo nome para  o dataframe\n",
    "starsData.columns = column_names\n",
    "\n",
    "starsData = starsData[starsData[\"stars\"] <= 5]\n",
    "starsData = starsData[starsData[\"stars\"] >= 1]\n",
    "\n",
    "starsData = starsData[starsData[\"FloorCD\"] <= 4] \n",
    "starsData = starsData[starsData[\"FloorCD\"] >= 0]\n",
    "\n",
    "starsData = starsData[starsData[\"RoutDeliveryOrder\"] <= 6]\n",
    "starsData = starsData[starsData[\"RoutDeliveryOrder\"] >= 1]\n",
    "\n",
    "# É importante refazer o indice do dataFrame, após excluir linhas, pois pode gerar problema no SciKit Learn\n",
    "starsData = starsData.reset_index(drop=True) \n",
    "\n",
    "# variáveis Dependentes e independentes the DataFrame\n",
    "# split the DataFrame\n",
    "# Só a coluna \"stars\"\n",
    "dependentVariableStars = starsData[\"stars\"].copy(deep=True) \n",
    "\n",
    "# Todas as outras colunas com excessão da \"stars\"\n",
    "independetVariables = starsData.drop(columns=['stars']).copy(deep=True)\n",
    "\n",
    "enc = OneHotEncoder(handle_unknown='ignore', sparse= False)\n",
    "\n",
    "prod_encoded = pd.DataFrame (enc.fit_transform(independetVariables[['Product']])).astype(int)\n",
    "prod_encoded.columns = enc.get_feature_names_out(['Product'])\n",
    "\n",
    "origin_encoded = pd.DataFrame (enc.fit_transform(independetVariables[['Origin']])).astype(int)\n",
    "origin_encoded.columns = enc.get_feature_names_out(['Origin'])\n",
    "\n",
    "CD_encoded = pd.DataFrame (enc.fit_transform(independetVariables[['CD_name']])).astype(int)\n",
    "CD_encoded.columns = enc.get_feature_names_out(['CD_name'])\n",
    "\n",
    "Destination_encoded = pd.DataFrame (enc.fit_transform(independetVariables[['Dest']])).astype(int)\n",
    "Destination_encoded.columns = enc.get_feature_names_out(['Dest'])\n",
    "\n",
    "TruckType_encoded = pd.DataFrame (enc.fit_transform(independetVariables[['TruckType']])).astype(int)\n",
    "TruckType_encoded.columns = enc.get_feature_names_out(['TruckType'])\n",
    "\n",
    "TruckType2_encoded = pd.DataFrame (enc.fit_transform(independetVariables[['TruckType2']])).astype(int)\n",
    "TruckType2_encoded.columns = enc.get_feature_names_out(['TruckType2'])\n",
    "\n",
    "DriverCD_C_encoded = pd.DataFrame (enc.fit_transform(independetVariables[['DriverCD_C']])).astype(int)\n",
    "DriverCD_C_encoded.columns = enc.get_feature_names_out(['DriverCD_C'])\n",
    "\n",
    "independetVariablesEncoded = pd.concat([prod_encoded, origin_encoded, CD_encoded, Destination_encoded, TruckType_encoded, TruckType2_encoded, DriverCD_C_encoded, independetVariables[\"RoutDeliveryOrder\"], independetVariables[\"FloorCD\"]], axis=1)\n",
    "\n",
    "dependentVariableStars = pd.DataFrame({'stars':dependentVariableStars})\n",
    "\n",
    "bad_conditions = dependentVariableStars['stars'] <= 2\n",
    "average_conditions = dependentVariableStars['stars'] == 3\n",
    "good_conditions = dependentVariableStars['stars'] >= 4\n",
    "\n",
    "dependentVariableStars[bad_conditions] = \"bad\"\n",
    "dependentVariableStars[average_conditions] = \"average\"\n",
    "dependentVariableStars[good_conditions] = \"good\""
   ]
  },
  {
   "cell_type": "markdown",
   "metadata": {},
   "source": [
    "# Random Forests"
   ]
  },
  {
   "cell_type": "markdown",
   "metadata": {
    "id": "5oBeTSQbmnjh"
   },
   "source": [
    "## Train Test Split"
   ]
  },
  {
   "cell_type": "code",
   "execution_count": 4,
   "metadata": {},
   "outputs": [
    {
     "name": "stdout",
     "output_type": "stream",
     "text": [
      "Shape das variáveis independentes (12281, 65)\n",
      "Shape das variáveis dependetes (12281, 1)\n"
     ]
    }
   ],
   "source": [
    "print('Shape das variáveis independentes',independetVariablesEncoded.shape)\n",
    "print('Shape das variáveis dependetes',dependentVariableStars.shape)"
   ]
  },
  {
   "cell_type": "code",
   "execution_count": 5,
   "metadata": {},
   "outputs": [
    {
     "data": {
      "text/plain": [
       "[       Product_P1  Product_P10  Product_P11  Product_P12  Product_P13  \\\n",
       " 5565            0            0            0            0            0   \n",
       " 4768            0            1            0            0            0   \n",
       " 8635            0            0            0            0            0   \n",
       " 2245            0            0            0            0            1   \n",
       " 6839            0            0            0            0            0   \n",
       " ...           ...          ...          ...          ...          ...   \n",
       " 4653            0            0            0            0            0   \n",
       " 1552            0            0            0            0            0   \n",
       " 1777            0            0            0            0            0   \n",
       " 11833           0            0            0            1            0   \n",
       " 2807            0            0            0            0            0   \n",
       " \n",
       "        Product_P14  Product_P15  Product_P2  Product_P3  Product_P4  ...  \\\n",
       " 5565             0            1           0           0           0  ...   \n",
       " 4768             0            0           0           0           0  ...   \n",
       " 8635             0            1           0           0           0  ...   \n",
       " 2245             0            0           0           0           0  ...   \n",
       " 6839             0            0           0           0           1  ...   \n",
       " ...            ...          ...         ...         ...         ...  ...   \n",
       " 4653             0            0           0           0           1  ...   \n",
       " 1552             0            0           0           0           0  ...   \n",
       " 1777             0            0           0           1           0  ...   \n",
       " 11833            0            0           0           0           0  ...   \n",
       " 2807             1            0           0           0           0  ...   \n",
       " \n",
       "        DriverCD_C_D2_7  DriverCD_C_D3_1  DriverCD_C_D3_2  DriverCD_C_D3_3  \\\n",
       " 5565                 0                0                0                0   \n",
       " 4768                 0                0                0                0   \n",
       " 8635                 0                0                0                0   \n",
       " 2245                 0                0                0                0   \n",
       " 6839                 0                0                0                0   \n",
       " ...                ...              ...              ...              ...   \n",
       " 4653                 0                0                0                0   \n",
       " 1552                 0                0                0                0   \n",
       " 1777                 0                0                0                0   \n",
       " 11833                1                0                0                0   \n",
       " 2807                 0                0                0                0   \n",
       " \n",
       "        DriverCD_C_D3_4  DriverCD_C_D3_5  DriverCD_C_D3_6  DriverCD_C_D3_7  \\\n",
       " 5565                 0                0                0                0   \n",
       " 4768                 0                0                1                0   \n",
       " 8635                 0                0                0                0   \n",
       " 2245                 0                0                0                0   \n",
       " 6839                 0                0                0                0   \n",
       " ...                ...              ...              ...              ...   \n",
       " 4653                 0                0                0                0   \n",
       " 1552                 0                0                0                0   \n",
       " 1777                 0                0                0                0   \n",
       " 11833                0                0                0                0   \n",
       " 2807                 0                0                0                0   \n",
       " \n",
       "        RoutDeliveryOrder  FloorCD  \n",
       " 5565                   5        4  \n",
       " 4768                   1        1  \n",
       " 8635                   5        4  \n",
       " 2245                   5        4  \n",
       " 6839                   5        1  \n",
       " ...                  ...      ...  \n",
       " 4653                   3        1  \n",
       " 1552                   1        3  \n",
       " 1777                   3        3  \n",
       " 11833                  4        4  \n",
       " 2807                   3        3  \n",
       " \n",
       " [8596 rows x 65 columns],\n",
       "        Product_P1  Product_P10  Product_P11  Product_P12  Product_P13  \\\n",
       " 7751            0            0            1            0            0   \n",
       " 11086           0            0            0            0            0   \n",
       " 7701            0            0            0            0            1   \n",
       " 6173            0            0            0            0            1   \n",
       " 9164            0            0            0            0            0   \n",
       " ...           ...          ...          ...          ...          ...   \n",
       " 9292            0            0            0            0            0   \n",
       " 673             0            0            0            0            0   \n",
       " 4144            0            0            0            0            0   \n",
       " 3050            0            0            0            0            0   \n",
       " 4851            0            0            0            0            0   \n",
       " \n",
       "        Product_P14  Product_P15  Product_P2  Product_P3  Product_P4  ...  \\\n",
       " 7751             0            0           0           0           0  ...   \n",
       " 11086            0            1           0           0           0  ...   \n",
       " 7701             0            0           0           0           0  ...   \n",
       " 6173             0            0           0           0           0  ...   \n",
       " 9164             0            0           0           0           1  ...   \n",
       " ...            ...          ...         ...         ...         ...  ...   \n",
       " 9292             0            0           1           0           0  ...   \n",
       " 673              0            0           0           0           0  ...   \n",
       " 4144             0            0           1           0           0  ...   \n",
       " 3050             0            0           0           0           0  ...   \n",
       " 4851             0            0           0           1           0  ...   \n",
       " \n",
       "        DriverCD_C_D2_7  DriverCD_C_D3_1  DriverCD_C_D3_2  DriverCD_C_D3_3  \\\n",
       " 7751                 0                0                0                0   \n",
       " 11086                0                0                0                0   \n",
       " 7701                 0                0                0                1   \n",
       " 6173                 0                0                0                0   \n",
       " 9164                 0                0                0                1   \n",
       " ...                ...              ...              ...              ...   \n",
       " 9292                 0                0                0                0   \n",
       " 673                  0                0                0                0   \n",
       " 4144                 0                0                0                0   \n",
       " 3050                 0                0                0                0   \n",
       " 4851                 1                0                0                0   \n",
       " \n",
       "        DriverCD_C_D3_4  DriverCD_C_D3_5  DriverCD_C_D3_6  DriverCD_C_D3_7  \\\n",
       " 7751                 0                0                0                0   \n",
       " 11086                0                1                0                0   \n",
       " 7701                 0                0                0                0   \n",
       " 6173                 0                0                0                0   \n",
       " 9164                 0                0                0                0   \n",
       " ...                ...              ...              ...              ...   \n",
       " 9292                 1                0                0                0   \n",
       " 673                  0                0                0                0   \n",
       " 4144                 0                0                0                0   \n",
       " 3050                 0                0                0                0   \n",
       " 4851                 0                0                0                0   \n",
       " \n",
       "        RoutDeliveryOrder  FloorCD  \n",
       " 7751                   6        1  \n",
       " 11086                  2        4  \n",
       " 7701                   1        4  \n",
       " 6173                   5        0  \n",
       " 9164                   1        1  \n",
       " ...                  ...      ...  \n",
       " 9292                   4        3  \n",
       " 673                    5        2  \n",
       " 4144                   5        2  \n",
       " 3050                   1        4  \n",
       " 4851                   1        2  \n",
       " \n",
       " [3685 rows x 65 columns],\n",
       "          stars\n",
       " 5565      good\n",
       " 4768   average\n",
       " 8635      good\n",
       " 2245       bad\n",
       " 6839       bad\n",
       " ...        ...\n",
       " 4653      good\n",
       " 1552      good\n",
       " 1777       bad\n",
       " 11833  average\n",
       " 2807      good\n",
       " \n",
       " [8596 rows x 1 columns],\n",
       "          stars\n",
       " 7751       bad\n",
       " 11086      bad\n",
       " 7701   average\n",
       " 6173       bad\n",
       " 9164   average\n",
       " ...        ...\n",
       " 9292       bad\n",
       " 673       good\n",
       " 4144      good\n",
       " 3050       bad\n",
       " 4851       bad\n",
       " \n",
       " [3685 rows x 1 columns]]"
      ]
     },
     "execution_count": 5,
     "metadata": {},
     "output_type": "execute_result"
    }
   ],
   "source": [
    "splited = train_test_split(independetVariablesEncoded, dependentVariableStars, test_size=0.3) # 70% training and 30% test\n",
    "splited"
   ]
  },
  {
   "cell_type": "code",
   "execution_count": 6,
   "metadata": {
    "id": "9bZkoeDQmrob"
   },
   "outputs": [
    {
     "name": "stdout",
     "output_type": "stream",
     "text": [
      "Shape do dataframe com as variáveis independentes que serão usadas para treinar o modelo:\n",
      " (8596, 65)\n"
     ]
    }
   ],
   "source": [
    "independetVariablesEncodedTrain = splited[0]\n",
    "print('Shape do dataframe com as variáveis independentes que serão usadas para treinar o modelo:\\n',independetVariablesEncodedTrain.shape)\n"
   ]
  },
  {
   "cell_type": "code",
   "execution_count": 7,
   "metadata": {},
   "outputs": [
    {
     "name": "stdout",
     "output_type": "stream",
     "text": [
      "Shape do dataframe com as variáveis independentes que serão usadas para testar o modelo:\n",
      " (3685, 65)\n"
     ]
    }
   ],
   "source": [
    "independetVariablesEncodedTest = splited[1]\n",
    "print('Shape do dataframe com as variáveis independentes que serão usadas para testar o modelo:\\n',independetVariablesEncodedTest.shape)\n"
   ]
  },
  {
   "cell_type": "code",
   "execution_count": 8,
   "metadata": {},
   "outputs": [
    {
     "name": "stdout",
     "output_type": "stream",
     "text": [
      "Shape do dataframe com a variável dependentes que serão usadas para treinar o modelo:\n",
      " (8596, 1)\n"
     ]
    }
   ],
   "source": [
    "dependentVariableStarsTrain =  splited[2]\n",
    "print('Shape do dataframe com a variável dependentes que serão usadas para treinar o modelo:\\n',dependentVariableStarsTrain.shape)\n"
   ]
  },
  {
   "cell_type": "code",
   "execution_count": 9,
   "metadata": {},
   "outputs": [
    {
     "name": "stdout",
     "output_type": "stream",
     "text": [
      "Shape do dataframe com a variável dependentes que serão usadas para testar o modelo:\n",
      " (3685, 1)\n"
     ]
    }
   ],
   "source": [
    "dependentVariableStarsTest =  splited[3]\n",
    "print('Shape do dataframe com a variável dependentes que serão usadas para testar o modelo:\\n',dependentVariableStarsTest.shape)\n"
   ]
  },
  {
   "cell_type": "markdown",
   "metadata": {},
   "source": [
    "## Grid Search - Melhores Parâmetros"
   ]
  },
  {
   "cell_type": "code",
   "execution_count": 10,
   "metadata": {},
   "outputs": [
    {
     "name": "stderr",
     "output_type": "stream",
     "text": [
      "C:\\Users\\User\\AppData\\Local\\Temp\\ipykernel_11088\\2503278282.py:7: DataConversionWarning: A column-vector y was passed when a 1d array was expected. Please change the shape of y to (n_samples,), for example using ravel().\n",
      "  randonsForests.fit(independetVariablesEncodedTrain,dependentVariableStarsTrain)\n"
     ]
    },
    {
     "name": "stdout",
     "output_type": "stream",
     "text": [
      "Accuracy: 0.9715061058344641\n"
     ]
    }
   ],
   "source": [
    "tree_param = {'criterion':['gini','entropy'],'max_depth':[3,10,15,20,30,60,65,70,80,100,200,500]}\n",
    "\n",
    "grid = GridSearchCV(tree.DecisionTreeClassifier(random_state= 100), tree_param, cv=5)\n",
    "grid.fit(independetVariablesEncodedTrain,dependentVariableStarsTrain)\n",
    "\n",
    "randonsForests = RandomForestClassifier(n_estimators=1000, criterion=grid.best_params_['criterion'], max_depth=grid.best_params_['max_depth'])\n",
    "randonsForests.fit(independetVariablesEncodedTrain,dependentVariableStarsTrain)\n",
    "\n",
    "dependentVariableStarsPredicted = randonsForests.predict(independetVariablesEncodedTest)\n",
    "print(\"Accuracy:\",accuracy_score(dependentVariableStarsTest, dependentVariableStarsPredicted))"
   ]
  },
  {
   "cell_type": "code",
   "execution_count": 11,
   "metadata": {
    "colab": {
     "base_uri": "https://localhost:8080/",
     "height": 367
    },
    "id": "GSE0XrtJYxxs",
    "outputId": "44513a80-accf-4c07-c7b3-2a70963e318b"
   },
   "outputs": [
    {
     "data": {
      "text/plain": [
       "Text(0.5, 24.0, 'Classes Preditas')"
      ]
     },
     "execution_count": 11,
     "metadata": {},
     "output_type": "execute_result"
    },
    {
     "data": {
      "image/png": "[encoded data removed]",
      "text/plain": [
       "<Figure size 720x360 with 2 Axes>"
      ]
     },
     "metadata": {},
     "output_type": "display_data"
    }
   ],
   "source": [
    "confusion_matrix_random_forests = confusion_matrix(dependentVariableStarsTest, dependentVariableStarsPredicted)\n",
    "fig,ax = plt.subplots(1,1,figsize=(10,5))\n",
    "sns.heatmap(confusion_matrix_random_forests, annot=True, xticklabels = [\"Average\",\"Bad\",\"Good\"], yticklabels = [\"Average\",\"Bad\",\"Good\"],fmt='.4g',ax=ax)\n",
    "plt.ylabel('Classes Verdadeiras')\n",
    "plt.xlabel('Classes Preditas')"
   ]
  },
  {
   "cell_type": "code",
   "execution_count": 12,
   "metadata": {
    "colab": {
     "base_uri": "https://localhost:8080/",
     "height": 516
    },
    "id": "lV_Qf1JvZKt_",
    "outputId": "7b8528cd-664a-485f-cd79-f7aa686781ac"
   },
   "outputs": [
    {
     "name": "stderr",
     "output_type": "stream",
     "text": [
      "c:\\Users\\User\\AppData\\Local\\Programs\\Python\\Python39\\lib\\site-packages\\pandas\\util\\_decorators.py:311: SettingWithCopyWarning: \n",
      "A value is trying to be set on a copy of a slice from a DataFrame\n",
      "\n",
      "See the caveats in the documentation: https://pandas.pydata.org/pandas-docs/stable/user_guide/indexing.html#returning-a-view-versus-a-copy\n",
      "  return func(*args, **kwargs)\n"
     ]
    },
    {
     "data": {
      "text/html": [
       "<div>\n",
       "<style scoped>\n",
       "    .dataframe tbody tr th:only-of-type {\n",
       "        vertical-align: middle;\n",
       "    }\n",
       "\n",
       "    .dataframe tbody tr th {\n",
       "        vertical-align: top;\n",
       "    }\n",
       "\n",
       "    .dataframe thead th {\n",
       "        text-align: right;\n",
       "    }\n",
       "</style>\n",
       "<table border=\"1\" class=\"dataframe\">\n",
       "  <thead>\n",
       "    <tr style=\"text-align: right;\">\n",
       "      <th></th>\n",
       "      <th>importance</th>\n",
       "    </tr>\n",
       "  </thead>\n",
       "  <tbody>\n",
       "    <tr>\n",
       "      <th>TruckType_SemiTrailler</th>\n",
       "      <td>0.021755</td>\n",
       "    </tr>\n",
       "    <tr>\n",
       "      <th>TruckType_Truck</th>\n",
       "      <td>0.021835</td>\n",
       "    </tr>\n",
       "    <tr>\n",
       "      <th>TruckType2_MiniVan</th>\n",
       "      <td>0.022194</td>\n",
       "    </tr>\n",
       "    <tr>\n",
       "      <th>Origin_F1</th>\n",
       "      <td>0.026428</td>\n",
       "    </tr>\n",
       "    <tr>\n",
       "      <th>TruckType2_CityDeliveryTruck</th>\n",
       "      <td>0.027148</td>\n",
       "    </tr>\n",
       "    <tr>\n",
       "      <th>Origin_F4</th>\n",
       "      <td>0.027316</td>\n",
       "    </tr>\n",
       "    <tr>\n",
       "      <th>Origin_F2</th>\n",
       "      <td>0.027406</td>\n",
       "    </tr>\n",
       "    <tr>\n",
       "      <th>Origin_F3</th>\n",
       "      <td>0.027938</td>\n",
       "    </tr>\n",
       "    <tr>\n",
       "      <th>TruckType2_Van</th>\n",
       "      <td>0.029320</td>\n",
       "    </tr>\n",
       "    <tr>\n",
       "      <th>FloorCD</th>\n",
       "      <td>0.090384</td>\n",
       "    </tr>\n",
       "  </tbody>\n",
       "</table>\n",
       "</div>"
      ],
      "text/plain": [
       "                              importance\n",
       "TruckType_SemiTrailler          0.021755\n",
       "TruckType_Truck                 0.021835\n",
       "TruckType2_MiniVan              0.022194\n",
       "Origin_F1                       0.026428\n",
       "TruckType2_CityDeliveryTruck    0.027148\n",
       "Origin_F4                       0.027316\n",
       "Origin_F2                       0.027406\n",
       "Origin_F3                       0.027938\n",
       "TruckType2_Van                  0.029320\n",
       "FloorCD                         0.090384"
      ]
     },
     "execution_count": 12,
     "metadata": {},
     "output_type": "execute_result"
    }
   ],
   "source": [
    "# Importância de cada feature\n",
    "df_importance = pd.DataFrame({'variable':independetVariablesEncodedTrain.columns,'importance':randonsForests.feature_importances_ })\n",
    "\n",
    "conditions = df_importance['importance'] > 0.02\n",
    "\n",
    "# Selecionar as mais importantes para mostrar\n",
    "VariableImportance = df_importance[conditions]\n",
    "\n",
    "VariableImportance.set_index(keys='variable',inplace=True)\n",
    "\n",
    "VariableImportance.index.name = None\n",
    "VariableImportance.columns.name = None\n",
    "\n",
    "VariableImportance.sort_values(by='importance',inplace=True,ascending=True)\n",
    "\n",
    "VariableImportance.head(10)"
   ]
  },
  {
   "cell_type": "code",
   "execution_count": 13,
   "metadata": {},
   "outputs": [
    {
     "data": {
      "text/plain": [
       "Text(0, 0.5, 'Variables')"
      ]
     },
     "execution_count": 13,
     "metadata": {},
     "output_type": "execute_result"
    },
    {
     "data": {
      "image/png": "[encoded data removed]",
      "text/plain": [
       "<Figure size 720x576 with 1 Axes>"
      ]
     },
     "metadata": {},
     "output_type": "display_data"
    }
   ],
   "source": [
    "fig, ax = plt.subplots(figsize=(10,8))\n",
    "VariableImportance.plot(kind='barh',ax=ax)\n",
    "ax.set_title('Variable by Importance')\n",
    "ax.set_xlabel('Importance')\n",
    "ax.set_ylabel('Variables')"
   ]
  },
  {
   "cell_type": "markdown",
   "metadata": {},
   "source": [
    "## Aplicando o Modelo na Base Completa"
   ]
  },
  {
   "cell_type": "code",
   "execution_count": 14,
   "metadata": {},
   "outputs": [
    {
     "data": {
      "text/html": [
       "<div>\n",
       "<style scoped>\n",
       "    .dataframe tbody tr th:only-of-type {\n",
       "        vertical-align: middle;\n",
       "    }\n",
       "\n",
       "    .dataframe tbody tr th {\n",
       "        vertical-align: top;\n",
       "    }\n",
       "\n",
       "    .dataframe thead th {\n",
       "        text-align: right;\n",
       "    }\n",
       "</style>\n",
       "<table border=\"1\" class=\"dataframe\">\n",
       "  <thead>\n",
       "    <tr style=\"text-align: right;\">\n",
       "      <th></th>\n",
       "      <th>stars</th>\n",
       "    </tr>\n",
       "  </thead>\n",
       "  <tbody>\n",
       "    <tr>\n",
       "      <th>0</th>\n",
       "      <td>good</td>\n",
       "    </tr>\n",
       "    <tr>\n",
       "      <th>1</th>\n",
       "      <td>bad</td>\n",
       "    </tr>\n",
       "    <tr>\n",
       "      <th>2</th>\n",
       "      <td>good</td>\n",
       "    </tr>\n",
       "    <tr>\n",
       "      <th>3</th>\n",
       "      <td>bad</td>\n",
       "    </tr>\n",
       "    <tr>\n",
       "      <th>4</th>\n",
       "      <td>good</td>\n",
       "    </tr>\n",
       "  </tbody>\n",
       "</table>\n",
       "</div>"
      ],
      "text/plain": [
       "  stars\n",
       "0  good\n",
       "1   bad\n",
       "2  good\n",
       "3   bad\n",
       "4  good"
      ]
     },
     "execution_count": 14,
     "metadata": {},
     "output_type": "execute_result"
    }
   ],
   "source": [
    "dependentVariableStars.head()"
   ]
  },
  {
   "cell_type": "code",
   "execution_count": 15,
   "metadata": {},
   "outputs": [
    {
     "data": {
      "text/plain": [
       "(12281, 1)"
      ]
     },
     "execution_count": 15,
     "metadata": {},
     "output_type": "execute_result"
    }
   ],
   "source": [
    "dependentVariableStars.shape"
   ]
  },
  {
   "cell_type": "code",
   "execution_count": 19,
   "metadata": {},
   "outputs": [
    {
     "data": {
      "text/html": [
       "<div>\n",
       "<style scoped>\n",
       "    .dataframe tbody tr th:only-of-type {\n",
       "        vertical-align: middle;\n",
       "    }\n",
       "\n",
       "    .dataframe tbody tr th {\n",
       "        vertical-align: top;\n",
       "    }\n",
       "\n",
       "    .dataframe thead th {\n",
       "        text-align: right;\n",
       "    }\n",
       "</style>\n",
       "<table border=\"1\" class=\"dataframe\">\n",
       "  <thead>\n",
       "    <tr style=\"text-align: right;\">\n",
       "      <th></th>\n",
       "      <th>stars</th>\n",
       "      <th>freq</th>\n",
       "    </tr>\n",
       "  </thead>\n",
       "  <tbody>\n",
       "    <tr>\n",
       "      <th>0</th>\n",
       "      <td>average</td>\n",
       "      <td>2769</td>\n",
       "    </tr>\n",
       "    <tr>\n",
       "      <th>1</th>\n",
       "      <td>bad</td>\n",
       "      <td>4686</td>\n",
       "    </tr>\n",
       "    <tr>\n",
       "      <th>2</th>\n",
       "      <td>good</td>\n",
       "      <td>4826</td>\n",
       "    </tr>\n",
       "  </tbody>\n",
       "</table>\n",
       "</div>"
      ],
      "text/plain": [
       "     stars  freq\n",
       "0  average  2769\n",
       "1      bad  4686\n",
       "2     good  4826"
      ]
     },
     "execution_count": 19,
     "metadata": {},
     "output_type": "execute_result"
    }
   ],
   "source": [
    "dfStarsFrequency = dependentVariableStars[\"stars\"].value_counts().to_frame()\n",
    "dfStarsFrequency.sort_index(inplace= True)\n",
    "dfStarsFrequency.reset_index(inplace=True)\n",
    "dfStarsFrequency.columns=['stars','freq']\n",
    "dfStarsFrequency.head(10)"
   ]
  },
  {
   "cell_type": "code",
   "execution_count": 25,
   "metadata": {},
   "outputs": [
    {
     "data": {
      "text/plain": [
       "<AxesSubplot: title={'center': 'Stars by Freq'}, ylabel='stars'>"
      ]
     },
     "execution_count": 25,
     "metadata": {},
     "output_type": "execute_result"
    },
    {
     "data": {
      "image/png": "[encoded data removed]",
      "text/plain": [
       "<Figure size 720x576 with 1 Axes>"
      ]
     },
     "metadata": {},
     "output_type": "display_data"
    }
   ],
   "source": [
    "dfStarsFrequency.plot(kind='barh',x='stars',y= 'freq',figsize=(10,8),title='Stars by Freq')"
   ]
  },
  {
   "cell_type": "code",
   "execution_count": 26,
   "metadata": {},
   "outputs": [
    {
     "data": {
      "text/plain": [
       "(12281,)"
      ]
     },
     "execution_count": 26,
     "metadata": {},
     "output_type": "execute_result"
    }
   ],
   "source": [
    "dependentVariableStarsAllPredicted = randonsForests.predict(independetVariablesEncoded)\n",
    "dependentVariableStarsAllPredicted.shape"
   ]
  },
  {
   "cell_type": "code",
   "execution_count": 27,
   "metadata": {},
   "outputs": [],
   "source": [
    "confusion_matrix_all = confusion_matrix(dependentVariableStars, dependentVariableStarsAllPredicted)"
   ]
  },
  {
   "cell_type": "code",
   "execution_count": 28,
   "metadata": {},
   "outputs": [
    {
     "data": {
      "text/plain": [
       "Text(0.5, 24.0, 'Predicted label')"
      ]
     },
     "execution_count": 28,
     "metadata": {},
     "output_type": "execute_result"
    },
    {
     "data": {
      "image/png": "[encoded data removed]",
      "text/plain": [
       "<Figure size 720x360 with 2 Axes>"
      ]
     },
     "metadata": {},
     "output_type": "display_data"
    }
   ],
   "source": [
    "fig,ax = plt.subplots(1,1,figsize=(10,5))\n",
    "sns.heatmap(confusion_matrix_all, annot=True, xticklabels = [\"Average\",\"Bad\",\"Good\"], yticklabels = [\"Average\",\"Bad\",\"Good\"], fmt='.4g')\n",
    "plt.ylabel('True label')\n",
    "plt.xlabel('Predicted label')"
   ]
  },
  {
   "cell_type": "code",
   "execution_count": 29,
   "metadata": {},
   "outputs": [],
   "source": [
    "starsData['predicao_correta'] = (dependentVariableStars['stars'] == dependentVariableStarsAllPredicted)\n",
    "starsData['predicao_correta'] = starsData['predicao_correta'].apply(lambda x : 'Correto' if x==True else 'Incorreto' )"
   ]
  },
  {
   "cell_type": "code",
   "execution_count": 30,
   "metadata": {},
   "outputs": [
    {
     "data": {
      "text/html": [
       "<div>\n",
       "<style scoped>\n",
       "    .dataframe tbody tr th:only-of-type {\n",
       "        vertical-align: middle;\n",
       "    }\n",
       "\n",
       "    .dataframe tbody tr th {\n",
       "        vertical-align: top;\n",
       "    }\n",
       "\n",
       "    .dataframe thead th {\n",
       "        text-align: right;\n",
       "    }\n",
       "</style>\n",
       "<table border=\"1\" class=\"dataframe\">\n",
       "  <thead>\n",
       "    <tr style=\"text-align: right;\">\n",
       "      <th></th>\n",
       "      <th>stars</th>\n",
       "      <th>Product</th>\n",
       "      <th>Origin</th>\n",
       "      <th>CD_name</th>\n",
       "      <th>Dest</th>\n",
       "      <th>DistanceTravelled_Fac_CD</th>\n",
       "      <th>TruckType</th>\n",
       "      <th>DriverF_CD</th>\n",
       "      <th>DaysStocked</th>\n",
       "      <th>FloorCD</th>\n",
       "      <th>DistanceTravelled_CD_Client</th>\n",
       "      <th>TruckType2</th>\n",
       "      <th>DriverCD_C</th>\n",
       "      <th>RoutDeliveryOrder</th>\n",
       "      <th>predicao_correta</th>\n",
       "    </tr>\n",
       "  </thead>\n",
       "  <tbody>\n",
       "    <tr>\n",
       "      <th>0</th>\n",
       "      <td>4.0</td>\n",
       "      <td>P6</td>\n",
       "      <td>F4</td>\n",
       "      <td>CD2</td>\n",
       "      <td>C203</td>\n",
       "      <td>162</td>\n",
       "      <td>SemiTrailler</td>\n",
       "      <td>D05</td>\n",
       "      <td>37</td>\n",
       "      <td>2</td>\n",
       "      <td>59.7</td>\n",
       "      <td>CityDeliveryTruck</td>\n",
       "      <td>D2_2</td>\n",
       "      <td>2</td>\n",
       "      <td>Correto</td>\n",
       "    </tr>\n",
       "    <tr>\n",
       "      <th>1</th>\n",
       "      <td>1.0</td>\n",
       "      <td>P2</td>\n",
       "      <td>F3</td>\n",
       "      <td>CD2</td>\n",
       "      <td>C202</td>\n",
       "      <td>162</td>\n",
       "      <td>SemiTrailler</td>\n",
       "      <td>D06</td>\n",
       "      <td>5</td>\n",
       "      <td>0</td>\n",
       "      <td>94.2</td>\n",
       "      <td>MiniVan</td>\n",
       "      <td>D2_4</td>\n",
       "      <td>3</td>\n",
       "      <td>Correto</td>\n",
       "    </tr>\n",
       "    <tr>\n",
       "      <th>2</th>\n",
       "      <td>5.0</td>\n",
       "      <td>P6</td>\n",
       "      <td>F3</td>\n",
       "      <td>CD2</td>\n",
       "      <td>C202</td>\n",
       "      <td>162</td>\n",
       "      <td>SemiTrailler</td>\n",
       "      <td>D04</td>\n",
       "      <td>27</td>\n",
       "      <td>0</td>\n",
       "      <td>30.9</td>\n",
       "      <td>Van</td>\n",
       "      <td>D2_7</td>\n",
       "      <td>1</td>\n",
       "      <td>Correto</td>\n",
       "    </tr>\n",
       "    <tr>\n",
       "      <th>3</th>\n",
       "      <td>2.0</td>\n",
       "      <td>P9</td>\n",
       "      <td>F3</td>\n",
       "      <td>CD2</td>\n",
       "      <td>C202</td>\n",
       "      <td>162</td>\n",
       "      <td>SemiTrailler</td>\n",
       "      <td>D03</td>\n",
       "      <td>14</td>\n",
       "      <td>0</td>\n",
       "      <td>89.7</td>\n",
       "      <td>Van</td>\n",
       "      <td>D2_7</td>\n",
       "      <td>3</td>\n",
       "      <td>Correto</td>\n",
       "    </tr>\n",
       "    <tr>\n",
       "      <th>4</th>\n",
       "      <td>5.0</td>\n",
       "      <td>P9</td>\n",
       "      <td>F2</td>\n",
       "      <td>CD3</td>\n",
       "      <td>C305</td>\n",
       "      <td>58</td>\n",
       "      <td>Truck</td>\n",
       "      <td>D03</td>\n",
       "      <td>30</td>\n",
       "      <td>1</td>\n",
       "      <td>171.7</td>\n",
       "      <td>Van</td>\n",
       "      <td>D3_2</td>\n",
       "      <td>6</td>\n",
       "      <td>Correto</td>\n",
       "    </tr>\n",
       "  </tbody>\n",
       "</table>\n",
       "</div>"
      ],
      "text/plain": [
       "   stars Product Origin CD_name  Dest  DistanceTravelled_Fac_CD     TruckType  \\\n",
       "0    4.0      P6     F4     CD2  C203                       162  SemiTrailler   \n",
       "1    1.0      P2     F3     CD2  C202                       162  SemiTrailler   \n",
       "2    5.0      P6     F3     CD2  C202                       162  SemiTrailler   \n",
       "3    2.0      P9     F3     CD2  C202                       162  SemiTrailler   \n",
       "4    5.0      P9     F2     CD3  C305                        58         Truck   \n",
       "\n",
       "  DriverF_CD  DaysStocked  FloorCD  DistanceTravelled_CD_Client  \\\n",
       "0        D05           37        2                         59.7   \n",
       "1        D06            5        0                         94.2   \n",
       "2        D04           27        0                         30.9   \n",
       "3        D03           14        0                         89.7   \n",
       "4        D03           30        1                        171.7   \n",
       "\n",
       "          TruckType2 DriverCD_C  RoutDeliveryOrder predicao_correta  \n",
       "0  CityDeliveryTruck       D2_2                  2          Correto  \n",
       "1            MiniVan       D2_4                  3          Correto  \n",
       "2                Van       D2_7                  1          Correto  \n",
       "3                Van       D2_7                  3          Correto  \n",
       "4                Van       D3_2                  6          Correto  "
      ]
     },
     "execution_count": 30,
     "metadata": {},
     "output_type": "execute_result"
    }
   ],
   "source": [
    "starsData.head()"
   ]
  },
  {
   "cell_type": "code",
   "execution_count": 31,
   "metadata": {},
   "outputs": [
    {
     "data": {
      "text/plain": [
       "Correto      12103\n",
       "Incorreto      178\n",
       "Name: predicao_correta, dtype: int64"
      ]
     },
     "execution_count": 31,
     "metadata": {},
     "output_type": "execute_result"
    }
   ],
   "source": [
    "data_grouped = starsData['predicao_correta'].value_counts()\n",
    "data_grouped.head()"
   ]
  },
  {
   "cell_type": "code",
   "execution_count": 32,
   "metadata": {},
   "outputs": [
    {
     "data": {
      "text/plain": [
       "<AxesSubplot: title={'center': 'Predições Corretas'}, ylabel='predicao_correta'>"
      ]
     },
     "execution_count": 32,
     "metadata": {},
     "output_type": "execute_result"
    },
    {
     "data": {
      "image/png": "[encoded data removed]",
      "text/plain": [
       "<Figure size 576x432 with 1 Axes>"
      ]
     },
     "metadata": {},
     "output_type": "display_data"
    }
   ],
   "source": [
    "def format_label(value):\n",
    "    return f'({round(value*sum(data_grouped)/100)})'\n",
    "\n",
    "data_grouped.plot(\n",
    "                    kind='pie'\n",
    "                    ,title= 'Predições Corretas'\n",
    "                    ,figsize=(8,6)\n",
    "                    ,autopct=format_label\n",
    "                    ,pctdistance=1.1\n",
    "                    ,startangle=90\n",
    "                    ,shadow=True       \n",
    "                    ,legend=True\n",
    "                    ,labels = None\n",
    "                )"
   ]
  },
  {
   "cell_type": "markdown",
   "metadata": {},
   "source": [
    "# Referências"
   ]
  },
  {
   "cell_type": "markdown",
   "metadata": {
    "id": "3IPqosiQu52z"
   },
   "source": [
    "[1] https://scikit-learn.org/stable/modules/generated/sklearn.model_selection.GridSearchCV.html\n",
    "\n",
    "[2] https://scikit-learn.org/stable/modules/cross_validation.html\n",
    "\n",
    "[3] https://scikit-learn.org/stable/modules/generated/sklearn.tree.DecisionTreeClassifier.html\n",
    "\n",
    "[4] https://www.unine.ch/files/live/sites/imi/files/shared/documents/papers/Gini_index_fulltext.pdf\n",
    "\n",
    "[5] https://scikit-learn.org/stable/modules/generated/sklearn.ensemble.RandomForestClassifier.html\n",
    "\n",
    "Desenvolvido por <a href=\"https://www.linkedin.com/in/eduardopecora/\" target=\"_blank\">Eduardo Pecora</a>\n",
    "\n",
    "## Log de modificações\n",
    "\n",
    "| Data | Versão | Modificado por | Descrição |\n",
    "| ----------------- | ------- | ---------- | ---------------------------------- |\n",
    "| 03-10-2021       | 1.0     | Eduardo Pecora    | Criação               |\n",
    "\n",
    "<hr>\n",
    "\n"
   ]
  }
 ],
 "metadata": {
  "colab": {
   "collapsed_sections": [
    "G1w1UAvzCjle"
   ],
   "name": "DS07_2_Tree.ipynb",
   "provenance": []
  },
  "kernelspec": {
   "display_name": "Python 3.9.7 64-bit",
   "language": "python",
   "name": "python3"
  },
  "language_info": {
   "codemirror_mode": {
    "name": "ipython",
    "version": 3
   },
   "file_extension": ".py",
   "mimetype": "text/x-python",
   "name": "python",
   "nbconvert_exporter": "python",
   "pygments_lexer": "ipython3",
   "version": "3.9.7"
  },
  "vscode": {
   "interpreter": {
    "hash": "cf92aa13fedf815d5c8dd192b8d835913fde3e8bc926b2a0ad6cc74ef2ba3ca2"
   }
  }
 },
 "nbformat": 4,
 "nbformat_minor": 1
}
