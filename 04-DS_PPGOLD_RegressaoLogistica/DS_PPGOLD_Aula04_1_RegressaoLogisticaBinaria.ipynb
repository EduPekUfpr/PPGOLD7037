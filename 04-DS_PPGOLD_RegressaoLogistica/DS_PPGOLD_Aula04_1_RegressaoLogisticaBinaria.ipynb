{
 "cells": [
  {
   "cell_type": "markdown",
   "metadata": {},
   "source": [
    "<p style =\"text-align:center\">\n",
    "    <img src=\"http://epecora.com.br/DataFiles/PPGOLD_logo.png\" width=\"300\" alt=\"PPGOLD Data Science: INTRO\"  />\n",
    "</p>\n",
    "\n",
    "# Aula 04-1 de Data Science"
   ]
  },
  {
   "cell_type": "markdown",
   "metadata": {},
   "source": [
    "# Regressão Logística Binária\n",
    "Tempo estimado: **60** minutos"
   ]
  },
  {
   "cell_type": "markdown",
   "metadata": {},
   "source": [
    "## Bibliotecas"
   ]
  },
  {
   "cell_type": "code",
   "execution_count": 1,
   "metadata": {},
   "outputs": [],
   "source": [
    "import pandas as pd\n",
    "from sklearn.linear_model import LogisticRegression\n",
    "from sklearn.metrics import precision_score, recall_score, f1_score, classification_report,accuracy_score, confusion_matrix,roc_curve, roc_auc_score,auc\n",
    "from sklearn.model_selection import train_test_split\n",
    "import seaborn as sns\n",
    "import matplotlib.pyplot as plt\n",
    "import numpy as np\n",
    "np.set_printoptions(precision=None, suppress=True)"
   ]
  },
  {
   "cell_type": "markdown",
   "metadata": {},
   "source": [
    "## Obtendo Dados"
   ]
  },
  {
   "cell_type": "code",
   "execution_count": 2,
   "metadata": {},
   "outputs": [
    {
     "data": {
      "text/html": [
       "<div>\n",
       "<style scoped>\n",
       "    .dataframe tbody tr th:only-of-type {\n",
       "        vertical-align: middle;\n",
       "    }\n",
       "\n",
       "    .dataframe tbody tr th {\n",
       "        vertical-align: top;\n",
       "    }\n",
       "\n",
       "    .dataframe thead th {\n",
       "        text-align: right;\n",
       "    }\n",
       "</style>\n",
       "<table border=\"1\" class=\"dataframe\">\n",
       "  <thead>\n",
       "    <tr style=\"text-align: right;\">\n",
       "      <th></th>\n",
       "      <th>atrasado</th>\n",
       "      <th>distancia_km</th>\n",
       "      <th>quantidade_semaforos</th>\n",
       "      <th>periodo</th>\n",
       "      <th>perfil_ao_volante1</th>\n",
       "      <th>perfil_ao_volante2</th>\n",
       "    </tr>\n",
       "  </thead>\n",
       "  <tbody>\n",
       "    <tr>\n",
       "      <th>Gabriela</th>\n",
       "      <td>0</td>\n",
       "      <td>12.5</td>\n",
       "      <td>7</td>\n",
       "      <td>1</td>\n",
       "      <td>0</td>\n",
       "      <td>0</td>\n",
       "    </tr>\n",
       "    <tr>\n",
       "      <th>Patrícia</th>\n",
       "      <td>0</td>\n",
       "      <td>13.3</td>\n",
       "      <td>10</td>\n",
       "      <td>1</td>\n",
       "      <td>0</td>\n",
       "      <td>0</td>\n",
       "    </tr>\n",
       "    <tr>\n",
       "      <th>Gustavo</th>\n",
       "      <td>0</td>\n",
       "      <td>13.4</td>\n",
       "      <td>8</td>\n",
       "      <td>1</td>\n",
       "      <td>1</td>\n",
       "      <td>0</td>\n",
       "    </tr>\n",
       "    <tr>\n",
       "      <th>Letícia</th>\n",
       "      <td>0</td>\n",
       "      <td>23.5</td>\n",
       "      <td>7</td>\n",
       "      <td>1</td>\n",
       "      <td>0</td>\n",
       "      <td>0</td>\n",
       "    </tr>\n",
       "    <tr>\n",
       "      <th>Luiz Ovídio</th>\n",
       "      <td>0</td>\n",
       "      <td>9.5</td>\n",
       "      <td>8</td>\n",
       "      <td>1</td>\n",
       "      <td>0</td>\n",
       "      <td>0</td>\n",
       "    </tr>\n",
       "  </tbody>\n",
       "</table>\n",
       "</div>"
      ],
      "text/plain": [
       "             atrasado  distancia_km  quantidade_semaforos  periodo  \\\n",
       "Gabriela            0          12.5                     7        1   \n",
       "Patrícia            0          13.3                    10        1   \n",
       "Gustavo             0          13.4                     8        1   \n",
       "Letícia             0          23.5                     7        1   \n",
       "Luiz Ovídio         0           9.5                     8        1   \n",
       "\n",
       "             perfil_ao_volante1  perfil_ao_volante2  \n",
       "Gabriela                      0                   0  \n",
       "Patrícia                      0                   0  \n",
       "Gustavo                       1                   0  \n",
       "Letícia                       0                   0  \n",
       "Luiz Ovídio                   0                   0  "
      ]
     },
     "execution_count": 2,
     "metadata": {},
     "output_type": "execute_result"
    }
   ],
   "source": [
    "caminho  = 'https://raw.githubusercontent.com/EduPekUfpr/PPGOLD7037/main/Data/Atrasado.csv'\n",
    "df_atrasados = pd.read_csv(caminho)\n",
    "df_atrasados.set_index(keys='estudante',inplace=True)\n",
    "df_atrasados.index.name = None\n",
    "df_atrasados.head()"
   ]
  },
  {
   "cell_type": "code",
   "execution_count": 3,
   "metadata": {},
   "outputs": [
    {
     "data": {
      "text/html": [
       "<div>\n",
       "<style scoped>\n",
       "    .dataframe tbody tr th:only-of-type {\n",
       "        vertical-align: middle;\n",
       "    }\n",
       "\n",
       "    .dataframe tbody tr th {\n",
       "        vertical-align: top;\n",
       "    }\n",
       "\n",
       "    .dataframe thead th {\n",
       "        text-align: right;\n",
       "    }\n",
       "</style>\n",
       "<table border=\"1\" class=\"dataframe\">\n",
       "  <thead>\n",
       "    <tr style=\"text-align: right;\">\n",
       "      <th></th>\n",
       "      <th>distancia_km</th>\n",
       "      <th>quantidade_semaforos</th>\n",
       "      <th>periodo</th>\n",
       "      <th>perfil_ao_volante1</th>\n",
       "      <th>perfil_ao_volante2</th>\n",
       "    </tr>\n",
       "  </thead>\n",
       "  <tbody>\n",
       "    <tr>\n",
       "      <th>Gabriela</th>\n",
       "      <td>12.5</td>\n",
       "      <td>7</td>\n",
       "      <td>1</td>\n",
       "      <td>0</td>\n",
       "      <td>0</td>\n",
       "    </tr>\n",
       "    <tr>\n",
       "      <th>Patrícia</th>\n",
       "      <td>13.3</td>\n",
       "      <td>10</td>\n",
       "      <td>1</td>\n",
       "      <td>0</td>\n",
       "      <td>0</td>\n",
       "    </tr>\n",
       "    <tr>\n",
       "      <th>Gustavo</th>\n",
       "      <td>13.4</td>\n",
       "      <td>8</td>\n",
       "      <td>1</td>\n",
       "      <td>1</td>\n",
       "      <td>0</td>\n",
       "    </tr>\n",
       "    <tr>\n",
       "      <th>Letícia</th>\n",
       "      <td>23.5</td>\n",
       "      <td>7</td>\n",
       "      <td>1</td>\n",
       "      <td>0</td>\n",
       "      <td>0</td>\n",
       "    </tr>\n",
       "    <tr>\n",
       "      <th>Luiz Ovídio</th>\n",
       "      <td>9.5</td>\n",
       "      <td>8</td>\n",
       "      <td>1</td>\n",
       "      <td>0</td>\n",
       "      <td>0</td>\n",
       "    </tr>\n",
       "  </tbody>\n",
       "</table>\n",
       "</div>"
      ],
      "text/plain": [
       "             distancia_km  quantidade_semaforos  periodo  perfil_ao_volante1  \\\n",
       "Gabriela             12.5                     7        1                   0   \n",
       "Patrícia             13.3                    10        1                   0   \n",
       "Gustavo              13.4                     8        1                   1   \n",
       "Letícia              23.5                     7        1                   0   \n",
       "Luiz Ovídio           9.5                     8        1                   0   \n",
       "\n",
       "             perfil_ao_volante2  \n",
       "Gabriela                      0  \n",
       "Patrícia                      0  \n",
       "Gustavo                       0  \n",
       "Letícia                       0  \n",
       "Luiz Ovídio                   0  "
      ]
     },
     "execution_count": 3,
     "metadata": {},
     "output_type": "execute_result"
    }
   ],
   "source": [
    "variavelDependente = df_atrasados['atrasado']\n",
    "variaveisIndependentes = df_atrasados.drop(labels='atrasado',axis='columns')\n",
    "variaveisIndependentes.head()"
   ]
  },
  {
   "cell_type": "markdown",
   "metadata": {},
   "source": [
    "## Regressão Logística Binária"
   ]
  },
  {
   "cell_type": "markdown",
   "metadata": {},
   "source": [
    "### Revisando"
   ]
  },
  {
   "cell_type": "markdown",
   "metadata": {},
   "source": [
    "* **Probabilidade de ocorrência**\n",
    "\n",
    "$$P(y=1|X) = \\frac{1}{1+\\exp^{-(\\alpha_0 + \\beta_{1.X_1i} + \\beta_{2.X_2i} + ... + \\beta_{kX_ki})}}$$\n",
    "* Onde:\n",
    "    * $P(y=1|X)$: é a probabilidade condicional de y=1 dado os valores das variáveis explicativas(X)\n",
    "    * $\\beta_{1},\\beta_{2}, ..., \\beta_{k}$ : são os coeficientes da regressão logística, que representam o efeito que cada variável independente tem sobre a variável dependente.\n",
    "    * $X_1, ..., X_2, ...,X_k$: são os valores das variáveis independentes.\n",
    "\n",
    "* **Probabilidade de não ocorrência**\n",
    "\n",
    "$$P(y=0|X) = \\frac{1}{1+\\exp^{(\\alpha_0 + \\beta_{1.X_1i} + \\beta_{2.X_2i} + ... + \\beta_{kX_ki})}}$$\n",
    "\n",
    "* Onde:\n",
    "    * $P(y=0|X)$: é a probabilidade condicional de y=0 dado os valores das variáveis explicativas(X)\n",
    "    * $\\beta_{1},\\beta_{2}, ..., \\beta_{k}$ : são os coeficientes da regressão logística, que representam o efeito que cada variável independente tem sobre a variável dependente.\n",
    "    * $X_1, ..., X_2, ...,X_k$: são os valores das variáveis independentes.\n",
    "    \n"
   ]
  },
  {
   "cell_type": "code",
   "execution_count": 4,
   "metadata": {},
   "outputs": [],
   "source": [
    "model = LogisticRegression()\n",
    "model.fit(variaveisIndependentes,variavelDependente)\n",
    "probabilidades = model.predict_proba(variaveisIndependentes)"
   ]
  },
  {
   "cell_type": "code",
   "execution_count": 5,
   "metadata": {},
   "outputs": [
    {
     "name": "stdout",
     "output_type": "stream",
     "text": [
      "[-6.46680701 -1.69955837 -3.96213042 -4.7584274  -5.38506111 -1.66849692\n",
      " -1.66849692 -1.37341317 -1.48212824 -1.48212824 -1.63743548 -2.05676502\n",
      " -0.90749146  0.30813506 -2.05676502 -5.72722817 -0.41911392 -2.02570357\n",
      " -1.74615054 -8.09212825  0.04680779 -3.4491254  -1.08422532 -7.25619065\n",
      "  0.28024803  1.10337639  1.51681004  0.55980106 -0.92891808  0.3268402\n",
      "  0.75580457  0.9170077   1.76530162  0.24918658 -1.76168127 -1.74615054\n",
      " -1.90145778 -0.04317569 -1.90145778 -1.96358068 -1.85486561  4.24481266\n",
      "  2.96706324  0.31083009  2.01651468  2.23122333  1.60999438  1.60999438\n",
      "  3.17048299 -0.89785663 -1.20257521  0.09387934  4.5093261   1.06641905\n",
      "  1.92060885  1.41399087  0.79276191  2.74102748  2.41808315  1.92060885\n",
      "  1.60999438  5.01594409  0.63745468  0.79276191  1.87450782  0.60639323\n",
      "  2.84704752  2.27510577  2.02981506  1.65387682  3.62898847  1.10337639\n",
      "  2.69174028  2.07591609  1.57893293  2.8855252   1.89003854  0.98336067\n",
      "  1.92060885  1.59495479 11.00520628  2.53912807  1.52963103  1.26560872\n",
      "  1.06641905  1.14407267  2.21618374  0.48214744  0.3268402  12.5528739\n",
      "  1.49856958  0.99148691  1.92060885  1.41399087  8.587327    2.19052705\n",
      "  0.83345819  0.74027385 -0.38805248  1.03316545]\n"
     ]
    }
   ],
   "source": [
    "dec_funcion = model.decision_function(variaveisIndependentes)\n",
    "print(dec_funcion)"
   ]
  },
  {
   "cell_type": "code",
   "execution_count": 6,
   "metadata": {},
   "outputs": [
    {
     "data": {
      "text/html": [
       "<div>\n",
       "<style scoped>\n",
       "    .dataframe tbody tr th:only-of-type {\n",
       "        vertical-align: middle;\n",
       "    }\n",
       "\n",
       "    .dataframe tbody tr th {\n",
       "        vertical-align: top;\n",
       "    }\n",
       "\n",
       "    .dataframe thead th {\n",
       "        text-align: right;\n",
       "    }\n",
       "</style>\n",
       "<table border=\"1\" class=\"dataframe\">\n",
       "  <thead>\n",
       "    <tr style=\"text-align: right;\">\n",
       "      <th></th>\n",
       "      <th>nao_ocorrencia</th>\n",
       "      <th>ocorrencia</th>\n",
       "      <th>atrasado</th>\n",
       "    </tr>\n",
       "  </thead>\n",
       "  <tbody>\n",
       "    <tr>\n",
       "      <th>Gabriela</th>\n",
       "      <td>0.998448</td>\n",
       "      <td>0.001552</td>\n",
       "      <td>0</td>\n",
       "    </tr>\n",
       "    <tr>\n",
       "      <th>Patrícia</th>\n",
       "      <td>0.845477</td>\n",
       "      <td>0.154523</td>\n",
       "      <td>0</td>\n",
       "    </tr>\n",
       "    <tr>\n",
       "      <th>Gustavo</th>\n",
       "      <td>0.981333</td>\n",
       "      <td>0.018667</td>\n",
       "      <td>0</td>\n",
       "    </tr>\n",
       "    <tr>\n",
       "      <th>Letícia</th>\n",
       "      <td>0.991494</td>\n",
       "      <td>0.008506</td>\n",
       "      <td>0</td>\n",
       "    </tr>\n",
       "    <tr>\n",
       "      <th>Luiz Ovídio</th>\n",
       "      <td>0.995436</td>\n",
       "      <td>0.004564</td>\n",
       "      <td>0</td>\n",
       "    </tr>\n",
       "    <tr>\n",
       "      <th>Leonor</th>\n",
       "      <td>0.841375</td>\n",
       "      <td>0.158625</td>\n",
       "      <td>0</td>\n",
       "    </tr>\n",
       "    <tr>\n",
       "      <th>Dalila</th>\n",
       "      <td>0.841375</td>\n",
       "      <td>0.158625</td>\n",
       "      <td>0</td>\n",
       "    </tr>\n",
       "    <tr>\n",
       "      <th>Antônio</th>\n",
       "      <td>0.797931</td>\n",
       "      <td>0.202069</td>\n",
       "      <td>0</td>\n",
       "    </tr>\n",
       "    <tr>\n",
       "      <th>Júlia</th>\n",
       "      <td>0.814894</td>\n",
       "      <td>0.185106</td>\n",
       "      <td>0</td>\n",
       "    </tr>\n",
       "    <tr>\n",
       "      <th>Mariana</th>\n",
       "      <td>0.814894</td>\n",
       "      <td>0.185106</td>\n",
       "      <td>0</td>\n",
       "    </tr>\n",
       "  </tbody>\n",
       "</table>\n",
       "</div>"
      ],
      "text/plain": [
       "             nao_ocorrencia  ocorrencia  atrasado\n",
       "Gabriela           0.998448    0.001552         0\n",
       "Patrícia           0.845477    0.154523         0\n",
       "Gustavo            0.981333    0.018667         0\n",
       "Letícia            0.991494    0.008506         0\n",
       "Luiz Ovídio        0.995436    0.004564         0\n",
       "Leonor             0.841375    0.158625         0\n",
       "Dalila             0.841375    0.158625         0\n",
       "Antônio            0.797931    0.202069         0\n",
       "Júlia              0.814894    0.185106         0\n",
       "Mariana            0.814894    0.185106         0"
      ]
     },
     "execution_count": 6,
     "metadata": {},
     "output_type": "execute_result"
    }
   ],
   "source": [
    "df_probabilidades = pd.DataFrame(probabilidades,columns = ['nao_ocorrencia','ocorrencia'],index=df_atrasados.index)\n",
    "df_probabilidades['atrasado']=df_atrasados['atrasado']\n",
    "df_probabilidades.head(10)"
   ]
  },
  {
   "cell_type": "code",
   "execution_count": 7,
   "metadata": {},
   "outputs": [
    {
     "data": {
      "text/html": [
       "<div>\n",
       "<style scoped>\n",
       "    .dataframe tbody tr th:only-of-type {\n",
       "        vertical-align: middle;\n",
       "    }\n",
       "\n",
       "    .dataframe tbody tr th {\n",
       "        vertical-align: top;\n",
       "    }\n",
       "\n",
       "    .dataframe thead th {\n",
       "        text-align: right;\n",
       "    }\n",
       "</style>\n",
       "<table border=\"1\" class=\"dataframe\">\n",
       "  <thead>\n",
       "    <tr style=\"text-align: right;\">\n",
       "      <th></th>\n",
       "      <th>nao_ocorrencia</th>\n",
       "      <th>ocorrencia</th>\n",
       "      <th>atrasado</th>\n",
       "    </tr>\n",
       "  </thead>\n",
       "  <tbody>\n",
       "    <tr>\n",
       "      <th>Sandra</th>\n",
       "      <td>0.182639</td>\n",
       "      <td>0.817361</td>\n",
       "      <td>1</td>\n",
       "    </tr>\n",
       "    <tr>\n",
       "      <th>Geovani</th>\n",
       "      <td>0.270618</td>\n",
       "      <td>0.729382</td>\n",
       "      <td>1</td>\n",
       "    </tr>\n",
       "    <tr>\n",
       "      <th>Rita</th>\n",
       "      <td>0.127794</td>\n",
       "      <td>0.872206</td>\n",
       "      <td>1</td>\n",
       "    </tr>\n",
       "    <tr>\n",
       "      <th>Giovanna</th>\n",
       "      <td>0.195605</td>\n",
       "      <td>0.804395</td>\n",
       "      <td>1</td>\n",
       "    </tr>\n",
       "    <tr>\n",
       "      <th>Jaqueline</th>\n",
       "      <td>0.000186</td>\n",
       "      <td>0.999814</td>\n",
       "      <td>1</td>\n",
       "    </tr>\n",
       "    <tr>\n",
       "      <th>Sheila</th>\n",
       "      <td>0.100604</td>\n",
       "      <td>0.899396</td>\n",
       "      <td>1</td>\n",
       "    </tr>\n",
       "    <tr>\n",
       "      <th>Pedro</th>\n",
       "      <td>0.302914</td>\n",
       "      <td>0.697086</td>\n",
       "      <td>1</td>\n",
       "    </tr>\n",
       "    <tr>\n",
       "      <th>Horácio</th>\n",
       "      <td>0.322944</td>\n",
       "      <td>0.677056</td>\n",
       "      <td>1</td>\n",
       "    </tr>\n",
       "    <tr>\n",
       "      <th>Leandro</th>\n",
       "      <td>0.595814</td>\n",
       "      <td>0.404186</td>\n",
       "      <td>1</td>\n",
       "    </tr>\n",
       "    <tr>\n",
       "      <th>Estela</th>\n",
       "      <td>0.262471</td>\n",
       "      <td>0.737529</td>\n",
       "      <td>1</td>\n",
       "    </tr>\n",
       "  </tbody>\n",
       "</table>\n",
       "</div>"
      ],
      "text/plain": [
       "           nao_ocorrencia  ocorrencia  atrasado\n",
       "Sandra           0.182639    0.817361         1\n",
       "Geovani          0.270618    0.729382         1\n",
       "Rita             0.127794    0.872206         1\n",
       "Giovanna         0.195605    0.804395         1\n",
       "Jaqueline        0.000186    0.999814         1\n",
       "Sheila           0.100604    0.899396         1\n",
       "Pedro            0.302914    0.697086         1\n",
       "Horácio          0.322944    0.677056         1\n",
       "Leandro          0.595814    0.404186         1\n",
       "Estela           0.262471    0.737529         1"
      ]
     },
     "execution_count": 7,
     "metadata": {},
     "output_type": "execute_result"
    }
   ],
   "source": [
    "df_probabilidades.tail(10)"
   ]
  },
  {
   "cell_type": "code",
   "execution_count": 8,
   "metadata": {},
   "outputs": [
    {
     "name": "stderr",
     "output_type": "stream",
     "text": [
      "c:\\Users\\User\\AppData\\Local\\Programs\\Python\\Python39\\lib\\site-packages\\pandas\\plotting\\_matplotlib\\core.py:1070: UserWarning: No data for colormapping provided via 'c'. Parameters 'cmap' will be ignored\n",
      "  scatter = ax.scatter(\n"
     ]
    },
    {
     "data": {
      "text/plain": [
       "<matplotlib.collections.LineCollection at 0x23943be00a0>"
      ]
     },
     "execution_count": 8,
     "metadata": {},
     "output_type": "execute_result"
    },
    {
     "data": {
      "image/png": "[encoded data removed]",
      "text/plain": [
       "<Figure size 1152x576 with 1 Axes>"
      ]
     },
     "metadata": {
      "needs_background": "light"
     },
     "output_type": "display_data"
    }
   ],
   "source": [
    "%matplotlib inline\n",
    "df_probabilidades.sort_values(by='ocorrencia').plot(kind='scatter',x='ocorrencia', y='atrasado', figsize=(16,8))\n",
    "\n",
    "plt.text(0.5, 0.5, 'Cuttof 0.5',size=16)\n",
    "plt.vlines(x=0.5,colors='r',alpha=0.5,ymin=0,ymax=1)"
   ]
  },
  {
   "cell_type": "code",
   "execution_count": 9,
   "metadata": {},
   "outputs": [
    {
     "data": {
      "text/plain": [
       "<matplotlib.collections.LineCollection at 0x23945fe8d60>"
      ]
     },
     "execution_count": 9,
     "metadata": {},
     "output_type": "execute_result"
    },
    {
     "data": {
      "image/png": "[encoded data removed]",
      "text/plain": [
       "<Figure size 1152x576 with 1 Axes>"
      ]
     },
     "metadata": {
      "needs_background": "light"
     },
     "output_type": "display_data"
    }
   ],
   "source": [
    "%matplotlib inline\n",
    "df_probabilidades.sort_values(by='nao_ocorrencia').plot(kind='scatter',x='nao_ocorrencia', y='atrasado', figsize=(16,8))\n",
    "\n",
    "plt.text(0.5, 0.5, 'Cuttof 0.5',size=16)\n",
    "plt.vlines(x=0.5,colors='r',alpha=0.5,ymin=0,ymax=1)"
   ]
  },
  {
   "cell_type": "code",
   "execution_count": 10,
   "metadata": {},
   "outputs": [],
   "source": [
    "Y_Predicted = model.predict(variaveisIndependentes)"
   ]
  },
  {
   "cell_type": "markdown",
   "metadata": {},
   "source": [
    "## Medindo o desempenho do modelo"
   ]
  },
  {
   "cell_type": "markdown",
   "metadata": {},
   "source": [
    "### Matriz Confusão"
   ]
  },
  {
   "cell_type": "markdown",
   "metadata": {},
   "source": [
    "* A matriz de confusão para um modelo de regressão logística binária é uma tabela 2x2, que apresenta as seguintes informações:\n",
    "\n",
    "    * Verdadeiros positivos (`VP`): casos em que o modelo previu corretamente a classe positiva (1) e a observação real também era positiva (1).\n",
    "    * Falsos positivos (`FP`): casos em que o modelo previu a classe positiva (1), mas a observação real era negativa (0).\n",
    "    * Falsos negativos (`FN`): casos em que o modelo previu a classe negativa (0), mas a observação real era positiva (1).\n",
    "    * Verdadeiros negativos (`VN`): casos em que o modelo previu corretamente a classe negativa (0) e a observação real também era negativa (0).\n",
    "\n",
    "* A nossa matriz que contêm 2 classes pode ser interpretada da seguinte maneira:\n",
    "\n",
    "    * A diagonal principal contém o número de amostras que foram classificadas corretamente.\n",
    "    * A célula (`0`,`1`) que equivale a primeira linha segunda coluna, contém o número de amostras que pertencem a classe `0` mas foram classificadas como pertencentes a classe `1`\n",
    "    * As linhas representam as classes reais, enquanto as colunas representam as classes preditas."
   ]
  },
  {
   "cell_type": "code",
   "execution_count": 11,
   "metadata": {},
   "outputs": [],
   "source": [
    "cm = confusion_matrix(variavelDependente, Y_Predicted)"
   ]
  },
  {
   "cell_type": "code",
   "execution_count": 12,
   "metadata": {},
   "outputs": [
    {
     "data": {
      "text/plain": [
       "Text(0.05, 1.1, 'FN')"
      ]
     },
     "execution_count": 12,
     "metadata": {},
     "output_type": "execute_result"
    },
    {
     "data": {
      "image/png": "[encoded data removed]",
      "text/plain": [
       "<Figure size 576x432 with 2 Axes>"
      ]
     },
     "metadata": {
      "needs_background": "light"
     },
     "output_type": "display_data"
    }
   ],
   "source": [
    "fig = plt.figure(figsize=(8,6))\n",
    "sns.heatmap(cm, annot=True, fmt='.3g' )\n",
    "plt.title('Matriz de Confusão')\n",
    "VN='VN'\n",
    "VP='VP'\n",
    "FN='FN'\n",
    "FP='FP'\n",
    "\n",
    "font = {'family': 'Arial', 'size': 14,'color': 'white','weight':'bold'}\n",
    "plt.text(0.05, 0.1, VN, size = 15,fontdict=font)\n",
    "\n",
    "fontVP = {'family': 'Arial', 'size': 14,'color': 'black','weight':'bold'}\n",
    "plt.text(1.05, 1.1, VP, size = 15,fontdict=fontVP)\n",
    "\n",
    "font = {'family': 'Arial', 'size': 14,'color': 'white','weight':'bold'}\n",
    "plt.text(1.05, 0.1, FP, size = 15,fontdict=font)\n",
    "\n",
    "font = {'family': 'Arial', 'size': 14,'color': 'white','weight':'bold'}\n",
    "plt.text(0.05, 1.1, FN, size = 15,fontdict=font)\n"
   ]
  },
  {
   "cell_type": "markdown",
   "metadata": {},
   "source": [
    "### Acuracy"
   ]
  },
  {
   "cell_type": "markdown",
   "metadata": {},
   "source": [
    "$$acurácia = \\frac{VP \\ + \\ VN}{VP \\ + \\ VN \\ + \\ FP \\ + \\ FN}$$\n",
    "\n",
    "* A acurácia é uma medida de desempenho de um modelo de classificação que indica a proporção de observações que foram classificadas corretamente pelo modelo em relação ao total de observações avaliadas.\n",
    "* Em outras palavras, a acurácia mede a capacidade do modelo de acertar as previsões."
   ]
  },
  {
   "cell_type": "code",
   "execution_count": 13,
   "metadata": {},
   "outputs": [
    {
     "name": "stdout",
     "output_type": "stream",
     "text": [
      "acuracia:  0.86\n"
     ]
    }
   ],
   "source": [
    "acuracia = (30+56)/(100)\n",
    "print(\"acuracia: \", acuracia)"
   ]
  },
  {
   "cell_type": "code",
   "execution_count": 14,
   "metadata": {},
   "outputs": [
    {
     "name": "stdout",
     "output_type": "stream",
     "text": [
      "Acurácia:  0.86\n"
     ]
    }
   ],
   "source": [
    "acuracia = accuracy_score(variavelDependente, Y_Predicted)\n",
    "print(\"Acurácia: \", acuracia)"
   ]
  },
  {
   "cell_type": "markdown",
   "metadata": {},
   "source": [
    "### Precision"
   ]
  },
  {
   "cell_type": "markdown",
   "metadata": {},
   "source": [
    "* O precision (precisão) é uma métrica de avaliação de modelos de classificação binária que mede a proporção de observações classificadas como positivas pelo modelo que realmente são positivas.\n",
    "* Em outras palavras, é a capacidade do modelo de evitar a classificação incorreta de uma observação como positiva.\n",
    "\n",
    "$$precisao = \\frac{VP}{VP + FP}$$\n",
    "\n",
    "Onde:\n",
    "\n",
    "* Verdadeiros positivos (VP) são as observações classificadas corretamente como positivas pelo modelo.\n",
    "* Falsos positivos (FP) são as observações classificadas incorretamente como positivas pelo modelo.\n"
   ]
  },
  {
   "cell_type": "code",
   "execution_count": 15,
   "metadata": {},
   "outputs": [
    {
     "name": "stdout",
     "output_type": "stream",
     "text": [
      "precisao:  0.835820895522388\n"
     ]
    }
   ],
   "source": [
    "precisao = 56 / (56 + 11)\n",
    "print(\"precisao: \", precisao)"
   ]
  },
  {
   "cell_type": "code",
   "execution_count": 16,
   "metadata": {},
   "outputs": [
    {
     "data": {
      "text/plain": [
       "0.835820895522388"
      ]
     },
     "execution_count": 16,
     "metadata": {},
     "output_type": "execute_result"
    }
   ],
   "source": [
    "precision_score(variavelDependente, Y_Predicted)"
   ]
  },
  {
   "cell_type": "markdown",
   "metadata": {},
   "source": [
    "### Recall"
   ]
  },
  {
   "cell_type": "markdown",
   "metadata": {},
   "source": [
    "* O recall (ou sensibilidade) é uma métrica de avaliação de modelos de classificação binária que mede a proporção de observações positivas que foram corretamente identificadas pelo modelo.\n",
    "* Em outras palavras, é a capacidade do modelo de detectar corretamente as observações positivas.\n",
    "\n",
    "$$recall = \\frac{VP}{VP + FN}$$\n",
    "\n",
    "* Onde:\n",
    "    * Verdadeiros positivos (VP) são as observações classificadas corretamente como positivas pelo modelo.\n",
    "    * Falsos negativos (FN) são as observações classificadas incorretamente como negativas pelo modelo."
   ]
  },
  {
   "cell_type": "code",
   "execution_count": 17,
   "metadata": {},
   "outputs": [
    {
     "name": "stdout",
     "output_type": "stream",
     "text": [
      "Recall:  0.9491525423728814\n"
     ]
    }
   ],
   "source": [
    "recall = 56 / (56 + 3)\n",
    "print(\"Recall: \", recall)"
   ]
  },
  {
   "cell_type": "code",
   "execution_count": 18,
   "metadata": {},
   "outputs": [
    {
     "data": {
      "text/plain": [
       "0.9491525423728814"
      ]
     },
     "execution_count": 18,
     "metadata": {},
     "output_type": "execute_result"
    }
   ],
   "source": [
    "recall_score(variavelDependente, Y_Predicted)"
   ]
  },
  {
   "cell_type": "markdown",
   "metadata": {},
   "source": [
    "### F1 Score"
   ]
  },
  {
   "cell_type": "markdown",
   "metadata": {},
   "source": [
    "* O F1-score é uma medida que combina a precisão (precision) e o recall (sensibilidade) em uma única métrica, para avaliar o desempenho de um modelo de classificação binária.\n",
    "* Ele é a média harmônica da precisão e do recall, e é calculado pela seguinte fórmula:\n",
    "\n",
    "$$F1 = 2 \\ \\times \\ \\frac{precision \\ \\times \\ recall}{precision \\ + \\ recall}$$\n",
    "\n",
    "* O F1-score considera tanto a capacidade do modelo de evitar classificações incorretas (precision) quanto a capacidade de detectar corretamente observações positivas (recall).\n",
    "* O resultado é uma métrica que varia entre 0 e 1, onde 1 representa o melhor desempenho possível."
   ]
  },
  {
   "cell_type": "code",
   "execution_count": 19,
   "metadata": {},
   "outputs": [
    {
     "name": "stdout",
     "output_type": "stream",
     "text": [
      "F1:  0.888888888888889\n"
     ]
    }
   ],
   "source": [
    "F1 = 2 * ((precisao * recall)/(precisao + recall))\n",
    "print(\"F1: \", F1)"
   ]
  },
  {
   "cell_type": "code",
   "execution_count": 20,
   "metadata": {},
   "outputs": [
    {
     "data": {
      "text/plain": [
       "0.888888888888889"
      ]
     },
     "execution_count": 20,
     "metadata": {},
     "output_type": "execute_result"
    }
   ],
   "source": [
    "f1_score(variavelDependente, Y_Predicted)"
   ]
  },
  {
   "cell_type": "markdown",
   "metadata": {},
   "source": [
    "## Especificidade"
   ]
  },
  {
   "cell_type": "markdown",
   "metadata": {},
   "source": [
    "* A especificidade é uma medida de desempenho de um modelo de classificação binária que indica a proporção de verdadeiros negativos (VN) que foram corretamente classificados em relação ao total de negativos. \n",
    "* Em outras palavras, a especificidade é a proporção de VN que foram classificados como negativos pelo modelo.\n",
    "\n",
    "* A fórmula para calcular a especificidade é:\n",
    "\n",
    " $$Especificidade = \\ \\frac{VN}{FP+VN}$$\n",
    "\n",
    "* Onde:\n",
    "    * $VN$ (verdadeiros negativos) é o número de amostras que foram classificadas como negativas pelo modelo e que realmente são negativas;\n",
    "    * $FP$ (falsos positivos) é o número de amostras que foram classificadas como positivas pelo modelo, mas que na verdade são negativas."
   ]
  },
  {
   "cell_type": "code",
   "execution_count": 21,
   "metadata": {},
   "outputs": [
    {
     "name": "stdout",
     "output_type": "stream",
     "text": [
      "Especificidade:  0.4878048780487805\n"
     ]
    }
   ],
   "source": [
    "Especificidade = ((20)/(21 + 20))\n",
    "print(\"Especificidade: \", Especificidade)"
   ]
  },
  {
   "cell_type": "markdown",
   "metadata": {},
   "source": [
    "### Classification Report"
   ]
  },
  {
   "cell_type": "markdown",
   "metadata": {},
   "source": [
    "* O classification_report é uma função de avaliação de modelos de classificação em scikit-learn, uma biblioteca de aprendizado de máquina em Python.\n",
    "* A função gera um relatório de métricas de avaliação do modelo para cada classe do problema de classificação.\n",
    "\n",
    "* O relatório inclui as seguintes métricas de avaliação para cada classe:\n",
    "    * Precisão (precision): a proporção de exemplos classificados corretamente como positivos entre todos os exemplos classificados como positivos.\n",
    "    * Recall (sensibilidade): a proporção de exemplos classificados corretamente como positivos entre todos os exemplos que realmente são positivos.\n",
    "    * F1-score: a média harmônica entre a precisão e o recall. É uma medida que combina a precisão e o recall em uma única métrica.\n",
    "    * Suporte (support): o número de exemplos em cada classe."
   ]
  },
  {
   "cell_type": "code",
   "execution_count": 22,
   "metadata": {},
   "outputs": [
    {
     "name": "stdout",
     "output_type": "stream",
     "text": [
      "              precision    recall  f1-score   support\n",
      "\n",
      "           0       0.91      0.73      0.81        41\n",
      "           1       0.84      0.95      0.89        59\n",
      "\n",
      "    accuracy                           0.86       100\n",
      "   macro avg       0.87      0.84      0.85       100\n",
      "weighted avg       0.87      0.86      0.86       100\n",
      "\n"
     ]
    }
   ],
   "source": [
    "print(classification_report(variavelDependente, Y_Predicted))"
   ]
  },
  {
   "cell_type": "markdown",
   "metadata": {},
   "source": [
    "#### Curva ROC"
   ]
  },
  {
   "cell_type": "code",
   "execution_count": 23,
   "metadata": {},
   "outputs": [
    {
     "data": {
      "image/png": "[encoded data removed]",
      "text/plain": [
       "<Figure size 720x576 with 1 Axes>"
      ]
     },
     "metadata": {
      "needs_background": "light"
     },
     "output_type": "display_data"
    },
    {
     "name": "stdout",
     "output_type": "stream",
     "text": [
      "roc score 0.9454319966928483\n"
     ]
    }
   ],
   "source": [
    "# calcula a curva ROC\n",
    "fpr, tpr, thresholds = roc_curve(variavelDependente, probabilidades[:,1])\n",
    "roc_auc = auc(fpr, tpr)\n",
    "\n",
    "# plota a curva ROC\n",
    "plt.figure(figsize=(10,8))\n",
    "lw = 2\n",
    "plt.plot(fpr, tpr, color='darkorange',\n",
    "         lw=lw, label='Curva ROC (área = %0.2f)' % roc_auc)\n",
    "plt.plot([0, 1], [0, 1], color='navy', lw=lw, linestyle='--')\n",
    "plt.xlim([-0.1, 1.1])\n",
    "plt.ylim([-0.1, 1.1])\n",
    "plt.xlabel('Especificidade')\n",
    "plt.ylabel('Sensibilidade')\n",
    "plt.title('Curva ROC')\n",
    "plt.legend(loc=\"lower right\")\n",
    "plt.show()\n",
    "print('roc score', roc_auc_score(variavelDependente,probabilidades[:,1]))\n"
   ]
  },
  {
   "cell_type": "markdown",
   "metadata": {},
   "source": [
    "### Sensibilidade vs Especificidade"
   ]
  },
  {
   "cell_type": "code",
   "execution_count": 24,
   "metadata": {},
   "outputs": [
    {
     "data": {
      "text/plain": [
       "<matplotlib.legend.Legend at 0x23946395a60>"
      ]
     },
     "execution_count": 24,
     "metadata": {},
     "output_type": "execute_result"
    },
    {
     "data": {
      "image/png": "[encoded data removed]",
      "text/plain": [
       "<Figure size 720x576 with 1 Axes>"
      ]
     },
     "metadata": {
      "needs_background": "light"
     },
     "output_type": "display_data"
    }
   ],
   "source": [
    "especificidade = []\n",
    "sensibilidade = []\n",
    "for cuttof in thresholds:\n",
    "    y_pred_bin = (df_probabilidades['ocorrencia']>=cuttof).astype(int)\n",
    "    VN, FP, FN, VP = confusion_matrix(variavelDependente, y_pred_bin).ravel()\n",
    "    especificidade.append(VN / (FP + VN))\n",
    "    sensibilidade.append(VP / (VP+FN)) \n",
    "\n",
    "fig, ax = plt.subplots(1,figsize=(10,8))\n",
    "sns.lineplot(x=thresholds,y=sensibilidade,color='g',ax=ax,label='Sensibilidade')\n",
    "sns.lineplot(x=thresholds,y=especificidade,color='b',ax=ax,label='Especificidade')\n",
    "ax.set_title('Cuttof por Especificidade e Sensibilidade')\n",
    "ax.set_xlabel('Cuttof')\n",
    "ax.set_ylabel('Valores')\n",
    "ax.set_xlim(xmin=0,xmax=1)\n",
    "ax.legend()"
   ]
  },
  {
   "cell_type": "markdown",
   "metadata": {},
   "source": [
    "## Referências\n",
    "[1] Capítulo 13 do livro: FÁVERO, Luiz Paulo; BELFIORE, Patrícia. `Manual de análise de dados: estatística e modelagem multivariada com Excel®, SPSS® e Stata®`. Elsevier Brasil, 2017.\n",
    "\n",
    "[2] https://scikit-learn.org/stable/modules/generated/sklearn.metrics.accuracy_score.html#sklearn.metrics.accuracy_score\n",
    "\n",
    "[3] https://scikit-learn.org/stable/modules/generated/sklearn.metrics.recall_score.html\n",
    "\n",
    "[4]  https://scikit-learn.org/stable/modules/generated/sklearn.metrics.f1_score.html\n",
    "\n",
    "[5] https://scikit-learn.org/stable/modules/generated/sklearn.metrics.precision_score.html\n",
    "\n",
    "[6] https://scikit-learn.org/stable/modules/generated/sklearn.metrics.classification_report.html#sklearn-metrics-classification-report\n"
   ]
  },
  {
   "cell_type": "markdown",
   "metadata": {},
   "source": [
    "## Autores\n",
    "\n",
    "<a href=\"https://www.linkedin.com/in/eduardopecora/\" target=\"_blank\">Eduardo Pecora</a>\n",
    "\n",
    "<a href=\"https://www.linkedin.com/in/hesauhugocavalcanti/\" target=\"_blank\">Hesau Hugo</a>\n",
    "\n",
    "## Log de modificações\n",
    "\n",
    "| Data | Versão | Modificado por | Descrição |\n",
    "| -----------| ------- | ---------- | ---------------------------------- |\n",
    "| 17-04-2023       | 1.0     | Hesau Hugo    | Inicial               |\n"
   ]
  }
 ],
 "metadata": {
  "kernelspec": {
   "display_name": "Python 3.9.7 64-bit",
   "language": "python",
   "name": "python3"
  },
  "language_info": {
   "codemirror_mode": {
    "name": "ipython",
    "version": 3
   },
   "file_extension": ".py",
   "mimetype": "text/x-python",
   "name": "python",
   "nbconvert_exporter": "python",
   "pygments_lexer": "ipython3",
   "version": "3.9.7"
  },
  "orig_nbformat": 4,
  "vscode": {
   "interpreter": {
    "hash": "cf92aa13fedf815d5c8dd192b8d835913fde3e8bc926b2a0ad6cc74ef2ba3ca2"
   }
  }
 },
 "nbformat": 4,
 "nbformat_minor": 2
}
