{
 "cells": [
  {
   "cell_type": "markdown",
   "id": "b3d3c4e8",
   "metadata": {
    "id": "4uytsKqPbA6e"
   },
   "source": [
    "<p style =\"text-align:center\">\n",
    "    <img src=\"http://epecora.com.br/DataFiles/PPGOLD_logo.png\" width=\"300\" alt=\"PPGOLD Data Science: INTRO\"  />\n",
    "</p>\n",
    "\n",
    "# LAB03_1 - Regressão Linear Múltipla"
   ]
  },
  {
   "cell_type": "markdown",
   "id": "0160a38d",
   "metadata": {
    "id": "wZHlaPt5bA6j"
   },
   "source": [
    "# Regressão Linear Múltipla\n",
    "Tempo estimado: **30** minutos"
   ]
  },
  {
   "cell_type": "markdown",
   "id": "e721b886",
   "metadata": {
    "id": "aIv8SHgDbA6k"
   },
   "source": [
    "## Objetivos"
   ]
  },
  {
   "cell_type": "markdown",
   "id": "46f52c97",
   "metadata": {
    "id": "_TZSxUNobA6l"
   },
   "source": [
    "Após completar esta aula, você será capaz de:\n",
    "\n",
    "* Criar um modelo de regressão linear Múltipla\n",
    "* Calcular o erro R^2\n",
    "* Calcular o MAD,MSE e MSRE"
   ]
  },
  {
   "cell_type": "markdown",
   "id": "64ee76b7",
   "metadata": {
    "id": "Bfvj6cesbA6l"
   },
   "source": [
    "## Bibliotecas"
   ]
  },
  {
   "cell_type": "code",
   "execution_count": 1,
   "id": "11915f30",
   "metadata": {
    "id": "bHX5xZdSbA6m"
   },
   "outputs": [],
   "source": [
    "# importando a biblioteca pandas para manipulação de dados\n",
    "import pandas as pd\n",
    "\n",
    "# Iportando numpy para criar, manipular e operar em arrays multidimensionais, bem como para realizar operações matemáticas avançadas.\n",
    "import numpy as np\n",
    "\n",
    "# Importando a biblioteca math que fornece funções matemáticas básicas\n",
    "import math \n",
    "\n",
    "# importando as bibliotecas do matplotlib para gerar gráficos\n",
    "import matplotlib as mpl\n",
    "import matplotlib.pyplot as plt\n",
    "\n",
    "# Importando biblioteca do seaborn para gerar gráficos mais atraentes e informativos\n",
    "import seaborn as sns\n",
    "\n",
    "# Importando a classe LinearRegression do sklearn \n",
    "# Essa classe implementa uma versão da regressão linear simples ou múltipla\n",
    "# Usado para modelar a relação entre uma variável dependente contínua e uma ou mais variáveis independentes.\n",
    "from sklearn.linear_model import LinearRegression\n",
    "\n",
    "# Usado para exibir os gráficos gerados pela biblioteca Matplotlib diretamente no notebook, sem precisar abrir uma janela externa.\n",
    "%matplotlib inline"
   ]
  },
  {
   "cell_type": "markdown",
   "id": "5750f622",
   "metadata": {
    "id": "UnTVdPcHbA6o"
   },
   "source": [
    "## Obtendo dados de Expectativa de vida"
   ]
  },
  {
   "cell_type": "code",
   "execution_count": 2,
   "id": "fae26ee7",
   "metadata": {
    "id": "u2W7bkP-bA6o"
   },
   "outputs": [],
   "source": [
    "# O objeto ainda está vazio. \n",
    "caminho = \"\" \n",
    "\n",
    "# Caminho do arquivo csv\n",
    "caminho = \"https://raw.githubusercontent.com/EduPekUfpr/PPGOLD7037/main/Data/Life_Expectancy_Data.csv\" \n",
    "\n",
    "#Obtendo arquivo e passando-o para um dataframe\n",
    "df = pd.read_csv(caminho) \n",
    "df.dropna(axis='rows', inplace = True)"
   ]
  },
  {
   "cell_type": "code",
   "execution_count": 3,
   "id": "5547e79d",
   "metadata": {},
   "outputs": [
    {
     "data": {
      "text/html": [
       "<div>\n",
       "<style scoped>\n",
       "    .dataframe tbody tr th:only-of-type {\n",
       "        vertical-align: middle;\n",
       "    }\n",
       "\n",
       "    .dataframe tbody tr th {\n",
       "        vertical-align: top;\n",
       "    }\n",
       "\n",
       "    .dataframe thead th {\n",
       "        text-align: right;\n",
       "    }\n",
       "</style>\n",
       "<table border=\"1\" class=\"dataframe\">\n",
       "  <thead>\n",
       "    <tr style=\"text-align: right;\">\n",
       "      <th></th>\n",
       "      <th>Country</th>\n",
       "      <th>Year</th>\n",
       "      <th>Status</th>\n",
       "      <th>Life_expectancy</th>\n",
       "      <th>Adult_Mortality</th>\n",
       "      <th>infant_deaths</th>\n",
       "      <th>Alcohol</th>\n",
       "      <th>percentage_expenditure</th>\n",
       "      <th>Hepatitis_B</th>\n",
       "      <th>Measles</th>\n",
       "      <th>...</th>\n",
       "      <th>Polio</th>\n",
       "      <th>Total_expenditure</th>\n",
       "      <th>Diphtheria</th>\n",
       "      <th>HIV_AIDS</th>\n",
       "      <th>GDP</th>\n",
       "      <th>Population</th>\n",
       "      <th>thinness_1-19_years</th>\n",
       "      <th>thinness_5-9_years</th>\n",
       "      <th>Income_composition_of_resources</th>\n",
       "      <th>Schooling</th>\n",
       "    </tr>\n",
       "  </thead>\n",
       "  <tbody>\n",
       "    <tr>\n",
       "      <th>0</th>\n",
       "      <td>Afghanistan</td>\n",
       "      <td>2015</td>\n",
       "      <td>Developing</td>\n",
       "      <td>65.0</td>\n",
       "      <td>263.0</td>\n",
       "      <td>62</td>\n",
       "      <td>0.01</td>\n",
       "      <td>71.279624</td>\n",
       "      <td>65.0</td>\n",
       "      <td>1154</td>\n",
       "      <td>...</td>\n",
       "      <td>6.0</td>\n",
       "      <td>8.16</td>\n",
       "      <td>65.0</td>\n",
       "      <td>0.1</td>\n",
       "      <td>584.259210</td>\n",
       "      <td>33736494.0</td>\n",
       "      <td>17.2</td>\n",
       "      <td>17.3</td>\n",
       "      <td>0.479</td>\n",
       "      <td>10.1</td>\n",
       "    </tr>\n",
       "    <tr>\n",
       "      <th>1</th>\n",
       "      <td>Afghanistan</td>\n",
       "      <td>2014</td>\n",
       "      <td>Developing</td>\n",
       "      <td>59.9</td>\n",
       "      <td>271.0</td>\n",
       "      <td>64</td>\n",
       "      <td>0.01</td>\n",
       "      <td>73.523582</td>\n",
       "      <td>62.0</td>\n",
       "      <td>492</td>\n",
       "      <td>...</td>\n",
       "      <td>58.0</td>\n",
       "      <td>8.18</td>\n",
       "      <td>62.0</td>\n",
       "      <td>0.1</td>\n",
       "      <td>612.696514</td>\n",
       "      <td>327582.0</td>\n",
       "      <td>17.5</td>\n",
       "      <td>17.5</td>\n",
       "      <td>0.476</td>\n",
       "      <td>10.0</td>\n",
       "    </tr>\n",
       "    <tr>\n",
       "      <th>2</th>\n",
       "      <td>Afghanistan</td>\n",
       "      <td>2013</td>\n",
       "      <td>Developing</td>\n",
       "      <td>59.9</td>\n",
       "      <td>268.0</td>\n",
       "      <td>66</td>\n",
       "      <td>0.01</td>\n",
       "      <td>73.219243</td>\n",
       "      <td>64.0</td>\n",
       "      <td>430</td>\n",
       "      <td>...</td>\n",
       "      <td>62.0</td>\n",
       "      <td>8.13</td>\n",
       "      <td>64.0</td>\n",
       "      <td>0.1</td>\n",
       "      <td>631.744976</td>\n",
       "      <td>31731688.0</td>\n",
       "      <td>17.7</td>\n",
       "      <td>17.7</td>\n",
       "      <td>0.470</td>\n",
       "      <td>9.9</td>\n",
       "    </tr>\n",
       "    <tr>\n",
       "      <th>3</th>\n",
       "      <td>Afghanistan</td>\n",
       "      <td>2012</td>\n",
       "      <td>Developing</td>\n",
       "      <td>59.5</td>\n",
       "      <td>272.0</td>\n",
       "      <td>69</td>\n",
       "      <td>0.01</td>\n",
       "      <td>78.184215</td>\n",
       "      <td>67.0</td>\n",
       "      <td>2787</td>\n",
       "      <td>...</td>\n",
       "      <td>67.0</td>\n",
       "      <td>8.52</td>\n",
       "      <td>67.0</td>\n",
       "      <td>0.1</td>\n",
       "      <td>669.959000</td>\n",
       "      <td>3696958.0</td>\n",
       "      <td>17.9</td>\n",
       "      <td>18.0</td>\n",
       "      <td>0.463</td>\n",
       "      <td>9.8</td>\n",
       "    </tr>\n",
       "    <tr>\n",
       "      <th>4</th>\n",
       "      <td>Afghanistan</td>\n",
       "      <td>2011</td>\n",
       "      <td>Developing</td>\n",
       "      <td>59.2</td>\n",
       "      <td>275.0</td>\n",
       "      <td>71</td>\n",
       "      <td>0.01</td>\n",
       "      <td>7.097109</td>\n",
       "      <td>68.0</td>\n",
       "      <td>3013</td>\n",
       "      <td>...</td>\n",
       "      <td>68.0</td>\n",
       "      <td>7.87</td>\n",
       "      <td>68.0</td>\n",
       "      <td>0.1</td>\n",
       "      <td>63.537231</td>\n",
       "      <td>2978599.0</td>\n",
       "      <td>18.2</td>\n",
       "      <td>18.2</td>\n",
       "      <td>0.454</td>\n",
       "      <td>9.5</td>\n",
       "    </tr>\n",
       "  </tbody>\n",
       "</table>\n",
       "<p>5 rows × 22 columns</p>\n",
       "</div>"
      ],
      "text/plain": [
       "       Country  Year      Status  Life_expectancy  Adult_Mortality  \\\n",
       "0  Afghanistan  2015  Developing             65.0            263.0   \n",
       "1  Afghanistan  2014  Developing             59.9            271.0   \n",
       "2  Afghanistan  2013  Developing             59.9            268.0   \n",
       "3  Afghanistan  2012  Developing             59.5            272.0   \n",
       "4  Afghanistan  2011  Developing             59.2            275.0   \n",
       "\n",
       "   infant_deaths  Alcohol  percentage_expenditure  Hepatitis_B  Measles  ...  \\\n",
       "0             62     0.01               71.279624         65.0     1154  ...   \n",
       "1             64     0.01               73.523582         62.0      492  ...   \n",
       "2             66     0.01               73.219243         64.0      430  ...   \n",
       "3             69     0.01               78.184215         67.0     2787  ...   \n",
       "4             71     0.01                7.097109         68.0     3013  ...   \n",
       "\n",
       "   Polio  Total_expenditure  Diphtheria  HIV_AIDS         GDP  Population  \\\n",
       "0    6.0               8.16        65.0       0.1  584.259210  33736494.0   \n",
       "1   58.0               8.18        62.0       0.1  612.696514    327582.0   \n",
       "2   62.0               8.13        64.0       0.1  631.744976  31731688.0   \n",
       "3   67.0               8.52        67.0       0.1  669.959000   3696958.0   \n",
       "4   68.0               7.87        68.0       0.1   63.537231   2978599.0   \n",
       "\n",
       "   thinness_1-19_years  thinness_5-9_years  Income_composition_of_resources  \\\n",
       "0                 17.2                17.3                            0.479   \n",
       "1                 17.5                17.5                            0.476   \n",
       "2                 17.7                17.7                            0.470   \n",
       "3                 17.9                18.0                            0.463   \n",
       "4                 18.2                18.2                            0.454   \n",
       "\n",
       "   Schooling  \n",
       "0       10.1  \n",
       "1       10.0  \n",
       "2        9.9  \n",
       "3        9.8  \n",
       "4        9.5  \n",
       "\n",
       "[5 rows x 22 columns]"
      ]
     },
     "execution_count": 3,
     "metadata": {},
     "output_type": "execute_result"
    }
   ],
   "source": [
    "df.head()"
   ]
  },
  {
   "cell_type": "markdown",
   "id": "4241f9ab",
   "metadata": {},
   "source": [
    "## Só países em Desenvolvimento"
   ]
  },
  {
   "cell_type": "code",
   "execution_count": 4,
   "id": "fbaab3d0",
   "metadata": {},
   "outputs": [
    {
     "data": {
      "text/html": [
       "<div>\n",
       "<style scoped>\n",
       "    .dataframe tbody tr th:only-of-type {\n",
       "        vertical-align: middle;\n",
       "    }\n",
       "\n",
       "    .dataframe tbody tr th {\n",
       "        vertical-align: top;\n",
       "    }\n",
       "\n",
       "    .dataframe thead th {\n",
       "        text-align: right;\n",
       "    }\n",
       "</style>\n",
       "<table border=\"1\" class=\"dataframe\">\n",
       "  <thead>\n",
       "    <tr style=\"text-align: right;\">\n",
       "      <th></th>\n",
       "      <th>Country</th>\n",
       "      <th>Year</th>\n",
       "      <th>Status</th>\n",
       "      <th>Life_expectancy</th>\n",
       "      <th>Adult_Mortality</th>\n",
       "      <th>infant_deaths</th>\n",
       "      <th>Alcohol</th>\n",
       "      <th>percentage_expenditure</th>\n",
       "      <th>Hepatitis_B</th>\n",
       "      <th>Measles</th>\n",
       "      <th>...</th>\n",
       "      <th>Polio</th>\n",
       "      <th>Total_expenditure</th>\n",
       "      <th>Diphtheria</th>\n",
       "      <th>HIV_AIDS</th>\n",
       "      <th>GDP</th>\n",
       "      <th>Population</th>\n",
       "      <th>thinness_1-19_years</th>\n",
       "      <th>thinness_5-9_years</th>\n",
       "      <th>Income_composition_of_resources</th>\n",
       "      <th>Schooling</th>\n",
       "    </tr>\n",
       "  </thead>\n",
       "  <tbody>\n",
       "    <tr>\n",
       "      <th>0</th>\n",
       "      <td>Afghanistan</td>\n",
       "      <td>2015</td>\n",
       "      <td>Developing</td>\n",
       "      <td>65.0</td>\n",
       "      <td>263.0</td>\n",
       "      <td>62</td>\n",
       "      <td>0.01</td>\n",
       "      <td>71.279624</td>\n",
       "      <td>65.0</td>\n",
       "      <td>1154</td>\n",
       "      <td>...</td>\n",
       "      <td>6.0</td>\n",
       "      <td>8.16</td>\n",
       "      <td>65.0</td>\n",
       "      <td>0.1</td>\n",
       "      <td>584.259210</td>\n",
       "      <td>33736494.0</td>\n",
       "      <td>17.2</td>\n",
       "      <td>17.3</td>\n",
       "      <td>0.479</td>\n",
       "      <td>10.1</td>\n",
       "    </tr>\n",
       "    <tr>\n",
       "      <th>1</th>\n",
       "      <td>Afghanistan</td>\n",
       "      <td>2014</td>\n",
       "      <td>Developing</td>\n",
       "      <td>59.9</td>\n",
       "      <td>271.0</td>\n",
       "      <td>64</td>\n",
       "      <td>0.01</td>\n",
       "      <td>73.523582</td>\n",
       "      <td>62.0</td>\n",
       "      <td>492</td>\n",
       "      <td>...</td>\n",
       "      <td>58.0</td>\n",
       "      <td>8.18</td>\n",
       "      <td>62.0</td>\n",
       "      <td>0.1</td>\n",
       "      <td>612.696514</td>\n",
       "      <td>327582.0</td>\n",
       "      <td>17.5</td>\n",
       "      <td>17.5</td>\n",
       "      <td>0.476</td>\n",
       "      <td>10.0</td>\n",
       "    </tr>\n",
       "    <tr>\n",
       "      <th>2</th>\n",
       "      <td>Afghanistan</td>\n",
       "      <td>2013</td>\n",
       "      <td>Developing</td>\n",
       "      <td>59.9</td>\n",
       "      <td>268.0</td>\n",
       "      <td>66</td>\n",
       "      <td>0.01</td>\n",
       "      <td>73.219243</td>\n",
       "      <td>64.0</td>\n",
       "      <td>430</td>\n",
       "      <td>...</td>\n",
       "      <td>62.0</td>\n",
       "      <td>8.13</td>\n",
       "      <td>64.0</td>\n",
       "      <td>0.1</td>\n",
       "      <td>631.744976</td>\n",
       "      <td>31731688.0</td>\n",
       "      <td>17.7</td>\n",
       "      <td>17.7</td>\n",
       "      <td>0.470</td>\n",
       "      <td>9.9</td>\n",
       "    </tr>\n",
       "    <tr>\n",
       "      <th>3</th>\n",
       "      <td>Afghanistan</td>\n",
       "      <td>2012</td>\n",
       "      <td>Developing</td>\n",
       "      <td>59.5</td>\n",
       "      <td>272.0</td>\n",
       "      <td>69</td>\n",
       "      <td>0.01</td>\n",
       "      <td>78.184215</td>\n",
       "      <td>67.0</td>\n",
       "      <td>2787</td>\n",
       "      <td>...</td>\n",
       "      <td>67.0</td>\n",
       "      <td>8.52</td>\n",
       "      <td>67.0</td>\n",
       "      <td>0.1</td>\n",
       "      <td>669.959000</td>\n",
       "      <td>3696958.0</td>\n",
       "      <td>17.9</td>\n",
       "      <td>18.0</td>\n",
       "      <td>0.463</td>\n",
       "      <td>9.8</td>\n",
       "    </tr>\n",
       "    <tr>\n",
       "      <th>4</th>\n",
       "      <td>Afghanistan</td>\n",
       "      <td>2011</td>\n",
       "      <td>Developing</td>\n",
       "      <td>59.2</td>\n",
       "      <td>275.0</td>\n",
       "      <td>71</td>\n",
       "      <td>0.01</td>\n",
       "      <td>7.097109</td>\n",
       "      <td>68.0</td>\n",
       "      <td>3013</td>\n",
       "      <td>...</td>\n",
       "      <td>68.0</td>\n",
       "      <td>7.87</td>\n",
       "      <td>68.0</td>\n",
       "      <td>0.1</td>\n",
       "      <td>63.537231</td>\n",
       "      <td>2978599.0</td>\n",
       "      <td>18.2</td>\n",
       "      <td>18.2</td>\n",
       "      <td>0.454</td>\n",
       "      <td>9.5</td>\n",
       "    </tr>\n",
       "  </tbody>\n",
       "</table>\n",
       "<p>5 rows × 22 columns</p>\n",
       "</div>"
      ],
      "text/plain": [
       "       Country  Year      Status  Life_expectancy  Adult_Mortality  \\\n",
       "0  Afghanistan  2015  Developing             65.0            263.0   \n",
       "1  Afghanistan  2014  Developing             59.9            271.0   \n",
       "2  Afghanistan  2013  Developing             59.9            268.0   \n",
       "3  Afghanistan  2012  Developing             59.5            272.0   \n",
       "4  Afghanistan  2011  Developing             59.2            275.0   \n",
       "\n",
       "   infant_deaths  Alcohol  percentage_expenditure  Hepatitis_B  Measles  ...  \\\n",
       "0             62     0.01               71.279624         65.0     1154  ...   \n",
       "1             64     0.01               73.523582         62.0      492  ...   \n",
       "2             66     0.01               73.219243         64.0      430  ...   \n",
       "3             69     0.01               78.184215         67.0     2787  ...   \n",
       "4             71     0.01                7.097109         68.0     3013  ...   \n",
       "\n",
       "   Polio  Total_expenditure  Diphtheria  HIV_AIDS         GDP  Population  \\\n",
       "0    6.0               8.16        65.0       0.1  584.259210  33736494.0   \n",
       "1   58.0               8.18        62.0       0.1  612.696514    327582.0   \n",
       "2   62.0               8.13        64.0       0.1  631.744976  31731688.0   \n",
       "3   67.0               8.52        67.0       0.1  669.959000   3696958.0   \n",
       "4   68.0               7.87        68.0       0.1   63.537231   2978599.0   \n",
       "\n",
       "   thinness_1-19_years  thinness_5-9_years  Income_composition_of_resources  \\\n",
       "0                 17.2                17.3                            0.479   \n",
       "1                 17.5                17.5                            0.476   \n",
       "2                 17.7                17.7                            0.470   \n",
       "3                 17.9                18.0                            0.463   \n",
       "4                 18.2                18.2                            0.454   \n",
       "\n",
       "   Schooling  \n",
       "0       10.1  \n",
       "1       10.0  \n",
       "2        9.9  \n",
       "3        9.8  \n",
       "4        9.5  \n",
       "\n",
       "[5 rows x 22 columns]"
      ]
     },
     "execution_count": 4,
     "metadata": {},
     "output_type": "execute_result"
    }
   ],
   "source": [
    "df_br = df[df[\"Status\"] == \"Developing\"].copy(deep=True)\n",
    "df_br.head()"
   ]
  },
  {
   "cell_type": "code",
   "execution_count": 5,
   "id": "88aeb0ee",
   "metadata": {},
   "outputs": [
    {
     "data": {
      "text/plain": [
       "Index(['Country', 'Year', 'Status', 'Life_expectancy', 'Adult_Mortality',\n",
       "       'infant_deaths', 'Alcohol', 'percentage_expenditure', 'Hepatitis_B',\n",
       "       'Measles', 'BMI', 'under_five_deaths', 'Polio', 'Total_expenditure',\n",
       "       'Diphtheria', 'HIV_AIDS', 'GDP', 'Population', 'thinness_1-19_years',\n",
       "       'thinness_5-9_years', 'Income_composition_of_resources', 'Schooling'],\n",
       "      dtype='object')"
      ]
     },
     "execution_count": 5,
     "metadata": {},
     "output_type": "execute_result"
    }
   ],
   "source": [
    "df_br.columns"
   ]
  },
  {
   "cell_type": "code",
   "execution_count": 6,
   "id": "f1c87d5f",
   "metadata": {},
   "outputs": [
    {
     "name": "stdout",
     "output_type": "stream",
     "text": [
      "<class 'pandas.core.frame.DataFrame'>\n",
      "Index: 1407 entries, 0 to 2937\n",
      "Data columns (total 22 columns):\n",
      " #   Column                           Non-Null Count  Dtype  \n",
      "---  ------                           --------------  -----  \n",
      " 0   Country                          1407 non-null   object \n",
      " 1   Year                             1407 non-null   int64  \n",
      " 2   Status                           1407 non-null   object \n",
      " 3   Life_expectancy                  1407 non-null   float64\n",
      " 4   Adult_Mortality                  1407 non-null   float64\n",
      " 5   infant_deaths                    1407 non-null   int64  \n",
      " 6   Alcohol                          1407 non-null   float64\n",
      " 7   percentage_expenditure           1407 non-null   float64\n",
      " 8   Hepatitis_B                      1407 non-null   float64\n",
      " 9   Measles                          1407 non-null   int64  \n",
      " 10  BMI                              1407 non-null   float64\n",
      " 11  under_five_deaths                1407 non-null   int64  \n",
      " 12  Polio                            1407 non-null   float64\n",
      " 13  Total_expenditure                1407 non-null   float64\n",
      " 14  Diphtheria                       1407 non-null   float64\n",
      " 15  HIV_AIDS                         1407 non-null   float64\n",
      " 16  GDP                              1407 non-null   float64\n",
      " 17  Population                       1407 non-null   float64\n",
      " 18  thinness_1-19_years              1407 non-null   float64\n",
      " 19  thinness_5-9_years               1407 non-null   float64\n",
      " 20  Income_composition_of_resources  1407 non-null   float64\n",
      " 21  Schooling                        1407 non-null   float64\n",
      "dtypes: float64(16), int64(4), object(2)\n",
      "memory usage: 252.8+ KB\n"
     ]
    }
   ],
   "source": [
    "df_br.info()"
   ]
  },
  {
   "cell_type": "markdown",
   "id": "0860ad6d",
   "metadata": {
    "id": "uw16qepqbA6p"
   },
   "source": [
    "## Regressão Linear Múltipla"
   ]
  },
  {
   "cell_type": "code",
   "execution_count": 7,
   "id": "e568ef7b",
   "metadata": {
    "colab": {
     "base_uri": "https://localhost:8080/",
     "height": 75
    },
    "executionInfo": {
     "elapsed": 11,
     "status": "ok",
     "timestamp": 1680735469055,
     "user": {
      "displayName": "Hesau Hugo",
      "userId": "00835987297811796714"
     },
     "user_tz": 180
    },
    "id": "G3D01MolbA6s",
    "outputId": "b98e14ca-df83-4d76-df0b-bd2abcc59839"
   },
   "outputs": [
    {
     "data": {
      "text/html": [
       "<style>#sk-container-id-1 {color: black;background-color: white;}#sk-container-id-1 pre{padding: 0;}#sk-container-id-1 div.sk-toggleable {background-color: white;}#sk-container-id-1 label.sk-toggleable__label {cursor: pointer;display: block;width: 100%;margin-bottom: 0;padding: 0.3em;box-sizing: border-box;text-align: center;}#sk-container-id-1 label.sk-toggleable__label-arrow:before {content: \"▸\";float: left;margin-right: 0.25em;color: #696969;}#sk-container-id-1 label.sk-toggleable__label-arrow:hover:before {color: black;}#sk-container-id-1 div.sk-estimator:hover label.sk-toggleable__label-arrow:before {color: black;}#sk-container-id-1 div.sk-toggleable__content {max-height: 0;max-width: 0;overflow: hidden;text-align: left;background-color: #f0f8ff;}#sk-container-id-1 div.sk-toggleable__content pre {margin: 0.2em;color: black;border-radius: 0.25em;background-color: #f0f8ff;}#sk-container-id-1 input.sk-toggleable__control:checked~div.sk-toggleable__content {max-height: 200px;max-width: 100%;overflow: auto;}#sk-container-id-1 input.sk-toggleable__control:checked~label.sk-toggleable__label-arrow:before {content: \"▾\";}#sk-container-id-1 div.sk-estimator input.sk-toggleable__control:checked~label.sk-toggleable__label {background-color: #d4ebff;}#sk-container-id-1 div.sk-label input.sk-toggleable__control:checked~label.sk-toggleable__label {background-color: #d4ebff;}#sk-container-id-1 input.sk-hidden--visually {border: 0;clip: rect(1px 1px 1px 1px);clip: rect(1px, 1px, 1px, 1px);height: 1px;margin: -1px;overflow: hidden;padding: 0;position: absolute;width: 1px;}#sk-container-id-1 div.sk-estimator {font-family: monospace;background-color: #f0f8ff;border: 1px dotted black;border-radius: 0.25em;box-sizing: border-box;margin-bottom: 0.5em;}#sk-container-id-1 div.sk-estimator:hover {background-color: #d4ebff;}#sk-container-id-1 div.sk-parallel-item::after {content: \"\";width: 100%;border-bottom: 1px solid gray;flex-grow: 1;}#sk-container-id-1 div.sk-label:hover label.sk-toggleable__label {background-color: #d4ebff;}#sk-container-id-1 div.sk-serial::before {content: \"\";position: absolute;border-left: 1px solid gray;box-sizing: border-box;top: 0;bottom: 0;left: 50%;z-index: 0;}#sk-container-id-1 div.sk-serial {display: flex;flex-direction: column;align-items: center;background-color: white;padding-right: 0.2em;padding-left: 0.2em;position: relative;}#sk-container-id-1 div.sk-item {position: relative;z-index: 1;}#sk-container-id-1 div.sk-parallel {display: flex;align-items: stretch;justify-content: center;background-color: white;position: relative;}#sk-container-id-1 div.sk-item::before, #sk-container-id-1 div.sk-parallel-item::before {content: \"\";position: absolute;border-left: 1px solid gray;box-sizing: border-box;top: 0;bottom: 0;left: 50%;z-index: -1;}#sk-container-id-1 div.sk-parallel-item {display: flex;flex-direction: column;z-index: 1;position: relative;background-color: white;}#sk-container-id-1 div.sk-parallel-item:first-child::after {align-self: flex-end;width: 50%;}#sk-container-id-1 div.sk-parallel-item:last-child::after {align-self: flex-start;width: 50%;}#sk-container-id-1 div.sk-parallel-item:only-child::after {width: 0;}#sk-container-id-1 div.sk-dashed-wrapped {border: 1px dashed gray;margin: 0 0.4em 0.5em 0.4em;box-sizing: border-box;padding-bottom: 0.4em;background-color: white;}#sk-container-id-1 div.sk-label label {font-family: monospace;font-weight: bold;display: inline-block;line-height: 1.2em;}#sk-container-id-1 div.sk-label-container {text-align: center;}#sk-container-id-1 div.sk-container {/* jupyter's `normalize.less` sets `[hidden] { display: none; }` but bootstrap.min.css set `[hidden] { display: none !important; }` so we also need the `!important` here to be able to override the default hidden behavior on the sphinx rendered scikit-learn.org. See: https://github.com/scikit-learn/scikit-learn/issues/21755 */display: inline-block !important;position: relative;}#sk-container-id-1 div.sk-text-repr-fallback {display: none;}</style><div id=\"sk-container-id-1\" class=\"sk-top-container\"><div class=\"sk-text-repr-fallback\"><pre>LinearRegression()</pre><b>In a Jupyter environment, please rerun this cell to show the HTML representation or trust the notebook. <br />On GitHub, the HTML representation is unable to render, please try loading this page with nbviewer.org.</b></div><div class=\"sk-container\" hidden><div class=\"sk-item\"><div class=\"sk-estimator sk-toggleable\"><input class=\"sk-toggleable__control sk-hidden--visually\" id=\"sk-estimator-id-1\" type=\"checkbox\" checked><label for=\"sk-estimator-id-1\" class=\"sk-toggleable__label sk-toggleable__label-arrow\">LinearRegression</label><div class=\"sk-toggleable__content\"><pre>LinearRegression()</pre></div></div></div></div></div>"
      ],
      "text/plain": [
       "LinearRegression()"
      ]
     },
     "execution_count": 7,
     "metadata": {},
     "output_type": "execute_result"
    }
   ],
   "source": [
    "# Criando um objeto para regressão\n",
    "lm = LinearRegression()\n",
    "lm\n"
   ]
  },
  {
   "cell_type": "code",
   "execution_count": 8,
   "id": "1f63a103",
   "metadata": {
    "colab": {
     "base_uri": "https://localhost:8080/"
    },
    "executionInfo": {
     "elapsed": 11,
     "status": "ok",
     "timestamp": 1680735469056,
     "user": {
      "displayName": "Hesau Hugo",
      "userId": "00835987297811796714"
     },
     "user_tz": 180
    },
    "id": "QS7achwEbA6t",
    "outputId": "488f3ffc-2152-4e76-f9ae-43950739e2e3"
   },
   "outputs": [
    {
     "name": "stdout",
     "output_type": "stream",
     "text": [
      "SCORE: 1.0000\n"
     ]
    }
   ],
   "source": [
    "# Ajustando o novo dataframe\n",
    "df_linear_multipla = df_br[['Life_expectancy', 'Adult_Mortality',\n",
    "       'infant_deaths', 'Alcohol', 'percentage_expenditure', 'Hepatitis_B',\n",
    "       'Measles', 'BMI', 'under_five_deaths', 'Polio', 'Total_expenditure',\n",
    "       'Diphtheria', 'HIV_AIDS', 'GDP', 'Population', 'thinness_1-19_years',\n",
    "       'thinness_5-9_years', 'Income_composition_of_resources', 'Schooling']].copy(deep=True)\n",
    "\n",
    "# Criando as novas variáveis\n",
    "X = df_linear_multipla[['Life_expectancy', 'Adult_Mortality',\n",
    "       'infant_deaths', 'Alcohol', 'percentage_expenditure', 'Hepatitis_B',\n",
    "       'Measles', 'BMI', 'under_five_deaths', 'Polio', 'Total_expenditure',\n",
    "       'Diphtheria', 'HIV_AIDS', 'GDP', 'Population', 'thinness_1-19_years',\n",
    "       'thinness_5-9_years', 'Income_composition_of_resources', 'Schooling']]\n",
    "\n",
    "Y = df_linear_multipla['Life_expectancy']\n",
    "\n",
    "# Carregando o modelo\n",
    "lm.fit(X, Y)\n",
    "\n",
    "# Exibindo o R^2\n",
    "R2=lm.score(X,Y)\n",
    "\n",
    "print(\"SCORE: %.4f\" % R2)"
   ]
  },
  {
   "cell_type": "markdown",
   "id": "cf2eb0a6",
   "metadata": {
    "id": "Dxs3lnkvbA6u"
   },
   "source": [
    "* Calcular os valores previstos:"
   ]
  },
  {
   "cell_type": "code",
   "execution_count": 9,
   "id": "4c5318d6",
   "metadata": {
    "id": "qHZPhwrNbA6u"
   },
   "outputs": [],
   "source": [
    "#Fazendo a predição dos dados\n",
    "\n",
    "YHatLinMult = lm.predict(X)"
   ]
  },
  {
   "cell_type": "code",
   "execution_count": 10,
   "id": "334cb458",
   "metadata": {
    "colab": {
     "base_uri": "https://localhost:8080/",
     "height": 206
    },
    "executionInfo": {
     "elapsed": 337,
     "status": "ok",
     "timestamp": 1680735469385,
     "user": {
      "displayName": "Hesau Hugo",
      "userId": "00835987297811796714"
     },
     "user_tz": 180
    },
    "id": "nBT8_5j0bA6u",
    "outputId": "c0706fdc-e296-469c-8815-6dbd6ed7d85b"
   },
   "outputs": [
    {
     "data": {
      "text/html": [
       "<div>\n",
       "<style scoped>\n",
       "    .dataframe tbody tr th:only-of-type {\n",
       "        vertical-align: middle;\n",
       "    }\n",
       "\n",
       "    .dataframe tbody tr th {\n",
       "        vertical-align: top;\n",
       "    }\n",
       "\n",
       "    .dataframe thead th {\n",
       "        text-align: right;\n",
       "    }\n",
       "</style>\n",
       "<table border=\"1\" class=\"dataframe\">\n",
       "  <thead>\n",
       "    <tr style=\"text-align: right;\">\n",
       "      <th></th>\n",
       "      <th>Life_expectancy</th>\n",
       "      <th>Adult_Mortality</th>\n",
       "      <th>infant_deaths</th>\n",
       "      <th>Alcohol</th>\n",
       "      <th>percentage_expenditure</th>\n",
       "      <th>Hepatitis_B</th>\n",
       "      <th>Measles</th>\n",
       "      <th>BMI</th>\n",
       "      <th>under_five_deaths</th>\n",
       "      <th>Polio</th>\n",
       "      <th>Total_expenditure</th>\n",
       "      <th>Diphtheria</th>\n",
       "      <th>HIV_AIDS</th>\n",
       "      <th>GDP</th>\n",
       "      <th>Population</th>\n",
       "      <th>thinness_1-19_years</th>\n",
       "      <th>thinness_5-9_years</th>\n",
       "      <th>Income_composition_of_resources</th>\n",
       "      <th>Schooling</th>\n",
       "      <th>YHat</th>\n",
       "    </tr>\n",
       "  </thead>\n",
       "  <tbody>\n",
       "    <tr>\n",
       "      <th>0</th>\n",
       "      <td>65.0</td>\n",
       "      <td>263.0</td>\n",
       "      <td>62</td>\n",
       "      <td>0.01</td>\n",
       "      <td>71.279624</td>\n",
       "      <td>65.0</td>\n",
       "      <td>1154</td>\n",
       "      <td>19.1</td>\n",
       "      <td>83</td>\n",
       "      <td>6.0</td>\n",
       "      <td>8.16</td>\n",
       "      <td>65.0</td>\n",
       "      <td>0.1</td>\n",
       "      <td>584.259210</td>\n",
       "      <td>33736494.0</td>\n",
       "      <td>17.2</td>\n",
       "      <td>17.3</td>\n",
       "      <td>0.479</td>\n",
       "      <td>10.1</td>\n",
       "      <td>65.0</td>\n",
       "    </tr>\n",
       "    <tr>\n",
       "      <th>1</th>\n",
       "      <td>59.9</td>\n",
       "      <td>271.0</td>\n",
       "      <td>64</td>\n",
       "      <td>0.01</td>\n",
       "      <td>73.523582</td>\n",
       "      <td>62.0</td>\n",
       "      <td>492</td>\n",
       "      <td>18.6</td>\n",
       "      <td>86</td>\n",
       "      <td>58.0</td>\n",
       "      <td>8.18</td>\n",
       "      <td>62.0</td>\n",
       "      <td>0.1</td>\n",
       "      <td>612.696514</td>\n",
       "      <td>327582.0</td>\n",
       "      <td>17.5</td>\n",
       "      <td>17.5</td>\n",
       "      <td>0.476</td>\n",
       "      <td>10.0</td>\n",
       "      <td>59.9</td>\n",
       "    </tr>\n",
       "    <tr>\n",
       "      <th>2</th>\n",
       "      <td>59.9</td>\n",
       "      <td>268.0</td>\n",
       "      <td>66</td>\n",
       "      <td>0.01</td>\n",
       "      <td>73.219243</td>\n",
       "      <td>64.0</td>\n",
       "      <td>430</td>\n",
       "      <td>18.1</td>\n",
       "      <td>89</td>\n",
       "      <td>62.0</td>\n",
       "      <td>8.13</td>\n",
       "      <td>64.0</td>\n",
       "      <td>0.1</td>\n",
       "      <td>631.744976</td>\n",
       "      <td>31731688.0</td>\n",
       "      <td>17.7</td>\n",
       "      <td>17.7</td>\n",
       "      <td>0.470</td>\n",
       "      <td>9.9</td>\n",
       "      <td>59.9</td>\n",
       "    </tr>\n",
       "    <tr>\n",
       "      <th>3</th>\n",
       "      <td>59.5</td>\n",
       "      <td>272.0</td>\n",
       "      <td>69</td>\n",
       "      <td>0.01</td>\n",
       "      <td>78.184215</td>\n",
       "      <td>67.0</td>\n",
       "      <td>2787</td>\n",
       "      <td>17.6</td>\n",
       "      <td>93</td>\n",
       "      <td>67.0</td>\n",
       "      <td>8.52</td>\n",
       "      <td>67.0</td>\n",
       "      <td>0.1</td>\n",
       "      <td>669.959000</td>\n",
       "      <td>3696958.0</td>\n",
       "      <td>17.9</td>\n",
       "      <td>18.0</td>\n",
       "      <td>0.463</td>\n",
       "      <td>9.8</td>\n",
       "      <td>59.5</td>\n",
       "    </tr>\n",
       "    <tr>\n",
       "      <th>4</th>\n",
       "      <td>59.2</td>\n",
       "      <td>275.0</td>\n",
       "      <td>71</td>\n",
       "      <td>0.01</td>\n",
       "      <td>7.097109</td>\n",
       "      <td>68.0</td>\n",
       "      <td>3013</td>\n",
       "      <td>17.2</td>\n",
       "      <td>97</td>\n",
       "      <td>68.0</td>\n",
       "      <td>7.87</td>\n",
       "      <td>68.0</td>\n",
       "      <td>0.1</td>\n",
       "      <td>63.537231</td>\n",
       "      <td>2978599.0</td>\n",
       "      <td>18.2</td>\n",
       "      <td>18.2</td>\n",
       "      <td>0.454</td>\n",
       "      <td>9.5</td>\n",
       "      <td>59.2</td>\n",
       "    </tr>\n",
       "  </tbody>\n",
       "</table>\n",
       "</div>"
      ],
      "text/plain": [
       "   Life_expectancy  Adult_Mortality  infant_deaths  Alcohol  \\\n",
       "0             65.0            263.0             62     0.01   \n",
       "1             59.9            271.0             64     0.01   \n",
       "2             59.9            268.0             66     0.01   \n",
       "3             59.5            272.0             69     0.01   \n",
       "4             59.2            275.0             71     0.01   \n",
       "\n",
       "   percentage_expenditure  Hepatitis_B  Measles   BMI  under_five_deaths  \\\n",
       "0               71.279624         65.0     1154  19.1                 83   \n",
       "1               73.523582         62.0      492  18.6                 86   \n",
       "2               73.219243         64.0      430  18.1                 89   \n",
       "3               78.184215         67.0     2787  17.6                 93   \n",
       "4                7.097109         68.0     3013  17.2                 97   \n",
       "\n",
       "   Polio  Total_expenditure  Diphtheria  HIV_AIDS         GDP  Population  \\\n",
       "0    6.0               8.16        65.0       0.1  584.259210  33736494.0   \n",
       "1   58.0               8.18        62.0       0.1  612.696514    327582.0   \n",
       "2   62.0               8.13        64.0       0.1  631.744976  31731688.0   \n",
       "3   67.0               8.52        67.0       0.1  669.959000   3696958.0   \n",
       "4   68.0               7.87        68.0       0.1   63.537231   2978599.0   \n",
       "\n",
       "   thinness_1-19_years  thinness_5-9_years  Income_composition_of_resources  \\\n",
       "0                 17.2                17.3                            0.479   \n",
       "1                 17.5                17.5                            0.476   \n",
       "2                 17.7                17.7                            0.470   \n",
       "3                 17.9                18.0                            0.463   \n",
       "4                 18.2                18.2                            0.454   \n",
       "\n",
       "   Schooling  YHat  \n",
       "0       10.1  65.0  \n",
       "1       10.0  59.9  \n",
       "2        9.9  59.9  \n",
       "3        9.8  59.5  \n",
       "4        9.5  59.2  "
      ]
     },
     "execution_count": 10,
     "metadata": {},
     "output_type": "execute_result"
    }
   ],
   "source": [
    "# Carregando os valores previstos para o dataframe\n",
    "df_linear_multipla.loc[:,'YHat'] = YHatLinMult\n",
    "\n",
    "# Visualizando as primeiras linhas do dataframe\n",
    "df_linear_multipla.head(5)"
   ]
  },
  {
   "cell_type": "code",
   "execution_count": 11,
   "id": "d94daed9",
   "metadata": {
    "colab": {
     "base_uri": "https://localhost:8080/",
     "height": 300
    },
    "executionInfo": {
     "elapsed": 10,
     "status": "ok",
     "timestamp": 1680735469385,
     "user": {
      "displayName": "Hesau Hugo",
      "userId": "00835987297811796714"
     },
     "user_tz": 180
    },
    "id": "bs2hDEtCbA6u",
    "outputId": "fd0a09d5-3d00-4abe-ee55-f6ef1cebe27b"
   },
   "outputs": [
    {
     "data": {
      "text/html": [
       "<div>\n",
       "<style scoped>\n",
       "    .dataframe tbody tr th:only-of-type {\n",
       "        vertical-align: middle;\n",
       "    }\n",
       "\n",
       "    .dataframe tbody tr th {\n",
       "        vertical-align: top;\n",
       "    }\n",
       "\n",
       "    .dataframe thead th {\n",
       "        text-align: right;\n",
       "    }\n",
       "</style>\n",
       "<table border=\"1\" class=\"dataframe\">\n",
       "  <thead>\n",
       "    <tr style=\"text-align: right;\">\n",
       "      <th></th>\n",
       "      <th>Life_expectancy</th>\n",
       "      <th>YHat</th>\n",
       "    </tr>\n",
       "  </thead>\n",
       "  <tbody>\n",
       "    <tr>\n",
       "      <th>count</th>\n",
       "      <td>1407.000000</td>\n",
       "      <td>1407.000000</td>\n",
       "    </tr>\n",
       "    <tr>\n",
       "      <th>mean</th>\n",
       "      <td>67.687349</td>\n",
       "      <td>67.687349</td>\n",
       "    </tr>\n",
       "    <tr>\n",
       "      <th>std</th>\n",
       "      <td>8.353983</td>\n",
       "      <td>8.353983</td>\n",
       "    </tr>\n",
       "    <tr>\n",
       "      <th>min</th>\n",
       "      <td>44.000000</td>\n",
       "      <td>44.000000</td>\n",
       "    </tr>\n",
       "    <tr>\n",
       "      <th>25%</th>\n",
       "      <td>62.800000</td>\n",
       "      <td>62.800000</td>\n",
       "    </tr>\n",
       "    <tr>\n",
       "      <th>50%</th>\n",
       "      <td>69.200000</td>\n",
       "      <td>69.200000</td>\n",
       "    </tr>\n",
       "    <tr>\n",
       "      <th>75%</th>\n",
       "      <td>73.800000</td>\n",
       "      <td>73.800000</td>\n",
       "    </tr>\n",
       "    <tr>\n",
       "      <th>max</th>\n",
       "      <td>89.000000</td>\n",
       "      <td>89.000000</td>\n",
       "    </tr>\n",
       "  </tbody>\n",
       "</table>\n",
       "</div>"
      ],
      "text/plain": [
       "       Life_expectancy         YHat\n",
       "count      1407.000000  1407.000000\n",
       "mean         67.687349    67.687349\n",
       "std           8.353983     8.353983\n",
       "min          44.000000    44.000000\n",
       "25%          62.800000    62.800000\n",
       "50%          69.200000    69.200000\n",
       "75%          73.800000    73.800000\n",
       "max          89.000000    89.000000"
      ]
     },
     "execution_count": 11,
     "metadata": {},
     "output_type": "execute_result"
    }
   ],
   "source": [
    "# Analisando a estatística descritiva\n",
    "df_linear_multipla[['Life_expectancy','YHat']].describe()"
   ]
  },
  {
   "cell_type": "markdown",
   "id": "e893b191",
   "metadata": {
    "id": "4fJ-gU-2bA6u"
   },
   "source": [
    "### Comparando Previsto x Real\n",
    "\n",
    "Vamos usar o recurso gráfico para visualizar esse erro."
   ]
  },
  {
   "cell_type": "code",
   "execution_count": 16,
   "id": "18756680",
   "metadata": {
    "colab": {
     "base_uri": "https://localhost:8080/",
     "height": 807
    },
    "executionInfo": {
     "elapsed": 1741,
     "status": "ok",
     "timestamp": 1680735471118,
     "user": {
      "displayName": "Hesau Hugo",
      "userId": "00835987297811796714"
     },
     "user_tz": 180
    },
    "id": "APJ3QTKobA6v",
    "outputId": "aa28cda7-11db-4dc1-9831-52219ba253e6"
   },
   "outputs": [
    {
     "data": {
      "text/plain": [
       "Text(40, 0.03, 'SCORE: 1.000000')"
      ]
     },
     "execution_count": 16,
     "metadata": {},
     "output_type": "execute_result"
    },
    {
     "data": {
      "image/png": "[encoded data removed]",
      "text/plain": [
       "<Figure size 1500x1000 with 1 Axes>"
      ]
     },
     "metadata": {},
     "output_type": "display_data"
    }
   ],
   "source": [
    "plt.figure(figsize=(15, 10))\n",
    "\n",
    "sns.kdeplot(data = df_linear_multipla[['YHat','Life_expectancy']])\n",
    "\n",
    "plt.title('Valores reais vs. estimados', size = 20)\n",
    "plt.xlabel('Expectativa de Vida (em anos)', size = 20)\n",
    "plt.ylabel('Proporção', size = 20)\n",
    "plt.yticks(size = 15)\n",
    "plt.xticks(size = 15) \n",
    "plt.legend(labels=[\"Atual\",\"Previsto\"], fontsize = 15, bbox_to_anchor=(1, 1))\n",
    "\n",
    "tt = \"SCORE: %4f\" % R2\n",
    "\n",
    "plt.text(40, 0.03, tt, size = 15)"
   ]
  },
  {
   "cell_type": "markdown",
   "id": "0fa3f6e7",
   "metadata": {},
   "source": [
    "## TASK 02\n",
    "\n",
    "Interprete os resultados"
   ]
  },
  {
   "cell_type": "markdown",
   "id": "372944de",
   "metadata": {
    "id": "7aO8O4H_NV4L"
   },
   "source": [
    "## Referências:\n",
    "\n",
    "Translated and inspired in the material developed by IBM:\n",
    "<a href=\"https://www.linkedin.com/in/joseph-s-50398b136/?utm_medium=Exinfluencer&utm_source=Exinfluencer&utm_content=000026UJ&utm_term=10006555&utm_id=NA-SkillsNetwork-Channel-SkillsNetworkCoursesIBMDeveloperSkillsNetworkDA0101ENSkillsNetwork20235326-2021-01-01\" target=\"_blank\">Joseph Santarcangelo</a>\n",
    "<br>\n",
    "\n",
    "Documentação da biblioteca <a href=\"https://pandas.pydata.org/docs/\">Pandas</a>\n",
    "\n",
    "Documentação da biblioteca <a href=\"https://seaborn.pydata.org/\">Seaborn</a>\n",
    "\n",
    "Documentação do biblioteca <a href=\"https://matplotlib.org/\">Matplotlib</a>\n",
    "\n",
    "Documentação do biblioteca <a href=\"https://numpy.org/devdocs/reference/index.html\">Numpy</a>"
   ]
  },
  {
   "cell_type": "markdown",
   "id": "c6f4c377",
   "metadata": {},
   "source": [
    "## Autores\n",
    "\n",
    "<a href=\"https://www.linkedin.com/in/eduardopecora/\" target=\"_blank\">Eduardo Pecora</a>\n",
    "\n",
    "<a href=\"https://www.linkedin.com/in/hesauhugocavalcanti/\" target=\"_blank\">Hesau Hugo</a>\n",
    "\n",
    "## Log de modificações\n",
    "\n",
    "| Data | Versão | Modificado por | Descrição |\n",
    "| -----------| ------- | ---------- | ---------------------------------- |\n",
    "| 04-04-2021       | 1.0     | Eduardo Pecora    | Inicial               |\n",
    "| 03-11-2021       | 1.1     | Eduardo Pecora    | Estrutura Aula        |\n",
    "| 08-03-2022       | 1.2     | Eduardo Pecora    | GitHub                |\n",
    "| 17-04-2023       | 1.3     | Hesau Hugo        | Reestruturação        |\n",
    "| 27-06-2023       | 1.31    | Eduardo Pecora    | LAB                   |"
   ]
  }
 ],
 "metadata": {
  "kernelspec": {
   "display_name": "Python 3 (ipykernel)",
   "language": "python",
   "name": "python3"
  },
  "language_info": {
   "codemirror_mode": {
    "name": "ipython",
    "version": 3
   },
   "file_extension": ".py",
   "mimetype": "text/x-python",
   "name": "python",
   "nbconvert_exporter": "python",
   "pygments_lexer": "ipython3",
   "version": "3.11.4"
  }
 },
 "nbformat": 4,
 "nbformat_minor": 5
}
