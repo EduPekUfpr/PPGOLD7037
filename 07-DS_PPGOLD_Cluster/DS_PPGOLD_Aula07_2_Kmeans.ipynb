{
 "cells": [
  {
   "cell_type": "markdown",
   "id": "67bcf596",
   "metadata": {},
   "source": [
    "<p style =\"text-align:center\">\n",
    "    <img src=\"http://epecora.com.br/DataFiles/PPGOLD_logo.png\" width=\"300\" alt=\"PPGOLD Data Science: INTRO\"  />\n",
    "</p>\n",
    "\n",
    "# Aula 07 de Data Science"
   ]
  },
  {
   "cell_type": "markdown",
   "id": "fd536bcc-ac37-4b64-81b0-bef5feeee33e",
   "metadata": {
    "button": false,
    "new_sheet": false,
    "run_control": {
     "read_only": false
    }
   },
   "source": [
    "# K-Means (Clusterização não Hierárquica)\n",
    "* Tempo estimado: **60** minutos"
   ]
  },
  {
   "cell_type": "markdown",
   "id": "31a73084",
   "metadata": {},
   "source": [
    "## Objetivos"
   ]
  },
  {
   "cell_type": "markdown",
   "id": "e43dda48",
   "metadata": {},
   "source": [
    "\n",
    "*   Criar Clusters não hierárquicos com o algorítimo K-Means.\n",
    "*   Fazer previsão de uma nova observação.\n",
    "*   Realizar análises da qualidade da clusterização.    "
   ]
  },
  {
   "cell_type": "markdown",
   "id": "91257d04",
   "metadata": {},
   "source": [
    "## Bibliotecas"
   ]
  },
  {
   "cell_type": "code",
   "execution_count": 1,
   "id": "ca70efaf-612a-4cec-b299-8ed1940babfe",
   "metadata": {},
   "outputs": [],
   "source": [
    "import random \n",
    "import numpy as np \n",
    "import pandas as pd\n",
    "import matplotlib.pyplot as plt \n",
    "from sklearn.cluster import KMeans \n",
    "from sklearn.metrics import silhouette_score\n",
    "from scipy.stats import f_oneway\n",
    "\n",
    "%matplotlib inline"
   ]
  },
  {
   "cell_type": "markdown",
   "id": "2614dab3",
   "metadata": {},
   "source": [
    "## Obtendo Dados"
   ]
  },
  {
   "cell_type": "code",
   "execution_count": 2,
   "id": "eeccdfac",
   "metadata": {},
   "outputs": [
    {
     "data": {
      "text/html": [
       "<div>\n",
       "<style scoped>\n",
       "    .dataframe tbody tr th:only-of-type {\n",
       "        vertical-align: middle;\n",
       "    }\n",
       "\n",
       "    .dataframe tbody tr th {\n",
       "        vertical-align: top;\n",
       "    }\n",
       "\n",
       "    .dataframe thead th {\n",
       "        text-align: right;\n",
       "    }\n",
       "</style>\n",
       "<table border=\"1\" class=\"dataframe\">\n",
       "  <thead>\n",
       "    <tr style=\"text-align: right;\">\n",
       "      <th></th>\n",
       "      <th>matematica</th>\n",
       "      <th>fisica</th>\n",
       "      <th>quimica</th>\n",
       "    </tr>\n",
       "  </thead>\n",
       "  <tbody>\n",
       "    <tr>\n",
       "      <th>Gabriela</th>\n",
       "      <td>3.7</td>\n",
       "      <td>2.7</td>\n",
       "      <td>9.1</td>\n",
       "    </tr>\n",
       "    <tr>\n",
       "      <th>Luiz Felipe</th>\n",
       "      <td>7.8</td>\n",
       "      <td>8.0</td>\n",
       "      <td>1.5</td>\n",
       "    </tr>\n",
       "    <tr>\n",
       "      <th>Patrícia</th>\n",
       "      <td>8.9</td>\n",
       "      <td>1.0</td>\n",
       "      <td>2.7</td>\n",
       "    </tr>\n",
       "    <tr>\n",
       "      <th>Ovídio</th>\n",
       "      <td>7.0</td>\n",
       "      <td>1.0</td>\n",
       "      <td>9.0</td>\n",
       "    </tr>\n",
       "    <tr>\n",
       "      <th>Leonor</th>\n",
       "      <td>3.4</td>\n",
       "      <td>2.0</td>\n",
       "      <td>5.0</td>\n",
       "    </tr>\n",
       "  </tbody>\n",
       "</table>\n",
       "</div>"
      ],
      "text/plain": [
       "             matematica  fisica  quimica\n",
       "Gabriela            3.7     2.7      9.1\n",
       "Luiz Felipe         7.8     8.0      1.5\n",
       "Patrícia            8.9     1.0      2.7\n",
       "Ovídio              7.0     1.0      9.0\n",
       "Leonor              3.4     2.0      5.0"
      ]
     },
     "execution_count": 2,
     "metadata": {},
     "output_type": "execute_result"
    }
   ],
   "source": [
    "estudante = ['Gabriela','Luiz Felipe','Patrícia','Ovídio','Leonor']\n",
    "notas_matematica = np.array([3.7,7.8,8.9,7.0,3.4])\n",
    "notas_fisica = np.array([2.7,8.0,1.0,1.0,2.0])\n",
    "notas_quimica = np.array([9.1,1.5,2.7,9.0,5.0])\n",
    "df_notas = pd.DataFrame({'matematica':notas_matematica,'fisica':notas_fisica,'quimica':notas_quimica},index=estudante)\n",
    "df_notas.head()"
   ]
  },
  {
   "cell_type": "markdown",
   "id": "d6e60911",
   "metadata": {},
   "source": [
    "## K-Means"
   ]
  },
  {
   "cell_type": "markdown",
   "id": "4b0e67f2",
   "metadata": {},
   "source": [
    "Nós Usaremos 3 parâmetros para o KMeans:\n",
    "\n",
    "* init: k-means++ - Seleção automática nos centróides iniciais\n",
    "* n_clusters: 3 Número de CLusters\n",
    "* n_init: 30 quantas reinicializações com diferentes centróides"
   ]
  },
  {
   "cell_type": "code",
   "execution_count": 3,
   "id": "7d7f953c",
   "metadata": {},
   "outputs": [],
   "source": [
    "k_means = KMeans(init = \"k-means++\", n_clusters = 3, n_init = 30)"
   ]
  },
  {
   "cell_type": "code",
   "execution_count": 4,
   "id": "9cb543c7",
   "metadata": {},
   "outputs": [
    {
     "data": {
      "text/html": [
       "<style>#sk-container-id-1 {color: black;background-color: white;}#sk-container-id-1 pre{padding: 0;}#sk-container-id-1 div.sk-toggleable {background-color: white;}#sk-container-id-1 label.sk-toggleable__label {cursor: pointer;display: block;width: 100%;margin-bottom: 0;padding: 0.3em;box-sizing: border-box;text-align: center;}#sk-container-id-1 label.sk-toggleable__label-arrow:before {content: \"▸\";float: left;margin-right: 0.25em;color: #696969;}#sk-container-id-1 label.sk-toggleable__label-arrow:hover:before {color: black;}#sk-container-id-1 div.sk-estimator:hover label.sk-toggleable__label-arrow:before {color: black;}#sk-container-id-1 div.sk-toggleable__content {max-height: 0;max-width: 0;overflow: hidden;text-align: left;background-color: #f0f8ff;}#sk-container-id-1 div.sk-toggleable__content pre {margin: 0.2em;color: black;border-radius: 0.25em;background-color: #f0f8ff;}#sk-container-id-1 input.sk-toggleable__control:checked~div.sk-toggleable__content {max-height: 200px;max-width: 100%;overflow: auto;}#sk-container-id-1 input.sk-toggleable__control:checked~label.sk-toggleable__label-arrow:before {content: \"▾\";}#sk-container-id-1 div.sk-estimator input.sk-toggleable__control:checked~label.sk-toggleable__label {background-color: #d4ebff;}#sk-container-id-1 div.sk-label input.sk-toggleable__control:checked~label.sk-toggleable__label {background-color: #d4ebff;}#sk-container-id-1 input.sk-hidden--visually {border: 0;clip: rect(1px 1px 1px 1px);clip: rect(1px, 1px, 1px, 1px);height: 1px;margin: -1px;overflow: hidden;padding: 0;position: absolute;width: 1px;}#sk-container-id-1 div.sk-estimator {font-family: monospace;background-color: #f0f8ff;border: 1px dotted black;border-radius: 0.25em;box-sizing: border-box;margin-bottom: 0.5em;}#sk-container-id-1 div.sk-estimator:hover {background-color: #d4ebff;}#sk-container-id-1 div.sk-parallel-item::after {content: \"\";width: 100%;border-bottom: 1px solid gray;flex-grow: 1;}#sk-container-id-1 div.sk-label:hover label.sk-toggleable__label {background-color: #d4ebff;}#sk-container-id-1 div.sk-serial::before {content: \"\";position: absolute;border-left: 1px solid gray;box-sizing: border-box;top: 0;bottom: 0;left: 50%;z-index: 0;}#sk-container-id-1 div.sk-serial {display: flex;flex-direction: column;align-items: center;background-color: white;padding-right: 0.2em;padding-left: 0.2em;position: relative;}#sk-container-id-1 div.sk-item {position: relative;z-index: 1;}#sk-container-id-1 div.sk-parallel {display: flex;align-items: stretch;justify-content: center;background-color: white;position: relative;}#sk-container-id-1 div.sk-item::before, #sk-container-id-1 div.sk-parallel-item::before {content: \"\";position: absolute;border-left: 1px solid gray;box-sizing: border-box;top: 0;bottom: 0;left: 50%;z-index: -1;}#sk-container-id-1 div.sk-parallel-item {display: flex;flex-direction: column;z-index: 1;position: relative;background-color: white;}#sk-container-id-1 div.sk-parallel-item:first-child::after {align-self: flex-end;width: 50%;}#sk-container-id-1 div.sk-parallel-item:last-child::after {align-self: flex-start;width: 50%;}#sk-container-id-1 div.sk-parallel-item:only-child::after {width: 0;}#sk-container-id-1 div.sk-dashed-wrapped {border: 1px dashed gray;margin: 0 0.4em 0.5em 0.4em;box-sizing: border-box;padding-bottom: 0.4em;background-color: white;}#sk-container-id-1 div.sk-label label {font-family: monospace;font-weight: bold;display: inline-block;line-height: 1.2em;}#sk-container-id-1 div.sk-label-container {text-align: center;}#sk-container-id-1 div.sk-container {/* jupyter's `normalize.less` sets `[hidden] { display: none; }` but bootstrap.min.css set `[hidden] { display: none !important; }` so we also need the `!important` here to be able to override the default hidden behavior on the sphinx rendered scikit-learn.org. See: https://github.com/scikit-learn/scikit-learn/issues/21755 */display: inline-block !important;position: relative;}#sk-container-id-1 div.sk-text-repr-fallback {display: none;}</style><div id=\"sk-container-id-1\" class=\"sk-top-container\"><div class=\"sk-text-repr-fallback\"><pre>KMeans(n_clusters=3, n_init=30)</pre><b>In a Jupyter environment, please rerun this cell to show the HTML representation or trust the notebook. <br />On GitHub, the HTML representation is unable to render, please try loading this page with nbviewer.org.</b></div><div class=\"sk-container\" hidden><div class=\"sk-item\"><div class=\"sk-estimator sk-toggleable\"><input class=\"sk-toggleable__control sk-hidden--visually\" id=\"sk-estimator-id-1\" type=\"checkbox\" checked><label for=\"sk-estimator-id-1\" class=\"sk-toggleable__label sk-toggleable__label-arrow\">KMeans</label><div class=\"sk-toggleable__content\"><pre>KMeans(n_clusters=3, n_init=30)</pre></div></div></div></div></div>"
      ],
      "text/plain": [
       "KMeans(n_clusters=3, n_init=30)"
      ]
     },
     "execution_count": 4,
     "metadata": {},
     "output_type": "execute_result"
    }
   ],
   "source": [
    "k_means.fit(df_notas)"
   ]
  },
  {
   "cell_type": "code",
   "execution_count": 5,
   "id": "7f162c35",
   "metadata": {},
   "outputs": [
    {
     "data": {
      "text/plain": [
       "3"
      ]
     },
     "execution_count": 5,
     "metadata": {},
     "output_type": "execute_result"
    }
   ],
   "source": [
    "numero_clusters = k_means.n_clusters\n",
    "numero_clusters"
   ]
  },
  {
   "cell_type": "code",
   "execution_count": 6,
   "id": "c76e0955",
   "metadata": {},
   "outputs": [
    {
     "data": {
      "text/plain": [
       "array([0, 1, 2, 0, 0])"
      ]
     },
     "execution_count": 6,
     "metadata": {},
     "output_type": "execute_result"
    }
   ],
   "source": [
    "k_means_labels = k_means.labels_\n",
    "k_means_labels"
   ]
  },
  {
   "cell_type": "code",
   "execution_count": 7,
   "id": "04bc8130",
   "metadata": {},
   "outputs": [
    {
     "data": {
      "text/plain": [
       "array([[4.7, 1.9, 7.7],\n",
       "       [7.8, 8. , 1.5],\n",
       "       [8.9, 1. , 2.7]])"
      ]
     },
     "execution_count": 7,
     "metadata": {},
     "output_type": "execute_result"
    }
   ],
   "source": [
    "k_means_centroids = k_means.cluster_centers_\n",
    "k_means_centroids"
   ]
  },
  {
   "cell_type": "code",
   "execution_count": 8,
   "id": "deed47fc",
   "metadata": {},
   "outputs": [
    {
     "data": {
      "text/plain": [
       "array([4.7, 7.8, 8.9])"
      ]
     },
     "execution_count": 8,
     "metadata": {},
     "output_type": "execute_result"
    }
   ],
   "source": [
    "k_means_centroids[:,0]"
   ]
  },
  {
   "cell_type": "code",
   "execution_count": 9,
   "id": "34e2d70f",
   "metadata": {},
   "outputs": [
    {
     "data": {
      "text/plain": [
       "<mpl_toolkits.mplot3d.art3d.Path3DCollection at 0x2007f1e12b0>"
      ]
     },
     "execution_count": 9,
     "metadata": {},
     "output_type": "execute_result"
    },
    {
     "data": {
      "image/png": "[encoded data removed]",
      "text/plain": [
       "<Figure size 720x576 with 1 Axes>"
      ]
     },
     "metadata": {
      "needs_background": "light"
     },
     "output_type": "display_data"
    }
   ],
   "source": [
    "# Gerar gráfico 3D\n",
    "fig = plt.figure(figsize=(10,8))\n",
    "ax = fig.add_subplot(111, projection='3d')\n",
    "ax.scatter(df_notas.iloc[:, 0], df_notas.iloc[:, 1], df_notas.iloc[:, 2], c=k_means_labels, s=50)\n",
    "ax.set_title('Cluster Notas Alunos')\n",
    "ax.set_xlabel('Matemática')\n",
    "ax.set_ylabel('Fisica')\n",
    "ax.set_zlabel('Quimica')\n",
    "\n",
    "# Adicionar o nome dos alunos como texto ao lado de cada ponto\n",
    "for i in range(len(k_means_labels)):\n",
    "    row = df_notas.iloc[i]\n",
    "    ax.text(row['matematica'], row['fisica'], row['quimica']+0.2, row.name)\n",
    "\n",
    "\n",
    "ax.scatter(k_means_centroids[:,0], k_means_centroids[:,1], k_means_centroids[:,2],color='red', s=50)"
   ]
  },
  {
   "cell_type": "markdown",
   "id": "a4297b54",
   "metadata": {},
   "source": [
    "## Prevendo o Cluster do Henrique"
   ]
  },
  {
   "cell_type": "code",
   "execution_count": 10,
   "id": "0314b357",
   "metadata": {},
   "outputs": [
    {
     "data": {
      "text/html": [
       "<div>\n",
       "<style scoped>\n",
       "    .dataframe tbody tr th:only-of-type {\n",
       "        vertical-align: middle;\n",
       "    }\n",
       "\n",
       "    .dataframe tbody tr th {\n",
       "        vertical-align: top;\n",
       "    }\n",
       "\n",
       "    .dataframe thead th {\n",
       "        text-align: right;\n",
       "    }\n",
       "</style>\n",
       "<table border=\"1\" class=\"dataframe\">\n",
       "  <thead>\n",
       "    <tr style=\"text-align: right;\">\n",
       "      <th></th>\n",
       "      <th>matematica</th>\n",
       "      <th>fisica</th>\n",
       "      <th>quimica</th>\n",
       "    </tr>\n",
       "  </thead>\n",
       "  <tbody>\n",
       "    <tr>\n",
       "      <th>Henrique</th>\n",
       "      <td>8.0</td>\n",
       "      <td>2.0</td>\n",
       "      <td>3</td>\n",
       "    </tr>\n",
       "  </tbody>\n",
       "</table>\n",
       "</div>"
      ],
      "text/plain": [
       "          matematica  fisica  quimica\n",
       "Henrique         8.0     2.0        3"
      ]
     },
     "execution_count": 10,
     "metadata": {},
     "output_type": "execute_result"
    }
   ],
   "source": [
    "df_notas_henrique = pd.DataFrame({'matematica':[8.0],'fisica':[2.0],'quimica':[3]},index=['Henrique'])\n",
    "df_notas_henrique.head()"
   ]
  },
  {
   "cell_type": "code",
   "execution_count": 11,
   "id": "5a0c2741",
   "metadata": {},
   "outputs": [
    {
     "name": "stdout",
     "output_type": "stream",
     "text": [
      "Etiquetas dos clusters:  [2]\n"
     ]
    }
   ],
   "source": [
    "# Prever os clusters de um conjunto de dados inteiro\n",
    "predicted_clusters = k_means.predict(df_notas_henrique)\n",
    "\n",
    "# Imprimir as etiquetas dos clusters para cada ponto de dados\n",
    "print(\"Etiquetas dos clusters: \", predicted_clusters)\n"
   ]
  },
  {
   "cell_type": "code",
   "execution_count": 12,
   "id": "9fcadebc",
   "metadata": {},
   "outputs": [
    {
     "data": {
      "text/plain": [
       "Text(8.0, 2.0, 'Henrique')"
      ]
     },
     "execution_count": 12,
     "metadata": {},
     "output_type": "execute_result"
    },
    {
     "data": {
      "image/png": "[encoded data removed]",
      "text/plain": [
       "<Figure size 720x576 with 1 Axes>"
      ]
     },
     "metadata": {
      "needs_background": "light"
     },
     "output_type": "display_data"
    }
   ],
   "source": [
    "# Gerar gráfico 3D\n",
    "fig = plt.figure(figsize=(10,8))\n",
    "ax = fig.add_subplot(111, projection='3d')\n",
    "ax.scatter(df_notas.iloc[:, 0], df_notas.iloc[:, 1], df_notas.iloc[:, 2], c=k_means_labels, s=50)\n",
    "ax.set_title('Cluster Notas Alunos')\n",
    "ax.set_xlabel('Matemática')\n",
    "ax.set_ylabel('Fisica')\n",
    "ax.set_zlabel('Quimica')\n",
    "\n",
    "# Adicionar o nome dos alunos como texto ao lado de cada ponto\n",
    "for i in range(len(k_means_labels)):\n",
    "    row = df_notas.iloc[i]\n",
    "    ax.text(row['matematica'], row['fisica'], row['quimica']+0.2, row.name)\n",
    "\n",
    "\n",
    "ax.scatter(k_means_centroids[:,0], k_means_centroids[:,1], k_means_centroids[:,2],color='red', s=50)\n",
    "\n",
    "ax.scatter(df_notas_henrique.iloc[:, 0], df_notas_henrique.iloc[:, 1], df_notas_henrique.iloc[:, 2],color='black', s=50)\n",
    "\n",
    "ax.text(df_notas_henrique.iloc[0, 0], df_notas_henrique.iloc[0, 1], df_notas_henrique.iloc[0, 0]+0.2, 'Henrique')"
   ]
  },
  {
   "cell_type": "code",
   "execution_count": 13,
   "id": "02577d18",
   "metadata": {},
   "outputs": [
    {
     "name": "stdout",
     "output_type": "stream",
     "text": [
      "Coeficiente de Silhouette: 0.20721453313164395\n"
     ]
    }
   ],
   "source": [
    "# Calcular o coeficiente de Silhouette\n",
    "silhouette_coef = silhouette_score(df_notas, k_means_labels)\n",
    "print(\"Coeficiente de Silhouette:\", silhouette_coef)"
   ]
  },
  {
   "cell_type": "markdown",
   "id": "b8b36469",
   "metadata": {},
   "source": [
    "## Análise de silhueta"
   ]
  },
  {
   "cell_type": "code",
   "execution_count": 14,
   "id": "67392aea",
   "metadata": {},
   "outputs": [
    {
     "name": "stdout",
     "output_type": "stream",
     "text": [
      "Silhouette score para 2 clusters: 0.21\n",
      "Silhouette score para 3 clusters: 0.21\n",
      "Silhouette score para 4 clusters: 0.21\n"
     ]
    }
   ],
   "source": [
    "silhouette_scores = []\n",
    "\n",
    "for n_clusters in range(2, 5):\n",
    "    # Criando o modelo de clustering hierárquico\n",
    "    k_means = KMeans(init = \"k-means++\", n_clusters = n_clusters, n_init = 5)\n",
    "    # Ajustando o modelo aos dados\n",
    "    k_means.fit(df_notas)\n",
    "    # Calculando o valor de silhueta para o modelo\n",
    "    silhouette_avg = silhouette_score(df_notas, k_means_labels)\n",
    "    # Adicionando o valor de silhueta à lista\n",
    "    silhouette_scores.append(silhouette_avg)\n",
    "\n",
    "# Imprimindo os valores de silhueta para cada número de clusters testado\n",
    "for i, score in enumerate(silhouette_scores):\n",
    "    print(f\"Silhouette score para {i+2} clusters: {score:.2f}\")"
   ]
  },
  {
   "cell_type": "markdown",
   "id": "81ce202b",
   "metadata": {},
   "source": [
    "## Análise dos clusters"
   ]
  },
  {
   "cell_type": "code",
   "execution_count": 15,
   "id": "12b99f88",
   "metadata": {},
   "outputs": [
    {
     "data": {
      "text/html": [
       "<div>\n",
       "<style scoped>\n",
       "    .dataframe tbody tr th:only-of-type {\n",
       "        vertical-align: middle;\n",
       "    }\n",
       "\n",
       "    .dataframe tbody tr th {\n",
       "        vertical-align: top;\n",
       "    }\n",
       "\n",
       "    .dataframe thead th {\n",
       "        text-align: right;\n",
       "    }\n",
       "</style>\n",
       "<table border=\"1\" class=\"dataframe\">\n",
       "  <thead>\n",
       "    <tr style=\"text-align: right;\">\n",
       "      <th></th>\n",
       "      <th>matematica</th>\n",
       "      <th>fisica</th>\n",
       "      <th>quimica</th>\n",
       "      <th>cluster</th>\n",
       "    </tr>\n",
       "  </thead>\n",
       "  <tbody>\n",
       "    <tr>\n",
       "      <th>Gabriela</th>\n",
       "      <td>3.7</td>\n",
       "      <td>2.7</td>\n",
       "      <td>9.1</td>\n",
       "      <td>0</td>\n",
       "    </tr>\n",
       "    <tr>\n",
       "      <th>Luiz Felipe</th>\n",
       "      <td>7.8</td>\n",
       "      <td>8.0</td>\n",
       "      <td>1.5</td>\n",
       "      <td>1</td>\n",
       "    </tr>\n",
       "    <tr>\n",
       "      <th>Patrícia</th>\n",
       "      <td>8.9</td>\n",
       "      <td>1.0</td>\n",
       "      <td>2.7</td>\n",
       "      <td>2</td>\n",
       "    </tr>\n",
       "    <tr>\n",
       "      <th>Ovídio</th>\n",
       "      <td>7.0</td>\n",
       "      <td>1.0</td>\n",
       "      <td>9.0</td>\n",
       "      <td>0</td>\n",
       "    </tr>\n",
       "    <tr>\n",
       "      <th>Leonor</th>\n",
       "      <td>3.4</td>\n",
       "      <td>2.0</td>\n",
       "      <td>5.0</td>\n",
       "      <td>0</td>\n",
       "    </tr>\n",
       "    <tr>\n",
       "      <th>Henrique</th>\n",
       "      <td>8.0</td>\n",
       "      <td>2.0</td>\n",
       "      <td>3.0</td>\n",
       "      <td>2</td>\n",
       "    </tr>\n",
       "  </tbody>\n",
       "</table>\n",
       "</div>"
      ],
      "text/plain": [
       "             matematica  fisica  quimica  cluster\n",
       "Gabriela            3.7     2.7      9.1        0\n",
       "Luiz Felipe         7.8     8.0      1.5        1\n",
       "Patrícia            8.9     1.0      2.7        2\n",
       "Ovídio              7.0     1.0      9.0        0\n",
       "Leonor              3.4     2.0      5.0        0\n",
       "Henrique            8.0     2.0      3.0        2"
      ]
     },
     "execution_count": 15,
     "metadata": {},
     "output_type": "execute_result"
    }
   ],
   "source": [
    "df_notas['cluster'] = k_means_labels\n",
    "df_notas_henrique['cluster'] = predicted_clusters\n",
    "df_notas_henrique\n",
    "df_notas = pd.concat([df_notas,df_notas_henrique],axis='rows')\n",
    "df_notas.head(10)"
   ]
  },
  {
   "cell_type": "code",
   "execution_count": 16,
   "id": "682153cc",
   "metadata": {},
   "outputs": [
    {
     "data": {
      "text/html": [
       "<div>\n",
       "<style scoped>\n",
       "    .dataframe tbody tr th:only-of-type {\n",
       "        vertical-align: middle;\n",
       "    }\n",
       "\n",
       "    .dataframe tbody tr th {\n",
       "        vertical-align: top;\n",
       "    }\n",
       "\n",
       "    .dataframe thead th {\n",
       "        text-align: right;\n",
       "    }\n",
       "</style>\n",
       "<table border=\"1\" class=\"dataframe\">\n",
       "  <thead>\n",
       "    <tr style=\"text-align: right;\">\n",
       "      <th></th>\n",
       "      <th>matematica</th>\n",
       "      <th>fisica</th>\n",
       "      <th>quimica</th>\n",
       "    </tr>\n",
       "    <tr>\n",
       "      <th>cluster</th>\n",
       "      <th></th>\n",
       "      <th></th>\n",
       "      <th></th>\n",
       "    </tr>\n",
       "  </thead>\n",
       "  <tbody>\n",
       "    <tr>\n",
       "      <th>0</th>\n",
       "      <td>4.70</td>\n",
       "      <td>1.9</td>\n",
       "      <td>7.70</td>\n",
       "    </tr>\n",
       "    <tr>\n",
       "      <th>1</th>\n",
       "      <td>7.80</td>\n",
       "      <td>8.0</td>\n",
       "      <td>1.50</td>\n",
       "    </tr>\n",
       "    <tr>\n",
       "      <th>2</th>\n",
       "      <td>8.45</td>\n",
       "      <td>1.5</td>\n",
       "      <td>2.85</td>\n",
       "    </tr>\n",
       "  </tbody>\n",
       "</table>\n",
       "</div>"
      ],
      "text/plain": [
       "         matematica  fisica  quimica\n",
       "cluster                             \n",
       "0              4.70     1.9     7.70\n",
       "1              7.80     8.0     1.50\n",
       "2              8.45     1.5     2.85"
      ]
     },
     "execution_count": 16,
     "metadata": {},
     "output_type": "execute_result"
    }
   ],
   "source": [
    "df_media_cluster = df_notas.groupby('cluster')[['matematica','fisica','quimica']].mean()\n",
    "df_media_cluster.head(10)"
   ]
  },
  {
   "cell_type": "code",
   "execution_count": 17,
   "id": "07ea423d",
   "metadata": {},
   "outputs": [
    {
     "data": {
      "text/html": [
       "<div>\n",
       "<style scoped>\n",
       "    .dataframe tbody tr th:only-of-type {\n",
       "        vertical-align: middle;\n",
       "    }\n",
       "\n",
       "    .dataframe tbody tr th {\n",
       "        vertical-align: top;\n",
       "    }\n",
       "\n",
       "    .dataframe thead th {\n",
       "        text-align: right;\n",
       "    }\n",
       "</style>\n",
       "<table border=\"1\" class=\"dataframe\">\n",
       "  <thead>\n",
       "    <tr style=\"text-align: right;\">\n",
       "      <th></th>\n",
       "      <th>matematica</th>\n",
       "      <th>fisica</th>\n",
       "      <th>quimica</th>\n",
       "    </tr>\n",
       "    <tr>\n",
       "      <th>cluster</th>\n",
       "      <th></th>\n",
       "      <th></th>\n",
       "      <th></th>\n",
       "    </tr>\n",
       "  </thead>\n",
       "  <tbody>\n",
       "    <tr>\n",
       "      <th>0</th>\n",
       "      <td>1.997498</td>\n",
       "      <td>0.854400</td>\n",
       "      <td>2.338803</td>\n",
       "    </tr>\n",
       "    <tr>\n",
       "      <th>1</th>\n",
       "      <td>NaN</td>\n",
       "      <td>NaN</td>\n",
       "      <td>NaN</td>\n",
       "    </tr>\n",
       "    <tr>\n",
       "      <th>2</th>\n",
       "      <td>0.636396</td>\n",
       "      <td>0.707107</td>\n",
       "      <td>0.212132</td>\n",
       "    </tr>\n",
       "  </tbody>\n",
       "</table>\n",
       "</div>"
      ],
      "text/plain": [
       "         matematica    fisica   quimica\n",
       "cluster                                \n",
       "0          1.997498  0.854400  2.338803\n",
       "1               NaN       NaN       NaN\n",
       "2          0.636396  0.707107  0.212132"
      ]
     },
     "execution_count": 17,
     "metadata": {},
     "output_type": "execute_result"
    }
   ],
   "source": [
    "df_desvio_cluster = df_notas.groupby('cluster')[['matematica','fisica','quimica']].std(ddof=1)\n",
    "df_desvio_cluster.head(10)"
   ]
  },
  {
   "cell_type": "code",
   "execution_count": 18,
   "id": "93c3bfeb",
   "metadata": {},
   "outputs": [
    {
     "data": {
      "text/html": [
       "<div>\n",
       "<style scoped>\n",
       "    .dataframe tbody tr th:only-of-type {\n",
       "        vertical-align: middle;\n",
       "    }\n",
       "\n",
       "    .dataframe tbody tr th {\n",
       "        vertical-align: top;\n",
       "    }\n",
       "\n",
       "    .dataframe thead th {\n",
       "        text-align: right;\n",
       "    }\n",
       "</style>\n",
       "<table border=\"1\" class=\"dataframe\">\n",
       "  <thead>\n",
       "    <tr style=\"text-align: right;\">\n",
       "      <th></th>\n",
       "      <th>matematica</th>\n",
       "      <th>fisica</th>\n",
       "      <th>quimica</th>\n",
       "    </tr>\n",
       "    <tr>\n",
       "      <th>cluster</th>\n",
       "      <th></th>\n",
       "      <th></th>\n",
       "      <th></th>\n",
       "    </tr>\n",
       "  </thead>\n",
       "  <tbody>\n",
       "    <tr>\n",
       "      <th>0</th>\n",
       "      <td>3</td>\n",
       "      <td>3</td>\n",
       "      <td>3</td>\n",
       "    </tr>\n",
       "    <tr>\n",
       "      <th>1</th>\n",
       "      <td>1</td>\n",
       "      <td>1</td>\n",
       "      <td>1</td>\n",
       "    </tr>\n",
       "    <tr>\n",
       "      <th>2</th>\n",
       "      <td>2</td>\n",
       "      <td>2</td>\n",
       "      <td>2</td>\n",
       "    </tr>\n",
       "  </tbody>\n",
       "</table>\n",
       "</div>"
      ],
      "text/plain": [
       "         matematica  fisica  quimica\n",
       "cluster                             \n",
       "0                 3       3        3\n",
       "1                 1       1        1\n",
       "2                 2       2        2"
      ]
     },
     "execution_count": 18,
     "metadata": {},
     "output_type": "execute_result"
    }
   ],
   "source": [
    "df_frequencia_cluster = df_notas.groupby('cluster')[['matematica','fisica','quimica']].count()\n",
    "df_frequencia_cluster.head(10)"
   ]
  },
  {
   "cell_type": "markdown",
   "id": "4c502566",
   "metadata": {},
   "source": [
    "### Análise de variância"
   ]
  },
  {
   "cell_type": "markdown",
   "id": "79e5b46a",
   "metadata": {},
   "source": [
    "#### Revisando\n",
    "\n",
    "* *O teste F é importante para a análise de variância entre grupos porque permite verificar se há diferenças significativas nas médias de mais de dois grupos.*\n",
    "* *Ele compara a variabilidade entre os grupos com a variabilidade dentro dos grupos, e se a diferença entre as médias entre os grupos for maior do que a variabilidade dentro dos grupos, o resultado do teste F será maior e a hipótese nula de igualdade das médias será rejeitada.*"
   ]
  },
  {
   "cell_type": "markdown",
   "id": "c072b69c",
   "metadata": {},
   "source": [
    "* *Podemos pensar no teste F como uma forma de comparar a variação dos dados entre diferentes grupos com a variação dos dados dentro de cada grupo individualmente. É como se comparássemos a diferença entre as alturas de jogadores de basquete e jogadores de futebol com a variação das alturas dos jogadores dentro de cada grupo separadamente. Se a diferença entre as alturas médias dos jogadores de basquete e futebol for maior do que a variação das alturas dentro de cada grupo, podemos concluir que as alturas médias são estatisticamente diferentes entre os grupos.*"
   ]
  },
  {
   "cell_type": "markdown",
   "id": "021bda94",
   "metadata": {},
   "source": [
    "**Teste F**\n",
    "$$F = \\frac{MS_{between}}{MS_{within}}$$\n",
    "\n",
    "Onde:\n",
    "\n",
    "* $F$ é o valor do teste F\n",
    "* $MS_{between}$ é a média dos quadrados dos desvios entre grupos, também conhecida como variância entre grupos.\n",
    "* $MS_{within}$ é a média dos quadrados dos desvios dentro dos grupos, também conhecida como variância dentro dos grupos."
   ]
  },
  {
   "cell_type": "markdown",
   "id": "6e9fa4d1",
   "metadata": {},
   "source": [
    "**Variância Entre Grupos**\n",
    "\n",
    "$$MS_{between} = \\frac{SS_{between}}{df_{between}}$$ \n",
    "\n",
    "Onde:\n",
    "* $MS_{between}$ é a média dos quadrados dos desvios entre grupos\n",
    "* $SS_{between}$ é a soma dos quadrados entre grupos, que representa a variação total entre os grupos, calculada subtraindo-se a média geral das obervações de cada grupo elevando o resultado ao quadrado e multiplicando pelo número de obervações em cada grupo.\n",
    "* $df_{between}$ é o número de graus de liberdade entre os grupos, calculado como o número de grupos menos 1."
   ]
  },
  {
   "cell_type": "markdown",
   "id": "ae32db69",
   "metadata": {},
   "source": [
    "**Variância Dentro dos Grupos**\n",
    "\n",
    "$$MS_{within} = \\frac{SS_{within}}{df_{within}}$$\n",
    "\n",
    "Onde:\n",
    "* $SS_{within}$ é a soma dos quadrados dentro dos grupos, que representa a variação dentro de cada grupo, calculada somando-se as diferenças entre cada observação e a média do seu grupo ao quadrado.\n",
    "\n",
    "* $df_{within}$ é o número de graus de liberdade dentro dos grupos, calculado como o número total de observações menos o número de grupos.\n"
   ]
  },
  {
   "cell_type": "markdown",
   "id": "9b71808b",
   "metadata": {},
   "source": [
    "**Soma dos Quadrados Entre Grupos**\n",
    "\n",
    "$$SS_{between} = \\sum\\limits_{i=1}^{k} n_i (\\bar{x}_i - \\bar{x})^2$$\n",
    "\n",
    "Onde:\n",
    "* $SS_{between}$ é a soma dos quadrados entre os grupos, que representa a variação total entre os grupos, calculada subtraindo-se a média geral das observações de cada grupo e elevando o resultado ao quadrado e multiplicando pelo número de observações em cada grupo.\n",
    "* $k$ é o número de grupos\n",
    "* $n_i$ é o número de observações no grupo $i$\n",
    "* $\\bar{x}_i$ é a média do grupo $i$\n",
    "* $\\bar{x}$ é a média geral das observações."
   ]
  },
  {
   "cell_type": "markdown",
   "id": "635e143f",
   "metadata": {},
   "source": [
    "**Soma dos Quadrados Dentro dos Grupos**\n",
    "\n",
    "$$SS_{within} = \\sum\\limits_{i=1}^{K}\\sum\\limits_{j=1}^{n_i} (x_{ij} - \\bar{x}_i)^2$$\n",
    "\n",
    "Onde:\n",
    "\n",
    "* $SS_{within}$ é a soma dos quadrados dentro dos grupos, que representa a variação dentro de cada grupo, calculada somando-se as diferenças entre cada observação e a média do seu grupo ao quadrado.\n",
    "* $x_{ij}$ é a observação $j$ do grupo $i$.\n",
    "* $\\bar{x}_i$ é a média do grupo $i$.\n"
   ]
  },
  {
   "cell_type": "markdown",
   "id": "7160858d",
   "metadata": {},
   "source": [
    "**Graus de Liberdade Entre os Grupos**\n",
    "\n",
    "$$df_{between} = k-1$$\n",
    "\n",
    "Onde:\n",
    "* $df_{between}$ é o número de graus de liberdade entre os grupos, calculado como o número de grupos menos 1.\n",
    "* $k$ é o número de grupos"
   ]
  },
  {
   "cell_type": "markdown",
   "id": "6bce68cd",
   "metadata": {},
   "source": [
    "**Graus de Liberdade Dentro dos Grupos**\n",
    "\n",
    "$$df_{within} = N-k$$\n",
    "\n",
    "Onde:\n",
    "* $df_{within}$ é o número de graus de liberdade dentro dos grupos, calculado como o número total de observações menos o número de grupos.\n",
    "* $N$ é o número total de observações."
   ]
  },
  {
   "cell_type": "markdown",
   "id": "e56a9863",
   "metadata": {},
   "source": [
    "#### Implementando"
   ]
  },
  {
   "cell_type": "code",
   "execution_count": 23,
   "id": "54e1e6b5",
   "metadata": {},
   "outputs": [
    {
     "name": "stdout",
     "output_type": "stream",
     "text": [
      "n= 5\n",
      "Anova para aula de  matematica\n",
      "F-statistic: 2.0791979949874673\n",
      "p-value: 0.3247598893049\n",
      "DF Between: 2\n",
      "DF Within: 2\n",
      "Total SS: 24.57200000000003\n",
      "Between Group SS: 16.592000000000002\n",
      "Within SS: 7.980000000000029\n",
      "MS Between: 8.296000000000001\n",
      "MS Within: 3.9900000000000144\n",
      " \n",
      "Anova para aula de  fisica\n",
      "F-statistic: 22.33698630136985\n",
      "p-value: 0.042850434374266284\n",
      "DF Between: 2\n",
      "DF Within: 2\n",
      "Total SS: 34.07200000000001\n",
      "Between Group SS: 32.612\n",
      "Within SS: 1.460000000000008\n",
      "MS Between: 16.306\n",
      "MS Within: 0.730000000000004\n",
      " \n",
      "Anova para aula de  quimica\n",
      "F-statistic: 3.505667276051189\n",
      "p-value: 0.2219427087559847\n",
      "DF Between: 2\n",
      "DF Within: 2\n",
      "Total SS: 49.29199999999997\n",
      "Between Group SS: 38.352\n",
      "Within SS: 10.939999999999976\n",
      "MS Between: 19.176\n",
      "MS Within: 5.469999999999988\n",
      " \n"
     ]
    }
   ],
   "source": [
    "df_notas = df_notas[df_notas.index != 'Henrique']\n",
    "materias = ['matematica', 'fisica','quimica']\n",
    "\n",
    "# Obter os grupos (clusters) separados\n",
    "groups = [df_notas.loc[df_notas['cluster'] == i, materias] for i in range(numero_clusters)]\n",
    "\n",
    "# Obter os tamanhos dos grupos e o número total de observações\n",
    "group_sizes = [len(group) for group in groups]\n",
    "n = sum(group_sizes)\n",
    "print('n=',n)\n",
    "# separar os dados da matematica por cluster\n",
    "n_cluster = df_notas['cluster'].max() + 1\n",
    "\n",
    "for materia in materias:\n",
    "\n",
    "    grupos = []   \n",
    "    print('Anova para aula de ',materia)\n",
    "    \n",
    "    for i in range(n_cluster):\n",
    "        grupos.append(df_notas.loc[df_notas['cluster'] == i, materia])\n",
    "\n",
    "    # análise de variância para a materia\n",
    "    f_stat, p_val = f_oneway(*grupos)\n",
    "    print('F-statistic:', f_stat)\n",
    "    print('p-value:', p_val)\n",
    "\n",
    "    # cálculo dos graus de liberdade\n",
    "    df_between = numero_clusters-1\n",
    "    print('DF Between:', df_between)\n",
    "\n",
    "    soma_within = 0\n",
    "    for i in range(n_cluster):\n",
    "        soma_within+= len(grupos[i])\n",
    "\n",
    "    df_within = soma_within-n_cluster\n",
    "    print('DF Within:', df_within)\n",
    "\n",
    "    # cálculo do Total SS\n",
    "    total_ss = ((df_notas[materia] ** 2).sum() - df_notas[materia].sum() ** 2 / n).sum()\n",
    "    print('Total SS:', total_ss)\n",
    "\n",
    "    # cálculo do Group SS\n",
    "    group_means = [cluster.mean() for cluster in grupos]\n",
    "    group_ss = sum([len(cluster) * ((cluster_mean - df_notas[materia].mean()) ** 2).sum() for cluster, cluster_mean in zip(grupos, group_means)])\n",
    "    print('Between Group SS:', group_ss)\n",
    "\n",
    "    # cálculo do Within SS\n",
    "    error_ss = total_ss - group_ss\n",
    "    print('Within SS:', error_ss)\n",
    "\n",
    "    # cálculo do Mean Square Between\n",
    "    ms_between = group_ss / df_between\n",
    "    print('MS Between:', ms_between)\n",
    "\n",
    "    # cálculo do Mean Square Within\n",
    "    ms_within = error_ss / df_within\n",
    "    print('MS Within:', ms_within)\n",
    "\n",
    "    print(' ')"
   ]
  },
  {
   "cell_type": "markdown",
   "id": "73b55d9f",
   "metadata": {},
   "source": [
    "## Referências"
   ]
  },
  {
   "cell_type": "markdown",
   "id": "66b23c53",
   "metadata": {},
   "source": [
    "[1] Fávero, Belfiore (2017) Manual de análise de dados\n",
    "\n",
    "[2] https://scikit-learn.org/stable/modules/generated/sklearn.cluster.KMeans.html\n",
    "\n",
    "[3] https://scikit-learn.org/stable/modules/generated/sklearn.metrics.silhouette_score.html\n",
    "\n",
    "[4] https://docs.scipy.org/doc/scipy/reference/generated/scipy.stats.f_oneway.html"
   ]
  }
 ],
 "metadata": {
  "kernelspec": {
   "display_name": "Python 3.9.7 64-bit",
   "language": "python",
   "name": "python3"
  },
  "language_info": {
   "codemirror_mode": {
    "name": "ipython",
    "version": 3
   },
   "file_extension": ".py",
   "mimetype": "text/x-python",
   "name": "python",
   "nbconvert_exporter": "python",
   "pygments_lexer": "ipython3",
   "version": "3.9.7"
  },
  "vscode": {
   "interpreter": {
    "hash": "cf92aa13fedf815d5c8dd192b8d835913fde3e8bc926b2a0ad6cc74ef2ba3ca2"
   }
  }
 },
 "nbformat": 4,
 "nbformat_minor": 5
}
