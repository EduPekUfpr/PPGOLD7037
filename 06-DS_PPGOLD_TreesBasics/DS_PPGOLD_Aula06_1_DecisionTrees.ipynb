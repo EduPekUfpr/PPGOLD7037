{
 "cells": [
  {
   "cell_type": "markdown",
   "metadata": {
    "id": "kf5t4e_0dIhp"
   },
   "source": [
    "<p style =\"text-align:center\">\n",
    "    <img src=\"http://epecora.com.br/DataFiles/PPGOLD_logo.png\" width=\"300\" alt=\"PPGOLD Data Science: INTRO\"  />\n",
    "</p>\n",
    "\n",
    "# Aula 06-1 de Data Science"
   ]
  },
  {
   "cell_type": "markdown",
   "metadata": {},
   "source": [
    "## Árvores de Decisão Básico (Decision Trees Basics)"
   ]
  },
  {
   "cell_type": "markdown",
   "metadata": {},
   "source": [
    "* **Case de distribuição de e-commerce**\n",
    "* Tempo estimado: **40** minutos"
   ]
  },
  {
   "cell_type": "markdown",
   "metadata": {},
   "source": [
    "# Objetivos"
   ]
  },
  {
   "cell_type": "markdown",
   "metadata": {},
   "source": [
    "Após completar esta aula, você será capaz de:\n",
    "\n",
    "* Obter os dados do case\n",
    "* Realizar um pré processamento nos dados\n",
    "* Realizar uma classificação supervisionada através de `Árvores de Decisão`"
   ]
  },
  {
   "cell_type": "markdown",
   "metadata": {
    "id": "G1w1UAvzCjle"
   },
   "source": [
    "# Bibliotecas"
   ]
  },
  {
   "cell_type": "code",
   "execution_count": 48,
   "metadata": {
    "button": false,
    "colab": {
     "base_uri": "https://localhost:8080/"
    },
    "id": "QSbu0mjslGwG",
    "new_sheet": false,
    "outputId": "26a7b167-feaf-453b-81e4-2f5a38e22973",
    "run_control": {
     "read_only": false
    }
   },
   "outputs": [
    {
     "name": "stdout",
     "output_type": "stream",
     "text": [
      "Python 3.9.7\n"
     ]
    }
   ],
   "source": [
    "# Comando para verificar a versão instalada do python\n",
    "!python -V\n",
    "\n",
    "# Importando a biblioteca pandas para manipulação de dados\n",
    "import pandas as pd\n",
    "\n",
    "# Iportando numpy para criar, manipular e operar em arrays multidimensionais, bem como para realizar operações matemáticas avançadas.\n",
    "import numpy as np\n",
    "\n",
    "# Importando as bibliotecas do matplotlib para gerar gráficos\n",
    "import matplotlib as mpl\n",
    "import matplotlib.pyplot as plt\n",
    "\n",
    "# Importando a bilbioteca collections para trabalhar com coleções de dados, como listas, tuplas, conjuntos e dicionários.\n",
    "import collections\n",
    "\n",
    "# Importando a bliblioteca random para geração de números aleatórios\n",
    "import random \n",
    "\n",
    "# Importando biblioteca do seaborn para gerar gráficos mais atraentes e informativos\n",
    "import seaborn as sns\n",
    "\n",
    "# import decision trees scikit-learn libraries\n",
    "%matplotlib inline\n",
    "from sklearn import tree\n",
    "from sklearn.metrics import accuracy_score, confusion_matrix # Não usaremos essas métricas neste exemplo\n",
    "\n",
    "import matplotlib.pyplot as plt\n",
    "\n",
    "#!conda install python-graphviz --yes\n",
    "#!pip install python-graphviz --yes\n",
    "#https://graphviz.org/download/\n",
    "import graphviz\n",
    "\n",
    "from sklearn.tree import export_graphviz\n",
    "from sklearn.preprocessing import OneHotEncoder\n",
    "\n",
    "import itertools\n",
    "\n",
    "# Usado para exibir os gráficos gerados pela biblioteca Matplotlib diretamente no notebook, sem precisar abrir uma janela externa.\n",
    "%matplotlib inline"
   ]
  },
  {
   "cell_type": "markdown",
   "metadata": {},
   "source": [
    "# Obtendo Dados"
   ]
  },
  {
   "cell_type": "markdown",
   "metadata": {
    "id": "l_lPsFrTbuTJ"
   },
   "source": [
    "* Inclua um CSV com os dados a serem analisados\n",
    "    * Incluindo cabeçalho\n",
    "    * Separação de campos delimitado por *,*\n",
    "    * Separação de linha usando *nova linha*\n",
    "\n",
    " * O arquivo tem mais de 6000 registros, pode levar alguns segundos."
   ]
  },
  {
   "cell_type": "code",
   "execution_count": 49,
   "metadata": {
    "button": false,
    "colab": {
     "base_uri": "https://localhost:8080/",
     "height": 241
    },
    "id": "v16i9xgdlGwH",
    "new_sheet": false,
    "outputId": "c8bcd16d-1b11-429f-d640-9be604bc6bde",
    "run_control": {
     "read_only": false
    }
   },
   "outputs": [
    {
     "data": {
      "text/html": [
       "<div>\n",
       "<style scoped>\n",
       "    .dataframe tbody tr th:only-of-type {\n",
       "        vertical-align: middle;\n",
       "    }\n",
       "\n",
       "    .dataframe tbody tr th {\n",
       "        vertical-align: top;\n",
       "    }\n",
       "\n",
       "    .dataframe thead th {\n",
       "        text-align: right;\n",
       "    }\n",
       "</style>\n",
       "<table border=\"1\" class=\"dataframe\">\n",
       "  <thead>\n",
       "    <tr style=\"text-align: right;\">\n",
       "      <th></th>\n",
       "      <th>Stars</th>\n",
       "      <th>Product</th>\n",
       "      <th>Origin</th>\n",
       "      <th>CD_name</th>\n",
       "      <th>Dest</th>\n",
       "      <th>DistanceTravelled_Fac_CD</th>\n",
       "      <th>TruckType</th>\n",
       "      <th>DriverF_CD</th>\n",
       "      <th>DaysStocked</th>\n",
       "      <th>FloorCD</th>\n",
       "      <th>DistanceTravelled_CD_Client</th>\n",
       "      <th>TruckType2</th>\n",
       "      <th>DriverCD_C</th>\n",
       "      <th>RoutDeliveryOrder</th>\n",
       "    </tr>\n",
       "  </thead>\n",
       "  <tbody>\n",
       "    <tr>\n",
       "      <th>0</th>\n",
       "      <td>4.0</td>\n",
       "      <td>P6</td>\n",
       "      <td>F4</td>\n",
       "      <td>CD2</td>\n",
       "      <td>C203</td>\n",
       "      <td>162</td>\n",
       "      <td>SemiTrailler</td>\n",
       "      <td>D05</td>\n",
       "      <td>37</td>\n",
       "      <td>2</td>\n",
       "      <td>59.7</td>\n",
       "      <td>CityDeliveryTruck</td>\n",
       "      <td>D2_2</td>\n",
       "      <td>2</td>\n",
       "    </tr>\n",
       "    <tr>\n",
       "      <th>1</th>\n",
       "      <td>1.0</td>\n",
       "      <td>P2</td>\n",
       "      <td>F3</td>\n",
       "      <td>CD2</td>\n",
       "      <td>C202</td>\n",
       "      <td>162</td>\n",
       "      <td>SemiTrailler</td>\n",
       "      <td>D06</td>\n",
       "      <td>5</td>\n",
       "      <td>0</td>\n",
       "      <td>94.2</td>\n",
       "      <td>MiniVan</td>\n",
       "      <td>D2_4</td>\n",
       "      <td>3</td>\n",
       "    </tr>\n",
       "    <tr>\n",
       "      <th>2</th>\n",
       "      <td>5.0</td>\n",
       "      <td>P6</td>\n",
       "      <td>F3</td>\n",
       "      <td>CD2</td>\n",
       "      <td>C202</td>\n",
       "      <td>162</td>\n",
       "      <td>SemiTrailler</td>\n",
       "      <td>D04</td>\n",
       "      <td>27</td>\n",
       "      <td>0</td>\n",
       "      <td>30.9</td>\n",
       "      <td>Van</td>\n",
       "      <td>D2_7</td>\n",
       "      <td>1</td>\n",
       "    </tr>\n",
       "    <tr>\n",
       "      <th>3</th>\n",
       "      <td>2.0</td>\n",
       "      <td>P9</td>\n",
       "      <td>F3</td>\n",
       "      <td>CD2</td>\n",
       "      <td>C202</td>\n",
       "      <td>162</td>\n",
       "      <td>SemiTrailler</td>\n",
       "      <td>D03</td>\n",
       "      <td>14</td>\n",
       "      <td>0</td>\n",
       "      <td>89.7</td>\n",
       "      <td>Van</td>\n",
       "      <td>D2_7</td>\n",
       "      <td>3</td>\n",
       "    </tr>\n",
       "    <tr>\n",
       "      <th>4</th>\n",
       "      <td>5.0</td>\n",
       "      <td>P9</td>\n",
       "      <td>F2</td>\n",
       "      <td>CD3</td>\n",
       "      <td>C305</td>\n",
       "      <td>58</td>\n",
       "      <td>Truck</td>\n",
       "      <td>D03</td>\n",
       "      <td>30</td>\n",
       "      <td>1</td>\n",
       "      <td>171.7</td>\n",
       "      <td>Van</td>\n",
       "      <td>D3_2</td>\n",
       "      <td>6</td>\n",
       "    </tr>\n",
       "  </tbody>\n",
       "</table>\n",
       "</div>"
      ],
      "text/plain": [
       "   Stars Product Origin CD_name  Dest  DistanceTravelled_Fac_CD     TruckType  \\\n",
       "0    4.0      P6     F4     CD2  C203                       162  SemiTrailler   \n",
       "1    1.0      P2     F3     CD2  C202                       162  SemiTrailler   \n",
       "2    5.0      P6     F3     CD2  C202                       162  SemiTrailler   \n",
       "3    2.0      P9     F3     CD2  C202                       162  SemiTrailler   \n",
       "4    5.0      P9     F2     CD3  C305                        58         Truck   \n",
       "\n",
       "  DriverF_CD  DaysStocked  FloorCD  DistanceTravelled_CD_Client  \\\n",
       "0        D05           37        2                         59.7   \n",
       "1        D06            5        0                         94.2   \n",
       "2        D04           27        0                         30.9   \n",
       "3        D03           14        0                         89.7   \n",
       "4        D03           30        1                        171.7   \n",
       "\n",
       "          TruckType2 DriverCD_C  RoutDeliveryOrder  \n",
       "0  CityDeliveryTruck       D2_2                  2  \n",
       "1            MiniVan       D2_4                  3  \n",
       "2                Van       D2_7                  1  \n",
       "3                Van       D2_7                  3  \n",
       "4                Van       D3_2                  6  "
      ]
     },
     "execution_count": 49,
     "metadata": {},
     "output_type": "execute_result"
    }
   ],
   "source": [
    "# Caminhbo do arquivo\n",
    "file_path = \"https://raw.githubusercontent.com/EduPek/PPGOLD7037/main/Data/Distribution_12k.csv\"\n",
    "\n",
    "# Lendo o arquivo\n",
    "starsData = pd.read_csv(file_path)\n",
    "\n",
    "# Visualizando s primeiras linhas\n",
    "starsData.head()"
   ]
  },
  {
   "cell_type": "markdown",
   "metadata": {
    "id": "lbQQp8MmkyMd"
   },
   "source": [
    "# Pré-Processamento dos Dados"
   ]
  },
  {
   "cell_type": "markdown",
   "metadata": {},
   "source": [
    "## Renomear a primeira coluna para \"stars\"\n",
    "\n",
    "Para se adequar ao código"
   ]
  },
  {
   "cell_type": "code",
   "execution_count": 50,
   "metadata": {
    "colab": {
     "base_uri": "https://localhost:8080/"
    },
    "id": "NWF8MbGo4lRa",
    "outputId": "815478d2-b25f-4dcf-8a22-d1db710ded97"
   },
   "outputs": [
    {
     "name": "stdout",
     "output_type": "stream",
     "text": [
      "['Stars' 'Product' 'Origin' 'CD_name' 'Dest' 'DistanceTravelled_Fac_CD'\n",
      " 'TruckType' 'DriverF_CD' 'DaysStocked' 'FloorCD'\n",
      " 'DistanceTravelled_CD_Client' 'TruckType2' 'DriverCD_C'\n",
      " 'RoutDeliveryOrder']\n",
      "['stars' 'Product' 'Origin' 'CD_name' 'Dest' 'DistanceTravelled_Fac_CD'\n",
      " 'TruckType' 'DriverF_CD' 'DaysStocked' 'FloorCD'\n",
      " 'DistanceTravelled_CD_Client' 'TruckType2' 'DriverCD_C'\n",
      " 'RoutDeliveryOrder']\n"
     ]
    }
   ],
   "source": [
    "# Obtendo o nome das colunas\n",
    "column_names = starsData.columns.values\n",
    "\n",
    "# Printando o nome\n",
    "print(starsData.columns.values)\n",
    "\n",
    "# Alterando a primeira posição da lista para 'stars'\n",
    "column_names[0] = \"stars\"\n",
    "\n",
    "# Passando o novo nome para  o dataframe\n",
    "starsData.columns = column_names\n",
    "\n",
    "# Printando o nome\n",
    "print(column_names)\n"
   ]
  },
  {
   "cell_type": "markdown",
   "metadata": {
    "id": "YhBvGw5ulFva"
   },
   "source": [
    "## Valores Ausentes"
   ]
  },
  {
   "cell_type": "markdown",
   "metadata": {},
   "source": [
    "* Em um contexto real, deveríamos verificar cada coluna minuciosamente procurando por valores fora dos padrões. Mas aqui vamos \"verificar\" somente a coluna \"stars\"\n",
    "\n",
    "* **Exemplos mais comuns de valores fora dos padrões são:**\n",
    "    * Valores numéricos fora do intervalo, por exemplo quantidades de estrelas igual a 15, quando devia ser de 1 a 5.\n",
    "    * Texto no local de valores numéricos\n",
    "    * Valores \"nan\" Not a Number\n",
    "    * Para valores de categorias, no nosso exemplo os produtos são P1, P2, P3; Caso apareca um \"Produto 1\" precisa ser uniformizado"
   ]
  },
  {
   "cell_type": "code",
   "execution_count": 51,
   "metadata": {},
   "outputs": [
    {
     "data": {
      "text/plain": [
       "(12374, 14)"
      ]
     },
     "execution_count": 51,
     "metadata": {},
     "output_type": "execute_result"
    }
   ],
   "source": [
    "starsData.shape"
   ]
  },
  {
   "cell_type": "code",
   "execution_count": 52,
   "metadata": {},
   "outputs": [
    {
     "data": {
      "text/plain": [
       "<AxesSubplot: >"
      ]
     },
     "execution_count": 52,
     "metadata": {},
     "output_type": "execute_result"
    },
    {
     "data": {
      "image/png": "[encoded data removed]",
      "text/plain": [
       "<Figure size 1152x720 with 2 Axes>"
      ]
     },
     "metadata": {
      "needs_background": "light"
     },
     "output_type": "display_data"
    }
   ],
   "source": [
    "plt.figure(figsize=(16,10))\n",
    "sns.heatmap(starsData.isnull())"
   ]
  },
  {
   "cell_type": "code",
   "execution_count": 53,
   "metadata": {},
   "outputs": [
    {
     "data": {
      "text/plain": [
       "stars                          42\n",
       "Product                         0\n",
       "Origin                          0\n",
       "CD_name                         0\n",
       "Dest                            0\n",
       "DistanceTravelled_Fac_CD        0\n",
       "TruckType                       0\n",
       "DriverF_CD                      0\n",
       "DaysStocked                     0\n",
       "FloorCD                         0\n",
       "DistanceTravelled_CD_Client     0\n",
       "TruckType2                      0\n",
       "DriverCD_C                      0\n",
       "RoutDeliveryOrder               0\n",
       "dtype: int64"
      ]
     },
     "execution_count": 53,
     "metadata": {},
     "output_type": "execute_result"
    }
   ],
   "source": [
    "starsData.isnull().sum()"
   ]
  },
  {
   "cell_type": "code",
   "execution_count": 54,
   "metadata": {},
   "outputs": [
    {
     "data": {
      "text/html": [
       "<div>\n",
       "<style scoped>\n",
       "    .dataframe tbody tr th:only-of-type {\n",
       "        vertical-align: middle;\n",
       "    }\n",
       "\n",
       "    .dataframe tbody tr th {\n",
       "        vertical-align: top;\n",
       "    }\n",
       "\n",
       "    .dataframe thead th {\n",
       "        text-align: right;\n",
       "    }\n",
       "</style>\n",
       "<table border=\"1\" class=\"dataframe\">\n",
       "  <thead>\n",
       "    <tr style=\"text-align: right;\">\n",
       "      <th></th>\n",
       "      <th>stars</th>\n",
       "    </tr>\n",
       "  </thead>\n",
       "  <tbody>\n",
       "    <tr>\n",
       "      <th>1.0</th>\n",
       "      <td>2303</td>\n",
       "    </tr>\n",
       "    <tr>\n",
       "      <th>2.0</th>\n",
       "      <td>2383</td>\n",
       "    </tr>\n",
       "    <tr>\n",
       "      <th>3.0</th>\n",
       "      <td>2769</td>\n",
       "    </tr>\n",
       "    <tr>\n",
       "      <th>4.0</th>\n",
       "      <td>2469</td>\n",
       "    </tr>\n",
       "    <tr>\n",
       "      <th>5.0</th>\n",
       "      <td>2357</td>\n",
       "    </tr>\n",
       "    <tr>\n",
       "      <th>6.0</th>\n",
       "      <td>48</td>\n",
       "    </tr>\n",
       "    <tr>\n",
       "      <th>7.0</th>\n",
       "      <td>1</td>\n",
       "    </tr>\n",
       "    <tr>\n",
       "      <th>9.0</th>\n",
       "      <td>1</td>\n",
       "    </tr>\n",
       "    <tr>\n",
       "      <th>11.0</th>\n",
       "      <td>1</td>\n",
       "    </tr>\n",
       "  </tbody>\n",
       "</table>\n",
       "</div>"
      ],
      "text/plain": [
       "      stars\n",
       "1.0    2303\n",
       "2.0    2383\n",
       "3.0    2769\n",
       "4.0    2469\n",
       "5.0    2357\n",
       "6.0      48\n",
       "7.0       1\n",
       "9.0       1\n",
       "11.0      1"
      ]
     },
     "execution_count": 54,
     "metadata": {},
     "output_type": "execute_result"
    }
   ],
   "source": [
    "dfStarsFrequency = starsData[\"stars\"].value_counts().to_frame()\n",
    "dfStarsFrequency.sort_index(inplace= True)\n",
    "dfStarsFrequency.head(10)"
   ]
  },
  {
   "cell_type": "code",
   "execution_count": 55,
   "metadata": {
    "colab": {
     "base_uri": "https://localhost:8080/",
     "height": 366
    },
    "id": "AFLRf8amuC5_",
    "outputId": "6871d975-e38e-4cd1-941f-264ab0d00d2d"
   },
   "outputs": [
    {
     "data": {
      "text/plain": [
       "<AxesSubplot: title={'center': 'Stars Frequency'}, xlabel='Stars', ylabel='Frequency'>"
      ]
     },
     "execution_count": 55,
     "metadata": {},
     "output_type": "execute_result"
    },
    {
     "data": {
      "image/png": "[encoded data removed]",
      "text/plain": [
       "<Figure size 432x288 with 1 Axes>"
      ]
     },
     "metadata": {
      "needs_background": "light"
     },
     "output_type": "display_data"
    }
   ],
   "source": [
    "dfStarsFrequency.plot(kind='bar'\n",
    "                        ,title=\"Stars Frequency\"\n",
    "                        ,xlabel='Stars'\n",
    "                        ,ylabel='Frequency')\n"
   ]
  },
  {
   "cell_type": "markdown",
   "metadata": {
    "id": "S8GbaOIZMWM6"
   },
   "source": [
    "* **Existem dados fora do intervalo de estrelas [1,5] , alguns valores são 6 outros são NAN**\n",
    "* Limpar dados de estrelas fora do intervalo [1,5], excluindo os registros"
   ]
  },
  {
   "cell_type": "code",
   "execution_count": 56,
   "metadata": {
    "colab": {
     "base_uri": "https://localhost:8080/",
     "height": 346
    },
    "id": "FghJezLtNdHO",
    "outputId": "f0983c08-507b-4072-9fbc-ed2acad78cfe"
   },
   "outputs": [
    {
     "name": "stdout",
     "output_type": "stream",
     "text": [
      "Novo shape =  (12281, 14)\n"
     ]
    }
   ],
   "source": [
    "starsData = starsData[starsData[\"stars\"] <= 5]\n",
    "starsData = starsData[starsData[\"stars\"] >= 1]\n",
    "\n",
    "starsData = starsData[starsData[\"FloorCD\"] <= 4] \n",
    "starsData = starsData[starsData[\"FloorCD\"] >= 0]\n",
    "\n",
    "starsData = starsData[starsData[\"RoutDeliveryOrder\"] <= 6]\n",
    "starsData = starsData[starsData[\"RoutDeliveryOrder\"] >= 1]\n",
    "\n",
    "# É importante refazer o indice do dataFrame, após excluir linhas, pois pode gerar problema no SciKit Learn\n",
    "starsData = starsData.reset_index(drop=True) \n",
    "print(\"Novo shape = \",starsData.shape)"
   ]
  },
  {
   "cell_type": "code",
   "execution_count": 57,
   "metadata": {},
   "outputs": [
    {
     "data": {
      "text/plain": [
       "<AxesSubplot: title={'center': 'Stars Frequency'}, xlabel='Stars', ylabel='Frequency'>"
      ]
     },
     "execution_count": 57,
     "metadata": {},
     "output_type": "execute_result"
    },
    {
     "data": {
      "image/png": "[encoded data removed]",
      "text/plain": [
       "<Figure size 432x288 with 1 Axes>"
      ]
     },
     "metadata": {
      "needs_background": "light"
     },
     "output_type": "display_data"
    }
   ],
   "source": [
    "dfStarsFrequency = starsData[\"stars\"].value_counts().to_frame()\n",
    "dfStarsFrequency.sort_index(inplace= True)\n",
    "dfStarsFrequency.head(10)\n",
    "\n",
    "dfStarsFrequency.plot(kind='bar'\n",
    "                        ,title=\"Stars Frequency\"\n",
    "                        ,xlabel='Stars'\n",
    "                        ,ylabel='Frequency')"
   ]
  },
  {
   "cell_type": "markdown",
   "metadata": {
    "id": "DD7oHMU-5RkO"
   },
   "source": [
    "## Outras Inconsistências entre as Colunas 'DriverF_CD' & 'CD_name'"
   ]
  },
  {
   "cell_type": "code",
   "execution_count": 58,
   "metadata": {},
   "outputs": [],
   "source": [
    "dfCD = starsData[['DriverF_CD','CD_name']]"
   ]
  },
  {
   "cell_type": "code",
   "execution_count": 59,
   "metadata": {},
   "outputs": [
    {
     "data": {
      "text/html": [
       "<div>\n",
       "<style scoped>\n",
       "    .dataframe tbody tr th:only-of-type {\n",
       "        vertical-align: middle;\n",
       "    }\n",
       "\n",
       "    .dataframe tbody tr th {\n",
       "        vertical-align: top;\n",
       "    }\n",
       "\n",
       "    .dataframe thead th {\n",
       "        text-align: right;\n",
       "    }\n",
       "</style>\n",
       "<table border=\"1\" class=\"dataframe\">\n",
       "  <thead>\n",
       "    <tr style=\"text-align: right;\">\n",
       "      <th></th>\n",
       "      <th>DriverF_CD</th>\n",
       "      <th>CD_name</th>\n",
       "    </tr>\n",
       "  </thead>\n",
       "  <tbody>\n",
       "    <tr>\n",
       "      <th>0</th>\n",
       "      <td>D05</td>\n",
       "      <td>CD2</td>\n",
       "    </tr>\n",
       "    <tr>\n",
       "      <th>1</th>\n",
       "      <td>D06</td>\n",
       "      <td>CD2</td>\n",
       "    </tr>\n",
       "    <tr>\n",
       "      <th>2</th>\n",
       "      <td>D04</td>\n",
       "      <td>CD2</td>\n",
       "    </tr>\n",
       "    <tr>\n",
       "      <th>3</th>\n",
       "      <td>D03</td>\n",
       "      <td>CD2</td>\n",
       "    </tr>\n",
       "    <tr>\n",
       "      <th>4</th>\n",
       "      <td>D03</td>\n",
       "      <td>CD3</td>\n",
       "    </tr>\n",
       "    <tr>\n",
       "      <th>5</th>\n",
       "      <td>D01</td>\n",
       "      <td>CD2</td>\n",
       "    </tr>\n",
       "    <tr>\n",
       "      <th>6</th>\n",
       "      <td>D01</td>\n",
       "      <td>CD1</td>\n",
       "    </tr>\n",
       "    <tr>\n",
       "      <th>7</th>\n",
       "      <td>D06</td>\n",
       "      <td>CD3</td>\n",
       "    </tr>\n",
       "    <tr>\n",
       "      <th>8</th>\n",
       "      <td>D05</td>\n",
       "      <td>CD2</td>\n",
       "    </tr>\n",
       "    <tr>\n",
       "      <th>9</th>\n",
       "      <td>D05</td>\n",
       "      <td>CD1</td>\n",
       "    </tr>\n",
       "  </tbody>\n",
       "</table>\n",
       "</div>"
      ],
      "text/plain": [
       "  DriverF_CD CD_name\n",
       "0        D05     CD2\n",
       "1        D06     CD2\n",
       "2        D04     CD2\n",
       "3        D03     CD2\n",
       "4        D03     CD3\n",
       "5        D01     CD2\n",
       "6        D01     CD1\n",
       "7        D06     CD3\n",
       "8        D05     CD2\n",
       "9        D05     CD1"
      ]
     },
     "execution_count": 59,
     "metadata": {},
     "output_type": "execute_result"
    }
   ],
   "source": [
    "dfCD.head(10)"
   ]
  },
  {
   "cell_type": "markdown",
   "metadata": {},
   "source": [
    "* Note a coluna Driver_F_CD, ela só tem os valores \"D01\" ... \"D06\" mas não sabemos se o motorista D01 pode trabalhar no CD1, CD2 ou CD3 ? Isso não te parece no mínimo esquisito ?\n",
    "\n",
    "* Fica como Lição de casa você pensar em uma alternativa\n"
   ]
  },
  {
   "cell_type": "code",
   "execution_count": 60,
   "metadata": {},
   "outputs": [
    {
     "data": {
      "text/html": [
       "<div>\n",
       "<style scoped>\n",
       "    .dataframe tbody tr th:only-of-type {\n",
       "        vertical-align: middle;\n",
       "    }\n",
       "\n",
       "    .dataframe tbody tr th {\n",
       "        vertical-align: top;\n",
       "    }\n",
       "\n",
       "    .dataframe thead th {\n",
       "        text-align: right;\n",
       "    }\n",
       "</style>\n",
       "<table border=\"1\" class=\"dataframe\">\n",
       "  <thead>\n",
       "    <tr style=\"text-align: right;\">\n",
       "      <th></th>\n",
       "      <th>D01</th>\n",
       "      <th>D02</th>\n",
       "      <th>D03</th>\n",
       "      <th>D04</th>\n",
       "      <th>D05</th>\n",
       "      <th>D06</th>\n",
       "    </tr>\n",
       "  </thead>\n",
       "  <tbody>\n",
       "    <tr>\n",
       "      <th>CD1</th>\n",
       "      <td>632</td>\n",
       "      <td>776</td>\n",
       "      <td>704</td>\n",
       "      <td>752</td>\n",
       "      <td>684</td>\n",
       "      <td>744</td>\n",
       "    </tr>\n",
       "    <tr>\n",
       "      <th>CD2</th>\n",
       "      <td>588</td>\n",
       "      <td>676</td>\n",
       "      <td>620</td>\n",
       "      <td>700</td>\n",
       "      <td>620</td>\n",
       "      <td>744</td>\n",
       "    </tr>\n",
       "    <tr>\n",
       "      <th>CD3</th>\n",
       "      <td>689</td>\n",
       "      <td>660</td>\n",
       "      <td>624</td>\n",
       "      <td>720</td>\n",
       "      <td>648</td>\n",
       "      <td>700</td>\n",
       "    </tr>\n",
       "  </tbody>\n",
       "</table>\n",
       "</div>"
      ],
      "text/plain": [
       "     D01  D02  D03  D04  D05  D06\n",
       "CD1  632  776  704  752  684  744\n",
       "CD2  588  676  620  700  620  744\n",
       "CD3  689  660  624  720  648  700"
      ]
     },
     "execution_count": 60,
     "metadata": {},
     "output_type": "execute_result"
    }
   ],
   "source": [
    "dfCDCrossTable = pd.crosstab(index=starsData['CD_name'], columns=starsData['DriverF_CD'])\n",
    "dfCDCrossTable.index.name=None\n",
    "dfCDCrossTable.columns.name=None\n",
    "dfCDCrossTable"
   ]
  },
  {
   "cell_type": "code",
   "execution_count": 61,
   "metadata": {},
   "outputs": [
    {
     "data": {
      "text/plain": [
       "Text(0, 0.5, 'Freq')"
      ]
     },
     "execution_count": 61,
     "metadata": {},
     "output_type": "execute_result"
    },
    {
     "data": {
      "image/png": "[encoded data removed]",
      "text/plain": [
       "<Figure size 432x288 with 1 Axes>"
      ]
     },
     "metadata": {
      "needs_background": "light"
     },
     "output_type": "display_data"
    }
   ],
   "source": [
    "ax = dfCDCrossTable.plot.bar(stacked=True)\n",
    "ax.legend(title='Driver')\n",
    "ax.set_title('Driver by CD')\n",
    "ax.set_xlabel('CD')\n",
    "ax.set_ylabel('Freq')"
   ]
  },
  {
   "cell_type": "markdown",
   "metadata": {
    "id": "ybeylih_rP96"
   },
   "source": [
    "# Árvore de Decisão"
   ]
  },
  {
   "cell_type": "markdown",
   "metadata": {},
   "source": [
    "* Usaremos as bibliotecas: \n",
    "    * SKLEARN\n",
    "    * graphviz\n",
    "    * matplotlib"
   ]
  },
  {
   "cell_type": "markdown",
   "metadata": {
    "id": "eCCRt-5_r4I7"
   },
   "source": [
    "## Separar o dataFrame em variáveis dependentes e independentes"
   ]
  },
  {
   "cell_type": "code",
   "execution_count": 62,
   "metadata": {
    "button": false,
    "colab": {
     "base_uri": "https://localhost:8080/"
    },
    "id": "A4BXdakoljQf",
    "jupyter": {
     "outputs_hidden": false
    },
    "new_sheet": false,
    "outputId": "65e50f1f-14b4-4f2f-fa2c-996d4d59aadd",
    "run_control": {
     "read_only": false
    }
   },
   "outputs": [
    {
     "data": {
      "text/plain": [
       "0    4.0\n",
       "1    1.0\n",
       "2    5.0\n",
       "3    2.0\n",
       "4    5.0\n",
       "Name: stars, dtype: float64"
      ]
     },
     "execution_count": 62,
     "metadata": {},
     "output_type": "execute_result"
    }
   ],
   "source": [
    "# split the DataFrame\n",
    "# Só a coluna \"stars\"\n",
    "dependentVariableStars = starsData[\"stars\"].copy(deep=True) \n",
    "dependentVariableStars.head()"
   ]
  },
  {
   "cell_type": "code",
   "execution_count": 63,
   "metadata": {},
   "outputs": [
    {
     "data": {
      "text/html": [
       "<div>\n",
       "<style scoped>\n",
       "    .dataframe tbody tr th:only-of-type {\n",
       "        vertical-align: middle;\n",
       "    }\n",
       "\n",
       "    .dataframe tbody tr th {\n",
       "        vertical-align: top;\n",
       "    }\n",
       "\n",
       "    .dataframe thead th {\n",
       "        text-align: right;\n",
       "    }\n",
       "</style>\n",
       "<table border=\"1\" class=\"dataframe\">\n",
       "  <thead>\n",
       "    <tr style=\"text-align: right;\">\n",
       "      <th></th>\n",
       "      <th>Product</th>\n",
       "      <th>Origin</th>\n",
       "      <th>CD_name</th>\n",
       "      <th>Dest</th>\n",
       "      <th>DistanceTravelled_Fac_CD</th>\n",
       "      <th>TruckType</th>\n",
       "      <th>DriverF_CD</th>\n",
       "      <th>DaysStocked</th>\n",
       "      <th>FloorCD</th>\n",
       "      <th>DistanceTravelled_CD_Client</th>\n",
       "      <th>TruckType2</th>\n",
       "      <th>DriverCD_C</th>\n",
       "      <th>RoutDeliveryOrder</th>\n",
       "    </tr>\n",
       "  </thead>\n",
       "  <tbody>\n",
       "    <tr>\n",
       "      <th>0</th>\n",
       "      <td>P6</td>\n",
       "      <td>F4</td>\n",
       "      <td>CD2</td>\n",
       "      <td>C203</td>\n",
       "      <td>162</td>\n",
       "      <td>SemiTrailler</td>\n",
       "      <td>D05</td>\n",
       "      <td>37</td>\n",
       "      <td>2</td>\n",
       "      <td>59.7</td>\n",
       "      <td>CityDeliveryTruck</td>\n",
       "      <td>D2_2</td>\n",
       "      <td>2</td>\n",
       "    </tr>\n",
       "    <tr>\n",
       "      <th>1</th>\n",
       "      <td>P2</td>\n",
       "      <td>F3</td>\n",
       "      <td>CD2</td>\n",
       "      <td>C202</td>\n",
       "      <td>162</td>\n",
       "      <td>SemiTrailler</td>\n",
       "      <td>D06</td>\n",
       "      <td>5</td>\n",
       "      <td>0</td>\n",
       "      <td>94.2</td>\n",
       "      <td>MiniVan</td>\n",
       "      <td>D2_4</td>\n",
       "      <td>3</td>\n",
       "    </tr>\n",
       "    <tr>\n",
       "      <th>2</th>\n",
       "      <td>P6</td>\n",
       "      <td>F3</td>\n",
       "      <td>CD2</td>\n",
       "      <td>C202</td>\n",
       "      <td>162</td>\n",
       "      <td>SemiTrailler</td>\n",
       "      <td>D04</td>\n",
       "      <td>27</td>\n",
       "      <td>0</td>\n",
       "      <td>30.9</td>\n",
       "      <td>Van</td>\n",
       "      <td>D2_7</td>\n",
       "      <td>1</td>\n",
       "    </tr>\n",
       "    <tr>\n",
       "      <th>3</th>\n",
       "      <td>P9</td>\n",
       "      <td>F3</td>\n",
       "      <td>CD2</td>\n",
       "      <td>C202</td>\n",
       "      <td>162</td>\n",
       "      <td>SemiTrailler</td>\n",
       "      <td>D03</td>\n",
       "      <td>14</td>\n",
       "      <td>0</td>\n",
       "      <td>89.7</td>\n",
       "      <td>Van</td>\n",
       "      <td>D2_7</td>\n",
       "      <td>3</td>\n",
       "    </tr>\n",
       "    <tr>\n",
       "      <th>4</th>\n",
       "      <td>P9</td>\n",
       "      <td>F2</td>\n",
       "      <td>CD3</td>\n",
       "      <td>C305</td>\n",
       "      <td>58</td>\n",
       "      <td>Truck</td>\n",
       "      <td>D03</td>\n",
       "      <td>30</td>\n",
       "      <td>1</td>\n",
       "      <td>171.7</td>\n",
       "      <td>Van</td>\n",
       "      <td>D3_2</td>\n",
       "      <td>6</td>\n",
       "    </tr>\n",
       "  </tbody>\n",
       "</table>\n",
       "</div>"
      ],
      "text/plain": [
       "  Product Origin CD_name  Dest  DistanceTravelled_Fac_CD     TruckType  \\\n",
       "0      P6     F4     CD2  C203                       162  SemiTrailler   \n",
       "1      P2     F3     CD2  C202                       162  SemiTrailler   \n",
       "2      P6     F3     CD2  C202                       162  SemiTrailler   \n",
       "3      P9     F3     CD2  C202                       162  SemiTrailler   \n",
       "4      P9     F2     CD3  C305                        58         Truck   \n",
       "\n",
       "  DriverF_CD  DaysStocked  FloorCD  DistanceTravelled_CD_Client  \\\n",
       "0        D05           37        2                         59.7   \n",
       "1        D06            5        0                         94.2   \n",
       "2        D04           27        0                         30.9   \n",
       "3        D03           14        0                         89.7   \n",
       "4        D03           30        1                        171.7   \n",
       "\n",
       "          TruckType2 DriverCD_C  RoutDeliveryOrder  \n",
       "0  CityDeliveryTruck       D2_2                  2  \n",
       "1            MiniVan       D2_4                  3  \n",
       "2                Van       D2_7                  1  \n",
       "3                Van       D2_7                  3  \n",
       "4                Van       D3_2                  6  "
      ]
     },
     "execution_count": 63,
     "metadata": {},
     "output_type": "execute_result"
    }
   ],
   "source": [
    "# Todas as outras colunas com excessão da \"stars\"\n",
    "independetVariables = starsData.drop(columns=['stars']).copy(deep=True)\n",
    "independetVariables.head()"
   ]
  },
  {
   "cell_type": "markdown",
   "metadata": {
    "id": "13OQZX-nsS_6"
   },
   "source": [
    "## Adequação das variáveis categóricas em colunas binárias - OneHotEncoder\n",
    "\n",
    "\n"
   ]
  },
  {
   "cell_type": "code",
   "execution_count": 64,
   "metadata": {
    "colab": {
     "base_uri": "https://localhost:8080/",
     "height": 224
    },
    "id": "GBmtfwUC7F9j",
    "outputId": "168034a6-6099-4d9a-aea5-0e7e49d544ac"
   },
   "outputs": [
    {
     "name": "stderr",
     "output_type": "stream",
     "text": [
      "C:\\Users\\User\\AppData\\Roaming\\Python\\Python39\\site-packages\\sklearn\\preprocessing\\_encoders.py:828: FutureWarning: `sparse` was renamed to `sparse_output` in version 1.2 and will be removed in 1.4. `sparse_output` is ignored unless you leave `sparse` to its default value.\n",
      "  warnings.warn(\n",
      "C:\\Users\\User\\AppData\\Roaming\\Python\\Python39\\site-packages\\sklearn\\preprocessing\\_encoders.py:828: FutureWarning: `sparse` was renamed to `sparse_output` in version 1.2 and will be removed in 1.4. `sparse_output` is ignored unless you leave `sparse` to its default value.\n",
      "  warnings.warn(\n",
      "C:\\Users\\User\\AppData\\Roaming\\Python\\Python39\\site-packages\\sklearn\\preprocessing\\_encoders.py:828: FutureWarning: `sparse` was renamed to `sparse_output` in version 1.2 and will be removed in 1.4. `sparse_output` is ignored unless you leave `sparse` to its default value.\n",
      "  warnings.warn(\n",
      "C:\\Users\\User\\AppData\\Roaming\\Python\\Python39\\site-packages\\sklearn\\preprocessing\\_encoders.py:828: FutureWarning: `sparse` was renamed to `sparse_output` in version 1.2 and will be removed in 1.4. `sparse_output` is ignored unless you leave `sparse` to its default value.\n",
      "  warnings.warn(\n",
      "C:\\Users\\User\\AppData\\Roaming\\Python\\Python39\\site-packages\\sklearn\\preprocessing\\_encoders.py:828: FutureWarning: `sparse` was renamed to `sparse_output` in version 1.2 and will be removed in 1.4. `sparse_output` is ignored unless you leave `sparse` to its default value.\n",
      "  warnings.warn(\n",
      "C:\\Users\\User\\AppData\\Roaming\\Python\\Python39\\site-packages\\sklearn\\preprocessing\\_encoders.py:828: FutureWarning: `sparse` was renamed to `sparse_output` in version 1.2 and will be removed in 1.4. `sparse_output` is ignored unless you leave `sparse` to its default value.\n",
      "  warnings.warn(\n",
      "C:\\Users\\User\\AppData\\Roaming\\Python\\Python39\\site-packages\\sklearn\\preprocessing\\_encoders.py:828: FutureWarning: `sparse` was renamed to `sparse_output` in version 1.2 and will be removed in 1.4. `sparse_output` is ignored unless you leave `sparse` to its default value.\n",
      "  warnings.warn(\n"
     ]
    },
    {
     "data": {
      "text/html": [
       "<div>\n",
       "<style scoped>\n",
       "    .dataframe tbody tr th:only-of-type {\n",
       "        vertical-align: middle;\n",
       "    }\n",
       "\n",
       "    .dataframe tbody tr th {\n",
       "        vertical-align: top;\n",
       "    }\n",
       "\n",
       "    .dataframe thead th {\n",
       "        text-align: right;\n",
       "    }\n",
       "</style>\n",
       "<table border=\"1\" class=\"dataframe\">\n",
       "  <thead>\n",
       "    <tr style=\"text-align: right;\">\n",
       "      <th></th>\n",
       "      <th>Product_P1</th>\n",
       "      <th>Product_P10</th>\n",
       "      <th>Product_P11</th>\n",
       "      <th>Product_P12</th>\n",
       "      <th>Product_P13</th>\n",
       "      <th>Product_P14</th>\n",
       "      <th>Product_P15</th>\n",
       "      <th>Product_P2</th>\n",
       "      <th>Product_P3</th>\n",
       "      <th>Product_P4</th>\n",
       "      <th>...</th>\n",
       "      <th>DriverCD_C_D2_7</th>\n",
       "      <th>DriverCD_C_D3_1</th>\n",
       "      <th>DriverCD_C_D3_2</th>\n",
       "      <th>DriverCD_C_D3_3</th>\n",
       "      <th>DriverCD_C_D3_4</th>\n",
       "      <th>DriverCD_C_D3_5</th>\n",
       "      <th>DriverCD_C_D3_6</th>\n",
       "      <th>DriverCD_C_D3_7</th>\n",
       "      <th>RoutDeliveryOrder</th>\n",
       "      <th>FloorCD</th>\n",
       "    </tr>\n",
       "  </thead>\n",
       "  <tbody>\n",
       "    <tr>\n",
       "      <th>0</th>\n",
       "      <td>0</td>\n",
       "      <td>0</td>\n",
       "      <td>0</td>\n",
       "      <td>0</td>\n",
       "      <td>0</td>\n",
       "      <td>0</td>\n",
       "      <td>0</td>\n",
       "      <td>0</td>\n",
       "      <td>0</td>\n",
       "      <td>0</td>\n",
       "      <td>...</td>\n",
       "      <td>0</td>\n",
       "      <td>0</td>\n",
       "      <td>0</td>\n",
       "      <td>0</td>\n",
       "      <td>0</td>\n",
       "      <td>0</td>\n",
       "      <td>0</td>\n",
       "      <td>0</td>\n",
       "      <td>2</td>\n",
       "      <td>2</td>\n",
       "    </tr>\n",
       "    <tr>\n",
       "      <th>1</th>\n",
       "      <td>0</td>\n",
       "      <td>0</td>\n",
       "      <td>0</td>\n",
       "      <td>0</td>\n",
       "      <td>0</td>\n",
       "      <td>0</td>\n",
       "      <td>0</td>\n",
       "      <td>1</td>\n",
       "      <td>0</td>\n",
       "      <td>0</td>\n",
       "      <td>...</td>\n",
       "      <td>0</td>\n",
       "      <td>0</td>\n",
       "      <td>0</td>\n",
       "      <td>0</td>\n",
       "      <td>0</td>\n",
       "      <td>0</td>\n",
       "      <td>0</td>\n",
       "      <td>0</td>\n",
       "      <td>3</td>\n",
       "      <td>0</td>\n",
       "    </tr>\n",
       "    <tr>\n",
       "      <th>2</th>\n",
       "      <td>0</td>\n",
       "      <td>0</td>\n",
       "      <td>0</td>\n",
       "      <td>0</td>\n",
       "      <td>0</td>\n",
       "      <td>0</td>\n",
       "      <td>0</td>\n",
       "      <td>0</td>\n",
       "      <td>0</td>\n",
       "      <td>0</td>\n",
       "      <td>...</td>\n",
       "      <td>1</td>\n",
       "      <td>0</td>\n",
       "      <td>0</td>\n",
       "      <td>0</td>\n",
       "      <td>0</td>\n",
       "      <td>0</td>\n",
       "      <td>0</td>\n",
       "      <td>0</td>\n",
       "      <td>1</td>\n",
       "      <td>0</td>\n",
       "    </tr>\n",
       "    <tr>\n",
       "      <th>3</th>\n",
       "      <td>0</td>\n",
       "      <td>0</td>\n",
       "      <td>0</td>\n",
       "      <td>0</td>\n",
       "      <td>0</td>\n",
       "      <td>0</td>\n",
       "      <td>0</td>\n",
       "      <td>0</td>\n",
       "      <td>0</td>\n",
       "      <td>0</td>\n",
       "      <td>...</td>\n",
       "      <td>1</td>\n",
       "      <td>0</td>\n",
       "      <td>0</td>\n",
       "      <td>0</td>\n",
       "      <td>0</td>\n",
       "      <td>0</td>\n",
       "      <td>0</td>\n",
       "      <td>0</td>\n",
       "      <td>3</td>\n",
       "      <td>0</td>\n",
       "    </tr>\n",
       "    <tr>\n",
       "      <th>4</th>\n",
       "      <td>0</td>\n",
       "      <td>0</td>\n",
       "      <td>0</td>\n",
       "      <td>0</td>\n",
       "      <td>0</td>\n",
       "      <td>0</td>\n",
       "      <td>0</td>\n",
       "      <td>0</td>\n",
       "      <td>0</td>\n",
       "      <td>0</td>\n",
       "      <td>...</td>\n",
       "      <td>0</td>\n",
       "      <td>0</td>\n",
       "      <td>1</td>\n",
       "      <td>0</td>\n",
       "      <td>0</td>\n",
       "      <td>0</td>\n",
       "      <td>0</td>\n",
       "      <td>0</td>\n",
       "      <td>6</td>\n",
       "      <td>1</td>\n",
       "    </tr>\n",
       "  </tbody>\n",
       "</table>\n",
       "<p>5 rows × 65 columns</p>\n",
       "</div>"
      ],
      "text/plain": [
       "   Product_P1  Product_P10  Product_P11  Product_P12  Product_P13  \\\n",
       "0           0            0            0            0            0   \n",
       "1           0            0            0            0            0   \n",
       "2           0            0            0            0            0   \n",
       "3           0            0            0            0            0   \n",
       "4           0            0            0            0            0   \n",
       "\n",
       "   Product_P14  Product_P15  Product_P2  Product_P3  Product_P4  ...  \\\n",
       "0            0            0           0           0           0  ...   \n",
       "1            0            0           1           0           0  ...   \n",
       "2            0            0           0           0           0  ...   \n",
       "3            0            0           0           0           0  ...   \n",
       "4            0            0           0           0           0  ...   \n",
       "\n",
       "   DriverCD_C_D2_7  DriverCD_C_D3_1  DriverCD_C_D3_2  DriverCD_C_D3_3  \\\n",
       "0                0                0                0                0   \n",
       "1                0                0                0                0   \n",
       "2                1                0                0                0   \n",
       "3                1                0                0                0   \n",
       "4                0                0                1                0   \n",
       "\n",
       "   DriverCD_C_D3_4  DriverCD_C_D3_5  DriverCD_C_D3_6  DriverCD_C_D3_7  \\\n",
       "0                0                0                0                0   \n",
       "1                0                0                0                0   \n",
       "2                0                0                0                0   \n",
       "3                0                0                0                0   \n",
       "4                0                0                0                0   \n",
       "\n",
       "   RoutDeliveryOrder  FloorCD  \n",
       "0                  2        2  \n",
       "1                  3        0  \n",
       "2                  1        0  \n",
       "3                  3        0  \n",
       "4                  6        1  \n",
       "\n",
       "[5 rows x 65 columns]"
      ]
     },
     "execution_count": 64,
     "metadata": {},
     "output_type": "execute_result"
    }
   ],
   "source": [
    "enc = OneHotEncoder(handle_unknown='ignore', sparse= False)\n",
    "\n",
    "prod_encoded = pd.DataFrame (enc.fit_transform(independetVariables[['Product']])).astype(int)\n",
    "prod_encoded.columns = enc.get_feature_names_out(['Product'])\n",
    "\n",
    "origin_encoded = pd.DataFrame (enc.fit_transform(independetVariables[['Origin']])).astype(int)\n",
    "origin_encoded.columns = enc.get_feature_names_out(['Origin'])\n",
    "\n",
    "CD_encoded = pd.DataFrame (enc.fit_transform(independetVariables[['CD_name']])).astype(int)\n",
    "CD_encoded.columns = enc.get_feature_names_out(['CD_name'])\n",
    "\n",
    "Destination_encoded = pd.DataFrame (enc.fit_transform(independetVariables[['Dest']])).astype(int)\n",
    "Destination_encoded.columns = enc.get_feature_names_out(['Dest'])\n",
    "\n",
    "TruckType_encoded = pd.DataFrame (enc.fit_transform(independetVariables[['TruckType']])).astype(int)\n",
    "TruckType_encoded.columns = enc.get_feature_names_out(['TruckType'])\n",
    "\n",
    "TruckType2_encoded = pd.DataFrame (enc.fit_transform(independetVariables[['TruckType2']])).astype(int)\n",
    "TruckType2_encoded.columns = enc.get_feature_names_out(['TruckType2'])\n",
    "\n",
    "DriverCD_C_encoded = pd.DataFrame (enc.fit_transform(independetVariables[['DriverCD_C']])).astype(int)\n",
    "DriverCD_C_encoded.columns = enc.get_feature_names_out(['DriverCD_C'])\n",
    "\n",
    "independetVariablesEncoded = pd.concat([prod_encoded, origin_encoded, CD_encoded, Destination_encoded, TruckType_encoded, TruckType2_encoded, DriverCD_C_encoded, independetVariables[\"RoutDeliveryOrder\"], independetVariables[\"FloorCD\"]], axis=1)\n",
    "\n",
    "independetVariablesEncoded.head()"
   ]
  },
  {
   "cell_type": "markdown",
   "metadata": {
    "id": "gIW-qbYVuGod"
   },
   "source": [
    "## DecisionTreeClassifier e os seus Parâmetros\n",
    "\n",
    "* O algoritimo do DecisionTreeClassifier tem a tendência natural de fazer um OVERFITING\n",
    "* **Para ajustar isso modificamos os parâmetros:**\n",
    "    * `max_depth` : Profundidade máxima da árvore\n",
    "    * `min_samples_split` : Quantidade mínima de amostras para se dividir um nó\n",
    "    * `min_samples_leaf` : Quantidade mínima de amostras em um nó folha (nó da base da árvore)"
   ]
  },
  {
   "cell_type": "code",
   "execution_count": 65,
   "metadata": {
    "colab": {
     "base_uri": "https://localhost:8080/"
    },
    "id": "SqGXSP0R_ku6",
    "outputId": "d4253192-f90f-4068-b786-022fed56d6df"
   },
   "outputs": [
    {
     "name": "stdout",
     "output_type": "stream",
     "text": [
      "Decision tree model saved to delivery_tree!\n",
      "DecisionTreeClassifier(max_depth=4)\n",
      "['Product_P1' 'Product_P10' 'Product_P11' 'Product_P12' 'Product_P13'\n",
      " 'Product_P14' 'Product_P15' 'Product_P2' 'Product_P3' 'Product_P4'\n",
      " 'Product_P5' 'Product_P6' 'Product_P7' 'Product_P8' 'Product_P9'\n",
      " 'Origin_F1' 'Origin_F2' 'Origin_F3' 'Origin_F4' 'CD_name_CD1'\n",
      " 'CD_name_CD2' 'CD_name_CD3' 'Dest_C101' 'Dest_C102' 'Dest_C103'\n",
      " 'Dest_C104' 'Dest_C105' 'Dest_C201' 'Dest_C202' 'Dest_C203' 'Dest_C204'\n",
      " 'Dest_C205' 'Dest_C301' 'Dest_C302' 'Dest_C303' 'Dest_C304' 'Dest_C305'\n",
      " 'TruckType_SemiTrailler' 'TruckType_Truck' 'TruckType2_CityDeliveryTruck'\n",
      " 'TruckType2_MiniVan' 'TruckType2_Van' 'DriverCD_C_D1_1' 'DriverCD_C_D1_2'\n",
      " 'DriverCD_C_D1_3' 'DriverCD_C_D1_4' 'DriverCD_C_D1_5' 'DriverCD_C_D1_6'\n",
      " 'DriverCD_C_D1_7' 'DriverCD_C_D2_1' 'DriverCD_C_D2_2' 'DriverCD_C_D2_3'\n",
      " 'DriverCD_C_D2_4' 'DriverCD_C_D2_5' 'DriverCD_C_D2_6' 'DriverCD_C_D2_7'\n",
      " 'DriverCD_C_D3_1' 'DriverCD_C_D3_2' 'DriverCD_C_D3_3' 'DriverCD_C_D3_4'\n",
      " 'DriverCD_C_D3_5' 'DriverCD_C_D3_6' 'DriverCD_C_D3_7' 'RoutDeliveryOrder'\n",
      " 'FloorCD']\n"
     ]
    }
   ],
   "source": [
    "delivery_tree = tree.DecisionTreeClassifier(max_depth = 4, min_samples_split = 2, min_samples_leaf = 1)\n",
    "delivery_tree.fit(independetVariablesEncoded, dependentVariableStars)\n",
    "\n",
    "print(\"Decision tree model saved to delivery_tree!\")\n",
    "print(delivery_tree)\n",
    "print(independetVariablesEncoded.columns.values)"
   ]
  },
  {
   "cell_type": "markdown",
   "metadata": {
    "id": "CyLSxHbxur6Y"
   },
   "source": [
    "## Gráfico em árvore"
   ]
  },
  {
   "cell_type": "code",
   "execution_count": 66,
   "metadata": {
    "colab": {
     "base_uri": "https://localhost:8080/",
     "height": 777
    },
    "id": "_4lp-QBX6Ue4",
    "outputId": "d04b4b92-7a35-4402-b357-48041e7fa87f",
    "scrolled": false
   },
   "outputs": [],
   "source": [
    "export_graphviz(delivery_tree,\n",
    "                feature_names=list(independetVariablesEncoded.columns.values),\n",
    "                out_file=\"delivery_tree.dot\",\n",
    "                class_names=np.unique(dependentVariableStars.astype(str)),\n",
    "                filled=True,\n",
    "                rounded=True,\n",
    "                node_ids=True,\n",
    "                special_characters=True,\n",
    "                impurity=False,\n",
    "                label=\"all\",\n",
    "                leaves_parallel = False)\n",
    "\n"
   ]
  },
  {
   "cell_type": "code",
   "execution_count": 67,
   "metadata": {},
   "outputs": [
    {
     "data": {
      "image/svg+xml": "<?xml version=\"1.0\" encoding=\"UTF-8\" standalone=\"no\"?>\n<!DOCTYPE svg PUBLIC \"-//W3C//DTD SVG 1.1//EN\"\n \"http://www.w3.org/Graphics/SVG/1.1/DTD/svg11.dtd\">\n<!-- Generated by graphviz version 8.0.1 (20230327.1645)\n -->\n<!-- Title: Tree Pages: 1 -->\n<svg width=\"2821pt\" height=\"552pt\"\n viewBox=\"0.00 0.00 2821.00 552.00\" xmlns=\"http://www.w3.org/2000/svg\" xmlns:xlink=\"http://www.w3.org/1999/xlink\">\n<g id=\"graph0\" class=\"graph\" transform=\"scale(1 1) rotate(0) translate(4 548)\">\n<title>Tree</title>\n<polygon fill=\"white\" stroke=\"none\" points=\"-4,4 -4,-548 2817,-548 2817,4 -4,4\"/>\n<!-- 0 -->\n<g id=\"node1\" class=\"node\">\n<title>0</title>\n<path fill=\"#f9fefd\" stroke=\"black\" d=\"M1753,-544C1753,-544 1509,-544 1509,-544 1503,-544 1497,-538 1497,-532 1497,-532 1497,-473 1497,-473 1497,-467 1503,-461 1509,-461 1509,-461 1753,-461 1753,-461 1759,-461 1765,-467 1765,-473 1765,-473 1765,-532 1765,-532 1765,-538 1759,-544 1753,-544\"/>\n<text text-anchor=\"start\" x=\"1604.5\" y=\"-528.8\" font-family=\"Helvetica,sans-Serif\" font-size=\"14.00\">node #0</text>\n<text text-anchor=\"start\" x=\"1575\" y=\"-513.8\" font-family=\"Helvetica,sans-Serif\" font-size=\"14.00\">Product_P1 ≤ 0.5</text>\n<text text-anchor=\"start\" x=\"1575\" y=\"-498.8\" font-family=\"Helvetica,sans-Serif\" font-size=\"14.00\">samples = 12281</text>\n<text text-anchor=\"start\" x=\"1505\" y=\"-483.8\" font-family=\"Helvetica,sans-Serif\" font-size=\"14.00\">value = [2303, 2383, 2769, 2469, 2357]</text>\n<text text-anchor=\"start\" x=\"1596\" y=\"-468.8\" font-family=\"Helvetica,sans-Serif\" font-size=\"14.00\">class = 3.0</text>\n</g>\n<!-- 1 -->\n<g id=\"node2\" class=\"node\">\n<title>1</title>\n<path fill=\"#fafefe\" stroke=\"black\" d=\"M1461,-425C1461,-425 1217,-425 1217,-425 1211,-425 1205,-419 1205,-413 1205,-413 1205,-354 1205,-354 1205,-348 1211,-342 1217,-342 1217,-342 1461,-342 1461,-342 1467,-342 1473,-348 1473,-354 1473,-354 1473,-413 1473,-413 1473,-419 1467,-425 1461,-425\"/>\n<text text-anchor=\"start\" x=\"1312.5\" y=\"-409.8\" font-family=\"Helvetica,sans-Serif\" font-size=\"14.00\">node #1</text>\n<text text-anchor=\"start\" x=\"1283\" y=\"-394.8\" font-family=\"Helvetica,sans-Serif\" font-size=\"14.00\">Product_P7 ≤ 0.5</text>\n<text text-anchor=\"start\" x=\"1283\" y=\"-379.8\" font-family=\"Helvetica,sans-Serif\" font-size=\"14.00\">samples = 11525</text>\n<text text-anchor=\"start\" x=\"1213\" y=\"-364.8\" font-family=\"Helvetica,sans-Serif\" font-size=\"14.00\">value = [2271, 2309, 2538, 2268, 2139]</text>\n<text text-anchor=\"start\" x=\"1304\" y=\"-349.8\" font-family=\"Helvetica,sans-Serif\" font-size=\"14.00\">class = 3.0</text>\n</g>\n<!-- 0&#45;&gt;1 -->\n<g id=\"edge1\" class=\"edge\">\n<title>0&#45;&gt;1</title>\n<path fill=\"none\" stroke=\"black\" d=\"M1528.87,-460.58C1503.75,-450.51 1476.73,-439.69 1451.16,-429.44\"/>\n<polygon fill=\"black\" stroke=\"black\" points=\"1452.65,-425.87 1442.07,-425.4 1450.05,-432.37 1452.65,-425.87\"/>\n<text text-anchor=\"middle\" x=\"1450.9\" y=\"-444.68\" font-family=\"Helvetica,sans-Serif\" font-size=\"14.00\">True</text>\n</g>\n<!-- 16 -->\n<g id=\"node17\" class=\"node\">\n<title>16</title>\n<path fill=\"#fafefe\" stroke=\"black\" d=\"M2085,-425C2085,-425 1899,-425 1899,-425 1893,-425 1887,-419 1887,-413 1887,-413 1887,-354 1887,-354 1887,-348 1893,-342 1899,-342 1899,-342 2085,-342 2085,-342 2091,-342 2097,-348 2097,-354 2097,-354 2097,-413 2097,-413 2097,-419 2091,-425 2085,-425\"/>\n<text text-anchor=\"start\" x=\"1961.5\" y=\"-409.8\" font-family=\"Helvetica,sans-Serif\" font-size=\"14.00\">node #16</text>\n<text text-anchor=\"start\" x=\"1947\" y=\"-394.8\" font-family=\"Helvetica,sans-Serif\" font-size=\"14.00\">FloorCD ≤ 0.5</text>\n<text text-anchor=\"start\" x=\"1944.5\" y=\"-379.8\" font-family=\"Helvetica,sans-Serif\" font-size=\"14.00\">samples = 756</text>\n<text text-anchor=\"start\" x=\"1895\" y=\"-364.8\" font-family=\"Helvetica,sans-Serif\" font-size=\"14.00\">value = [32, 74, 231, 201, 218]</text>\n<text text-anchor=\"start\" x=\"1957\" y=\"-349.8\" font-family=\"Helvetica,sans-Serif\" font-size=\"14.00\">class = 3.0</text>\n</g>\n<!-- 0&#45;&gt;16 -->\n<g id=\"edge16\" class=\"edge\">\n<title>0&#45;&gt;16</title>\n<path fill=\"none\" stroke=\"black\" d=\"M1757.26,-460.58C1796.08,-448 1838.6,-434.22 1876.65,-421.89\"/>\n<polygon fill=\"black\" stroke=\"black\" points=\"1877.3,-425.03 1885.73,-418.62 1875.14,-418.37 1877.3,-425.03\"/>\n<text text-anchor=\"middle\" x=\"1875.37\" y=\"-437.18\" font-family=\"Helvetica,sans-Serif\" font-size=\"14.00\">False</text>\n</g>\n<!-- 2 -->\n<g id=\"node3\" class=\"node\">\n<title>2</title>\n<path fill=\"#fafefd\" stroke=\"black\" d=\"M875,-306C875,-306 631,-306 631,-306 625,-306 619,-300 619,-294 619,-294 619,-235 619,-235 619,-229 625,-223 631,-223 631,-223 875,-223 875,-223 881,-223 887,-229 887,-235 887,-235 887,-294 887,-294 887,-300 881,-306 875,-306\"/>\n<text text-anchor=\"start\" x=\"726.5\" y=\"-290.8\" font-family=\"Helvetica,sans-Serif\" font-size=\"14.00\">node #2</text>\n<text text-anchor=\"start\" x=\"697\" y=\"-275.8\" font-family=\"Helvetica,sans-Serif\" font-size=\"14.00\">Product_P3 ≤ 0.5</text>\n<text text-anchor=\"start\" x=\"697\" y=\"-260.8\" font-family=\"Helvetica,sans-Serif\" font-size=\"14.00\">samples = 10565</text>\n<text text-anchor=\"start\" x=\"627\" y=\"-245.8\" font-family=\"Helvetica,sans-Serif\" font-size=\"14.00\">value = [1987, 2068, 2353, 2132, 2025]</text>\n<text text-anchor=\"start\" x=\"718\" y=\"-230.8\" font-family=\"Helvetica,sans-Serif\" font-size=\"14.00\">class = 3.0</text>\n</g>\n<!-- 1&#45;&gt;2 -->\n<g id=\"edge2\" class=\"edge\">\n<title>1&#45;&gt;2</title>\n<path fill=\"none\" stroke=\"black\" d=\"M1204.56,-355.66C1112.97,-337.37 991.8,-313.18 898.04,-294.46\"/>\n<polygon fill=\"black\" stroke=\"black\" points=\"898.81,-290.84 888.32,-292.32 897.44,-297.71 898.81,-290.84\"/>\n</g>\n<!-- 9 -->\n<g id=\"node10\" class=\"node\">\n<title>9</title>\n<path fill=\"#fdf7f3\" stroke=\"black\" d=\"M1440.5,-306C1440.5,-306 1237.5,-306 1237.5,-306 1231.5,-306 1225.5,-300 1225.5,-294 1225.5,-294 1225.5,-235 1225.5,-235 1225.5,-229 1231.5,-223 1237.5,-223 1237.5,-223 1440.5,-223 1440.5,-223 1446.5,-223 1452.5,-229 1452.5,-235 1452.5,-235 1452.5,-294 1452.5,-294 1452.5,-300 1446.5,-306 1440.5,-306\"/>\n<text text-anchor=\"start\" x=\"1312.5\" y=\"-290.8\" font-family=\"Helvetica,sans-Serif\" font-size=\"14.00\">node #9</text>\n<text text-anchor=\"start\" x=\"1294\" y=\"-275.8\" font-family=\"Helvetica,sans-Serif\" font-size=\"14.00\">FloorCD ≤ 2.5</text>\n<text text-anchor=\"start\" x=\"1291.5\" y=\"-260.8\" font-family=\"Helvetica,sans-Serif\" font-size=\"14.00\">samples = 960</text>\n<text text-anchor=\"start\" x=\"1233.5\" y=\"-245.8\" font-family=\"Helvetica,sans-Serif\" font-size=\"14.00\">value = [284, 241, 185, 136, 114]</text>\n<text text-anchor=\"start\" x=\"1304\" y=\"-230.8\" font-family=\"Helvetica,sans-Serif\" font-size=\"14.00\">class = 1.0</text>\n</g>\n<!-- 1&#45;&gt;9 -->\n<g id=\"edge9\" class=\"edge\">\n<title>1&#45;&gt;9</title>\n<path fill=\"none\" stroke=\"black\" d=\"M1339,-341.58C1339,-333.7 1339,-325.34 1339,-317.17\"/>\n<polygon fill=\"black\" stroke=\"black\" points=\"1342.5,-317.2 1339,-307.2 1335.5,-317.2 1342.5,-317.2\"/>\n</g>\n<!-- 3 -->\n<g id=\"node4\" class=\"node\">\n<title>3</title>\n<path fill=\"#fcfffe\" stroke=\"black\" d=\"M517,-187C517,-187 273,-187 273,-187 267,-187 261,-181 261,-175 261,-175 261,-116 261,-116 261,-110 267,-104 273,-104 273,-104 517,-104 517,-104 523,-104 529,-110 529,-116 529,-116 529,-175 529,-175 529,-181 523,-187 517,-187\"/>\n<text text-anchor=\"start\" x=\"368.5\" y=\"-171.8\" font-family=\"Helvetica,sans-Serif\" font-size=\"14.00\">node #3</text>\n<text text-anchor=\"start\" x=\"340.5\" y=\"-156.8\" font-family=\"Helvetica,sans-Serif\" font-size=\"14.00\">Dest_C205 ≤ 0.5</text>\n<text text-anchor=\"start\" x=\"343.5\" y=\"-141.8\" font-family=\"Helvetica,sans-Serif\" font-size=\"14.00\">samples = 9825</text>\n<text text-anchor=\"start\" x=\"269\" y=\"-126.8\" font-family=\"Helvetica,sans-Serif\" font-size=\"14.00\">value = [1857, 1928, 2121, 2003, 1916]</text>\n<text text-anchor=\"start\" x=\"360\" y=\"-111.8\" font-family=\"Helvetica,sans-Serif\" font-size=\"14.00\">class = 3.0</text>\n</g>\n<!-- 2&#45;&gt;3 -->\n<g id=\"edge3\" class=\"edge\">\n<title>2&#45;&gt;3</title>\n<path fill=\"none\" stroke=\"black\" d=\"M627.79,-222.58C596.4,-212.32 562.59,-201.27 530.72,-190.85\"/>\n<polygon fill=\"black\" stroke=\"black\" points=\"532.04,-187.28 521.44,-187.5 529.86,-193.93 532.04,-187.28\"/>\n</g>\n<!-- 6 -->\n<g id=\"node7\" class=\"node\">\n<title>6</title>\n<path fill=\"#e1fbf6\" stroke=\"black\" d=\"M854.5,-187C854.5,-187 651.5,-187 651.5,-187 645.5,-187 639.5,-181 639.5,-175 639.5,-175 639.5,-116 639.5,-116 639.5,-110 645.5,-104 651.5,-104 651.5,-104 854.5,-104 854.5,-104 860.5,-104 866.5,-110 866.5,-116 866.5,-116 866.5,-175 866.5,-175 866.5,-181 860.5,-187 854.5,-187\"/>\n<text text-anchor=\"start\" x=\"726.5\" y=\"-171.8\" font-family=\"Helvetica,sans-Serif\" font-size=\"14.00\">node #6</text>\n<text text-anchor=\"start\" x=\"698.5\" y=\"-156.8\" font-family=\"Helvetica,sans-Serif\" font-size=\"14.00\">Dest_C304 ≤ 0.5</text>\n<text text-anchor=\"start\" x=\"705.5\" y=\"-141.8\" font-family=\"Helvetica,sans-Serif\" font-size=\"14.00\">samples = 740</text>\n<text text-anchor=\"start\" x=\"647.5\" y=\"-126.8\" font-family=\"Helvetica,sans-Serif\" font-size=\"14.00\">value = [130, 140, 232, 129, 109]</text>\n<text text-anchor=\"start\" x=\"718\" y=\"-111.8\" font-family=\"Helvetica,sans-Serif\" font-size=\"14.00\">class = 3.0</text>\n</g>\n<!-- 2&#45;&gt;6 -->\n<g id=\"edge6\" class=\"edge\">\n<title>2&#45;&gt;6</title>\n<path fill=\"none\" stroke=\"black\" d=\"M753,-222.58C753,-214.7 753,-206.34 753,-198.17\"/>\n<polygon fill=\"black\" stroke=\"black\" points=\"756.5,-198.2 753,-188.2 749.5,-198.2 756.5,-198.2\"/>\n</g>\n<!-- 4 -->\n<g id=\"node5\" class=\"node\">\n<title>4</title>\n<path fill=\"#fbfefe\" stroke=\"black\" d=\"M256,-68C256,-68 12,-68 12,-68 6,-68 0,-62 0,-56 0,-56 0,-12 0,-12 0,-6 6,0 12,0 12,0 256,0 256,0 262,0 268,-6 268,-12 268,-12 268,-56 268,-56 268,-62 262,-68 256,-68\"/>\n<text text-anchor=\"start\" x=\"107.5\" y=\"-52.8\" font-family=\"Helvetica,sans-Serif\" font-size=\"14.00\">node #4</text>\n<text text-anchor=\"start\" x=\"82.5\" y=\"-37.8\" font-family=\"Helvetica,sans-Serif\" font-size=\"14.00\">samples = 9217</text>\n<text text-anchor=\"start\" x=\"8\" y=\"-22.8\" font-family=\"Helvetica,sans-Serif\" font-size=\"14.00\">value = [1783, 1819, 1989, 1827, 1799]</text>\n<text text-anchor=\"start\" x=\"99\" y=\"-7.8\" font-family=\"Helvetica,sans-Serif\" font-size=\"14.00\">class = 3.0</text>\n</g>\n<!-- 3&#45;&gt;4 -->\n<g id=\"edge4\" class=\"edge\">\n<title>3&#45;&gt;4</title>\n<path fill=\"none\" stroke=\"black\" d=\"M297.44,-103.57C273.24,-93.42 247.43,-82.59 223.63,-72.6\"/>\n<polygon fill=\"black\" stroke=\"black\" points=\"225.14,-69.02 214.57,-68.38 222.43,-75.48 225.14,-69.02\"/>\n</g>\n<!-- 5 -->\n<g id=\"node6\" class=\"node\">\n<title>5</title>\n<path fill=\"#ededfd\" stroke=\"black\" d=\"M492,-68C492,-68 298,-68 298,-68 292,-68 286,-62 286,-56 286,-56 286,-12 286,-12 286,-6 292,0 298,0 298,0 492,0 492,0 498,0 504,-6 504,-12 504,-12 504,-56 504,-56 504,-62 498,-68 492,-68\"/>\n<text text-anchor=\"start\" x=\"368.5\" y=\"-52.8\" font-family=\"Helvetica,sans-Serif\" font-size=\"14.00\">node #5</text>\n<text text-anchor=\"start\" x=\"347.5\" y=\"-37.8\" font-family=\"Helvetica,sans-Serif\" font-size=\"14.00\">samples = 608</text>\n<text text-anchor=\"start\" x=\"294\" y=\"-22.8\" font-family=\"Helvetica,sans-Serif\" font-size=\"14.00\">value = [74, 109, 132, 176, 117]</text>\n<text text-anchor=\"start\" x=\"360\" y=\"-7.8\" font-family=\"Helvetica,sans-Serif\" font-size=\"14.00\">class = 4.0</text>\n</g>\n<!-- 3&#45;&gt;5 -->\n<g id=\"edge5\" class=\"edge\">\n<title>3&#45;&gt;5</title>\n<path fill=\"none\" stroke=\"black\" d=\"M395,-103.73C395,-95.7 395,-87.24 395,-79.11\"/>\n<polygon fill=\"black\" stroke=\"black\" points=\"398.5,-79.3 395,-69.3 391.5,-79.3 398.5,-79.3\"/>\n</g>\n<!-- 7 -->\n<g id=\"node8\" class=\"node\">\n<title>7</title>\n<path fill=\"#e9fcf8\" stroke=\"black\" d=\"M737.5,-68C737.5,-68 534.5,-68 534.5,-68 528.5,-68 522.5,-62 522.5,-56 522.5,-56 522.5,-12 522.5,-12 522.5,-6 528.5,0 534.5,0 534.5,0 737.5,0 737.5,0 743.5,0 749.5,-6 749.5,-12 749.5,-12 749.5,-56 749.5,-56 749.5,-62 743.5,-68 737.5,-68\"/>\n<text text-anchor=\"start\" x=\"609.5\" y=\"-52.8\" font-family=\"Helvetica,sans-Serif\" font-size=\"14.00\">node #7</text>\n<text text-anchor=\"start\" x=\"588.5\" y=\"-37.8\" font-family=\"Helvetica,sans-Serif\" font-size=\"14.00\">samples = 700</text>\n<text text-anchor=\"start\" x=\"530.5\" y=\"-22.8\" font-family=\"Helvetica,sans-Serif\" font-size=\"14.00\">value = [126, 136, 200, 129, 109]</text>\n<text text-anchor=\"start\" x=\"601\" y=\"-7.8\" font-family=\"Helvetica,sans-Serif\" font-size=\"14.00\">class = 3.0</text>\n</g>\n<!-- 6&#45;&gt;7 -->\n<g id=\"edge7\" class=\"edge\">\n<title>6&#45;&gt;7</title>\n<path fill=\"none\" stroke=\"black\" d=\"M709.43,-103.73C699.69,-94.61 689.35,-84.93 679.6,-75.81\"/>\n<polygon fill=\"black\" stroke=\"black\" points=\"682.27,-73.58 672.58,-69.3 677.49,-78.69 682.27,-73.58\"/>\n</g>\n<!-- 8 -->\n<g id=\"node9\" class=\"node\">\n<title>8</title>\n<path fill=\"#65ebd2\" stroke=\"black\" d=\"M908,-68C908,-68 780,-68 780,-68 774,-68 768,-62 768,-56 768,-56 768,-12 768,-12 768,-6 774,0 780,0 780,0 908,0 908,0 914,0 920,-6 920,-12 920,-12 920,-56 920,-56 920,-62 914,-68 908,-68\"/>\n<text text-anchor=\"start\" x=\"817.5\" y=\"-52.8\" font-family=\"Helvetica,sans-Serif\" font-size=\"14.00\">node #8</text>\n<text text-anchor=\"start\" x=\"800.5\" y=\"-37.8\" font-family=\"Helvetica,sans-Serif\" font-size=\"14.00\">samples = 40</text>\n<text text-anchor=\"start\" x=\"776\" y=\"-22.8\" font-family=\"Helvetica,sans-Serif\" font-size=\"14.00\">value = [4, 4, 32, 0, 0]</text>\n<text text-anchor=\"start\" x=\"809\" y=\"-7.8\" font-family=\"Helvetica,sans-Serif\" font-size=\"14.00\">class = 3.0</text>\n</g>\n<!-- 6&#45;&gt;8 -->\n<g id=\"edge8\" class=\"edge\">\n<title>6&#45;&gt;8</title>\n<path fill=\"none\" stroke=\"black\" d=\"M786.89,-103.73C794.24,-94.88 802.02,-85.51 809.4,-76.63\"/>\n<polygon fill=\"black\" stroke=\"black\" points=\"812.63,-79.23 816.33,-69.3 807.24,-74.75 812.63,-79.23\"/>\n</g>\n<!-- 10 -->\n<g id=\"node11\" class=\"node\">\n<title>10</title>\n<path fill=\"#feffff\" stroke=\"black\" d=\"M1320,-187C1320,-187 1134,-187 1134,-187 1128,-187 1122,-181 1122,-175 1122,-175 1122,-116 1122,-116 1122,-110 1128,-104 1134,-104 1134,-104 1320,-104 1320,-104 1326,-104 1332,-110 1332,-116 1332,-116 1332,-175 1332,-175 1332,-181 1326,-187 1320,-187\"/>\n<text text-anchor=\"start\" x=\"1196.5\" y=\"-171.8\" font-family=\"Helvetica,sans-Serif\" font-size=\"14.00\">node #10</text>\n<text text-anchor=\"start\" x=\"1177.5\" y=\"-156.8\" font-family=\"Helvetica,sans-Serif\" font-size=\"14.00\">Origin_F2 ≤ 0.5</text>\n<text text-anchor=\"start\" x=\"1179.5\" y=\"-141.8\" font-family=\"Helvetica,sans-Serif\" font-size=\"14.00\">samples = 488</text>\n<text text-anchor=\"start\" x=\"1130\" y=\"-126.8\" font-family=\"Helvetica,sans-Serif\" font-size=\"14.00\">value = [81, 76, 115, 114, 102]</text>\n<text text-anchor=\"start\" x=\"1192\" y=\"-111.8\" font-family=\"Helvetica,sans-Serif\" font-size=\"14.00\">class = 3.0</text>\n</g>\n<!-- 9&#45;&gt;10 -->\n<g id=\"edge10\" class=\"edge\">\n<title>9&#45;&gt;10</title>\n<path fill=\"none\" stroke=\"black\" d=\"M1299.83,-222.58C1291.34,-213.71 1282.28,-204.25 1273.54,-195.12\"/>\n<polygon fill=\"black\" stroke=\"black\" points=\"1276.4,-193 1266.96,-188.2 1271.35,-197.84 1276.4,-193\"/>\n</g>\n<!-- 13 -->\n<g id=\"node14\" class=\"node\">\n<title>13</title>\n<path fill=\"#fcefe6\" stroke=\"black\" d=\"M1540,-187C1540,-187 1362,-187 1362,-187 1356,-187 1350,-181 1350,-175 1350,-175 1350,-116 1350,-116 1350,-110 1356,-104 1362,-104 1362,-104 1540,-104 1540,-104 1546,-104 1552,-110 1552,-116 1552,-116 1552,-175 1552,-175 1552,-181 1546,-187 1540,-187\"/>\n<text text-anchor=\"start\" x=\"1420.5\" y=\"-171.8\" font-family=\"Helvetica,sans-Serif\" font-size=\"14.00\">node #13</text>\n<text text-anchor=\"start\" x=\"1374\" y=\"-156.8\" font-family=\"Helvetica,sans-Serif\" font-size=\"14.00\">RoutDeliveryOrder ≤ 4.5</text>\n<text text-anchor=\"start\" x=\"1403.5\" y=\"-141.8\" font-family=\"Helvetica,sans-Serif\" font-size=\"14.00\">samples = 472</text>\n<text text-anchor=\"start\" x=\"1358\" y=\"-126.8\" font-family=\"Helvetica,sans-Serif\" font-size=\"14.00\">value = [203, 165, 70, 22, 12]</text>\n<text text-anchor=\"start\" x=\"1416\" y=\"-111.8\" font-family=\"Helvetica,sans-Serif\" font-size=\"14.00\">class = 1.0</text>\n</g>\n<!-- 9&#45;&gt;13 -->\n<g id=\"edge13\" class=\"edge\">\n<title>9&#45;&gt;13</title>\n<path fill=\"none\" stroke=\"black\" d=\"M1378.17,-222.58C1386.66,-213.71 1395.72,-204.25 1404.46,-195.12\"/>\n<polygon fill=\"black\" stroke=\"black\" points=\"1406.65,-197.84 1411.04,-188.2 1401.6,-193 1406.65,-197.84\"/>\n</g>\n<!-- 11 -->\n<g id=\"node12\" class=\"node\">\n<title>11</title>\n<path fill=\"#e5e4fc\" stroke=\"black\" d=\"M1120,-68C1120,-68 950,-68 950,-68 944,-68 938,-62 938,-56 938,-56 938,-12 938,-12 938,-6 944,0 950,0 950,0 1120,0 1120,0 1126,0 1132,-6 1132,-12 1132,-12 1132,-56 1132,-56 1132,-62 1126,-68 1120,-68\"/>\n<text text-anchor=\"start\" x=\"1004.5\" y=\"-52.8\" font-family=\"Helvetica,sans-Serif\" font-size=\"14.00\">node #11</text>\n<text text-anchor=\"start\" x=\"987.5\" y=\"-37.8\" font-family=\"Helvetica,sans-Serif\" font-size=\"14.00\">samples = 368</text>\n<text text-anchor=\"start\" x=\"946\" y=\"-22.8\" font-family=\"Helvetica,sans-Serif\" font-size=\"14.00\">value = [67, 51, 70, 110, 70]</text>\n<text text-anchor=\"start\" x=\"1000\" y=\"-7.8\" font-family=\"Helvetica,sans-Serif\" font-size=\"14.00\">class = 4.0</text>\n</g>\n<!-- 10&#45;&gt;11 -->\n<g id=\"edge11\" class=\"edge\">\n<title>10&#45;&gt;11</title>\n<path fill=\"none\" stroke=\"black\" d=\"M1155.23,-103.57C1138.07,-93.78 1119.8,-83.36 1102.82,-73.68\"/>\n<polygon fill=\"black\" stroke=\"black\" points=\"1104.95,-70.29 1094.53,-68.38 1101.48,-76.38 1104.95,-70.29\"/>\n</g>\n<!-- 12 -->\n<g id=\"node13\" class=\"node\">\n<title>12</title>\n<path fill=\"#e2fbf6\" stroke=\"black\" d=\"M1315.5,-68C1315.5,-68 1162.5,-68 1162.5,-68 1156.5,-68 1150.5,-62 1150.5,-56 1150.5,-56 1150.5,-12 1150.5,-12 1150.5,-6 1156.5,0 1162.5,0 1162.5,0 1315.5,0 1315.5,0 1321.5,0 1327.5,-6 1327.5,-12 1327.5,-12 1327.5,-56 1327.5,-56 1327.5,-62 1321.5,-68 1315.5,-68\"/>\n<text text-anchor=\"start\" x=\"1208.5\" y=\"-52.8\" font-family=\"Helvetica,sans-Serif\" font-size=\"14.00\">node #12</text>\n<text text-anchor=\"start\" x=\"1191.5\" y=\"-37.8\" font-family=\"Helvetica,sans-Serif\" font-size=\"14.00\">samples = 120</text>\n<text text-anchor=\"start\" x=\"1158.5\" y=\"-22.8\" font-family=\"Helvetica,sans-Serif\" font-size=\"14.00\">value = [14, 25, 45, 4, 32]</text>\n<text text-anchor=\"start\" x=\"1204\" y=\"-7.8\" font-family=\"Helvetica,sans-Serif\" font-size=\"14.00\">class = 3.0</text>\n</g>\n<!-- 10&#45;&gt;12 -->\n<g id=\"edge12\" class=\"edge\">\n<title>10&#45;&gt;12</title>\n<path fill=\"none\" stroke=\"black\" d=\"M1231.47,-103.73C1232.35,-95.7 1233.27,-87.24 1234.17,-79.11\"/>\n<polygon fill=\"black\" stroke=\"black\" points=\"1237.74,-79.62 1235.35,-69.3 1230.78,-78.86 1237.74,-79.62\"/>\n</g>\n<!-- 14 -->\n<g id=\"node15\" class=\"node\">\n<title>14</title>\n<path fill=\"#f3fded\" stroke=\"black\" d=\"M1518.5,-68C1518.5,-68 1357.5,-68 1357.5,-68 1351.5,-68 1345.5,-62 1345.5,-56 1345.5,-56 1345.5,-12 1345.5,-12 1345.5,-6 1351.5,0 1357.5,0 1357.5,0 1518.5,0 1518.5,0 1524.5,0 1530.5,-6 1530.5,-12 1530.5,-12 1530.5,-56 1530.5,-56 1530.5,-62 1524.5,-68 1518.5,-68\"/>\n<text text-anchor=\"start\" x=\"1407.5\" y=\"-52.8\" font-family=\"Helvetica,sans-Serif\" font-size=\"14.00\">node #14</text>\n<text text-anchor=\"start\" x=\"1390.5\" y=\"-37.8\" font-family=\"Helvetica,sans-Serif\" font-size=\"14.00\">samples = 228</text>\n<text text-anchor=\"start\" x=\"1353.5\" y=\"-22.8\" font-family=\"Helvetica,sans-Serif\" font-size=\"14.00\">value = [56, 77, 62, 22, 11]</text>\n<text text-anchor=\"start\" x=\"1403\" y=\"-7.8\" font-family=\"Helvetica,sans-Serif\" font-size=\"14.00\">class = 2.0</text>\n</g>\n<!-- 13&#45;&gt;14 -->\n<g id=\"edge14\" class=\"edge\">\n<title>13&#45;&gt;14</title>\n<path fill=\"none\" stroke=\"black\" d=\"M1446.16,-103.73C1445.21,-95.7 1444.2,-87.24 1443.24,-79.11\"/>\n<polygon fill=\"black\" stroke=\"black\" points=\"1446.61,-78.82 1441.95,-69.3 1439.66,-79.64 1446.61,-78.82\"/>\n</g>\n<!-- 15 -->\n<g id=\"node16\" class=\"node\">\n<title>15</title>\n<path fill=\"#f5cfb4\" stroke=\"black\" d=\"M1705.5,-68C1705.5,-68 1560.5,-68 1560.5,-68 1554.5,-68 1548.5,-62 1548.5,-56 1548.5,-56 1548.5,-12 1548.5,-12 1548.5,-6 1554.5,0 1560.5,0 1560.5,0 1705.5,0 1705.5,0 1711.5,0 1717.5,-6 1717.5,-12 1717.5,-12 1717.5,-56 1717.5,-56 1717.5,-62 1711.5,-68 1705.5,-68\"/>\n<text text-anchor=\"start\" x=\"1602.5\" y=\"-52.8\" font-family=\"Helvetica,sans-Serif\" font-size=\"14.00\">node #15</text>\n<text text-anchor=\"start\" x=\"1585.5\" y=\"-37.8\" font-family=\"Helvetica,sans-Serif\" font-size=\"14.00\">samples = 244</text>\n<text text-anchor=\"start\" x=\"1556.5\" y=\"-22.8\" font-family=\"Helvetica,sans-Serif\" font-size=\"14.00\">value = [147, 88, 8, 0, 1]</text>\n<text text-anchor=\"start\" x=\"1598\" y=\"-7.8\" font-family=\"Helvetica,sans-Serif\" font-size=\"14.00\">class = 1.0</text>\n</g>\n<!-- 13&#45;&gt;15 -->\n<g id=\"edge15\" class=\"edge\">\n<title>13&#45;&gt;15</title>\n<path fill=\"none\" stroke=\"black\" d=\"M1519.03,-103.57C1535.15,-93.87 1552.3,-83.55 1568.27,-73.95\"/>\n<polygon fill=\"black\" stroke=\"black\" points=\"1569.75,-76.54 1576.52,-68.38 1566.14,-70.54 1569.75,-76.54\"/>\n</g>\n<!-- 17 -->\n<g id=\"node18\" class=\"node\">\n<title>17</title>\n<path fill=\"#e1e1fb\" stroke=\"black\" d=\"M2068.5,-306C2068.5,-306 1915.5,-306 1915.5,-306 1909.5,-306 1903.5,-300 1903.5,-294 1903.5,-294 1903.5,-235 1903.5,-235 1903.5,-229 1909.5,-223 1915.5,-223 1915.5,-223 2068.5,-223 2068.5,-223 2074.5,-223 2080.5,-229 2080.5,-235 2080.5,-235 2080.5,-294 2080.5,-294 2080.5,-300 2074.5,-306 2068.5,-306\"/>\n<text text-anchor=\"start\" x=\"1961.5\" y=\"-290.8\" font-family=\"Helvetica,sans-Serif\" font-size=\"14.00\">node #17</text>\n<text text-anchor=\"start\" x=\"1937.5\" y=\"-275.8\" font-family=\"Helvetica,sans-Serif\" font-size=\"14.00\">Dest_C202 ≤ 0.5</text>\n<text text-anchor=\"start\" x=\"1944.5\" y=\"-260.8\" font-family=\"Helvetica,sans-Serif\" font-size=\"14.00\">samples = 196</text>\n<text text-anchor=\"start\" x=\"1911.5\" y=\"-245.8\" font-family=\"Helvetica,sans-Serif\" font-size=\"14.00\">value = [4, 16, 28, 84, 64]</text>\n<text text-anchor=\"start\" x=\"1957\" y=\"-230.8\" font-family=\"Helvetica,sans-Serif\" font-size=\"14.00\">class = 4.0</text>\n</g>\n<!-- 16&#45;&gt;17 -->\n<g id=\"edge17\" class=\"edge\">\n<title>16&#45;&gt;17</title>\n<path fill=\"none\" stroke=\"black\" d=\"M1992,-341.58C1992,-333.7 1992,-325.34 1992,-317.17\"/>\n<polygon fill=\"black\" stroke=\"black\" points=\"1995.5,-317.2 1992,-307.2 1988.5,-317.2 1995.5,-317.2\"/>\n</g>\n<!-- 22 -->\n<g id=\"node23\" class=\"node\">\n<title>22</title>\n<path fill=\"#e7fcf8\" stroke=\"black\" d=\"M2382,-306C2382,-306 2196,-306 2196,-306 2190,-306 2184,-300 2184,-294 2184,-294 2184,-235 2184,-235 2184,-229 2190,-223 2196,-223 2196,-223 2382,-223 2382,-223 2388,-223 2394,-229 2394,-235 2394,-235 2394,-294 2394,-294 2394,-300 2388,-306 2382,-306\"/>\n<text text-anchor=\"start\" x=\"2258.5\" y=\"-290.8\" font-family=\"Helvetica,sans-Serif\" font-size=\"14.00\">node #22</text>\n<text text-anchor=\"start\" x=\"2210.5\" y=\"-275.8\" font-family=\"Helvetica,sans-Serif\" font-size=\"14.00\">DriverCD_C_D2_3 ≤ 0.5</text>\n<text text-anchor=\"start\" x=\"2241.5\" y=\"-260.8\" font-family=\"Helvetica,sans-Serif\" font-size=\"14.00\">samples = 560</text>\n<text text-anchor=\"start\" x=\"2192\" y=\"-245.8\" font-family=\"Helvetica,sans-Serif\" font-size=\"14.00\">value = [28, 58, 203, 117, 154]</text>\n<text text-anchor=\"start\" x=\"2254\" y=\"-230.8\" font-family=\"Helvetica,sans-Serif\" font-size=\"14.00\">class = 3.0</text>\n</g>\n<!-- 16&#45;&gt;22 -->\n<g id=\"edge22\" class=\"edge\">\n<title>16&#45;&gt;22</title>\n<path fill=\"none\" stroke=\"black\" d=\"M2095.88,-341.58C2121.46,-331.5 2149,-320.65 2175.03,-310.4\"/>\n<polygon fill=\"black\" stroke=\"black\" points=\"2175.91,-313.42 2183.93,-306.5 2173.34,-306.91 2175.91,-313.42\"/>\n</g>\n<!-- 18 -->\n<g id=\"node19\" class=\"node\">\n<title>18</title>\n<path fill=\"#d0cff9\" stroke=\"black\" d=\"M1983.5,-187C1983.5,-187 1830.5,-187 1830.5,-187 1824.5,-187 1818.5,-181 1818.5,-175 1818.5,-175 1818.5,-116 1818.5,-116 1818.5,-110 1824.5,-104 1830.5,-104 1830.5,-104 1983.5,-104 1983.5,-104 1989.5,-104 1995.5,-110 1995.5,-116 1995.5,-116 1995.5,-175 1995.5,-175 1995.5,-181 1989.5,-187 1983.5,-187\"/>\n<text text-anchor=\"start\" x=\"1876.5\" y=\"-171.8\" font-family=\"Helvetica,sans-Serif\" font-size=\"14.00\">node #18</text>\n<text text-anchor=\"start\" x=\"1828.5\" y=\"-156.8\" font-family=\"Helvetica,sans-Serif\" font-size=\"14.00\">DriverCD_C_D1_2 ≤ 0.5</text>\n<text text-anchor=\"start\" x=\"1859.5\" y=\"-141.8\" font-family=\"Helvetica,sans-Serif\" font-size=\"14.00\">samples = 184</text>\n<text text-anchor=\"start\" x=\"1826.5\" y=\"-126.8\" font-family=\"Helvetica,sans-Serif\" font-size=\"14.00\">value = [4, 16, 28, 84, 52]</text>\n<text text-anchor=\"start\" x=\"1872\" y=\"-111.8\" font-family=\"Helvetica,sans-Serif\" font-size=\"14.00\">class = 4.0</text>\n</g>\n<!-- 17&#45;&gt;18 -->\n<g id=\"edge18\" class=\"edge\">\n<title>17&#45;&gt;18</title>\n<path fill=\"none\" stroke=\"black\" d=\"M1962.27,-222.58C1956.02,-213.98 1949.37,-204.82 1942.92,-195.95\"/>\n<polygon fill=\"black\" stroke=\"black\" points=\"1945.28,-194.23 1936.57,-188.2 1939.61,-198.35 1945.28,-194.23\"/>\n</g>\n<!-- 21 -->\n<g id=\"node22\" class=\"node\">\n<title>21</title>\n<path fill=\"#e539c0\" stroke=\"black\" d=\"M2154,-179.5C2154,-179.5 2026,-179.5 2026,-179.5 2020,-179.5 2014,-173.5 2014,-167.5 2014,-167.5 2014,-123.5 2014,-123.5 2014,-117.5 2020,-111.5 2026,-111.5 2026,-111.5 2154,-111.5 2154,-111.5 2160,-111.5 2166,-117.5 2166,-123.5 2166,-123.5 2166,-167.5 2166,-167.5 2166,-173.5 2160,-179.5 2154,-179.5\"/>\n<text text-anchor=\"start\" x=\"2059.5\" y=\"-164.3\" font-family=\"Helvetica,sans-Serif\" font-size=\"14.00\">node #21</text>\n<text text-anchor=\"start\" x=\"2046.5\" y=\"-149.3\" font-family=\"Helvetica,sans-Serif\" font-size=\"14.00\">samples = 12</text>\n<text text-anchor=\"start\" x=\"2022\" y=\"-134.3\" font-family=\"Helvetica,sans-Serif\" font-size=\"14.00\">value = [0, 0, 0, 0, 12]</text>\n<text text-anchor=\"start\" x=\"2055\" y=\"-119.3\" font-family=\"Helvetica,sans-Serif\" font-size=\"14.00\">class = 5.0</text>\n</g>\n<!-- 17&#45;&gt;21 -->\n<g id=\"edge21\" class=\"edge\">\n<title>17&#45;&gt;21</title>\n<path fill=\"none\" stroke=\"black\" d=\"M2026.28,-222.58C2035.6,-211.45 2045.71,-199.38 2055.07,-188.2\"/>\n<polygon fill=\"black\" stroke=\"black\" points=\"2058.32,-190.77 2062.06,-180.86 2052.95,-186.28 2058.32,-190.77\"/>\n</g>\n<!-- 19 -->\n<g id=\"node20\" class=\"node\">\n<title>19</title>\n<path fill=\"#e4e4fb\" stroke=\"black\" d=\"M1900.5,-68C1900.5,-68 1747.5,-68 1747.5,-68 1741.5,-68 1735.5,-62 1735.5,-56 1735.5,-56 1735.5,-12 1735.5,-12 1735.5,-6 1741.5,0 1747.5,0 1747.5,0 1900.5,0 1900.5,0 1906.5,0 1912.5,-6 1912.5,-12 1912.5,-12 1912.5,-56 1912.5,-56 1912.5,-62 1906.5,-68 1900.5,-68\"/>\n<text text-anchor=\"start\" x=\"1793.5\" y=\"-52.8\" font-family=\"Helvetica,sans-Serif\" font-size=\"14.00\">node #19</text>\n<text text-anchor=\"start\" x=\"1776.5\" y=\"-37.8\" font-family=\"Helvetica,sans-Serif\" font-size=\"14.00\">samples = 168</text>\n<text text-anchor=\"start\" x=\"1743.5\" y=\"-22.8\" font-family=\"Helvetica,sans-Serif\" font-size=\"14.00\">value = [4, 16, 28, 68, 52]</text>\n<text text-anchor=\"start\" x=\"1789\" y=\"-7.8\" font-family=\"Helvetica,sans-Serif\" font-size=\"14.00\">class = 4.0</text>\n</g>\n<!-- 18&#45;&gt;19 -->\n<g id=\"edge19\" class=\"edge\">\n<title>18&#45;&gt;19</title>\n<path fill=\"none\" stroke=\"black\" d=\"M1876.09,-103.73C1869.46,-94.97 1862.43,-85.7 1855.76,-76.91\"/>\n<polygon fill=\"black\" stroke=\"black\" points=\"1858.07,-75.15 1849.24,-69.3 1852.49,-79.38 1858.07,-75.15\"/>\n</g>\n<!-- 20 -->\n<g id=\"node21\" class=\"node\">\n<title>20</title>\n<path fill=\"#3c39e5\" stroke=\"black\" d=\"M2071,-68C2071,-68 1943,-68 1943,-68 1937,-68 1931,-62 1931,-56 1931,-56 1931,-12 1931,-12 1931,-6 1937,0 1943,0 1943,0 2071,0 2071,0 2077,0 2083,-6 2083,-12 2083,-12 2083,-56 2083,-56 2083,-62 2077,-68 2071,-68\"/>\n<text text-anchor=\"start\" x=\"1976.5\" y=\"-52.8\" font-family=\"Helvetica,sans-Serif\" font-size=\"14.00\">node #20</text>\n<text text-anchor=\"start\" x=\"1963.5\" y=\"-37.8\" font-family=\"Helvetica,sans-Serif\" font-size=\"14.00\">samples = 16</text>\n<text text-anchor=\"start\" x=\"1939\" y=\"-22.8\" font-family=\"Helvetica,sans-Serif\" font-size=\"14.00\">value = [0, 0, 0, 16, 0]</text>\n<text text-anchor=\"start\" x=\"1972\" y=\"-7.8\" font-family=\"Helvetica,sans-Serif\" font-size=\"14.00\">class = 4.0</text>\n</g>\n<!-- 18&#45;&gt;20 -->\n<g id=\"edge20\" class=\"edge\">\n<title>18&#45;&gt;20</title>\n<path fill=\"none\" stroke=\"black\" d=\"M1944.24,-103.73C1952.4,-94.79 1961.05,-85.32 1969.23,-76.36\"/>\n<polygon fill=\"black\" stroke=\"black\" points=\"1971.43,-79.04 1975.59,-69.3 1966.26,-74.32 1971.43,-79.04\"/>\n</g>\n<!-- 23 -->\n<g id=\"node24\" class=\"node\">\n<title>23</title>\n<path fill=\"#dffbf6\" stroke=\"black\" d=\"M2382,-187C2382,-187 2196,-187 2196,-187 2190,-187 2184,-181 2184,-175 2184,-175 2184,-116 2184,-116 2184,-110 2190,-104 2196,-104 2196,-104 2382,-104 2382,-104 2388,-104 2394,-110 2394,-116 2394,-116 2394,-175 2394,-175 2394,-181 2388,-187 2382,-187\"/>\n<text text-anchor=\"start\" x=\"2258.5\" y=\"-171.8\" font-family=\"Helvetica,sans-Serif\" font-size=\"14.00\">node #23</text>\n<text text-anchor=\"start\" x=\"2234.5\" y=\"-156.8\" font-family=\"Helvetica,sans-Serif\" font-size=\"14.00\">Dest_C204 ≤ 0.5</text>\n<text text-anchor=\"start\" x=\"2241.5\" y=\"-141.8\" font-family=\"Helvetica,sans-Serif\" font-size=\"14.00\">samples = 536</text>\n<text text-anchor=\"start\" x=\"2192\" y=\"-126.8\" font-family=\"Helvetica,sans-Serif\" font-size=\"14.00\">value = [24, 54, 203, 117, 138]</text>\n<text text-anchor=\"start\" x=\"2254\" y=\"-111.8\" font-family=\"Helvetica,sans-Serif\" font-size=\"14.00\">class = 3.0</text>\n</g>\n<!-- 22&#45;&gt;23 -->\n<g id=\"edge23\" class=\"edge\">\n<title>22&#45;&gt;23</title>\n<path fill=\"none\" stroke=\"black\" d=\"M2289,-222.58C2289,-214.7 2289,-206.34 2289,-198.17\"/>\n<polygon fill=\"black\" stroke=\"black\" points=\"2292.5,-198.2 2289,-188.2 2285.5,-198.2 2292.5,-198.2\"/>\n</g>\n<!-- 26 -->\n<g id=\"node27\" class=\"node\">\n<title>26</title>\n<path fill=\"#ef88d9\" stroke=\"black\" d=\"M2635,-187C2635,-187 2507,-187 2507,-187 2501,-187 2495,-181 2495,-175 2495,-175 2495,-116 2495,-116 2495,-110 2501,-104 2507,-104 2507,-104 2635,-104 2635,-104 2641,-104 2647,-110 2647,-116 2647,-116 2647,-175 2647,-175 2647,-181 2641,-187 2635,-187\"/>\n<text text-anchor=\"start\" x=\"2540.5\" y=\"-171.8\" font-family=\"Helvetica,sans-Serif\" font-size=\"14.00\">node #26</text>\n<text text-anchor=\"start\" x=\"2526\" y=\"-156.8\" font-family=\"Helvetica,sans-Serif\" font-size=\"14.00\">FloorCD ≤ 1.5</text>\n<text text-anchor=\"start\" x=\"2527.5\" y=\"-141.8\" font-family=\"Helvetica,sans-Serif\" font-size=\"14.00\">samples = 24</text>\n<text text-anchor=\"start\" x=\"2503\" y=\"-126.8\" font-family=\"Helvetica,sans-Serif\" font-size=\"14.00\">value = [4, 4, 0, 0, 16]</text>\n<text text-anchor=\"start\" x=\"2536\" y=\"-111.8\" font-family=\"Helvetica,sans-Serif\" font-size=\"14.00\">class = 5.0</text>\n</g>\n<!-- 22&#45;&gt;26 -->\n<g id=\"edge26\" class=\"edge\">\n<title>22&#45;&gt;26</title>\n<path fill=\"none\" stroke=\"black\" d=\"M2387.63,-222.58C2419.3,-209.44 2454.12,-194.99 2484.83,-182.25\"/>\n<polygon fill=\"black\" stroke=\"black\" points=\"2485.75,-185.24 2493.65,-178.18 2483.07,-178.78 2485.75,-185.24\"/>\n</g>\n<!-- 24 -->\n<g id=\"node25\" class=\"node\">\n<title>24</title>\n<path fill=\"#d6faf3\" stroke=\"black\" d=\"M2299,-68C2299,-68 2113,-68 2113,-68 2107,-68 2101,-62 2101,-56 2101,-56 2101,-12 2101,-12 2101,-6 2107,0 2113,0 2113,0 2299,0 2299,0 2305,0 2311,-6 2311,-12 2311,-12 2311,-56 2311,-56 2311,-62 2305,-68 2299,-68\"/>\n<text text-anchor=\"start\" x=\"2175.5\" y=\"-52.8\" font-family=\"Helvetica,sans-Serif\" font-size=\"14.00\">node #24</text>\n<text text-anchor=\"start\" x=\"2158.5\" y=\"-37.8\" font-family=\"Helvetica,sans-Serif\" font-size=\"14.00\">samples = 512</text>\n<text text-anchor=\"start\" x=\"2109\" y=\"-22.8\" font-family=\"Helvetica,sans-Serif\" font-size=\"14.00\">value = [24, 54, 203, 109, 122]</text>\n<text text-anchor=\"start\" x=\"2171\" y=\"-7.8\" font-family=\"Helvetica,sans-Serif\" font-size=\"14.00\">class = 3.0</text>\n</g>\n<!-- 23&#45;&gt;24 -->\n<g id=\"edge24\" class=\"edge\">\n<title>23&#45;&gt;24</title>\n<path fill=\"none\" stroke=\"black\" d=\"M2258.09,-103.73C2251.46,-94.97 2244.43,-85.7 2237.76,-76.91\"/>\n<polygon fill=\"black\" stroke=\"black\" points=\"2240.07,-75.15 2231.24,-69.3 2234.49,-79.38 2240.07,-75.15\"/>\n</g>\n<!-- 25 -->\n<g id=\"node26\" class=\"node\">\n<title>25</title>\n<path fill=\"#f29ce0\" stroke=\"black\" d=\"M2469,-68C2469,-68 2341,-68 2341,-68 2335,-68 2329,-62 2329,-56 2329,-56 2329,-12 2329,-12 2329,-6 2335,0 2341,0 2341,0 2469,0 2469,0 2475,0 2481,-6 2481,-12 2481,-12 2481,-56 2481,-56 2481,-62 2475,-68 2469,-68\"/>\n<text text-anchor=\"start\" x=\"2374.5\" y=\"-52.8\" font-family=\"Helvetica,sans-Serif\" font-size=\"14.00\">node #25</text>\n<text text-anchor=\"start\" x=\"2361.5\" y=\"-37.8\" font-family=\"Helvetica,sans-Serif\" font-size=\"14.00\">samples = 24</text>\n<text text-anchor=\"start\" x=\"2337\" y=\"-22.8\" font-family=\"Helvetica,sans-Serif\" font-size=\"14.00\">value = [0, 0, 0, 8, 16]</text>\n<text text-anchor=\"start\" x=\"2370\" y=\"-7.8\" font-family=\"Helvetica,sans-Serif\" font-size=\"14.00\">class = 5.0</text>\n</g>\n<!-- 23&#45;&gt;25 -->\n<g id=\"edge25\" class=\"edge\">\n<title>23&#45;&gt;25</title>\n<path fill=\"none\" stroke=\"black\" d=\"M2332.19,-103.73C2341.86,-94.61 2352.11,-84.93 2361.77,-75.81\"/>\n<polygon fill=\"black\" stroke=\"black\" points=\"2363.85,-78.71 2368.72,-69.3 2359.05,-73.62 2363.85,-78.71\"/>\n</g>\n<!-- 27 -->\n<g id=\"node28\" class=\"node\">\n<title>27</title>\n<path fill=\"#e58139\" stroke=\"black\" d=\"M2631,-68C2631,-68 2511,-68 2511,-68 2505,-68 2499,-62 2499,-56 2499,-56 2499,-12 2499,-12 2499,-6 2505,0 2511,0 2511,0 2631,0 2631,0 2637,0 2643,-6 2643,-12 2643,-12 2643,-56 2643,-56 2643,-62 2637,-68 2631,-68\"/>\n<text text-anchor=\"start\" x=\"2540.5\" y=\"-52.8\" font-family=\"Helvetica,sans-Serif\" font-size=\"14.00\">node #27</text>\n<text text-anchor=\"start\" x=\"2531.5\" y=\"-37.8\" font-family=\"Helvetica,sans-Serif\" font-size=\"14.00\">samples = 4</text>\n<text text-anchor=\"start\" x=\"2507\" y=\"-22.8\" font-family=\"Helvetica,sans-Serif\" font-size=\"14.00\">value = [4, 0, 0, 0, 0]</text>\n<text text-anchor=\"start\" x=\"2536\" y=\"-7.8\" font-family=\"Helvetica,sans-Serif\" font-size=\"14.00\">class = 1.0</text>\n</g>\n<!-- 26&#45;&gt;27 -->\n<g id=\"edge27\" class=\"edge\">\n<title>26&#45;&gt;27</title>\n<path fill=\"none\" stroke=\"black\" d=\"M2571,-103.73C2571,-95.7 2571,-87.24 2571,-79.11\"/>\n<polygon fill=\"black\" stroke=\"black\" points=\"2574.5,-79.3 2571,-69.3 2567.5,-79.3 2574.5,-79.3\"/>\n</g>\n<!-- 28 -->\n<g id=\"node29\" class=\"node\">\n<title>28</title>\n<path fill=\"#ec6ad0\" stroke=\"black\" d=\"M2801,-68C2801,-68 2673,-68 2673,-68 2667,-68 2661,-62 2661,-56 2661,-56 2661,-12 2661,-12 2661,-6 2667,0 2673,0 2673,0 2801,0 2801,0 2807,0 2813,-6 2813,-12 2813,-12 2813,-56 2813,-56 2813,-62 2807,-68 2801,-68\"/>\n<text text-anchor=\"start\" x=\"2706.5\" y=\"-52.8\" font-family=\"Helvetica,sans-Serif\" font-size=\"14.00\">node #28</text>\n<text text-anchor=\"start\" x=\"2693.5\" y=\"-37.8\" font-family=\"Helvetica,sans-Serif\" font-size=\"14.00\">samples = 20</text>\n<text text-anchor=\"start\" x=\"2669\" y=\"-22.8\" font-family=\"Helvetica,sans-Serif\" font-size=\"14.00\">value = [0, 4, 0, 0, 16]</text>\n<text text-anchor=\"start\" x=\"2702\" y=\"-7.8\" font-family=\"Helvetica,sans-Serif\" font-size=\"14.00\">class = 5.0</text>\n</g>\n<!-- 26&#45;&gt;28 -->\n<g id=\"edge28\" class=\"edge\">\n<title>26&#45;&gt;28</title>\n<path fill=\"none\" stroke=\"black\" d=\"M2632.81,-103.73C2647.39,-94.11 2662.91,-83.87 2677.39,-74.32\"/>\n<polygon fill=\"black\" stroke=\"black\" points=\"2678.83,-76.9 2685.25,-68.47 2674.98,-71.06 2678.83,-76.9\"/>\n</g>\n</g>\n</svg>\n",
      "text/plain": [
       "<graphviz.sources.Source at 0x2a7a7bcdbb0>"
      ]
     },
     "execution_count": 67,
     "metadata": {},
     "output_type": "execute_result"
    }
   ],
   "source": [
    "with open(\"delivery_tree.dot\") as delivery_tree_image:\n",
    "    delivery_tree_graph = delivery_tree_image.read()\n",
    "    \n",
    "graphviz.Source(delivery_tree_graph)"
   ]
  },
  {
   "cell_type": "markdown",
   "metadata": {
    "id": "upoMZ7idwYdH"
   },
   "source": [
    "* **Modificar a variável dependente para (bad, average, good) ao invés de [1,5]**\n",
    "* **Atenção: na saída gráfica os valores do vetor Value estarão em ordem alfabeetica, ou seja, (average, bad, good)**"
   ]
  },
  {
   "cell_type": "code",
   "execution_count": 68,
   "metadata": {},
   "outputs": [
    {
     "data": {
      "text/html": [
       "<div>\n",
       "<style scoped>\n",
       "    .dataframe tbody tr th:only-of-type {\n",
       "        vertical-align: middle;\n",
       "    }\n",
       "\n",
       "    .dataframe tbody tr th {\n",
       "        vertical-align: top;\n",
       "    }\n",
       "\n",
       "    .dataframe thead th {\n",
       "        text-align: right;\n",
       "    }\n",
       "</style>\n",
       "<table border=\"1\" class=\"dataframe\">\n",
       "  <thead>\n",
       "    <tr style=\"text-align: right;\">\n",
       "      <th></th>\n",
       "      <th>stars</th>\n",
       "    </tr>\n",
       "  </thead>\n",
       "  <tbody>\n",
       "    <tr>\n",
       "      <th>0</th>\n",
       "      <td>4.0</td>\n",
       "    </tr>\n",
       "    <tr>\n",
       "      <th>1</th>\n",
       "      <td>1.0</td>\n",
       "    </tr>\n",
       "    <tr>\n",
       "      <th>2</th>\n",
       "      <td>5.0</td>\n",
       "    </tr>\n",
       "    <tr>\n",
       "      <th>3</th>\n",
       "      <td>2.0</td>\n",
       "    </tr>\n",
       "    <tr>\n",
       "      <th>4</th>\n",
       "      <td>5.0</td>\n",
       "    </tr>\n",
       "    <tr>\n",
       "      <th>...</th>\n",
       "      <td>...</td>\n",
       "    </tr>\n",
       "    <tr>\n",
       "      <th>12276</th>\n",
       "      <td>5.0</td>\n",
       "    </tr>\n",
       "    <tr>\n",
       "      <th>12277</th>\n",
       "      <td>5.0</td>\n",
       "    </tr>\n",
       "    <tr>\n",
       "      <th>12278</th>\n",
       "      <td>4.0</td>\n",
       "    </tr>\n",
       "    <tr>\n",
       "      <th>12279</th>\n",
       "      <td>3.0</td>\n",
       "    </tr>\n",
       "    <tr>\n",
       "      <th>12280</th>\n",
       "      <td>5.0</td>\n",
       "    </tr>\n",
       "  </tbody>\n",
       "</table>\n",
       "<p>12281 rows × 1 columns</p>\n",
       "</div>"
      ],
      "text/plain": [
       "       stars\n",
       "0        4.0\n",
       "1        1.0\n",
       "2        5.0\n",
       "3        2.0\n",
       "4        5.0\n",
       "...      ...\n",
       "12276    5.0\n",
       "12277    5.0\n",
       "12278    4.0\n",
       "12279    3.0\n",
       "12280    5.0\n",
       "\n",
       "[12281 rows x 1 columns]"
      ]
     },
     "execution_count": 68,
     "metadata": {},
     "output_type": "execute_result"
    }
   ],
   "source": [
    "dependentVariableStars = pd.DataFrame({'stars':dependentVariableStars})\n",
    "dependentVariableStars"
   ]
  },
  {
   "cell_type": "code",
   "execution_count": 69,
   "metadata": {},
   "outputs": [
    {
     "data": {
      "text/html": [
       "<div>\n",
       "<style scoped>\n",
       "    .dataframe tbody tr th:only-of-type {\n",
       "        vertical-align: middle;\n",
       "    }\n",
       "\n",
       "    .dataframe tbody tr th {\n",
       "        vertical-align: top;\n",
       "    }\n",
       "\n",
       "    .dataframe thead th {\n",
       "        text-align: right;\n",
       "    }\n",
       "</style>\n",
       "<table border=\"1\" class=\"dataframe\">\n",
       "  <thead>\n",
       "    <tr style=\"text-align: right;\">\n",
       "      <th></th>\n",
       "      <th>stars</th>\n",
       "    </tr>\n",
       "  </thead>\n",
       "  <tbody>\n",
       "    <tr>\n",
       "      <th>0</th>\n",
       "      <td>good</td>\n",
       "    </tr>\n",
       "    <tr>\n",
       "      <th>1</th>\n",
       "      <td>bad</td>\n",
       "    </tr>\n",
       "    <tr>\n",
       "      <th>2</th>\n",
       "      <td>good</td>\n",
       "    </tr>\n",
       "    <tr>\n",
       "      <th>3</th>\n",
       "      <td>bad</td>\n",
       "    </tr>\n",
       "    <tr>\n",
       "      <th>4</th>\n",
       "      <td>good</td>\n",
       "    </tr>\n",
       "  </tbody>\n",
       "</table>\n",
       "</div>"
      ],
      "text/plain": [
       "  stars\n",
       "0  good\n",
       "1   bad\n",
       "2  good\n",
       "3   bad\n",
       "4  good"
      ]
     },
     "execution_count": 69,
     "metadata": {},
     "output_type": "execute_result"
    }
   ],
   "source": [
    "bad_conditions = dependentVariableStars['stars'] <= 2\n",
    "average_conditions = dependentVariableStars['stars'] == 3\n",
    "good_conditions = dependentVariableStars['stars'] >= 4\n",
    "\n",
    "dependentVariableStars[bad_conditions] = \"bad\"\n",
    "dependentVariableStars[average_conditions] = \"average\"\n",
    "dependentVariableStars[good_conditions] = \"good\"\n",
    "dependentVariableStars.head()"
   ]
  },
  {
   "cell_type": "code",
   "execution_count": 70,
   "metadata": {
    "colab": {
     "base_uri": "https://localhost:8080/",
     "height": 1000
    },
    "id": "w-_eFiaL6U0B",
    "outputId": "2139bb4b-3e90-4b1a-bb97-dfac992c2324",
    "scrolled": false
   },
   "outputs": [
    {
     "name": "stdout",
     "output_type": "stream",
     "text": [
      "Decision tree model saved to delivery_tree!\n",
      "DecisionTreeClassifier(max_depth=3)\n",
      "['Product_P1' 'Product_P10' 'Product_P11' 'Product_P12' 'Product_P13'\n",
      " 'Product_P14' 'Product_P15' 'Product_P2' 'Product_P3' 'Product_P4'\n",
      " 'Product_P5' 'Product_P6' 'Product_P7' 'Product_P8' 'Product_P9'\n",
      " 'Origin_F1' 'Origin_F2' 'Origin_F3' 'Origin_F4' 'CD_name_CD1'\n",
      " 'CD_name_CD2' 'CD_name_CD3' 'Dest_C101' 'Dest_C102' 'Dest_C103'\n",
      " 'Dest_C104' 'Dest_C105' 'Dest_C201' 'Dest_C202' 'Dest_C203' 'Dest_C204'\n",
      " 'Dest_C205' 'Dest_C301' 'Dest_C302' 'Dest_C303' 'Dest_C304' 'Dest_C305'\n",
      " 'TruckType_SemiTrailler' 'TruckType_Truck' 'TruckType2_CityDeliveryTruck'\n",
      " 'TruckType2_MiniVan' 'TruckType2_Van' 'DriverCD_C_D1_1' 'DriverCD_C_D1_2'\n",
      " 'DriverCD_C_D1_3' 'DriverCD_C_D1_4' 'DriverCD_C_D1_5' 'DriverCD_C_D1_6'\n",
      " 'DriverCD_C_D1_7' 'DriverCD_C_D2_1' 'DriverCD_C_D2_2' 'DriverCD_C_D2_3'\n",
      " 'DriverCD_C_D2_4' 'DriverCD_C_D2_5' 'DriverCD_C_D2_6' 'DriverCD_C_D2_7'\n",
      " 'DriverCD_C_D3_1' 'DriverCD_C_D3_2' 'DriverCD_C_D3_3' 'DriverCD_C_D3_4'\n",
      " 'DriverCD_C_D3_5' 'DriverCD_C_D3_6' 'DriverCD_C_D3_7' 'RoutDeliveryOrder'\n",
      " 'FloorCD']\n"
     ]
    },
    {
     "data": {
      "image/svg+xml": "<?xml version=\"1.0\" encoding=\"UTF-8\" standalone=\"no\"?>\n<!DOCTYPE svg PUBLIC \"-//W3C//DTD SVG 1.1//EN\"\n \"http://www.w3.org/Graphics/SVG/1.1/DTD/svg11.dtd\">\n<!-- Generated by graphviz version 8.0.1 (20230327.1645)\n -->\n<!-- Title: Tree Pages: 1 -->\n<svg width=\"1329pt\" height=\"433pt\"\n viewBox=\"0.00 0.00 1329.00 433.00\" xmlns=\"http://www.w3.org/2000/svg\" xmlns:xlink=\"http://www.w3.org/1999/xlink\">\n<g id=\"graph0\" class=\"graph\" transform=\"scale(1 1) rotate(0) translate(4 429)\">\n<title>Tree</title>\n<polygon fill=\"white\" stroke=\"none\" points=\"-4,4 -4,-429 1325,-429 1325,4 -4,4\"/>\n<!-- 0 -->\n<g id=\"node1\" class=\"node\">\n<title>0</title>\n<path fill=\"#fdfbff\" stroke=\"black\" d=\"M787,-425C787,-425 624,-425 624,-425 618,-425 612,-419 612,-413 612,-413 612,-354 612,-354 612,-348 618,-342 624,-342 624,-342 787,-342 787,-342 793,-342 799,-348 799,-354 799,-354 799,-413 799,-413 799,-419 793,-425 787,-425\"/>\n<text text-anchor=\"start\" x=\"679\" y=\"-409.8\" font-family=\"Helvetica,sans-Serif\" font-size=\"14.00\">node #0</text>\n<text text-anchor=\"start\" x=\"649.5\" y=\"-394.8\" font-family=\"Helvetica,sans-Serif\" font-size=\"14.00\">Product_P1 ≤ 0.5</text>\n<text text-anchor=\"start\" x=\"649.5\" y=\"-379.8\" font-family=\"Helvetica,sans-Serif\" font-size=\"14.00\">samples = 12281</text>\n<text text-anchor=\"start\" x=\"620\" y=\"-364.8\" font-family=\"Helvetica,sans-Serif\" font-size=\"14.00\">value = [2769, 4686, 4826]</text>\n<text text-anchor=\"start\" x=\"664.5\" y=\"-349.8\" font-family=\"Helvetica,sans-Serif\" font-size=\"14.00\">class = good</text>\n</g>\n<!-- 1 -->\n<g id=\"node2\" class=\"node\">\n<title>1</title>\n<path fill=\"#fafefc\" stroke=\"black\" d=\"M626,-306C626,-306 463,-306 463,-306 457,-306 451,-300 451,-294 451,-294 451,-235 451,-235 451,-229 457,-223 463,-223 463,-223 626,-223 626,-223 632,-223 638,-229 638,-235 638,-235 638,-294 638,-294 638,-300 632,-306 626,-306\"/>\n<text text-anchor=\"start\" x=\"518\" y=\"-290.8\" font-family=\"Helvetica,sans-Serif\" font-size=\"14.00\">node #1</text>\n<text text-anchor=\"start\" x=\"488.5\" y=\"-275.8\" font-family=\"Helvetica,sans-Serif\" font-size=\"14.00\">Product_P7 ≤ 0.5</text>\n<text text-anchor=\"start\" x=\"488.5\" y=\"-260.8\" font-family=\"Helvetica,sans-Serif\" font-size=\"14.00\">samples = 11525</text>\n<text text-anchor=\"start\" x=\"459\" y=\"-245.8\" font-family=\"Helvetica,sans-Serif\" font-size=\"14.00\">value = [2538, 4580, 4407]</text>\n<text text-anchor=\"start\" x=\"508\" y=\"-230.8\" font-family=\"Helvetica,sans-Serif\" font-size=\"14.00\">class = bad</text>\n</g>\n<!-- 0&#45;&gt;1 -->\n<g id=\"edge1\" class=\"edge\">\n<title>0&#45;&gt;1</title>\n<path fill=\"none\" stroke=\"black\" d=\"M649.19,-341.58C636.32,-332.23 622.54,-322.21 609.35,-312.63\"/>\n<polygon fill=\"black\" stroke=\"black\" points=\"611.93,-309.45 601.78,-306.4 607.81,-315.11 611.93,-309.45\"/>\n<text text-anchor=\"middle\" x=\"604.69\" y=\"-327.39\" font-family=\"Helvetica,sans-Serif\" font-size=\"14.00\">True</text>\n</g>\n<!-- 8 -->\n<g id=\"node9\" class=\"node\">\n<title>8</title>\n<path fill=\"#d2b8f6\" stroke=\"black\" d=\"M931.5,-306C931.5,-306 793.5,-306 793.5,-306 787.5,-306 781.5,-300 781.5,-294 781.5,-294 781.5,-235 781.5,-235 781.5,-229 787.5,-223 793.5,-223 793.5,-223 931.5,-223 931.5,-223 937.5,-223 943.5,-229 943.5,-235 943.5,-235 943.5,-294 943.5,-294 943.5,-300 937.5,-306 931.5,-306\"/>\n<text text-anchor=\"start\" x=\"836\" y=\"-290.8\" font-family=\"Helvetica,sans-Serif\" font-size=\"14.00\">node #8</text>\n<text text-anchor=\"start\" x=\"817.5\" y=\"-275.8\" font-family=\"Helvetica,sans-Serif\" font-size=\"14.00\">FloorCD ≤ 0.5</text>\n<text text-anchor=\"start\" x=\"815\" y=\"-260.8\" font-family=\"Helvetica,sans-Serif\" font-size=\"14.00\">samples = 756</text>\n<text text-anchor=\"start\" x=\"789.5\" y=\"-245.8\" font-family=\"Helvetica,sans-Serif\" font-size=\"14.00\">value = [231, 106, 419]</text>\n<text text-anchor=\"start\" x=\"821.5\" y=\"-230.8\" font-family=\"Helvetica,sans-Serif\" font-size=\"14.00\">class = good</text>\n</g>\n<!-- 0&#45;&gt;8 -->\n<g id=\"edge8\" class=\"edge\">\n<title>0&#45;&gt;8</title>\n<path fill=\"none\" stroke=\"black\" d=\"M760.41,-341.58C772.84,-332.32 786.14,-322.41 798.89,-312.9\"/>\n<polygon fill=\"black\" stroke=\"black\" points=\"800.69,-315.18 806.62,-306.4 796.51,-309.57 800.69,-315.18\"/>\n<text text-anchor=\"middle\" x=\"804.01\" y=\"-327.44\" font-family=\"Helvetica,sans-Serif\" font-size=\"14.00\">False</text>\n</g>\n<!-- 2 -->\n<g id=\"node3\" class=\"node\">\n<title>2</title>\n<path fill=\"#fdfcff\" stroke=\"black\" d=\"M368,-187C368,-187 205,-187 205,-187 199,-187 193,-181 193,-175 193,-175 193,-116 193,-116 193,-110 199,-104 205,-104 205,-104 368,-104 368,-104 374,-104 380,-110 380,-116 380,-116 380,-175 380,-175 380,-181 374,-187 368,-187\"/>\n<text text-anchor=\"start\" x=\"260\" y=\"-171.8\" font-family=\"Helvetica,sans-Serif\" font-size=\"14.00\">node #2</text>\n<text text-anchor=\"start\" x=\"230.5\" y=\"-156.8\" font-family=\"Helvetica,sans-Serif\" font-size=\"14.00\">Product_P3 ≤ 0.5</text>\n<text text-anchor=\"start\" x=\"230.5\" y=\"-141.8\" font-family=\"Helvetica,sans-Serif\" font-size=\"14.00\">samples = 10565</text>\n<text text-anchor=\"start\" x=\"201\" y=\"-126.8\" font-family=\"Helvetica,sans-Serif\" font-size=\"14.00\">value = [2353, 4055, 4157]</text>\n<text text-anchor=\"start\" x=\"245.5\" y=\"-111.8\" font-family=\"Helvetica,sans-Serif\" font-size=\"14.00\">class = good</text>\n</g>\n<!-- 1&#45;&gt;2 -->\n<g id=\"edge2\" class=\"edge\">\n<title>1&#45;&gt;2</title>\n<path fill=\"none\" stroke=\"black\" d=\"M454.26,-222.58C432.37,-212.65 408.82,-201.97 386.5,-191.85\"/>\n<polygon fill=\"black\" stroke=\"black\" points=\"388.24,-188.34 377.68,-187.4 385.35,-194.72 388.24,-188.34\"/>\n</g>\n<!-- 5 -->\n<g id=\"node6\" class=\"node\">\n<title>5</title>\n<path fill=\"#b2f5ce\" stroke=\"black\" d=\"M613.5,-187C613.5,-187 475.5,-187 475.5,-187 469.5,-187 463.5,-181 463.5,-175 463.5,-175 463.5,-116 463.5,-116 463.5,-110 469.5,-104 475.5,-104 475.5,-104 613.5,-104 613.5,-104 619.5,-104 625.5,-110 625.5,-116 625.5,-116 625.5,-175 625.5,-175 625.5,-181 619.5,-187 613.5,-187\"/>\n<text text-anchor=\"start\" x=\"518\" y=\"-171.8\" font-family=\"Helvetica,sans-Serif\" font-size=\"14.00\">node #5</text>\n<text text-anchor=\"start\" x=\"499.5\" y=\"-156.8\" font-family=\"Helvetica,sans-Serif\" font-size=\"14.00\">FloorCD ≤ 2.5</text>\n<text text-anchor=\"start\" x=\"497\" y=\"-141.8\" font-family=\"Helvetica,sans-Serif\" font-size=\"14.00\">samples = 960</text>\n<text text-anchor=\"start\" x=\"471.5\" y=\"-126.8\" font-family=\"Helvetica,sans-Serif\" font-size=\"14.00\">value = [185, 525, 250]</text>\n<text text-anchor=\"start\" x=\"508\" y=\"-111.8\" font-family=\"Helvetica,sans-Serif\" font-size=\"14.00\">class = bad</text>\n</g>\n<!-- 1&#45;&gt;5 -->\n<g id=\"edge5\" class=\"edge\">\n<title>1&#45;&gt;5</title>\n<path fill=\"none\" stroke=\"black\" d=\"M544.5,-222.58C544.5,-214.7 544.5,-206.34 544.5,-198.17\"/>\n<polygon fill=\"black\" stroke=\"black\" points=\"548,-198.2 544.5,-188.2 541,-198.2 548,-198.2\"/>\n</g>\n<!-- 3 -->\n<g id=\"node4\" class=\"node\">\n<title>3</title>\n<path fill=\"#fcfbfe\" stroke=\"black\" d=\"M175,-68C175,-68 12,-68 12,-68 6,-68 0,-62 0,-56 0,-56 0,-12 0,-12 0,-6 6,0 12,0 12,0 175,0 175,0 181,0 187,-6 187,-12 187,-12 187,-56 187,-56 187,-62 181,-68 175,-68\"/>\n<text text-anchor=\"start\" x=\"67\" y=\"-52.8\" font-family=\"Helvetica,sans-Serif\" font-size=\"14.00\">node #3</text>\n<text text-anchor=\"start\" x=\"42\" y=\"-37.8\" font-family=\"Helvetica,sans-Serif\" font-size=\"14.00\">samples = 9825</text>\n<text text-anchor=\"start\" x=\"8\" y=\"-22.8\" font-family=\"Helvetica,sans-Serif\" font-size=\"14.00\">value = [2121, 3785, 3919]</text>\n<text text-anchor=\"start\" x=\"52.5\" y=\"-7.8\" font-family=\"Helvetica,sans-Serif\" font-size=\"14.00\">class = good</text>\n</g>\n<!-- 2&#45;&gt;3 -->\n<g id=\"edge3\" class=\"edge\">\n<title>2&#45;&gt;3</title>\n<path fill=\"none\" stroke=\"black\" d=\"M214.36,-103.57C197.1,-93.78 178.74,-83.36 161.67,-73.68\"/>\n<polygon fill=\"black\" stroke=\"black\" points=\"163.76,-70.27 153.34,-68.38 160.31,-76.36 163.76,-70.27\"/>\n</g>\n<!-- 4 -->\n<g id=\"node5\" class=\"node\">\n<title>4</title>\n<path fill=\"#f2fdf7\" stroke=\"black\" d=\"M355.5,-68C355.5,-68 217.5,-68 217.5,-68 211.5,-68 205.5,-62 205.5,-56 205.5,-56 205.5,-12 205.5,-12 205.5,-6 211.5,0 217.5,0 217.5,0 355.5,0 355.5,0 361.5,0 367.5,-6 367.5,-12 367.5,-12 367.5,-56 367.5,-56 367.5,-62 361.5,-68 355.5,-68\"/>\n<text text-anchor=\"start\" x=\"260\" y=\"-52.8\" font-family=\"Helvetica,sans-Serif\" font-size=\"14.00\">node #4</text>\n<text text-anchor=\"start\" x=\"239\" y=\"-37.8\" font-family=\"Helvetica,sans-Serif\" font-size=\"14.00\">samples = 740</text>\n<text text-anchor=\"start\" x=\"213.5\" y=\"-22.8\" font-family=\"Helvetica,sans-Serif\" font-size=\"14.00\">value = [232, 270, 238]</text>\n<text text-anchor=\"start\" x=\"250\" y=\"-7.8\" font-family=\"Helvetica,sans-Serif\" font-size=\"14.00\">class = bad</text>\n</g>\n<!-- 2&#45;&gt;4 -->\n<g id=\"edge4\" class=\"edge\">\n<title>2&#45;&gt;4</title>\n<path fill=\"none\" stroke=\"black\" d=\"M286.5,-103.73C286.5,-95.7 286.5,-87.24 286.5,-79.11\"/>\n<polygon fill=\"black\" stroke=\"black\" points=\"290,-79.3 286.5,-69.3 283,-79.3 290,-79.3\"/>\n</g>\n<!-- 6 -->\n<g id=\"node7\" class=\"node\">\n<title>6</title>\n<path fill=\"#e9dcfa\" stroke=\"black\" d=\"M535.5,-68C535.5,-68 397.5,-68 397.5,-68 391.5,-68 385.5,-62 385.5,-56 385.5,-56 385.5,-12 385.5,-12 385.5,-6 391.5,0 397.5,0 397.5,0 535.5,0 535.5,0 541.5,0 547.5,-6 547.5,-12 547.5,-12 547.5,-56 547.5,-56 547.5,-62 541.5,-68 535.5,-68\"/>\n<text text-anchor=\"start\" x=\"440\" y=\"-52.8\" font-family=\"Helvetica,sans-Serif\" font-size=\"14.00\">node #6</text>\n<text text-anchor=\"start\" x=\"419\" y=\"-37.8\" font-family=\"Helvetica,sans-Serif\" font-size=\"14.00\">samples = 488</text>\n<text text-anchor=\"start\" x=\"393.5\" y=\"-22.8\" font-family=\"Helvetica,sans-Serif\" font-size=\"14.00\">value = [115, 157, 216]</text>\n<text text-anchor=\"start\" x=\"425.5\" y=\"-7.8\" font-family=\"Helvetica,sans-Serif\" font-size=\"14.00\">class = good</text>\n</g>\n<!-- 5&#45;&gt;6 -->\n<g id=\"edge6\" class=\"edge\">\n<title>5&#45;&gt;6</title>\n<path fill=\"none\" stroke=\"black\" d=\"M515.46,-103.73C509.28,-95.06 502.75,-85.9 496.55,-77.18\"/>\n<polygon fill=\"black\" stroke=\"black\" points=\"498.87,-75.41 490.22,-69.3 493.17,-79.48 498.87,-75.41\"/>\n</g>\n<!-- 7 -->\n<g id=\"node8\" class=\"node\">\n<title>7</title>\n<path fill=\"#6ceca2\" stroke=\"black\" d=\"M699.5,-68C699.5,-68 577.5,-68 577.5,-68 571.5,-68 565.5,-62 565.5,-56 565.5,-56 565.5,-12 565.5,-12 565.5,-6 571.5,0 577.5,0 577.5,0 699.5,0 699.5,0 705.5,0 711.5,-6 711.5,-12 711.5,-12 711.5,-56 711.5,-56 711.5,-62 705.5,-68 699.5,-68\"/>\n<text text-anchor=\"start\" x=\"612\" y=\"-52.8\" font-family=\"Helvetica,sans-Serif\" font-size=\"14.00\">node #7</text>\n<text text-anchor=\"start\" x=\"591\" y=\"-37.8\" font-family=\"Helvetica,sans-Serif\" font-size=\"14.00\">samples = 472</text>\n<text text-anchor=\"start\" x=\"573.5\" y=\"-22.8\" font-family=\"Helvetica,sans-Serif\" font-size=\"14.00\">value = [70, 368, 34]</text>\n<text text-anchor=\"start\" x=\"602\" y=\"-7.8\" font-family=\"Helvetica,sans-Serif\" font-size=\"14.00\">class = bad</text>\n</g>\n<!-- 5&#45;&gt;7 -->\n<g id=\"edge7\" class=\"edge\">\n<title>5&#45;&gt;7</title>\n<path fill=\"none\" stroke=\"black\" d=\"M579.5,-103.73C587.1,-94.88 595.14,-85.51 602.76,-76.63\"/>\n<polygon fill=\"black\" stroke=\"black\" points=\"606.06,-79.17 609.91,-69.3 600.74,-74.61 606.06,-79.17\"/>\n</g>\n<!-- 9 -->\n<g id=\"node10\" class=\"node\">\n<title>9</title>\n<path fill=\"#a572ec\" stroke=\"black\" d=\"M937,-187C937,-187 788,-187 788,-187 782,-187 776,-181 776,-175 776,-175 776,-116 776,-116 776,-110 782,-104 788,-104 788,-104 937,-104 937,-104 943,-104 949,-110 949,-116 949,-116 949,-175 949,-175 949,-181 943,-187 937,-187\"/>\n<text text-anchor=\"start\" x=\"836\" y=\"-171.8\" font-family=\"Helvetica,sans-Serif\" font-size=\"14.00\">node #9</text>\n<text text-anchor=\"start\" x=\"784\" y=\"-156.8\" font-family=\"Helvetica,sans-Serif\" font-size=\"14.00\">DriverCD_C_D2_3 ≤ 0.5</text>\n<text text-anchor=\"start\" x=\"815\" y=\"-141.8\" font-family=\"Helvetica,sans-Serif\" font-size=\"14.00\">samples = 196</text>\n<text text-anchor=\"start\" x=\"797.5\" y=\"-126.8\" font-family=\"Helvetica,sans-Serif\" font-size=\"14.00\">value = [28, 20, 148]</text>\n<text text-anchor=\"start\" x=\"821.5\" y=\"-111.8\" font-family=\"Helvetica,sans-Serif\" font-size=\"14.00\">class = good</text>\n</g>\n<!-- 8&#45;&gt;9 -->\n<g id=\"edge9\" class=\"edge\">\n<title>8&#45;&gt;9</title>\n<path fill=\"none\" stroke=\"black\" d=\"M862.5,-222.58C862.5,-214.7 862.5,-206.34 862.5,-198.17\"/>\n<polygon fill=\"black\" stroke=\"black\" points=\"866,-198.2 862.5,-188.2 859,-198.2 866,-198.2\"/>\n</g>\n<!-- 12 -->\n<g id=\"node13\" class=\"node\">\n<title>12</title>\n<path fill=\"#e7d9fa\" stroke=\"black\" d=\"M1169.5,-187C1169.5,-187 1039.5,-187 1039.5,-187 1033.5,-187 1027.5,-181 1027.5,-175 1027.5,-175 1027.5,-116 1027.5,-116 1027.5,-110 1033.5,-104 1039.5,-104 1039.5,-104 1169.5,-104 1169.5,-104 1175.5,-104 1181.5,-110 1181.5,-116 1181.5,-116 1181.5,-175 1181.5,-175 1181.5,-181 1175.5,-187 1169.5,-187\"/>\n<text text-anchor=\"start\" x=\"1074\" y=\"-171.8\" font-family=\"Helvetica,sans-Serif\" font-size=\"14.00\">node #12</text>\n<text text-anchor=\"start\" x=\"1050\" y=\"-156.8\" font-family=\"Helvetica,sans-Serif\" font-size=\"14.00\">Dest_C204 ≤ 0.5</text>\n<text text-anchor=\"start\" x=\"1057\" y=\"-141.8\" font-family=\"Helvetica,sans-Serif\" font-size=\"14.00\">samples = 560</text>\n<text text-anchor=\"start\" x=\"1035.5\" y=\"-126.8\" font-family=\"Helvetica,sans-Serif\" font-size=\"14.00\">value = [203, 86, 271]</text>\n<text text-anchor=\"start\" x=\"1063.5\" y=\"-111.8\" font-family=\"Helvetica,sans-Serif\" font-size=\"14.00\">class = good</text>\n</g>\n<!-- 8&#45;&gt;12 -->\n<g id=\"edge12\" class=\"edge\">\n<title>8&#45;&gt;12</title>\n<path fill=\"none\" stroke=\"black\" d=\"M943.76,-224.22C967.41,-212.78 993.34,-200.24 1017.35,-188.64\"/>\n<polygon fill=\"black\" stroke=\"black\" points=\"1018.67,-191.4 1026.14,-183.9 1015.62,-185.1 1018.67,-191.4\"/>\n</g>\n<!-- 10 -->\n<g id=\"node11\" class=\"node\">\n<title>10</title>\n<path fill=\"#9d66eb\" stroke=\"black\" d=\"M863.5,-68C863.5,-68 741.5,-68 741.5,-68 735.5,-68 729.5,-62 729.5,-56 729.5,-56 729.5,-12 729.5,-12 729.5,-6 735.5,0 741.5,0 741.5,0 863.5,0 863.5,0 869.5,0 875.5,-6 875.5,-12 875.5,-12 875.5,-56 875.5,-56 875.5,-62 869.5,-68 863.5,-68\"/>\n<text text-anchor=\"start\" x=\"772\" y=\"-52.8\" font-family=\"Helvetica,sans-Serif\" font-size=\"14.00\">node #10</text>\n<text text-anchor=\"start\" x=\"755\" y=\"-37.8\" font-family=\"Helvetica,sans-Serif\" font-size=\"14.00\">samples = 180</text>\n<text text-anchor=\"start\" x=\"737.5\" y=\"-22.8\" font-family=\"Helvetica,sans-Serif\" font-size=\"14.00\">value = [20, 16, 144]</text>\n<text text-anchor=\"start\" x=\"761.5\" y=\"-7.8\" font-family=\"Helvetica,sans-Serif\" font-size=\"14.00\">class = good</text>\n</g>\n<!-- 9&#45;&gt;10 -->\n<g id=\"edge10\" class=\"edge\">\n<title>9&#45;&gt;10</title>\n<path fill=\"none\" stroke=\"black\" d=\"M840.16,-103.73C835.51,-95.24 830.6,-86.28 825.91,-77.73\"/>\n<polygon fill=\"black\" stroke=\"black\" points=\"828.62,-76.39 820.75,-69.3 822.48,-79.75 828.62,-76.39\"/>\n</g>\n<!-- 11 -->\n<g id=\"node12\" class=\"node\">\n<title>11</title>\n<path fill=\"#f6d5bd\" stroke=\"black\" d=\"M997.5,-68C997.5,-68 905.5,-68 905.5,-68 899.5,-68 893.5,-62 893.5,-56 893.5,-56 893.5,-12 893.5,-12 893.5,-6 899.5,0 905.5,0 905.5,0 997.5,0 997.5,0 1003.5,0 1009.5,-6 1009.5,-12 1009.5,-12 1009.5,-56 1009.5,-56 1009.5,-62 1003.5,-68 997.5,-68\"/>\n<text text-anchor=\"start\" x=\"921\" y=\"-52.8\" font-family=\"Helvetica,sans-Serif\" font-size=\"14.00\">node #11</text>\n<text text-anchor=\"start\" x=\"908\" y=\"-37.8\" font-family=\"Helvetica,sans-Serif\" font-size=\"14.00\">samples = 16</text>\n<text text-anchor=\"start\" x=\"903\" y=\"-22.8\" font-family=\"Helvetica,sans-Serif\" font-size=\"14.00\">value = [8, 4, 4]</text>\n<text text-anchor=\"start\" x=\"901.5\" y=\"-7.8\" font-family=\"Helvetica,sans-Serif\" font-size=\"14.00\">class = average</text>\n</g>\n<!-- 9&#45;&gt;11 -->\n<g id=\"edge11\" class=\"edge\">\n<title>9&#45;&gt;11</title>\n<path fill=\"none\" stroke=\"black\" d=\"M895.64,-103.73C902.83,-94.88 910.45,-85.51 917.66,-76.63\"/>\n<polygon fill=\"black\" stroke=\"black\" points=\"920.84,-79.27 924.43,-69.3 915.41,-74.85 920.84,-79.27\"/>\n</g>\n<!-- 13 -->\n<g id=\"node14\" class=\"node\">\n<title>13</title>\n<path fill=\"#eee5fc\" stroke=\"black\" d=\"M1169.5,-68C1169.5,-68 1039.5,-68 1039.5,-68 1033.5,-68 1027.5,-62 1027.5,-56 1027.5,-56 1027.5,-12 1027.5,-12 1027.5,-6 1033.5,0 1039.5,0 1039.5,0 1169.5,0 1169.5,0 1175.5,0 1181.5,-6 1181.5,-12 1181.5,-12 1181.5,-56 1181.5,-56 1181.5,-62 1175.5,-68 1169.5,-68\"/>\n<text text-anchor=\"start\" x=\"1074\" y=\"-52.8\" font-family=\"Helvetica,sans-Serif\" font-size=\"14.00\">node #13</text>\n<text text-anchor=\"start\" x=\"1057\" y=\"-37.8\" font-family=\"Helvetica,sans-Serif\" font-size=\"14.00\">samples = 532</text>\n<text text-anchor=\"start\" x=\"1035.5\" y=\"-22.8\" font-family=\"Helvetica,sans-Serif\" font-size=\"14.00\">value = [203, 82, 247]</text>\n<text text-anchor=\"start\" x=\"1063.5\" y=\"-7.8\" font-family=\"Helvetica,sans-Serif\" font-size=\"14.00\">class = good</text>\n</g>\n<!-- 12&#45;&gt;13 -->\n<g id=\"edge13\" class=\"edge\">\n<title>12&#45;&gt;13</title>\n<path fill=\"none\" stroke=\"black\" d=\"M1104.5,-103.73C1104.5,-95.7 1104.5,-87.24 1104.5,-79.11\"/>\n<polygon fill=\"black\" stroke=\"black\" points=\"1108,-79.3 1104.5,-69.3 1101,-79.3 1108,-79.3\"/>\n</g>\n<!-- 14 -->\n<g id=\"node15\" class=\"node\">\n<title>14</title>\n<path fill=\"#965ae9\" stroke=\"black\" d=\"M1309,-68C1309,-68 1212,-68 1212,-68 1206,-68 1200,-62 1200,-56 1200,-56 1200,-12 1200,-12 1200,-6 1206,0 1212,0 1212,0 1309,0 1309,0 1315,0 1321,-6 1321,-12 1321,-12 1321,-56 1321,-56 1321,-62 1315,-68 1309,-68\"/>\n<text text-anchor=\"start\" x=\"1230\" y=\"-52.8\" font-family=\"Helvetica,sans-Serif\" font-size=\"14.00\">node #14</text>\n<text text-anchor=\"start\" x=\"1217\" y=\"-37.8\" font-family=\"Helvetica,sans-Serif\" font-size=\"14.00\">samples = 28</text>\n<text text-anchor=\"start\" x=\"1208\" y=\"-22.8\" font-family=\"Helvetica,sans-Serif\" font-size=\"14.00\">value = [0, 4, 24]</text>\n<text text-anchor=\"start\" x=\"1219.5\" y=\"-7.8\" font-family=\"Helvetica,sans-Serif\" font-size=\"14.00\">class = good</text>\n</g>\n<!-- 12&#45;&gt;14 -->\n<g id=\"edge14\" class=\"edge\">\n<title>12&#45;&gt;14</title>\n<path fill=\"none\" stroke=\"black\" d=\"M1162.59,-103.73C1176.23,-94.15 1190.75,-83.96 1204.31,-74.44\"/>\n<polygon fill=\"black\" stroke=\"black\" points=\"1205.89,-76.91 1212.06,-68.3 1201.86,-71.18 1205.89,-76.91\"/>\n</g>\n</g>\n</svg>\n",
      "text/plain": [
       "<graphviz.sources.Source at 0x2a7a1ba0940>"
      ]
     },
     "execution_count": 70,
     "metadata": {},
     "output_type": "execute_result"
    }
   ],
   "source": [
    "delivery_tree = tree.DecisionTreeClassifier(max_depth = 3, min_samples_split = 2, min_samples_leaf = 1)\n",
    "delivery_tree.fit(independetVariablesEncoded, dependentVariableStars)\n",
    "\n",
    "print(\"Decision tree model saved to delivery_tree!\")\n",
    "print(delivery_tree)\n",
    "print(independetVariablesEncoded.columns.values)\n",
    "\n",
    "export_graphviz(delivery_tree,\n",
    "                feature_names=list(independetVariablesEncoded.columns.values),\n",
    "                out_file=\"delivery_tree.dot\",\n",
    "                class_names=np.unique(dependentVariableStars.astype(str)),\n",
    "                filled=True,\n",
    "                rounded=True,\n",
    "                node_ids=True,\n",
    "                special_characters=True,\n",
    "                impurity=False,\n",
    "                label=\"all\",\n",
    "                leaves_parallel = False)\n",
    "\n",
    "with open(\"delivery_tree.dot\") as delivery_tree_image:\n",
    "    delivery_tree_graph = delivery_tree_image.read()\n",
    "    \n",
    "graphviz.Source(delivery_tree_graph)"
   ]
  },
  {
   "cell_type": "markdown",
   "metadata": {
    "id": "2-mR8VKzIp6u"
   },
   "source": [
    "* **Parece que o P7 é chave nesta árvore não?**\n",
    "* **Vamos filtrar apenas os registros do  P7**"
   ]
  },
  {
   "cell_type": "code",
   "execution_count": 71,
   "metadata": {
    "colab": {
     "base_uri": "https://localhost:8080/",
     "height": 1000
    },
    "id": "ALa_sr76J8wh",
    "outputId": "031de055-b08e-4856-a08c-6b121c5da15c"
   },
   "outputs": [
    {
     "name": "stdout",
     "output_type": "stream",
     "text": [
      "Decision tree model saved to delivery_tree!\n",
      "DecisionTreeClassifier(max_depth=4)\n",
      "['Product_P1' 'Product_P10' 'Product_P11' 'Product_P12' 'Product_P13'\n",
      " 'Product_P14' 'Product_P15' 'Product_P2' 'Product_P3' 'Product_P4'\n",
      " 'Product_P5' 'Product_P6' 'Product_P7' 'Product_P8' 'Product_P9'\n",
      " 'Origin_F1' 'Origin_F2' 'Origin_F3' 'Origin_F4' 'CD_name_CD1'\n",
      " 'CD_name_CD2' 'CD_name_CD3' 'Dest_C101' 'Dest_C102' 'Dest_C103'\n",
      " 'Dest_C104' 'Dest_C105' 'Dest_C201' 'Dest_C202' 'Dest_C203' 'Dest_C204'\n",
      " 'Dest_C205' 'Dest_C301' 'Dest_C302' 'Dest_C303' 'Dest_C304' 'Dest_C305'\n",
      " 'TruckType_SemiTrailler' 'TruckType_Truck' 'TruckType2_CityDeliveryTruck'\n",
      " 'TruckType2_MiniVan' 'TruckType2_Van' 'DriverCD_C_D1_1' 'DriverCD_C_D1_2'\n",
      " 'DriverCD_C_D1_3' 'DriverCD_C_D1_4' 'DriverCD_C_D1_5' 'DriverCD_C_D1_6'\n",
      " 'DriverCD_C_D1_7' 'DriverCD_C_D2_1' 'DriverCD_C_D2_2' 'DriverCD_C_D2_3'\n",
      " 'DriverCD_C_D2_4' 'DriverCD_C_D2_5' 'DriverCD_C_D2_6' 'DriverCD_C_D2_7'\n",
      " 'DriverCD_C_D3_1' 'DriverCD_C_D3_2' 'DriverCD_C_D3_3' 'DriverCD_C_D3_4'\n",
      " 'DriverCD_C_D3_5' 'DriverCD_C_D3_6' 'DriverCD_C_D3_7' 'RoutDeliveryOrder'\n",
      " 'FloorCD']\n"
     ]
    },
    {
     "data": {
      "image/svg+xml": "<?xml version=\"1.0\" encoding=\"UTF-8\" standalone=\"no\"?>\n<!DOCTYPE svg PUBLIC \"-//W3C//DTD SVG 1.1//EN\"\n \"http://www.w3.org/Graphics/SVG/1.1/DTD/svg11.dtd\">\n<!-- Generated by graphviz version 8.0.1 (20230327.1645)\n -->\n<!-- Title: Tree Pages: 1 -->\n<svg width=\"1732pt\" height=\"552pt\"\n viewBox=\"0.00 0.00 1731.50 552.00\" xmlns=\"http://www.w3.org/2000/svg\" xmlns:xlink=\"http://www.w3.org/1999/xlink\">\n<g id=\"graph0\" class=\"graph\" transform=\"scale(1 1) rotate(0) translate(4 548)\">\n<title>Tree</title>\n<polygon fill=\"white\" stroke=\"none\" points=\"-4,4 -4,-548 1727.5,-548 1727.5,4 -4,4\"/>\n<!-- 0 -->\n<g id=\"node1\" class=\"node\">\n<title>0</title>\n<path fill=\"#b2f5ce\" stroke=\"black\" d=\"M820.5,-544C820.5,-544 682.5,-544 682.5,-544 676.5,-544 670.5,-538 670.5,-532 670.5,-532 670.5,-473 670.5,-473 670.5,-467 676.5,-461 682.5,-461 682.5,-461 820.5,-461 820.5,-461 826.5,-461 832.5,-467 832.5,-473 832.5,-473 832.5,-532 832.5,-532 832.5,-538 826.5,-544 820.5,-544\"/>\n<text text-anchor=\"start\" x=\"725\" y=\"-528.8\" font-family=\"Helvetica,sans-Serif\" font-size=\"14.00\">node #0</text>\n<text text-anchor=\"start\" x=\"706.5\" y=\"-513.8\" font-family=\"Helvetica,sans-Serif\" font-size=\"14.00\">FloorCD ≤ 2.5</text>\n<text text-anchor=\"start\" x=\"704\" y=\"-498.8\" font-family=\"Helvetica,sans-Serif\" font-size=\"14.00\">samples = 960</text>\n<text text-anchor=\"start\" x=\"678.5\" y=\"-483.8\" font-family=\"Helvetica,sans-Serif\" font-size=\"14.00\">value = [185, 525, 250]</text>\n<text text-anchor=\"start\" x=\"715\" y=\"-468.8\" font-family=\"Helvetica,sans-Serif\" font-size=\"14.00\">class = bad</text>\n</g>\n<!-- 1 -->\n<g id=\"node2\" class=\"node\">\n<title>1</title>\n<path fill=\"#e9dcfa\" stroke=\"black\" d=\"M672.5,-425C672.5,-425 526.5,-425 526.5,-425 520.5,-425 514.5,-419 514.5,-413 514.5,-413 514.5,-354 514.5,-354 514.5,-348 520.5,-342 526.5,-342 526.5,-342 672.5,-342 672.5,-342 678.5,-342 684.5,-348 684.5,-354 684.5,-354 684.5,-413 684.5,-413 684.5,-419 678.5,-425 672.5,-425\"/>\n<text text-anchor=\"start\" x=\"573\" y=\"-409.8\" font-family=\"Helvetica,sans-Serif\" font-size=\"14.00\">node #1</text>\n<text text-anchor=\"start\" x=\"522.5\" y=\"-394.8\" font-family=\"Helvetica,sans-Serif\" font-size=\"14.00\">RoutDeliveryOrder ≤ 2.5</text>\n<text text-anchor=\"start\" x=\"552\" y=\"-379.8\" font-family=\"Helvetica,sans-Serif\" font-size=\"14.00\">samples = 488</text>\n<text text-anchor=\"start\" x=\"526.5\" y=\"-364.8\" font-family=\"Helvetica,sans-Serif\" font-size=\"14.00\">value = [115, 157, 216]</text>\n<text text-anchor=\"start\" x=\"558.5\" y=\"-349.8\" font-family=\"Helvetica,sans-Serif\" font-size=\"14.00\">class = good</text>\n</g>\n<!-- 0&#45;&gt;1 -->\n<g id=\"edge1\" class=\"edge\">\n<title>0&#45;&gt;1</title>\n<path fill=\"none\" stroke=\"black\" d=\"M698.34,-460.58C686.3,-451.32 673.43,-441.41 661.08,-431.9\"/>\n<polygon fill=\"black\" stroke=\"black\" points=\"663.69,-428.72 653.63,-425.4 659.42,-434.27 663.69,-428.72\"/>\n<text text-anchor=\"middle\" x=\"655.86\" y=\"-446.49\" font-family=\"Helvetica,sans-Serif\" font-size=\"14.00\">True</text>\n</g>\n<!-- 12 -->\n<g id=\"node13\" class=\"node\">\n<title>12</title>\n<path fill=\"#6ceca2\" stroke=\"black\" d=\"M1021.5,-425C1021.5,-425 875.5,-425 875.5,-425 869.5,-425 863.5,-419 863.5,-413 863.5,-413 863.5,-354 863.5,-354 863.5,-348 869.5,-342 875.5,-342 875.5,-342 1021.5,-342 1021.5,-342 1027.5,-342 1033.5,-348 1033.5,-354 1033.5,-354 1033.5,-413 1033.5,-413 1033.5,-419 1027.5,-425 1021.5,-425\"/>\n<text text-anchor=\"start\" x=\"918\" y=\"-409.8\" font-family=\"Helvetica,sans-Serif\" font-size=\"14.00\">node #12</text>\n<text text-anchor=\"start\" x=\"871.5\" y=\"-394.8\" font-family=\"Helvetica,sans-Serif\" font-size=\"14.00\">RoutDeliveryOrder ≤ 4.5</text>\n<text text-anchor=\"start\" x=\"901\" y=\"-379.8\" font-family=\"Helvetica,sans-Serif\" font-size=\"14.00\">samples = 472</text>\n<text text-anchor=\"start\" x=\"883.5\" y=\"-364.8\" font-family=\"Helvetica,sans-Serif\" font-size=\"14.00\">value = [70, 368, 34]</text>\n<text text-anchor=\"start\" x=\"912\" y=\"-349.8\" font-family=\"Helvetica,sans-Serif\" font-size=\"14.00\">class = bad</text>\n</g>\n<!-- 0&#45;&gt;12 -->\n<g id=\"edge12\" class=\"edge\">\n<title>0&#45;&gt;12</title>\n<path fill=\"none\" stroke=\"black\" d=\"M820.4,-460.58C836.6,-450.96 853.97,-440.64 870.53,-430.81\"/>\n<polygon fill=\"black\" stroke=\"black\" points=\"871.83,-433.51 878.64,-425.4 868.25,-427.49 871.83,-433.51\"/>\n<text text-anchor=\"middle\" x=\"873.47\" y=\"-445.92\" font-family=\"Helvetica,sans-Serif\" font-size=\"14.00\">False</text>\n</g>\n<!-- 2 -->\n<g id=\"node3\" class=\"node\">\n<title>2</title>\n<path fill=\"#e1fbec\" stroke=\"black\" d=\"M438,-306C438,-306 325,-306 325,-306 319,-306 313,-300 313,-294 313,-294 313,-235 313,-235 313,-229 319,-223 325,-223 325,-223 438,-223 438,-223 444,-223 450,-229 450,-235 450,-235 450,-294 450,-294 450,-300 444,-306 438,-306\"/>\n<text text-anchor=\"start\" x=\"355\" y=\"-290.8\" font-family=\"Helvetica,sans-Serif\" font-size=\"14.00\">node #2</text>\n<text text-anchor=\"start\" x=\"327\" y=\"-275.8\" font-family=\"Helvetica,sans-Serif\" font-size=\"14.00\">Dest_C201 ≤ 0.5</text>\n<text text-anchor=\"start\" x=\"334\" y=\"-260.8\" font-family=\"Helvetica,sans-Serif\" font-size=\"14.00\">samples = 180</text>\n<text text-anchor=\"start\" x=\"321\" y=\"-245.8\" font-family=\"Helvetica,sans-Serif\" font-size=\"14.00\">value = [54, 73, 53]</text>\n<text text-anchor=\"start\" x=\"345\" y=\"-230.8\" font-family=\"Helvetica,sans-Serif\" font-size=\"14.00\">class = bad</text>\n</g>\n<!-- 1&#45;&gt;2 -->\n<g id=\"edge2\" class=\"edge\">\n<title>1&#45;&gt;2</title>\n<path fill=\"none\" stroke=\"black\" d=\"M523.25,-341.58C502.8,-330.6 480.64,-318.71 460.06,-307.66\"/>\n<polygon fill=\"black\" stroke=\"black\" points=\"461.88,-304.13 451.42,-302.49 458.57,-310.3 461.88,-304.13\"/>\n</g>\n<!-- 7 -->\n<g id=\"node8\" class=\"node\">\n<title>7</title>\n<path fill=\"#d3b9f6\" stroke=\"black\" d=\"M660.5,-306C660.5,-306 538.5,-306 538.5,-306 532.5,-306 526.5,-300 526.5,-294 526.5,-294 526.5,-235 526.5,-235 526.5,-229 532.5,-223 538.5,-223 538.5,-223 660.5,-223 660.5,-223 666.5,-223 672.5,-229 672.5,-235 672.5,-235 672.5,-294 672.5,-294 672.5,-300 666.5,-306 660.5,-306\"/>\n<text text-anchor=\"start\" x=\"573\" y=\"-290.8\" font-family=\"Helvetica,sans-Serif\" font-size=\"14.00\">node #7</text>\n<text text-anchor=\"start\" x=\"545\" y=\"-275.8\" font-family=\"Helvetica,sans-Serif\" font-size=\"14.00\">Dest_C205 ≤ 0.5</text>\n<text text-anchor=\"start\" x=\"552\" y=\"-260.8\" font-family=\"Helvetica,sans-Serif\" font-size=\"14.00\">samples = 308</text>\n<text text-anchor=\"start\" x=\"534.5\" y=\"-245.8\" font-family=\"Helvetica,sans-Serif\" font-size=\"14.00\">value = [61, 84, 163]</text>\n<text text-anchor=\"start\" x=\"558.5\" y=\"-230.8\" font-family=\"Helvetica,sans-Serif\" font-size=\"14.00\">class = good</text>\n</g>\n<!-- 1&#45;&gt;7 -->\n<g id=\"edge7\" class=\"edge\">\n<title>1&#45;&gt;7</title>\n<path fill=\"none\" stroke=\"black\" d=\"M599.5,-341.58C599.5,-333.7 599.5,-325.34 599.5,-317.17\"/>\n<polygon fill=\"black\" stroke=\"black\" points=\"603,-317.2 599.5,-307.2 596,-317.2 603,-317.2\"/>\n</g>\n<!-- 3 -->\n<g id=\"node4\" class=\"node\">\n<title>3</title>\n<path fill=\"#ddfae9\" stroke=\"black\" d=\"M290.5,-187C290.5,-187 144.5,-187 144.5,-187 138.5,-187 132.5,-181 132.5,-175 132.5,-175 132.5,-116 132.5,-116 132.5,-110 138.5,-104 144.5,-104 144.5,-104 290.5,-104 290.5,-104 296.5,-104 302.5,-110 302.5,-116 302.5,-116 302.5,-175 302.5,-175 302.5,-181 296.5,-187 290.5,-187\"/>\n<text text-anchor=\"start\" x=\"191\" y=\"-171.8\" font-family=\"Helvetica,sans-Serif\" font-size=\"14.00\">node #3</text>\n<text text-anchor=\"start\" x=\"140.5\" y=\"-156.8\" font-family=\"Helvetica,sans-Serif\" font-size=\"14.00\">RoutDeliveryOrder ≤ 1.5</text>\n<text text-anchor=\"start\" x=\"170\" y=\"-141.8\" font-family=\"Helvetica,sans-Serif\" font-size=\"14.00\">samples = 168</text>\n<text text-anchor=\"start\" x=\"157\" y=\"-126.8\" font-family=\"Helvetica,sans-Serif\" font-size=\"14.00\">value = [42, 73, 53]</text>\n<text text-anchor=\"start\" x=\"181\" y=\"-111.8\" font-family=\"Helvetica,sans-Serif\" font-size=\"14.00\">class = bad</text>\n</g>\n<!-- 2&#45;&gt;3 -->\n<g id=\"edge3\" class=\"edge\">\n<title>2&#45;&gt;3</title>\n<path fill=\"none\" stroke=\"black\" d=\"M324.14,-222.58C311.03,-213.23 297,-203.21 283.56,-193.63\"/>\n<polygon fill=\"black\" stroke=\"black\" points=\"286,-190.36 275.83,-187.4 281.93,-196.05 286,-190.36\"/>\n</g>\n<!-- 6 -->\n<g id=\"node7\" class=\"node\">\n<title>6</title>\n<path fill=\"#e58139\" stroke=\"black\" d=\"M430,-179.5C430,-179.5 333,-179.5 333,-179.5 327,-179.5 321,-173.5 321,-167.5 321,-167.5 321,-123.5 321,-123.5 321,-117.5 327,-111.5 333,-111.5 333,-111.5 430,-111.5 430,-111.5 436,-111.5 442,-117.5 442,-123.5 442,-123.5 442,-167.5 442,-167.5 442,-173.5 436,-179.5 430,-179.5\"/>\n<text text-anchor=\"start\" x=\"355\" y=\"-164.3\" font-family=\"Helvetica,sans-Serif\" font-size=\"14.00\">node #6</text>\n<text text-anchor=\"start\" x=\"338\" y=\"-149.3\" font-family=\"Helvetica,sans-Serif\" font-size=\"14.00\">samples = 12</text>\n<text text-anchor=\"start\" x=\"329\" y=\"-134.3\" font-family=\"Helvetica,sans-Serif\" font-size=\"14.00\">value = [12, 0, 0]</text>\n<text text-anchor=\"start\" x=\"331.5\" y=\"-119.3\" font-family=\"Helvetica,sans-Serif\" font-size=\"14.00\">class = average</text>\n</g>\n<!-- 2&#45;&gt;6 -->\n<g id=\"edge6\" class=\"edge\">\n<title>2&#45;&gt;6</title>\n<path fill=\"none\" stroke=\"black\" d=\"M381.5,-222.58C381.5,-212.32 381.5,-201.27 381.5,-190.85\"/>\n<polygon fill=\"black\" stroke=\"black\" points=\"385,-190.86 381.5,-180.86 378,-190.86 385,-190.86\"/>\n</g>\n<!-- 4 -->\n<g id=\"node5\" class=\"node\">\n<title>4</title>\n<path fill=\"#ebe0fb\" stroke=\"black\" d=\"M125,-68C125,-68 12,-68 12,-68 6,-68 0,-62 0,-56 0,-56 0,-12 0,-12 0,-6 6,0 12,0 12,0 125,0 125,0 131,0 137,-6 137,-12 137,-12 137,-56 137,-56 137,-62 131,-68 125,-68\"/>\n<text text-anchor=\"start\" x=\"42\" y=\"-52.8\" font-family=\"Helvetica,sans-Serif\" font-size=\"14.00\">node #4</text>\n<text text-anchor=\"start\" x=\"21\" y=\"-37.8\" font-family=\"Helvetica,sans-Serif\" font-size=\"14.00\">samples = 100</text>\n<text text-anchor=\"start\" x=\"8\" y=\"-22.8\" font-family=\"Helvetica,sans-Serif\" font-size=\"14.00\">value = [29, 30, 41]</text>\n<text text-anchor=\"start\" x=\"27.5\" y=\"-7.8\" font-family=\"Helvetica,sans-Serif\" font-size=\"14.00\">class = good</text>\n</g>\n<!-- 3&#45;&gt;4 -->\n<g id=\"edge4\" class=\"edge\">\n<title>3&#45;&gt;4</title>\n<path fill=\"none\" stroke=\"black\" d=\"M162.02,-103.73C149.11,-94.24 135.39,-84.16 122.54,-74.72\"/>\n<polygon fill=\"black\" stroke=\"black\" points=\"124.94,-71.4 114.81,-68.3 120.8,-77.04 124.94,-71.4\"/>\n</g>\n<!-- 5 -->\n<g id=\"node6\" class=\"node\">\n<title>5</title>\n<path fill=\"#93f1ba\" stroke=\"black\" d=\"M280,-68C280,-68 167,-68 167,-68 161,-68 155,-62 155,-56 155,-56 155,-12 155,-12 155,-6 161,0 167,0 167,0 280,0 280,0 286,0 292,-6 292,-12 292,-12 292,-56 292,-56 292,-62 286,-68 280,-68\"/>\n<text text-anchor=\"start\" x=\"197\" y=\"-52.8\" font-family=\"Helvetica,sans-Serif\" font-size=\"14.00\">node #5</text>\n<text text-anchor=\"start\" x=\"180\" y=\"-37.8\" font-family=\"Helvetica,sans-Serif\" font-size=\"14.00\">samples = 68</text>\n<text text-anchor=\"start\" x=\"163\" y=\"-22.8\" font-family=\"Helvetica,sans-Serif\" font-size=\"14.00\">value = [13, 43, 12]</text>\n<text text-anchor=\"start\" x=\"187\" y=\"-7.8\" font-family=\"Helvetica,sans-Serif\" font-size=\"14.00\">class = bad</text>\n</g>\n<!-- 3&#45;&gt;5 -->\n<g id=\"edge5\" class=\"edge\">\n<title>3&#45;&gt;5</title>\n<path fill=\"none\" stroke=\"black\" d=\"M219.73,-103.73C220.17,-95.7 220.64,-87.24 221.08,-79.11\"/>\n<polygon fill=\"black\" stroke=\"black\" points=\"224.62,-79.48 221.68,-69.3 217.63,-79.09 224.62,-79.48\"/>\n</g>\n<!-- 8 -->\n<g id=\"node9\" class=\"node\">\n<title>8</title>\n<path fill=\"#d1b7f5\" stroke=\"black\" d=\"M594.5,-187C594.5,-187 472.5,-187 472.5,-187 466.5,-187 460.5,-181 460.5,-175 460.5,-175 460.5,-116 460.5,-116 460.5,-110 466.5,-104 472.5,-104 472.5,-104 594.5,-104 594.5,-104 600.5,-104 606.5,-110 606.5,-116 606.5,-116 606.5,-175 606.5,-175 606.5,-181 600.5,-187 594.5,-187\"/>\n<text text-anchor=\"start\" x=\"507\" y=\"-171.8\" font-family=\"Helvetica,sans-Serif\" font-size=\"14.00\">node #8</text>\n<text text-anchor=\"start\" x=\"479\" y=\"-156.8\" font-family=\"Helvetica,sans-Serif\" font-size=\"14.00\">Dest_C103 ≤ 0.5</text>\n<text text-anchor=\"start\" x=\"486\" y=\"-141.8\" font-family=\"Helvetica,sans-Serif\" font-size=\"14.00\">samples = 300</text>\n<text text-anchor=\"start\" x=\"468.5\" y=\"-126.8\" font-family=\"Helvetica,sans-Serif\" font-size=\"14.00\">value = [53, 84, 163]</text>\n<text text-anchor=\"start\" x=\"492.5\" y=\"-111.8\" font-family=\"Helvetica,sans-Serif\" font-size=\"14.00\">class = good</text>\n</g>\n<!-- 7&#45;&gt;8 -->\n<g id=\"edge8\" class=\"edge\">\n<title>7&#45;&gt;8</title>\n<path fill=\"none\" stroke=\"black\" d=\"M576.42,-222.58C571.72,-214.25 566.72,-205.39 561.86,-196.78\"/>\n<polygon fill=\"black\" stroke=\"black\" points=\"564.42,-195.19 556.46,-188.2 558.32,-198.63 564.42,-195.19\"/>\n</g>\n<!-- 11 -->\n<g id=\"node12\" class=\"node\">\n<title>11</title>\n<path fill=\"#e58139\" stroke=\"black\" d=\"M728.5,-179.5C728.5,-179.5 636.5,-179.5 636.5,-179.5 630.5,-179.5 624.5,-173.5 624.5,-167.5 624.5,-167.5 624.5,-123.5 624.5,-123.5 624.5,-117.5 630.5,-111.5 636.5,-111.5 636.5,-111.5 728.5,-111.5 728.5,-111.5 734.5,-111.5 740.5,-117.5 740.5,-123.5 740.5,-123.5 740.5,-167.5 740.5,-167.5 740.5,-173.5 734.5,-179.5 728.5,-179.5\"/>\n<text text-anchor=\"start\" x=\"652\" y=\"-164.3\" font-family=\"Helvetica,sans-Serif\" font-size=\"14.00\">node #11</text>\n<text text-anchor=\"start\" x=\"643\" y=\"-149.3\" font-family=\"Helvetica,sans-Serif\" font-size=\"14.00\">samples = 8</text>\n<text text-anchor=\"start\" x=\"634\" y=\"-134.3\" font-family=\"Helvetica,sans-Serif\" font-size=\"14.00\">value = [8, 0, 0]</text>\n<text text-anchor=\"start\" x=\"632.5\" y=\"-119.3\" font-family=\"Helvetica,sans-Serif\" font-size=\"14.00\">class = average</text>\n</g>\n<!-- 7&#45;&gt;11 -->\n<g id=\"edge11\" class=\"edge\">\n<title>7&#45;&gt;11</title>\n<path fill=\"none\" stroke=\"black\" d=\"M628.53,-222.58C636.35,-211.56 644.82,-199.61 652.68,-188.53\"/>\n<polygon fill=\"black\" stroke=\"black\" points=\"655.9,-191.04 658.83,-180.86 650.19,-186.99 655.9,-191.04\"/>\n</g>\n<!-- 9 -->\n<g id=\"node10\" class=\"node\">\n<title>9</title>\n<path fill=\"#cbaef4\" stroke=\"black\" d=\"M455.5,-68C455.5,-68 333.5,-68 333.5,-68 327.5,-68 321.5,-62 321.5,-56 321.5,-56 321.5,-12 321.5,-12 321.5,-6 327.5,0 333.5,0 333.5,0 455.5,0 455.5,0 461.5,0 467.5,-6 467.5,-12 467.5,-12 467.5,-56 467.5,-56 467.5,-62 461.5,-68 455.5,-68\"/>\n<text text-anchor=\"start\" x=\"368\" y=\"-52.8\" font-family=\"Helvetica,sans-Serif\" font-size=\"14.00\">node #9</text>\n<text text-anchor=\"start\" x=\"347\" y=\"-37.8\" font-family=\"Helvetica,sans-Serif\" font-size=\"14.00\">samples = 288</text>\n<text text-anchor=\"start\" x=\"329.5\" y=\"-22.8\" font-family=\"Helvetica,sans-Serif\" font-size=\"14.00\">value = [49, 76, 163]</text>\n<text text-anchor=\"start\" x=\"353.5\" y=\"-7.8\" font-family=\"Helvetica,sans-Serif\" font-size=\"14.00\">class = good</text>\n</g>\n<!-- 8&#45;&gt;9 -->\n<g id=\"edge9\" class=\"edge\">\n<title>8&#45;&gt;9</title>\n<path fill=\"none\" stroke=\"black\" d=\"M481.74,-103.73C469.82,-94.33 457.14,-84.35 445.26,-74.99\"/>\n<polygon fill=\"black\" stroke=\"black\" points=\"447.79,-71.74 437.77,-68.3 443.46,-77.24 447.79,-71.74\"/>\n</g>\n<!-- 10 -->\n<g id=\"node11\" class=\"node\">\n<title>10</title>\n<path fill=\"#9cf2c0\" stroke=\"black\" d=\"M587,-68C587,-68 498,-68 498,-68 492,-68 486,-62 486,-56 486,-56 486,-12 486,-12 486,-6 492,0 498,0 498,0 587,0 587,0 593,0 599,-6 599,-12 599,-12 599,-56 599,-56 599,-62 593,-68 587,-68\"/>\n<text text-anchor=\"start\" x=\"512\" y=\"-52.8\" font-family=\"Helvetica,sans-Serif\" font-size=\"14.00\">node #10</text>\n<text text-anchor=\"start\" x=\"499\" y=\"-37.8\" font-family=\"Helvetica,sans-Serif\" font-size=\"14.00\">samples = 12</text>\n<text text-anchor=\"start\" x=\"494\" y=\"-22.8\" font-family=\"Helvetica,sans-Serif\" font-size=\"14.00\">value = [4, 8, 0]</text>\n<text text-anchor=\"start\" x=\"506\" y=\"-7.8\" font-family=\"Helvetica,sans-Serif\" font-size=\"14.00\">class = bad</text>\n</g>\n<!-- 8&#45;&gt;10 -->\n<g id=\"edge10\" class=\"edge\">\n<title>8&#45;&gt;10</title>\n<path fill=\"none\" stroke=\"black\" d=\"M536.85,-103.73C537.51,-95.7 538.21,-87.24 538.87,-79.11\"/>\n<polygon fill=\"black\" stroke=\"black\" points=\"542.43,-79.55 539.76,-69.3 535.46,-78.98 542.43,-79.55\"/>\n</g>\n<!-- 13 -->\n<g id=\"node14\" class=\"node\">\n<title>13</title>\n<path fill=\"#aaf4c9\" stroke=\"black\" d=\"M1023,-306C1023,-306 874,-306 874,-306 868,-306 862,-300 862,-294 862,-294 862,-235 862,-235 862,-229 868,-223 874,-223 874,-223 1023,-223 1023,-223 1029,-223 1035,-229 1035,-235 1035,-235 1035,-294 1035,-294 1035,-300 1029,-306 1023,-306\"/>\n<text text-anchor=\"start\" x=\"918\" y=\"-290.8\" font-family=\"Helvetica,sans-Serif\" font-size=\"14.00\">node #13</text>\n<text text-anchor=\"start\" x=\"870\" y=\"-275.8\" font-family=\"Helvetica,sans-Serif\" font-size=\"14.00\">DriverCD_C_D2_4 ≤ 0.5</text>\n<text text-anchor=\"start\" x=\"901\" y=\"-260.8\" font-family=\"Helvetica,sans-Serif\" font-size=\"14.00\">samples = 228</text>\n<text text-anchor=\"start\" x=\"883.5\" y=\"-245.8\" font-family=\"Helvetica,sans-Serif\" font-size=\"14.00\">value = [62, 133, 33]</text>\n<text text-anchor=\"start\" x=\"912\" y=\"-230.8\" font-family=\"Helvetica,sans-Serif\" font-size=\"14.00\">class = bad</text>\n</g>\n<!-- 12&#45;&gt;13 -->\n<g id=\"edge13\" class=\"edge\">\n<title>12&#45;&gt;13</title>\n<path fill=\"none\" stroke=\"black\" d=\"M948.5,-341.58C948.5,-333.7 948.5,-325.34 948.5,-317.17\"/>\n<polygon fill=\"black\" stroke=\"black\" points=\"952,-317.2 948.5,-307.2 945,-317.2 952,-317.2\"/>\n</g>\n<!-- 20 -->\n<g id=\"node21\" class=\"node\">\n<title>20</title>\n<path fill=\"#41e686\" stroke=\"black\" d=\"M1365,-306C1365,-306 1260,-306 1260,-306 1254,-306 1248,-300 1248,-294 1248,-294 1248,-235 1248,-235 1248,-229 1254,-223 1260,-223 1260,-223 1365,-223 1365,-223 1371,-223 1377,-229 1377,-235 1377,-235 1377,-294 1377,-294 1377,-300 1371,-306 1365,-306\"/>\n<text text-anchor=\"start\" x=\"1282\" y=\"-290.8\" font-family=\"Helvetica,sans-Serif\" font-size=\"14.00\">node #20</text>\n<text text-anchor=\"start\" x=\"1258\" y=\"-275.8\" font-family=\"Helvetica,sans-Serif\" font-size=\"14.00\">Dest_C305 ≤ 0.5</text>\n<text text-anchor=\"start\" x=\"1265\" y=\"-260.8\" font-family=\"Helvetica,sans-Serif\" font-size=\"14.00\">samples = 244</text>\n<text text-anchor=\"start\" x=\"1256\" y=\"-245.8\" font-family=\"Helvetica,sans-Serif\" font-size=\"14.00\">value = [8, 235, 1]</text>\n<text text-anchor=\"start\" x=\"1276\" y=\"-230.8\" font-family=\"Helvetica,sans-Serif\" font-size=\"14.00\">class = bad</text>\n</g>\n<!-- 12&#45;&gt;20 -->\n<g id=\"edge20\" class=\"edge\">\n<title>12&#45;&gt;20</title>\n<path fill=\"none\" stroke=\"black\" d=\"M1033.84,-355.07C1095.49,-335.25 1177.99,-308.74 1237.19,-289.71\"/>\n<polygon fill=\"black\" stroke=\"black\" points=\"1238.15,-292.75 1246.6,-286.36 1236,-286.09 1238.15,-292.75\"/>\n</g>\n<!-- 14 -->\n<g id=\"node15\" class=\"node\">\n<title>14</title>\n<path fill=\"#9ef2c1\" stroke=\"black\" d=\"M920,-187C920,-187 771,-187 771,-187 765,-187 759,-181 759,-175 759,-175 759,-116 759,-116 759,-110 765,-104 771,-104 771,-104 920,-104 920,-104 926,-104 932,-110 932,-116 932,-116 932,-175 932,-175 932,-181 926,-187 920,-187\"/>\n<text text-anchor=\"start\" x=\"815\" y=\"-171.8\" font-family=\"Helvetica,sans-Serif\" font-size=\"14.00\">node #14</text>\n<text text-anchor=\"start\" x=\"767\" y=\"-156.8\" font-family=\"Helvetica,sans-Serif\" font-size=\"14.00\">DriverCD_C_D1_4 ≤ 0.5</text>\n<text text-anchor=\"start\" x=\"798\" y=\"-141.8\" font-family=\"Helvetica,sans-Serif\" font-size=\"14.00\">samples = 212</text>\n<text text-anchor=\"start\" x=\"780.5\" y=\"-126.8\" font-family=\"Helvetica,sans-Serif\" font-size=\"14.00\">value = [51, 130, 31]</text>\n<text text-anchor=\"start\" x=\"809\" y=\"-111.8\" font-family=\"Helvetica,sans-Serif\" font-size=\"14.00\">class = bad</text>\n</g>\n<!-- 13&#45;&gt;14 -->\n<g id=\"edge14\" class=\"edge\">\n<title>13&#45;&gt;14</title>\n<path fill=\"none\" stroke=\"black\" d=\"M912.48,-222.58C904.75,-213.8 896.51,-204.44 888.54,-195.39\"/>\n<polygon fill=\"black\" stroke=\"black\" points=\"891.56,-193.39 882.33,-188.2 886.31,-198.02 891.56,-193.39\"/>\n</g>\n<!-- 17 -->\n<g id=\"node18\" class=\"node\">\n<title>17</title>\n<path fill=\"#efb185\" stroke=\"black\" d=\"M1141,-187C1141,-187 962,-187 962,-187 956,-187 950,-181 950,-175 950,-175 950,-116 950,-116 950,-110 956,-104 962,-104 962,-104 1141,-104 1141,-104 1147,-104 1153,-110 1153,-116 1153,-116 1153,-175 1153,-175 1153,-181 1147,-187 1141,-187\"/>\n<text text-anchor=\"start\" x=\"1021\" y=\"-171.8\" font-family=\"Helvetica,sans-Serif\" font-size=\"14.00\">node #17</text>\n<text text-anchor=\"start\" x=\"958\" y=\"-156.8\" font-family=\"Helvetica,sans-Serif\" font-size=\"14.00\">TruckType_SemiTrailler ≤ 0.5</text>\n<text text-anchor=\"start\" x=\"1008\" y=\"-141.8\" font-family=\"Helvetica,sans-Serif\" font-size=\"14.00\">samples = 16</text>\n<text text-anchor=\"start\" x=\"999\" y=\"-126.8\" font-family=\"Helvetica,sans-Serif\" font-size=\"14.00\">value = [11, 3, 2]</text>\n<text text-anchor=\"start\" x=\"1001.5\" y=\"-111.8\" font-family=\"Helvetica,sans-Serif\" font-size=\"14.00\">class = average</text>\n</g>\n<!-- 13&#45;&gt;17 -->\n<g id=\"edge17\" class=\"edge\">\n<title>13&#45;&gt;17</title>\n<path fill=\"none\" stroke=\"black\" d=\"M984.52,-222.58C992.25,-213.8 1000.49,-204.44 1008.46,-195.39\"/>\n<polygon fill=\"black\" stroke=\"black\" points=\"1010.69,-198.02 1014.67,-188.2 1005.44,-193.39 1010.69,-198.02\"/>\n</g>\n<!-- 15 -->\n<g id=\"node16\" class=\"node\">\n<title>15</title>\n<path fill=\"#96f1bc\" stroke=\"black\" d=\"M757.5,-68C757.5,-68 635.5,-68 635.5,-68 629.5,-68 623.5,-62 623.5,-56 623.5,-56 623.5,-12 623.5,-12 623.5,-6 629.5,0 635.5,0 635.5,0 757.5,0 757.5,0 763.5,0 769.5,-6 769.5,-12 769.5,-12 769.5,-56 769.5,-56 769.5,-62 763.5,-68 757.5,-68\"/>\n<text text-anchor=\"start\" x=\"666\" y=\"-52.8\" font-family=\"Helvetica,sans-Serif\" font-size=\"14.00\">node #15</text>\n<text text-anchor=\"start\" x=\"649\" y=\"-37.8\" font-family=\"Helvetica,sans-Serif\" font-size=\"14.00\">samples = 204</text>\n<text text-anchor=\"start\" x=\"631.5\" y=\"-22.8\" font-family=\"Helvetica,sans-Serif\" font-size=\"14.00\">value = [46, 130, 28]</text>\n<text text-anchor=\"start\" x=\"660\" y=\"-7.8\" font-family=\"Helvetica,sans-Serif\" font-size=\"14.00\">class = bad</text>\n</g>\n<!-- 14&#45;&gt;15 -->\n<g id=\"edge15\" class=\"edge\">\n<title>14&#45;&gt;15</title>\n<path fill=\"none\" stroke=\"black\" d=\"M790.02,-103.73C777.11,-94.24 763.39,-84.16 750.54,-74.72\"/>\n<polygon fill=\"black\" stroke=\"black\" points=\"752.94,-71.4 742.81,-68.3 748.8,-77.04 752.94,-71.4\"/>\n</g>\n<!-- 16 -->\n<g id=\"node17\" class=\"node\">\n<title>16</title>\n<path fill=\"#f5cdb0\" stroke=\"black\" d=\"M891.5,-68C891.5,-68 799.5,-68 799.5,-68 793.5,-68 787.5,-62 787.5,-56 787.5,-56 787.5,-12 787.5,-12 787.5,-6 793.5,0 799.5,0 799.5,0 891.5,0 891.5,0 897.5,0 903.5,-6 903.5,-12 903.5,-12 903.5,-56 903.5,-56 903.5,-62 897.5,-68 891.5,-68\"/>\n<text text-anchor=\"start\" x=\"815\" y=\"-52.8\" font-family=\"Helvetica,sans-Serif\" font-size=\"14.00\">node #16</text>\n<text text-anchor=\"start\" x=\"806\" y=\"-37.8\" font-family=\"Helvetica,sans-Serif\" font-size=\"14.00\">samples = 8</text>\n<text text-anchor=\"start\" x=\"797\" y=\"-22.8\" font-family=\"Helvetica,sans-Serif\" font-size=\"14.00\">value = [5, 0, 3]</text>\n<text text-anchor=\"start\" x=\"795.5\" y=\"-7.8\" font-family=\"Helvetica,sans-Serif\" font-size=\"14.00\">class = average</text>\n</g>\n<!-- 14&#45;&gt;16 -->\n<g id=\"edge16\" class=\"edge\">\n<title>14&#45;&gt;16</title>\n<path fill=\"none\" stroke=\"black\" d=\"M845.5,-103.73C845.5,-95.7 845.5,-87.24 845.5,-79.11\"/>\n<polygon fill=\"black\" stroke=\"black\" points=\"849,-79.3 845.5,-69.3 842,-79.3 849,-79.3\"/>\n</g>\n<!-- 18 -->\n<g id=\"node19\" class=\"node\">\n<title>18</title>\n<path fill=\"#e99355\" stroke=\"black\" d=\"M1025.5,-68C1025.5,-68 933.5,-68 933.5,-68 927.5,-68 921.5,-62 921.5,-56 921.5,-56 921.5,-12 921.5,-12 921.5,-6 927.5,0 933.5,0 933.5,0 1025.5,0 1025.5,0 1031.5,0 1037.5,-6 1037.5,-12 1037.5,-12 1037.5,-56 1037.5,-56 1037.5,-62 1031.5,-68 1025.5,-68\"/>\n<text text-anchor=\"start\" x=\"949\" y=\"-52.8\" font-family=\"Helvetica,sans-Serif\" font-size=\"14.00\">node #18</text>\n<text text-anchor=\"start\" x=\"940\" y=\"-37.8\" font-family=\"Helvetica,sans-Serif\" font-size=\"14.00\">samples = 8</text>\n<text text-anchor=\"start\" x=\"931\" y=\"-22.8\" font-family=\"Helvetica,sans-Serif\" font-size=\"14.00\">value = [7, 0, 1]</text>\n<text text-anchor=\"start\" x=\"929.5\" y=\"-7.8\" font-family=\"Helvetica,sans-Serif\" font-size=\"14.00\">class = average</text>\n</g>\n<!-- 17&#45;&gt;18 -->\n<g id=\"edge18\" class=\"edge\">\n<title>17&#45;&gt;18</title>\n<path fill=\"none\" stroke=\"black\" d=\"M1024.69,-103.73C1019.05,-95.15 1013.09,-86.09 1007.42,-77.46\"/>\n<polygon fill=\"black\" stroke=\"black\" points=\"1009.81,-75.73 1001.4,-69.3 1003.97,-79.58 1009.81,-75.73\"/>\n</g>\n<!-- 19 -->\n<g id=\"node20\" class=\"node\">\n<title>19</title>\n<path fill=\"#fae6d7\" stroke=\"black\" d=\"M1159.5,-68C1159.5,-68 1067.5,-68 1067.5,-68 1061.5,-68 1055.5,-62 1055.5,-56 1055.5,-56 1055.5,-12 1055.5,-12 1055.5,-6 1061.5,0 1067.5,0 1067.5,0 1159.5,0 1159.5,0 1165.5,0 1171.5,-6 1171.5,-12 1171.5,-12 1171.5,-56 1171.5,-56 1171.5,-62 1165.5,-68 1159.5,-68\"/>\n<text text-anchor=\"start\" x=\"1083\" y=\"-52.8\" font-family=\"Helvetica,sans-Serif\" font-size=\"14.00\">node #19</text>\n<text text-anchor=\"start\" x=\"1074\" y=\"-37.8\" font-family=\"Helvetica,sans-Serif\" font-size=\"14.00\">samples = 8</text>\n<text text-anchor=\"start\" x=\"1065\" y=\"-22.8\" font-family=\"Helvetica,sans-Serif\" font-size=\"14.00\">value = [4, 3, 1]</text>\n<text text-anchor=\"start\" x=\"1063.5\" y=\"-7.8\" font-family=\"Helvetica,sans-Serif\" font-size=\"14.00\">class = average</text>\n</g>\n<!-- 17&#45;&gt;19 -->\n<g id=\"edge19\" class=\"edge\">\n<title>17&#45;&gt;19</title>\n<path fill=\"none\" stroke=\"black\" d=\"M1074.59,-103.73C1079.39,-95.24 1084.46,-86.28 1089.31,-77.73\"/>\n<polygon fill=\"black\" stroke=\"black\" points=\"1092.76,-79.73 1094.65,-69.3 1086.67,-76.28 1092.76,-79.73\"/>\n</g>\n<!-- 21 -->\n<g id=\"node22\" class=\"node\">\n<title>21</title>\n<path fill=\"#3de583\" stroke=\"black\" d=\"M1387,-187C1387,-187 1238,-187 1238,-187 1232,-187 1226,-181 1226,-175 1226,-175 1226,-116 1226,-116 1226,-110 1232,-104 1238,-104 1238,-104 1387,-104 1387,-104 1393,-104 1399,-110 1399,-116 1399,-116 1399,-175 1399,-175 1399,-181 1393,-187 1387,-187\"/>\n<text text-anchor=\"start\" x=\"1282\" y=\"-171.8\" font-family=\"Helvetica,sans-Serif\" font-size=\"14.00\">node #21</text>\n<text text-anchor=\"start\" x=\"1234\" y=\"-156.8\" font-family=\"Helvetica,sans-Serif\" font-size=\"14.00\">DriverCD_C_D1_6 ≤ 0.5</text>\n<text text-anchor=\"start\" x=\"1265\" y=\"-141.8\" font-family=\"Helvetica,sans-Serif\" font-size=\"14.00\">samples = 228</text>\n<text text-anchor=\"start\" x=\"1256\" y=\"-126.8\" font-family=\"Helvetica,sans-Serif\" font-size=\"14.00\">value = [3, 224, 1]</text>\n<text text-anchor=\"start\" x=\"1276\" y=\"-111.8\" font-family=\"Helvetica,sans-Serif\" font-size=\"14.00\">class = bad</text>\n</g>\n<!-- 20&#45;&gt;21 -->\n<g id=\"edge21\" class=\"edge\">\n<title>20&#45;&gt;21</title>\n<path fill=\"none\" stroke=\"black\" d=\"M1312.5,-222.58C1312.5,-214.7 1312.5,-206.34 1312.5,-198.17\"/>\n<polygon fill=\"black\" stroke=\"black\" points=\"1316,-198.2 1312.5,-188.2 1309,-198.2 1316,-198.2\"/>\n</g>\n<!-- 24 -->\n<g id=\"node25\" class=\"node\">\n<title>24</title>\n<path fill=\"#93f1ba\" stroke=\"black\" d=\"M1581,-187C1581,-187 1484,-187 1484,-187 1478,-187 1472,-181 1472,-175 1472,-175 1472,-116 1472,-116 1472,-110 1478,-104 1484,-104 1484,-104 1581,-104 1581,-104 1587,-104 1593,-110 1593,-116 1593,-116 1593,-175 1593,-175 1593,-181 1587,-187 1581,-187\"/>\n<text text-anchor=\"start\" x=\"1502\" y=\"-171.8\" font-family=\"Helvetica,sans-Serif\" font-size=\"14.00\">node #24</text>\n<text text-anchor=\"start\" x=\"1483\" y=\"-156.8\" font-family=\"Helvetica,sans-Serif\" font-size=\"14.00\">Origin_F4 ≤ 0.5</text>\n<text text-anchor=\"start\" x=\"1489\" y=\"-141.8\" font-family=\"Helvetica,sans-Serif\" font-size=\"14.00\">samples = 16</text>\n<text text-anchor=\"start\" x=\"1480\" y=\"-126.8\" font-family=\"Helvetica,sans-Serif\" font-size=\"14.00\">value = [5, 11, 0]</text>\n<text text-anchor=\"start\" x=\"1496\" y=\"-111.8\" font-family=\"Helvetica,sans-Serif\" font-size=\"14.00\">class = bad</text>\n</g>\n<!-- 20&#45;&gt;24 -->\n<g id=\"edge24\" class=\"edge\">\n<title>20&#45;&gt;24</title>\n<path fill=\"none\" stroke=\"black\" d=\"M1377.32,-229.03C1403.96,-214.86 1434.89,-198.41 1462.09,-183.95\"/>\n<polygon fill=\"black\" stroke=\"black\" points=\"1463.35,-186.71 1470.54,-178.92 1460.06,-180.53 1463.35,-186.71\"/>\n</g>\n<!-- 22 -->\n<g id=\"node23\" class=\"node\">\n<title>22</title>\n<path fill=\"#3ae582\" stroke=\"black\" d=\"M1307,-68C1307,-68 1202,-68 1202,-68 1196,-68 1190,-62 1190,-56 1190,-56 1190,-12 1190,-12 1190,-6 1196,0 1202,0 1202,0 1307,0 1307,0 1313,0 1319,-6 1319,-12 1319,-12 1319,-56 1319,-56 1319,-62 1313,-68 1307,-68\"/>\n<text text-anchor=\"start\" x=\"1224\" y=\"-52.8\" font-family=\"Helvetica,sans-Serif\" font-size=\"14.00\">node #22</text>\n<text text-anchor=\"start\" x=\"1207\" y=\"-37.8\" font-family=\"Helvetica,sans-Serif\" font-size=\"14.00\">samples = 208</text>\n<text text-anchor=\"start\" x=\"1198\" y=\"-22.8\" font-family=\"Helvetica,sans-Serif\" font-size=\"14.00\">value = [0, 207, 1]</text>\n<text text-anchor=\"start\" x=\"1218\" y=\"-7.8\" font-family=\"Helvetica,sans-Serif\" font-size=\"14.00\">class = bad</text>\n</g>\n<!-- 21&#45;&gt;22 -->\n<g id=\"edge22\" class=\"edge\">\n<title>21&#45;&gt;22</title>\n<path fill=\"none\" stroke=\"black\" d=\"M1290.9,-103.73C1286.46,-95.34 1281.77,-86.47 1277.28,-78.01\"/>\n<polygon fill=\"black\" stroke=\"black\" points=\"1279.91,-76.5 1272.14,-69.3 1273.73,-79.77 1279.91,-76.5\"/>\n</g>\n<!-- 23 -->\n<g id=\"node24\" class=\"node\">\n<title>23</title>\n<path fill=\"#5cea97\" stroke=\"black\" d=\"M1446,-68C1446,-68 1349,-68 1349,-68 1343,-68 1337,-62 1337,-56 1337,-56 1337,-12 1337,-12 1337,-6 1343,0 1349,0 1349,0 1446,0 1446,0 1452,0 1458,-6 1458,-12 1458,-12 1458,-56 1458,-56 1458,-62 1452,-68 1446,-68\"/>\n<text text-anchor=\"start\" x=\"1367\" y=\"-52.8\" font-family=\"Helvetica,sans-Serif\" font-size=\"14.00\">node #23</text>\n<text text-anchor=\"start\" x=\"1354\" y=\"-37.8\" font-family=\"Helvetica,sans-Serif\" font-size=\"14.00\">samples = 20</text>\n<text text-anchor=\"start\" x=\"1345\" y=\"-22.8\" font-family=\"Helvetica,sans-Serif\" font-size=\"14.00\">value = [3, 17, 0]</text>\n<text text-anchor=\"start\" x=\"1361\" y=\"-7.8\" font-family=\"Helvetica,sans-Serif\" font-size=\"14.00\">class = bad</text>\n</g>\n<!-- 21&#45;&gt;23 -->\n<g id=\"edge23\" class=\"edge\">\n<title>21&#45;&gt;23</title>\n<path fill=\"none\" stroke=\"black\" d=\"M1344.15,-103.73C1350.95,-94.97 1358.14,-85.7 1364.97,-76.91\"/>\n<polygon fill=\"black\" stroke=\"black\" points=\"1368.28,-79.35 1371.65,-69.3 1362.75,-75.05 1368.28,-79.35\"/>\n</g>\n<!-- 25 -->\n<g id=\"node26\" class=\"node\">\n<title>25</title>\n<path fill=\"#39e581\" stroke=\"black\" d=\"M1577,-68C1577,-68 1488,-68 1488,-68 1482,-68 1476,-62 1476,-56 1476,-56 1476,-12 1476,-12 1476,-6 1482,0 1488,0 1488,0 1577,0 1577,0 1583,0 1589,-6 1589,-12 1589,-12 1589,-56 1589,-56 1589,-62 1583,-68 1577,-68\"/>\n<text text-anchor=\"start\" x=\"1502\" y=\"-52.8\" font-family=\"Helvetica,sans-Serif\" font-size=\"14.00\">node #25</text>\n<text text-anchor=\"start\" x=\"1493\" y=\"-37.8\" font-family=\"Helvetica,sans-Serif\" font-size=\"14.00\">samples = 8</text>\n<text text-anchor=\"start\" x=\"1484\" y=\"-22.8\" font-family=\"Helvetica,sans-Serif\" font-size=\"14.00\">value = [0, 8, 0]</text>\n<text text-anchor=\"start\" x=\"1496\" y=\"-7.8\" font-family=\"Helvetica,sans-Serif\" font-size=\"14.00\">class = bad</text>\n</g>\n<!-- 24&#45;&gt;25 -->\n<g id=\"edge25\" class=\"edge\">\n<title>24&#45;&gt;25</title>\n<path fill=\"none\" stroke=\"black\" d=\"M1532.5,-103.73C1532.5,-95.7 1532.5,-87.24 1532.5,-79.11\"/>\n<polygon fill=\"black\" stroke=\"black\" points=\"1536,-79.3 1532.5,-69.3 1529,-79.3 1536,-79.3\"/>\n</g>\n<!-- 26 -->\n<g id=\"node27\" class=\"node\">\n<title>26</title>\n<path fill=\"#f5cdb0\" stroke=\"black\" d=\"M1711.5,-68C1711.5,-68 1619.5,-68 1619.5,-68 1613.5,-68 1607.5,-62 1607.5,-56 1607.5,-56 1607.5,-12 1607.5,-12 1607.5,-6 1613.5,0 1619.5,0 1619.5,0 1711.5,0 1711.5,0 1717.5,0 1723.5,-6 1723.5,-12 1723.5,-12 1723.5,-56 1723.5,-56 1723.5,-62 1717.5,-68 1711.5,-68\"/>\n<text text-anchor=\"start\" x=\"1635\" y=\"-52.8\" font-family=\"Helvetica,sans-Serif\" font-size=\"14.00\">node #26</text>\n<text text-anchor=\"start\" x=\"1626\" y=\"-37.8\" font-family=\"Helvetica,sans-Serif\" font-size=\"14.00\">samples = 8</text>\n<text text-anchor=\"start\" x=\"1617\" y=\"-22.8\" font-family=\"Helvetica,sans-Serif\" font-size=\"14.00\">value = [5, 3, 0]</text>\n<text text-anchor=\"start\" x=\"1615.5\" y=\"-7.8\" font-family=\"Helvetica,sans-Serif\" font-size=\"14.00\">class = average</text>\n</g>\n<!-- 24&#45;&gt;26 -->\n<g id=\"edge26\" class=\"edge\">\n<title>24&#45;&gt;26</title>\n<path fill=\"none\" stroke=\"black\" d=\"M1582.02,-103.73C1593.32,-94.42 1605.32,-84.54 1616.6,-75.26\"/>\n<polygon fill=\"black\" stroke=\"black\" points=\"1618.56,-77.36 1624.05,-68.3 1614.11,-71.95 1618.56,-77.36\"/>\n</g>\n</g>\n</svg>\n",
      "text/plain": [
       "<graphviz.sources.Source at 0x2a7a4219040>"
      ]
     },
     "execution_count": 71,
     "metadata": {},
     "output_type": "execute_result"
    }
   ],
   "source": [
    "P7_conditions = independetVariablesEncoded[\"Product_P7\"]==1\n",
    "dependentVariableStars_p7 = dependentVariableStars[P7_conditions]\n",
    "independetVariablesEncoded_p7 = independetVariablesEncoded[P7_conditions]\n",
    "\n",
    "delivery_tree = tree.DecisionTreeClassifier(max_depth = 4, min_samples_split = 2, min_samples_leaf = 1)\n",
    "delivery_tree.fit(independetVariablesEncoded_p7, dependentVariableStars_p7)\n",
    "\n",
    "print(\"Decision tree model saved to delivery_tree!\")\n",
    "print(delivery_tree)\n",
    "print(independetVariablesEncoded_p7.columns.values)\n",
    "\n",
    "export_graphviz(delivery_tree,\n",
    "                feature_names=list(independetVariablesEncoded_p7.columns.values),\n",
    "                out_file=\"delivery_tree.dot\",\n",
    "                class_names=np.unique(dependentVariableStars_p7.astype(str)),\n",
    "                filled=True,\n",
    "                rounded=True,\n",
    "                node_ids=True,\n",
    "                special_characters=True,\n",
    "                impurity=False,\n",
    "                label=\"all\",\n",
    "                leaves_parallel = False)\n",
    "\n",
    "with open(\"delivery_tree.dot\") as delivery_tree_image:\n",
    "    delivery_tree_graph = delivery_tree_image.read()\n",
    "    \n",
    "graphviz.Source(delivery_tree_graph)"
   ]
  },
  {
   "cell_type": "markdown",
   "metadata": {
    "id": "BOvy0l2PJFLr"
   },
   "source": [
    "* **Parece que o andar ('FloorCD') onde alocamos os P07 também tem um papel importante né?**"
   ]
  },
  {
   "cell_type": "code",
   "execution_count": 72,
   "metadata": {},
   "outputs": [],
   "source": [
    "p7_Floor_Conditions = independetVariablesEncoded_p7[\"FloorCD\"]>=3\n",
    "\n",
    "dependentVariableStars_p7_Floor = dependentVariableStars_p7[p7_Floor_Conditions]\n",
    "independetVariablesEncoded_p7_Floor = independetVariablesEncoded_p7[p7_Floor_Conditions]"
   ]
  },
  {
   "cell_type": "code",
   "execution_count": 74,
   "metadata": {
    "colab": {
     "base_uri": "https://localhost:8080/",
     "height": 1000
    },
    "id": "_K42hOe4KN08",
    "outputId": "ef8cd22d-b82c-4195-f797-1b3045cb284e"
   },
   "outputs": [
    {
     "name": "stdout",
     "output_type": "stream",
     "text": [
      "Decision tree model saved to delivery_tree!\n",
      "DecisionTreeClassifier(max_depth=4)\n",
      "['Product_P1' 'Product_P10' 'Product_P11' 'Product_P12' 'Product_P13'\n",
      " 'Product_P14' 'Product_P15' 'Product_P2' 'Product_P3' 'Product_P4'\n",
      " 'Product_P5' 'Product_P6' 'Product_P7' 'Product_P8' 'Product_P9'\n",
      " 'Origin_F1' 'Origin_F2' 'Origin_F3' 'Origin_F4' 'CD_name_CD1'\n",
      " 'CD_name_CD2' 'CD_name_CD3' 'Dest_C101' 'Dest_C102' 'Dest_C103'\n",
      " 'Dest_C104' 'Dest_C105' 'Dest_C201' 'Dest_C202' 'Dest_C203' 'Dest_C204'\n",
      " 'Dest_C205' 'Dest_C301' 'Dest_C302' 'Dest_C303' 'Dest_C304' 'Dest_C305'\n",
      " 'TruckType_SemiTrailler' 'TruckType_Truck' 'TruckType2_CityDeliveryTruck'\n",
      " 'TruckType2_MiniVan' 'TruckType2_Van' 'DriverCD_C_D1_1' 'DriverCD_C_D1_2'\n",
      " 'DriverCD_C_D1_3' 'DriverCD_C_D1_4' 'DriverCD_C_D1_5' 'DriverCD_C_D1_6'\n",
      " 'DriverCD_C_D1_7' 'DriverCD_C_D2_1' 'DriverCD_C_D2_2' 'DriverCD_C_D2_3'\n",
      " 'DriverCD_C_D2_4' 'DriverCD_C_D2_5' 'DriverCD_C_D2_6' 'DriverCD_C_D2_7'\n",
      " 'DriverCD_C_D3_1' 'DriverCD_C_D3_2' 'DriverCD_C_D3_3' 'DriverCD_C_D3_4'\n",
      " 'DriverCD_C_D3_5' 'DriverCD_C_D3_6' 'DriverCD_C_D3_7' 'RoutDeliveryOrder'\n",
      " 'FloorCD']\n"
     ]
    },
    {
     "data": {
      "image/svg+xml": "<?xml version=\"1.0\" encoding=\"UTF-8\" standalone=\"no\"?>\n<!DOCTYPE svg PUBLIC \"-//W3C//DTD SVG 1.1//EN\"\n \"http://www.w3.org/Graphics/SVG/1.1/DTD/svg11.dtd\">\n<!-- Generated by graphviz version 8.0.1 (20230327.1645)\n -->\n<!-- Title: Tree Pages: 1 -->\n<svg width=\"1929pt\" height=\"552pt\"\n viewBox=\"0.00 0.00 1928.50 552.00\" xmlns=\"http://www.w3.org/2000/svg\" xmlns:xlink=\"http://www.w3.org/1999/xlink\">\n<g id=\"graph0\" class=\"graph\" transform=\"scale(1 1) rotate(0) translate(4 548)\">\n<title>Tree</title>\n<polygon fill=\"white\" stroke=\"none\" points=\"-4,4 -4,-548 1924.5,-548 1924.5,4 -4,4\"/>\n<!-- 0 -->\n<g id=\"node1\" class=\"node\">\n<title>0</title>\n<path fill=\"#6ceca2\" stroke=\"black\" d=\"M1165.5,-544C1165.5,-544 1019.5,-544 1019.5,-544 1013.5,-544 1007.5,-538 1007.5,-532 1007.5,-532 1007.5,-473 1007.5,-473 1007.5,-467 1013.5,-461 1019.5,-461 1019.5,-461 1165.5,-461 1165.5,-461 1171.5,-461 1177.5,-467 1177.5,-473 1177.5,-473 1177.5,-532 1177.5,-532 1177.5,-538 1171.5,-544 1165.5,-544\"/>\n<text text-anchor=\"start\" x=\"1066\" y=\"-528.8\" font-family=\"Helvetica,sans-Serif\" font-size=\"14.00\">node #0</text>\n<text text-anchor=\"start\" x=\"1015.5\" y=\"-513.8\" font-family=\"Helvetica,sans-Serif\" font-size=\"14.00\">RoutDeliveryOrder ≤ 4.5</text>\n<text text-anchor=\"start\" x=\"1045\" y=\"-498.8\" font-family=\"Helvetica,sans-Serif\" font-size=\"14.00\">samples = 472</text>\n<text text-anchor=\"start\" x=\"1027.5\" y=\"-483.8\" font-family=\"Helvetica,sans-Serif\" font-size=\"14.00\">value = [70, 368, 34]</text>\n<text text-anchor=\"start\" x=\"1056\" y=\"-468.8\" font-family=\"Helvetica,sans-Serif\" font-size=\"14.00\">class = bad</text>\n</g>\n<!-- 1 -->\n<g id=\"node2\" class=\"node\">\n<title>1</title>\n<path fill=\"#aaf4c9\" stroke=\"black\" d=\"M894,-425C894,-425 745,-425 745,-425 739,-425 733,-419 733,-413 733,-413 733,-354 733,-354 733,-348 739,-342 745,-342 745,-342 894,-342 894,-342 900,-342 906,-348 906,-354 906,-354 906,-413 906,-413 906,-419 900,-425 894,-425\"/>\n<text text-anchor=\"start\" x=\"793\" y=\"-409.8\" font-family=\"Helvetica,sans-Serif\" font-size=\"14.00\">node #1</text>\n<text text-anchor=\"start\" x=\"741\" y=\"-394.8\" font-family=\"Helvetica,sans-Serif\" font-size=\"14.00\">DriverCD_C_D2_4 ≤ 0.5</text>\n<text text-anchor=\"start\" x=\"772\" y=\"-379.8\" font-family=\"Helvetica,sans-Serif\" font-size=\"14.00\">samples = 228</text>\n<text text-anchor=\"start\" x=\"754.5\" y=\"-364.8\" font-family=\"Helvetica,sans-Serif\" font-size=\"14.00\">value = [62, 133, 33]</text>\n<text text-anchor=\"start\" x=\"783\" y=\"-349.8\" font-family=\"Helvetica,sans-Serif\" font-size=\"14.00\">class = bad</text>\n</g>\n<!-- 0&#45;&gt;1 -->\n<g id=\"edge1\" class=\"edge\">\n<title>0&#45;&gt;1</title>\n<path fill=\"none\" stroke=\"black\" d=\"M1007.24,-464.96C978.43,-452.61 946.05,-438.74 916.4,-426.03\"/>\n<polygon fill=\"black\" stroke=\"black\" points=\"918.03,-422.49 907.46,-421.77 915.27,-428.92 918.03,-422.49\"/>\n<text text-anchor=\"middle\" x=\"915.74\" y=\"-441.28\" font-family=\"Helvetica,sans-Serif\" font-size=\"14.00\">True</text>\n</g>\n<!-- 16 -->\n<g id=\"node17\" class=\"node\">\n<title>16</title>\n<path fill=\"#41e686\" stroke=\"black\" d=\"M1409,-425C1409,-425 1304,-425 1304,-425 1298,-425 1292,-419 1292,-413 1292,-413 1292,-354 1292,-354 1292,-348 1298,-342 1304,-342 1304,-342 1409,-342 1409,-342 1415,-342 1421,-348 1421,-354 1421,-354 1421,-413 1421,-413 1421,-419 1415,-425 1409,-425\"/>\n<text text-anchor=\"start\" x=\"1326\" y=\"-409.8\" font-family=\"Helvetica,sans-Serif\" font-size=\"14.00\">node #16</text>\n<text text-anchor=\"start\" x=\"1302\" y=\"-394.8\" font-family=\"Helvetica,sans-Serif\" font-size=\"14.00\">Dest_C305 ≤ 0.5</text>\n<text text-anchor=\"start\" x=\"1309\" y=\"-379.8\" font-family=\"Helvetica,sans-Serif\" font-size=\"14.00\">samples = 244</text>\n<text text-anchor=\"start\" x=\"1300\" y=\"-364.8\" font-family=\"Helvetica,sans-Serif\" font-size=\"14.00\">value = [8, 235, 1]</text>\n<text text-anchor=\"start\" x=\"1320\" y=\"-349.8\" font-family=\"Helvetica,sans-Serif\" font-size=\"14.00\">class = bad</text>\n</g>\n<!-- 0&#45;&gt;16 -->\n<g id=\"edge16\" class=\"edge\">\n<title>0&#45;&gt;16</title>\n<path fill=\"none\" stroke=\"black\" d=\"M1177.85,-463.68C1211.3,-448.85 1249.33,-431.99 1281.69,-417.66\"/>\n<polygon fill=\"black\" stroke=\"black\" points=\"1282.81,-420.54 1290.53,-413.29 1279.97,-414.14 1282.81,-420.54\"/>\n<text text-anchor=\"middle\" x=\"1282.53\" y=\"-432.92\" font-family=\"Helvetica,sans-Serif\" font-size=\"14.00\">False</text>\n</g>\n<!-- 2 -->\n<g id=\"node3\" class=\"node\">\n<title>2</title>\n<path fill=\"#9ef2c1\" stroke=\"black\" d=\"M506,-306C506,-306 357,-306 357,-306 351,-306 345,-300 345,-294 345,-294 345,-235 345,-235 345,-229 351,-223 357,-223 357,-223 506,-223 506,-223 512,-223 518,-229 518,-235 518,-235 518,-294 518,-294 518,-300 512,-306 506,-306\"/>\n<text text-anchor=\"start\" x=\"405\" y=\"-290.8\" font-family=\"Helvetica,sans-Serif\" font-size=\"14.00\">node #2</text>\n<text text-anchor=\"start\" x=\"353\" y=\"-275.8\" font-family=\"Helvetica,sans-Serif\" font-size=\"14.00\">DriverCD_C_D1_4 ≤ 0.5</text>\n<text text-anchor=\"start\" x=\"384\" y=\"-260.8\" font-family=\"Helvetica,sans-Serif\" font-size=\"14.00\">samples = 212</text>\n<text text-anchor=\"start\" x=\"366.5\" y=\"-245.8\" font-family=\"Helvetica,sans-Serif\" font-size=\"14.00\">value = [51, 130, 31]</text>\n<text text-anchor=\"start\" x=\"395\" y=\"-230.8\" font-family=\"Helvetica,sans-Serif\" font-size=\"14.00\">class = bad</text>\n</g>\n<!-- 1&#45;&gt;2 -->\n<g id=\"edge2\" class=\"edge\">\n<title>1&#45;&gt;2</title>\n<path fill=\"none\" stroke=\"black\" d=\"M732.91,-356.39C672.4,-338.14 591.54,-313.76 528.8,-294.84\"/>\n<polygon fill=\"black\" stroke=\"black\" points=\"530.08,-291.27 519.5,-291.73 528.06,-297.97 530.08,-291.27\"/>\n</g>\n<!-- 9 -->\n<g id=\"node10\" class=\"node\">\n<title>9</title>\n<path fill=\"#efb185\" stroke=\"black\" d=\"M889,-306C889,-306 750,-306 750,-306 744,-306 738,-300 738,-294 738,-294 738,-235 738,-235 738,-229 744,-223 750,-223 750,-223 889,-223 889,-223 895,-223 901,-229 901,-235 901,-235 901,-294 901,-294 901,-300 895,-306 889,-306\"/>\n<text text-anchor=\"start\" x=\"793\" y=\"-290.8\" font-family=\"Helvetica,sans-Serif\" font-size=\"14.00\">node #9</text>\n<text text-anchor=\"start\" x=\"746\" y=\"-275.8\" font-family=\"Helvetica,sans-Serif\" font-size=\"14.00\">TruckType_Truck ≤ 0.5</text>\n<text text-anchor=\"start\" x=\"776\" y=\"-260.8\" font-family=\"Helvetica,sans-Serif\" font-size=\"14.00\">samples = 16</text>\n<text text-anchor=\"start\" x=\"767\" y=\"-245.8\" font-family=\"Helvetica,sans-Serif\" font-size=\"14.00\">value = [11, 3, 2]</text>\n<text text-anchor=\"start\" x=\"769.5\" y=\"-230.8\" font-family=\"Helvetica,sans-Serif\" font-size=\"14.00\">class = average</text>\n</g>\n<!-- 1&#45;&gt;9 -->\n<g id=\"edge9\" class=\"edge\">\n<title>1&#45;&gt;9</title>\n<path fill=\"none\" stroke=\"black\" d=\"M819.5,-341.58C819.5,-333.7 819.5,-325.34 819.5,-317.17\"/>\n<polygon fill=\"black\" stroke=\"black\" points=\"823,-317.2 819.5,-307.2 816,-317.2 823,-317.2\"/>\n</g>\n<!-- 3 -->\n<g id=\"node4\" class=\"node\">\n<title>3</title>\n<path fill=\"#96f1bc\" stroke=\"black\" d=\"M285,-187C285,-187 146,-187 146,-187 140,-187 134,-181 134,-175 134,-175 134,-116 134,-116 134,-110 140,-104 146,-104 146,-104 285,-104 285,-104 291,-104 297,-110 297,-116 297,-116 297,-175 297,-175 297,-181 291,-187 285,-187\"/>\n<text text-anchor=\"start\" x=\"189\" y=\"-171.8\" font-family=\"Helvetica,sans-Serif\" font-size=\"14.00\">node #3</text>\n<text text-anchor=\"start\" x=\"142\" y=\"-156.8\" font-family=\"Helvetica,sans-Serif\" font-size=\"14.00\">TruckType_Truck ≤ 0.5</text>\n<text text-anchor=\"start\" x=\"168\" y=\"-141.8\" font-family=\"Helvetica,sans-Serif\" font-size=\"14.00\">samples = 204</text>\n<text text-anchor=\"start\" x=\"150.5\" y=\"-126.8\" font-family=\"Helvetica,sans-Serif\" font-size=\"14.00\">value = [46, 130, 28]</text>\n<text text-anchor=\"start\" x=\"179\" y=\"-111.8\" font-family=\"Helvetica,sans-Serif\" font-size=\"14.00\">class = bad</text>\n</g>\n<!-- 2&#45;&gt;3 -->\n<g id=\"edge3\" class=\"edge\">\n<title>2&#45;&gt;3</title>\n<path fill=\"none\" stroke=\"black\" d=\"M355.95,-222.58C338.03,-212.87 318.79,-202.45 300.48,-192.53\"/>\n<polygon fill=\"black\" stroke=\"black\" points=\"302.46,-189.08 292,-187.4 299.13,-195.24 302.46,-189.08\"/>\n</g>\n<!-- 6 -->\n<g id=\"node7\" class=\"node\">\n<title>6</title>\n<path fill=\"#f5cdb0\" stroke=\"black\" d=\"M482,-187C482,-187 381,-187 381,-187 375,-187 369,-181 369,-175 369,-175 369,-116 369,-116 369,-110 375,-104 381,-104 381,-104 482,-104 482,-104 488,-104 494,-110 494,-116 494,-116 494,-175 494,-175 494,-181 488,-187 482,-187\"/>\n<text text-anchor=\"start\" x=\"405\" y=\"-171.8\" font-family=\"Helvetica,sans-Serif\" font-size=\"14.00\">node #6</text>\n<text text-anchor=\"start\" x=\"377\" y=\"-156.8\" font-family=\"Helvetica,sans-Serif\" font-size=\"14.00\">Dest_C103 ≤ 0.5</text>\n<text text-anchor=\"start\" x=\"392\" y=\"-141.8\" font-family=\"Helvetica,sans-Serif\" font-size=\"14.00\">samples = 8</text>\n<text text-anchor=\"start\" x=\"383\" y=\"-126.8\" font-family=\"Helvetica,sans-Serif\" font-size=\"14.00\">value = [5, 0, 3]</text>\n<text text-anchor=\"start\" x=\"381.5\" y=\"-111.8\" font-family=\"Helvetica,sans-Serif\" font-size=\"14.00\">class = average</text>\n</g>\n<!-- 2&#45;&gt;6 -->\n<g id=\"edge6\" class=\"edge\">\n<title>2&#45;&gt;6</title>\n<path fill=\"none\" stroke=\"black\" d=\"M431.5,-222.58C431.5,-214.7 431.5,-206.34 431.5,-198.17\"/>\n<polygon fill=\"black\" stroke=\"black\" points=\"435,-198.2 431.5,-188.2 428,-198.2 435,-198.2\"/>\n</g>\n<!-- 4 -->\n<g id=\"node5\" class=\"node\">\n<title>4</title>\n<path fill=\"#b3f5cf\" stroke=\"black\" d=\"M125,-68C125,-68 12,-68 12,-68 6,-68 0,-62 0,-56 0,-56 0,-12 0,-12 0,-6 6,0 12,0 12,0 125,0 125,0 131,0 137,-6 137,-12 137,-12 137,-56 137,-56 137,-62 131,-68 125,-68\"/>\n<text text-anchor=\"start\" x=\"42\" y=\"-52.8\" font-family=\"Helvetica,sans-Serif\" font-size=\"14.00\">node #4</text>\n<text text-anchor=\"start\" x=\"21\" y=\"-37.8\" font-family=\"Helvetica,sans-Serif\" font-size=\"14.00\">samples = 144</text>\n<text text-anchor=\"start\" x=\"8\" y=\"-22.8\" font-family=\"Helvetica,sans-Serif\" font-size=\"14.00\">value = [42, 81, 21]</text>\n<text text-anchor=\"start\" x=\"32\" y=\"-7.8\" font-family=\"Helvetica,sans-Serif\" font-size=\"14.00\">class = bad</text>\n</g>\n<!-- 3&#45;&gt;4 -->\n<g id=\"edge4\" class=\"edge\">\n<title>3&#45;&gt;4</title>\n<path fill=\"none\" stroke=\"black\" d=\"M160.76,-103.73C148.03,-94.24 134.49,-84.16 121.82,-74.72\"/>\n<polygon fill=\"black\" stroke=\"black\" points=\"124.31,-71.47 114.2,-68.3 120.13,-77.08 124.31,-71.47\"/>\n</g>\n<!-- 5 -->\n<g id=\"node6\" class=\"node\">\n<title>5</title>\n<path fill=\"#62ea9b\" stroke=\"black\" d=\"M264,-68C264,-68 167,-68 167,-68 161,-68 155,-62 155,-56 155,-56 155,-12 155,-12 155,-6 161,0 167,0 167,0 264,0 264,0 270,0 276,-6 276,-12 276,-12 276,-56 276,-56 276,-62 270,-68 264,-68\"/>\n<text text-anchor=\"start\" x=\"189\" y=\"-52.8\" font-family=\"Helvetica,sans-Serif\" font-size=\"14.00\">node #5</text>\n<text text-anchor=\"start\" x=\"172\" y=\"-37.8\" font-family=\"Helvetica,sans-Serif\" font-size=\"14.00\">samples = 60</text>\n<text text-anchor=\"start\" x=\"163\" y=\"-22.8\" font-family=\"Helvetica,sans-Serif\" font-size=\"14.00\">value = [4, 49, 7]</text>\n<text text-anchor=\"start\" x=\"179\" y=\"-7.8\" font-family=\"Helvetica,sans-Serif\" font-size=\"14.00\">class = bad</text>\n</g>\n<!-- 3&#45;&gt;5 -->\n<g id=\"edge5\" class=\"edge\">\n<title>3&#45;&gt;5</title>\n<path fill=\"none\" stroke=\"black\" d=\"M215.5,-103.73C215.5,-95.7 215.5,-87.24 215.5,-79.11\"/>\n<polygon fill=\"black\" stroke=\"black\" points=\"219,-79.3 215.5,-69.3 212,-79.3 219,-79.3\"/>\n</g>\n<!-- 7 -->\n<g id=\"node8\" class=\"node\">\n<title>7</title>\n<path fill=\"#e58139\" stroke=\"black\" d=\"M398.5,-68C398.5,-68 306.5,-68 306.5,-68 300.5,-68 294.5,-62 294.5,-56 294.5,-56 294.5,-12 294.5,-12 294.5,-6 300.5,0 306.5,0 306.5,0 398.5,0 398.5,0 404.5,0 410.5,-6 410.5,-12 410.5,-12 410.5,-56 410.5,-56 410.5,-62 404.5,-68 398.5,-68\"/>\n<text text-anchor=\"start\" x=\"326\" y=\"-52.8\" font-family=\"Helvetica,sans-Serif\" font-size=\"14.00\">node #7</text>\n<text text-anchor=\"start\" x=\"313\" y=\"-37.8\" font-family=\"Helvetica,sans-Serif\" font-size=\"14.00\">samples = 4</text>\n<text text-anchor=\"start\" x=\"304\" y=\"-22.8\" font-family=\"Helvetica,sans-Serif\" font-size=\"14.00\">value = [4, 0, 0]</text>\n<text text-anchor=\"start\" x=\"302.5\" y=\"-7.8\" font-family=\"Helvetica,sans-Serif\" font-size=\"14.00\">class = average</text>\n</g>\n<!-- 6&#45;&gt;7 -->\n<g id=\"edge7\" class=\"edge\">\n<title>6&#45;&gt;7</title>\n<path fill=\"none\" stroke=\"black\" d=\"M402.08,-103.73C395.83,-95.06 389.22,-85.9 382.93,-77.18\"/>\n<polygon fill=\"black\" stroke=\"black\" points=\"385.21,-75.36 376.52,-69.3 379.54,-79.46 385.21,-75.36\"/>\n</g>\n<!-- 8 -->\n<g id=\"node9\" class=\"node\">\n<title>8</title>\n<path fill=\"#ab7bee\" stroke=\"black\" d=\"M530,-68C530,-68 441,-68 441,-68 435,-68 429,-62 429,-56 429,-56 429,-12 429,-12 429,-6 435,0 441,0 441,0 530,0 530,0 536,0 542,-6 542,-12 542,-12 542,-56 542,-56 542,-62 536,-68 530,-68\"/>\n<text text-anchor=\"start\" x=\"459\" y=\"-52.8\" font-family=\"Helvetica,sans-Serif\" font-size=\"14.00\">node #8</text>\n<text text-anchor=\"start\" x=\"446\" y=\"-37.8\" font-family=\"Helvetica,sans-Serif\" font-size=\"14.00\">samples = 4</text>\n<text text-anchor=\"start\" x=\"437\" y=\"-22.8\" font-family=\"Helvetica,sans-Serif\" font-size=\"14.00\">value = [1, 0, 3]</text>\n<text text-anchor=\"start\" x=\"444.5\" y=\"-7.8\" font-family=\"Helvetica,sans-Serif\" font-size=\"14.00\">class = good</text>\n</g>\n<!-- 6&#45;&gt;8 -->\n<g id=\"edge8\" class=\"edge\">\n<title>6&#45;&gt;8</title>\n<path fill=\"none\" stroke=\"black\" d=\"M451.61,-103.73C455.75,-95.34 460.12,-86.47 464.29,-78.01\"/>\n<polygon fill=\"black\" stroke=\"black\" points=\"467.79,-79.82 469.08,-69.3 461.52,-76.72 467.79,-79.82\"/>\n</g>\n<!-- 10 -->\n<g id=\"node11\" class=\"node\">\n<title>10</title>\n<path fill=\"#fae6d7\" stroke=\"black\" d=\"M790,-187C790,-187 689,-187 689,-187 683,-187 677,-181 677,-175 677,-175 677,-116 677,-116 677,-110 683,-104 689,-104 689,-104 790,-104 790,-104 796,-104 802,-110 802,-116 802,-116 802,-175 802,-175 802,-181 796,-187 790,-187\"/>\n<text text-anchor=\"start\" x=\"709\" y=\"-171.8\" font-family=\"Helvetica,sans-Serif\" font-size=\"14.00\">node #10</text>\n<text text-anchor=\"start\" x=\"685\" y=\"-156.8\" font-family=\"Helvetica,sans-Serif\" font-size=\"14.00\">Dest_C201 ≤ 0.5</text>\n<text text-anchor=\"start\" x=\"700\" y=\"-141.8\" font-family=\"Helvetica,sans-Serif\" font-size=\"14.00\">samples = 8</text>\n<text text-anchor=\"start\" x=\"691\" y=\"-126.8\" font-family=\"Helvetica,sans-Serif\" font-size=\"14.00\">value = [4, 3, 1]</text>\n<text text-anchor=\"start\" x=\"689.5\" y=\"-111.8\" font-family=\"Helvetica,sans-Serif\" font-size=\"14.00\">class = average</text>\n</g>\n<!-- 9&#45;&gt;10 -->\n<g id=\"edge10\" class=\"edge\">\n<title>9&#45;&gt;10</title>\n<path fill=\"none\" stroke=\"black\" d=\"M791.52,-222.58C785.7,-214.07 779.51,-205.01 773.5,-196.23\"/>\n<polygon fill=\"black\" stroke=\"black\" points=\"775.86,-194.48 767.33,-188.2 770.08,-198.43 775.86,-194.48\"/>\n</g>\n<!-- 13 -->\n<g id=\"node14\" class=\"node\">\n<title>13</title>\n<path fill=\"#e99355\" stroke=\"black\" d=\"M969,-187C969,-187 832,-187 832,-187 826,-187 820,-181 820,-175 820,-175 820,-116 820,-116 820,-110 826,-104 832,-104 832,-104 969,-104 969,-104 975,-104 981,-110 981,-116 981,-116 981,-175 981,-175 981,-181 975,-187 969,-187\"/>\n<text text-anchor=\"start\" x=\"870\" y=\"-171.8\" font-family=\"Helvetica,sans-Serif\" font-size=\"14.00\">node #13</text>\n<text text-anchor=\"start\" x=\"828\" y=\"-156.8\" font-family=\"Helvetica,sans-Serif\" font-size=\"14.00\">TruckType2_Van ≤ 0.5</text>\n<text text-anchor=\"start\" x=\"861\" y=\"-141.8\" font-family=\"Helvetica,sans-Serif\" font-size=\"14.00\">samples = 8</text>\n<text text-anchor=\"start\" x=\"852\" y=\"-126.8\" font-family=\"Helvetica,sans-Serif\" font-size=\"14.00\">value = [7, 0, 1]</text>\n<text text-anchor=\"start\" x=\"850.5\" y=\"-111.8\" font-family=\"Helvetica,sans-Serif\" font-size=\"14.00\">class = average</text>\n</g>\n<!-- 9&#45;&gt;13 -->\n<g id=\"edge13\" class=\"edge\">\n<title>9&#45;&gt;13</title>\n<path fill=\"none\" stroke=\"black\" d=\"M847.83,-222.58C853.72,-214.07 859.99,-205.01 866.07,-196.23\"/>\n<polygon fill=\"black\" stroke=\"black\" points=\"869.51,-198.41 872.32,-188.2 863.75,-194.43 869.51,-198.41\"/>\n</g>\n<!-- 11 -->\n<g id=\"node12\" class=\"node\">\n<title>11</title>\n<path fill=\"#ffffff\" stroke=\"black\" d=\"M664.5,-68C664.5,-68 572.5,-68 572.5,-68 566.5,-68 560.5,-62 560.5,-56 560.5,-56 560.5,-12 560.5,-12 560.5,-6 566.5,0 572.5,0 572.5,0 664.5,0 664.5,0 670.5,0 676.5,-6 676.5,-12 676.5,-12 676.5,-56 676.5,-56 676.5,-62 670.5,-68 664.5,-68\"/>\n<text text-anchor=\"start\" x=\"588\" y=\"-52.8\" font-family=\"Helvetica,sans-Serif\" font-size=\"14.00\">node #11</text>\n<text text-anchor=\"start\" x=\"579\" y=\"-37.8\" font-family=\"Helvetica,sans-Serif\" font-size=\"14.00\">samples = 4</text>\n<text text-anchor=\"start\" x=\"570\" y=\"-22.8\" font-family=\"Helvetica,sans-Serif\" font-size=\"14.00\">value = [2, 2, 0]</text>\n<text text-anchor=\"start\" x=\"568.5\" y=\"-7.8\" font-family=\"Helvetica,sans-Serif\" font-size=\"14.00\">class = average</text>\n</g>\n<!-- 10&#45;&gt;11 -->\n<g id=\"edge11\" class=\"edge\">\n<title>10&#45;&gt;11</title>\n<path fill=\"none\" stroke=\"black\" d=\"M694.44,-103.73C684.26,-94.51 673.46,-84.74 663.29,-75.53\"/>\n<polygon fill=\"black\" stroke=\"black\" points=\"666.06,-73.41 656.3,-69.3 661.36,-78.6 666.06,-73.41\"/>\n</g>\n<!-- 12 -->\n<g id=\"node13\" class=\"node\">\n<title>12</title>\n<path fill=\"#f6d5bd\" stroke=\"black\" d=\"M798.5,-68C798.5,-68 706.5,-68 706.5,-68 700.5,-68 694.5,-62 694.5,-56 694.5,-56 694.5,-12 694.5,-12 694.5,-6 700.5,0 706.5,0 706.5,0 798.5,0 798.5,0 804.5,0 810.5,-6 810.5,-12 810.5,-12 810.5,-56 810.5,-56 810.5,-62 804.5,-68 798.5,-68\"/>\n<text text-anchor=\"start\" x=\"722\" y=\"-52.8\" font-family=\"Helvetica,sans-Serif\" font-size=\"14.00\">node #12</text>\n<text text-anchor=\"start\" x=\"713\" y=\"-37.8\" font-family=\"Helvetica,sans-Serif\" font-size=\"14.00\">samples = 4</text>\n<text text-anchor=\"start\" x=\"704\" y=\"-22.8\" font-family=\"Helvetica,sans-Serif\" font-size=\"14.00\">value = [2, 1, 1]</text>\n<text text-anchor=\"start\" x=\"702.5\" y=\"-7.8\" font-family=\"Helvetica,sans-Serif\" font-size=\"14.00\">class = average</text>\n</g>\n<!-- 10&#45;&gt;12 -->\n<g id=\"edge12\" class=\"edge\">\n<title>10&#45;&gt;12</title>\n<path fill=\"none\" stroke=\"black\" d=\"M744.34,-103.73C745.29,-95.7 746.3,-87.24 747.26,-79.11\"/>\n<polygon fill=\"black\" stroke=\"black\" points=\"750.84,-79.64 748.55,-69.3 743.89,-78.82 750.84,-79.64\"/>\n</g>\n<!-- 14 -->\n<g id=\"node15\" class=\"node\">\n<title>14</title>\n<path fill=\"#eeab7b\" stroke=\"black\" d=\"M932.5,-68C932.5,-68 840.5,-68 840.5,-68 834.5,-68 828.5,-62 828.5,-56 828.5,-56 828.5,-12 828.5,-12 828.5,-6 834.5,0 840.5,0 840.5,0 932.5,0 932.5,0 938.5,0 944.5,-6 944.5,-12 944.5,-12 944.5,-56 944.5,-56 944.5,-62 938.5,-68 932.5,-68\"/>\n<text text-anchor=\"start\" x=\"856\" y=\"-52.8\" font-family=\"Helvetica,sans-Serif\" font-size=\"14.00\">node #14</text>\n<text text-anchor=\"start\" x=\"847\" y=\"-37.8\" font-family=\"Helvetica,sans-Serif\" font-size=\"14.00\">samples = 4</text>\n<text text-anchor=\"start\" x=\"838\" y=\"-22.8\" font-family=\"Helvetica,sans-Serif\" font-size=\"14.00\">value = [3, 0, 1]</text>\n<text text-anchor=\"start\" x=\"836.5\" y=\"-7.8\" font-family=\"Helvetica,sans-Serif\" font-size=\"14.00\">class = average</text>\n</g>\n<!-- 13&#45;&gt;14 -->\n<g id=\"edge14\" class=\"edge\">\n<title>13&#45;&gt;14</title>\n<path fill=\"none\" stroke=\"black\" d=\"M895.29,-103.73C894.26,-95.7 893.18,-87.24 892.14,-79.11\"/>\n<polygon fill=\"black\" stroke=\"black\" points=\"895.5,-78.77 890.76,-69.3 888.55,-79.66 895.5,-78.77\"/>\n</g>\n<!-- 15 -->\n<g id=\"node16\" class=\"node\">\n<title>15</title>\n<path fill=\"#e58139\" stroke=\"black\" d=\"M1066.5,-68C1066.5,-68 974.5,-68 974.5,-68 968.5,-68 962.5,-62 962.5,-56 962.5,-56 962.5,-12 962.5,-12 962.5,-6 968.5,0 974.5,0 974.5,0 1066.5,0 1066.5,0 1072.5,0 1078.5,-6 1078.5,-12 1078.5,-12 1078.5,-56 1078.5,-56 1078.5,-62 1072.5,-68 1066.5,-68\"/>\n<text text-anchor=\"start\" x=\"990\" y=\"-52.8\" font-family=\"Helvetica,sans-Serif\" font-size=\"14.00\">node #15</text>\n<text text-anchor=\"start\" x=\"981\" y=\"-37.8\" font-family=\"Helvetica,sans-Serif\" font-size=\"14.00\">samples = 4</text>\n<text text-anchor=\"start\" x=\"972\" y=\"-22.8\" font-family=\"Helvetica,sans-Serif\" font-size=\"14.00\">value = [4, 0, 0]</text>\n<text text-anchor=\"start\" x=\"970.5\" y=\"-7.8\" font-family=\"Helvetica,sans-Serif\" font-size=\"14.00\">class = average</text>\n</g>\n<!-- 13&#45;&gt;15 -->\n<g id=\"edge15\" class=\"edge\">\n<title>13&#45;&gt;15</title>\n<path fill=\"none\" stroke=\"black\" d=\"M945.18,-103.73C955.28,-94.51 965.99,-84.74 976.08,-75.53\"/>\n<polygon fill=\"black\" stroke=\"black\" points=\"977.98,-78.63 983.01,-69.3 973.26,-73.45 977.98,-78.63\"/>\n</g>\n<!-- 17 -->\n<g id=\"node18\" class=\"node\">\n<title>17</title>\n<path fill=\"#3de583\" stroke=\"black\" d=\"M1431,-306C1431,-306 1282,-306 1282,-306 1276,-306 1270,-300 1270,-294 1270,-294 1270,-235 1270,-235 1270,-229 1276,-223 1282,-223 1282,-223 1431,-223 1431,-223 1437,-223 1443,-229 1443,-235 1443,-235 1443,-294 1443,-294 1443,-300 1437,-306 1431,-306\"/>\n<text text-anchor=\"start\" x=\"1326\" y=\"-290.8\" font-family=\"Helvetica,sans-Serif\" font-size=\"14.00\">node #17</text>\n<text text-anchor=\"start\" x=\"1278\" y=\"-275.8\" font-family=\"Helvetica,sans-Serif\" font-size=\"14.00\">DriverCD_C_D1_6 ≤ 0.5</text>\n<text text-anchor=\"start\" x=\"1309\" y=\"-260.8\" font-family=\"Helvetica,sans-Serif\" font-size=\"14.00\">samples = 228</text>\n<text text-anchor=\"start\" x=\"1300\" y=\"-245.8\" font-family=\"Helvetica,sans-Serif\" font-size=\"14.00\">value = [3, 224, 1]</text>\n<text text-anchor=\"start\" x=\"1320\" y=\"-230.8\" font-family=\"Helvetica,sans-Serif\" font-size=\"14.00\">class = bad</text>\n</g>\n<!-- 16&#45;&gt;17 -->\n<g id=\"edge17\" class=\"edge\">\n<title>16&#45;&gt;17</title>\n<path fill=\"none\" stroke=\"black\" d=\"M1356.5,-341.58C1356.5,-333.7 1356.5,-325.34 1356.5,-317.17\"/>\n<polygon fill=\"black\" stroke=\"black\" points=\"1360,-317.2 1356.5,-307.2 1353,-317.2 1360,-317.2\"/>\n</g>\n<!-- 24 -->\n<g id=\"node25\" class=\"node\">\n<title>24</title>\n<path fill=\"#93f1ba\" stroke=\"black\" d=\"M1629,-306C1629,-306 1532,-306 1532,-306 1526,-306 1520,-300 1520,-294 1520,-294 1520,-235 1520,-235 1520,-229 1526,-223 1532,-223 1532,-223 1629,-223 1629,-223 1635,-223 1641,-229 1641,-235 1641,-235 1641,-294 1641,-294 1641,-300 1635,-306 1629,-306\"/>\n<text text-anchor=\"start\" x=\"1550\" y=\"-290.8\" font-family=\"Helvetica,sans-Serif\" font-size=\"14.00\">node #24</text>\n<text text-anchor=\"start\" x=\"1531\" y=\"-275.8\" font-family=\"Helvetica,sans-Serif\" font-size=\"14.00\">Origin_F4 ≤ 0.5</text>\n<text text-anchor=\"start\" x=\"1537\" y=\"-260.8\" font-family=\"Helvetica,sans-Serif\" font-size=\"14.00\">samples = 16</text>\n<text text-anchor=\"start\" x=\"1528\" y=\"-245.8\" font-family=\"Helvetica,sans-Serif\" font-size=\"14.00\">value = [5, 11, 0]</text>\n<text text-anchor=\"start\" x=\"1544\" y=\"-230.8\" font-family=\"Helvetica,sans-Serif\" font-size=\"14.00\">class = bad</text>\n</g>\n<!-- 16&#45;&gt;24 -->\n<g id=\"edge24\" class=\"edge\">\n<title>16&#45;&gt;24</title>\n<path fill=\"none\" stroke=\"black\" d=\"M1421.29,-348.66C1449.15,-334.11 1481.78,-317.06 1510.23,-302.21\"/>\n<polygon fill=\"black\" stroke=\"black\" points=\"1511.45,-304.99 1518.7,-297.26 1508.21,-298.79 1511.45,-304.99\"/>\n</g>\n<!-- 18 -->\n<g id=\"node19\" class=\"node\">\n<title>18</title>\n<path fill=\"#3ae582\" stroke=\"black\" d=\"M1351,-187C1351,-187 1246,-187 1246,-187 1240,-187 1234,-181 1234,-175 1234,-175 1234,-116 1234,-116 1234,-110 1240,-104 1246,-104 1246,-104 1351,-104 1351,-104 1357,-104 1363,-110 1363,-116 1363,-116 1363,-175 1363,-175 1363,-181 1357,-187 1351,-187\"/>\n<text text-anchor=\"start\" x=\"1268\" y=\"-171.8\" font-family=\"Helvetica,sans-Serif\" font-size=\"14.00\">node #18</text>\n<text text-anchor=\"start\" x=\"1244\" y=\"-156.8\" font-family=\"Helvetica,sans-Serif\" font-size=\"14.00\">Dest_C302 ≤ 0.5</text>\n<text text-anchor=\"start\" x=\"1251\" y=\"-141.8\" font-family=\"Helvetica,sans-Serif\" font-size=\"14.00\">samples = 208</text>\n<text text-anchor=\"start\" x=\"1242\" y=\"-126.8\" font-family=\"Helvetica,sans-Serif\" font-size=\"14.00\">value = [0, 207, 1]</text>\n<text text-anchor=\"start\" x=\"1262\" y=\"-111.8\" font-family=\"Helvetica,sans-Serif\" font-size=\"14.00\">class = bad</text>\n</g>\n<!-- 17&#45;&gt;18 -->\n<g id=\"edge18\" class=\"edge\">\n<title>17&#45;&gt;18</title>\n<path fill=\"none\" stroke=\"black\" d=\"M1336.21,-222.58C1332.08,-214.25 1327.69,-205.39 1323.43,-196.78\"/>\n<polygon fill=\"black\" stroke=\"black\" points=\"1326.25,-195.61 1318.68,-188.2 1319.98,-198.71 1326.25,-195.61\"/>\n</g>\n<!-- 21 -->\n<g id=\"node22\" class=\"node\">\n<title>21</title>\n<path fill=\"#5cea97\" stroke=\"black\" d=\"M1494,-187C1494,-187 1393,-187 1393,-187 1387,-187 1381,-181 1381,-175 1381,-175 1381,-116 1381,-116 1381,-110 1387,-104 1393,-104 1393,-104 1494,-104 1494,-104 1500,-104 1506,-110 1506,-116 1506,-116 1506,-175 1506,-175 1506,-181 1500,-187 1494,-187\"/>\n<text text-anchor=\"start\" x=\"1413\" y=\"-171.8\" font-family=\"Helvetica,sans-Serif\" font-size=\"14.00\">node #21</text>\n<text text-anchor=\"start\" x=\"1389\" y=\"-156.8\" font-family=\"Helvetica,sans-Serif\" font-size=\"14.00\">Dest_C105 ≤ 0.5</text>\n<text text-anchor=\"start\" x=\"1400\" y=\"-141.8\" font-family=\"Helvetica,sans-Serif\" font-size=\"14.00\">samples = 20</text>\n<text text-anchor=\"start\" x=\"1391\" y=\"-126.8\" font-family=\"Helvetica,sans-Serif\" font-size=\"14.00\">value = [3, 17, 0]</text>\n<text text-anchor=\"start\" x=\"1407\" y=\"-111.8\" font-family=\"Helvetica,sans-Serif\" font-size=\"14.00\">class = bad</text>\n</g>\n<!-- 17&#45;&gt;21 -->\n<g id=\"edge21\" class=\"edge\">\n<title>17&#45;&gt;21</title>\n<path fill=\"none\" stroke=\"black\" d=\"M1386.93,-222.58C1393.32,-213.98 1400.13,-204.82 1406.73,-195.95\"/>\n<polygon fill=\"black\" stroke=\"black\" points=\"1410.08,-198.31 1413.24,-188.2 1404.46,-194.14 1410.08,-198.31\"/>\n</g>\n<!-- 19 -->\n<g id=\"node20\" class=\"node\">\n<title>19</title>\n<path fill=\"#39e581\" stroke=\"black\" d=\"M1214,-68C1214,-68 1109,-68 1109,-68 1103,-68 1097,-62 1097,-56 1097,-56 1097,-12 1097,-12 1097,-6 1103,0 1109,0 1109,0 1214,0 1214,0 1220,0 1226,-6 1226,-12 1226,-12 1226,-56 1226,-56 1226,-62 1220,-68 1214,-68\"/>\n<text text-anchor=\"start\" x=\"1131\" y=\"-52.8\" font-family=\"Helvetica,sans-Serif\" font-size=\"14.00\">node #19</text>\n<text text-anchor=\"start\" x=\"1114\" y=\"-37.8\" font-family=\"Helvetica,sans-Serif\" font-size=\"14.00\">samples = 196</text>\n<text text-anchor=\"start\" x=\"1105\" y=\"-22.8\" font-family=\"Helvetica,sans-Serif\" font-size=\"14.00\">value = [0, 196, 0]</text>\n<text text-anchor=\"start\" x=\"1125\" y=\"-7.8\" font-family=\"Helvetica,sans-Serif\" font-size=\"14.00\">class = bad</text>\n</g>\n<!-- 18&#45;&gt;19 -->\n<g id=\"edge19\" class=\"edge\">\n<title>18&#45;&gt;19</title>\n<path fill=\"none\" stroke=\"black\" d=\"M1247.49,-103.73C1235.73,-94.33 1223.24,-84.35 1211.53,-74.99\"/>\n<polygon fill=\"black\" stroke=\"black\" points=\"1214.16,-71.81 1204.16,-68.3 1209.79,-77.28 1214.16,-71.81\"/>\n</g>\n<!-- 20 -->\n<g id=\"node21\" class=\"node\">\n<title>20</title>\n<path fill=\"#4be78c\" stroke=\"black\" d=\"M1353,-68C1353,-68 1256,-68 1256,-68 1250,-68 1244,-62 1244,-56 1244,-56 1244,-12 1244,-12 1244,-6 1250,0 1256,0 1256,0 1353,0 1353,0 1359,0 1365,-6 1365,-12 1365,-12 1365,-56 1365,-56 1365,-62 1359,-68 1353,-68\"/>\n<text text-anchor=\"start\" x=\"1274\" y=\"-52.8\" font-family=\"Helvetica,sans-Serif\" font-size=\"14.00\">node #20</text>\n<text text-anchor=\"start\" x=\"1261\" y=\"-37.8\" font-family=\"Helvetica,sans-Serif\" font-size=\"14.00\">samples = 12</text>\n<text text-anchor=\"start\" x=\"1252\" y=\"-22.8\" font-family=\"Helvetica,sans-Serif\" font-size=\"14.00\">value = [0, 11, 1]</text>\n<text text-anchor=\"start\" x=\"1268\" y=\"-7.8\" font-family=\"Helvetica,sans-Serif\" font-size=\"14.00\">class = bad</text>\n</g>\n<!-- 18&#45;&gt;20 -->\n<g id=\"edge20\" class=\"edge\">\n<title>18&#45;&gt;20</title>\n<path fill=\"none\" stroke=\"black\" d=\"M1300.73,-103.73C1301.17,-95.7 1301.64,-87.24 1302.08,-79.11\"/>\n<polygon fill=\"black\" stroke=\"black\" points=\"1305.62,-79.48 1302.68,-69.3 1298.63,-79.09 1305.62,-79.48\"/>\n</g>\n<!-- 22 -->\n<g id=\"node23\" class=\"node\">\n<title>22</title>\n<path fill=\"#39e581\" stroke=\"black\" d=\"M1492,-68C1492,-68 1395,-68 1395,-68 1389,-68 1383,-62 1383,-56 1383,-56 1383,-12 1383,-12 1383,-6 1389,0 1395,0 1395,0 1492,0 1492,0 1498,0 1504,-6 1504,-12 1504,-12 1504,-56 1504,-56 1504,-62 1498,-68 1492,-68\"/>\n<text text-anchor=\"start\" x=\"1413\" y=\"-52.8\" font-family=\"Helvetica,sans-Serif\" font-size=\"14.00\">node #22</text>\n<text text-anchor=\"start\" x=\"1400\" y=\"-37.8\" font-family=\"Helvetica,sans-Serif\" font-size=\"14.00\">samples = 16</text>\n<text text-anchor=\"start\" x=\"1391\" y=\"-22.8\" font-family=\"Helvetica,sans-Serif\" font-size=\"14.00\">value = [0, 16, 0]</text>\n<text text-anchor=\"start\" x=\"1407\" y=\"-7.8\" font-family=\"Helvetica,sans-Serif\" font-size=\"14.00\">class = bad</text>\n</g>\n<!-- 21&#45;&gt;22 -->\n<g id=\"edge22\" class=\"edge\">\n<title>21&#45;&gt;22</title>\n<path fill=\"none\" stroke=\"black\" d=\"M1443.5,-103.73C1443.5,-95.7 1443.5,-87.24 1443.5,-79.11\"/>\n<polygon fill=\"black\" stroke=\"black\" points=\"1447,-79.3 1443.5,-69.3 1440,-79.3 1447,-79.3\"/>\n</g>\n<!-- 23 -->\n<g id=\"node24\" class=\"node\">\n<title>23</title>\n<path fill=\"#eeab7b\" stroke=\"black\" d=\"M1626.5,-68C1626.5,-68 1534.5,-68 1534.5,-68 1528.5,-68 1522.5,-62 1522.5,-56 1522.5,-56 1522.5,-12 1522.5,-12 1522.5,-6 1528.5,0 1534.5,0 1534.5,0 1626.5,0 1626.5,0 1632.5,0 1638.5,-6 1638.5,-12 1638.5,-12 1638.5,-56 1638.5,-56 1638.5,-62 1632.5,-68 1626.5,-68\"/>\n<text text-anchor=\"start\" x=\"1550\" y=\"-52.8\" font-family=\"Helvetica,sans-Serif\" font-size=\"14.00\">node #23</text>\n<text text-anchor=\"start\" x=\"1541\" y=\"-37.8\" font-family=\"Helvetica,sans-Serif\" font-size=\"14.00\">samples = 4</text>\n<text text-anchor=\"start\" x=\"1532\" y=\"-22.8\" font-family=\"Helvetica,sans-Serif\" font-size=\"14.00\">value = [3, 1, 0]</text>\n<text text-anchor=\"start\" x=\"1530.5\" y=\"-7.8\" font-family=\"Helvetica,sans-Serif\" font-size=\"14.00\">class = average</text>\n</g>\n<!-- 21&#45;&gt;23 -->\n<g id=\"edge23\" class=\"edge\">\n<title>21&#45;&gt;23</title>\n<path fill=\"none\" stroke=\"black\" d=\"M1494.51,-103.73C1506.27,-94.33 1518.76,-84.35 1530.47,-74.99\"/>\n<polygon fill=\"black\" stroke=\"black\" points=\"1532.21,-77.28 1537.84,-68.3 1527.84,-71.81 1532.21,-77.28\"/>\n</g>\n<!-- 25 -->\n<g id=\"node26\" class=\"node\">\n<title>25</title>\n<path fill=\"#39e581\" stroke=\"black\" d=\"M1625,-179.5C1625,-179.5 1536,-179.5 1536,-179.5 1530,-179.5 1524,-173.5 1524,-167.5 1524,-167.5 1524,-123.5 1524,-123.5 1524,-117.5 1530,-111.5 1536,-111.5 1536,-111.5 1625,-111.5 1625,-111.5 1631,-111.5 1637,-117.5 1637,-123.5 1637,-123.5 1637,-167.5 1637,-167.5 1637,-173.5 1631,-179.5 1625,-179.5\"/>\n<text text-anchor=\"start\" x=\"1550\" y=\"-164.3\" font-family=\"Helvetica,sans-Serif\" font-size=\"14.00\">node #25</text>\n<text text-anchor=\"start\" x=\"1541\" y=\"-149.3\" font-family=\"Helvetica,sans-Serif\" font-size=\"14.00\">samples = 8</text>\n<text text-anchor=\"start\" x=\"1532\" y=\"-134.3\" font-family=\"Helvetica,sans-Serif\" font-size=\"14.00\">value = [0, 8, 0]</text>\n<text text-anchor=\"start\" x=\"1544\" y=\"-119.3\" font-family=\"Helvetica,sans-Serif\" font-size=\"14.00\">class = bad</text>\n</g>\n<!-- 24&#45;&gt;25 -->\n<g id=\"edge25\" class=\"edge\">\n<title>24&#45;&gt;25</title>\n<path fill=\"none\" stroke=\"black\" d=\"M1580.5,-222.58C1580.5,-212.32 1580.5,-201.27 1580.5,-190.85\"/>\n<polygon fill=\"black\" stroke=\"black\" points=\"1584,-190.86 1580.5,-180.86 1577,-190.86 1584,-190.86\"/>\n</g>\n<!-- 26 -->\n<g id=\"node27\" class=\"node\">\n<title>26</title>\n<path fill=\"#f5cdb0\" stroke=\"black\" d=\"M1816,-187C1816,-187 1667,-187 1667,-187 1661,-187 1655,-181 1655,-175 1655,-175 1655,-116 1655,-116 1655,-110 1661,-104 1667,-104 1667,-104 1816,-104 1816,-104 1822,-104 1828,-110 1828,-116 1828,-116 1828,-175 1828,-175 1828,-181 1822,-187 1816,-187\"/>\n<text text-anchor=\"start\" x=\"1711\" y=\"-171.8\" font-family=\"Helvetica,sans-Serif\" font-size=\"14.00\">node #26</text>\n<text text-anchor=\"start\" x=\"1663\" y=\"-156.8\" font-family=\"Helvetica,sans-Serif\" font-size=\"14.00\">DriverCD_C_D3_6 ≤ 0.5</text>\n<text text-anchor=\"start\" x=\"1702\" y=\"-141.8\" font-family=\"Helvetica,sans-Serif\" font-size=\"14.00\">samples = 8</text>\n<text text-anchor=\"start\" x=\"1693\" y=\"-126.8\" font-family=\"Helvetica,sans-Serif\" font-size=\"14.00\">value = [5, 3, 0]</text>\n<text text-anchor=\"start\" x=\"1691.5\" y=\"-111.8\" font-family=\"Helvetica,sans-Serif\" font-size=\"14.00\">class = average</text>\n</g>\n<!-- 24&#45;&gt;26 -->\n<g id=\"edge26\" class=\"edge\">\n<title>24&#45;&gt;26</title>\n<path fill=\"none\" stroke=\"black\" d=\"M1636.81,-222.58C1649.68,-213.23 1663.46,-203.21 1676.65,-193.63\"/>\n<polygon fill=\"black\" stroke=\"black\" points=\"1678.19,-196.11 1684.22,-187.4 1674.07,-190.45 1678.19,-196.11\"/>\n</g>\n<!-- 27 -->\n<g id=\"node28\" class=\"node\">\n<title>27</title>\n<path fill=\"#eeab7b\" stroke=\"black\" d=\"M1774.5,-68C1774.5,-68 1682.5,-68 1682.5,-68 1676.5,-68 1670.5,-62 1670.5,-56 1670.5,-56 1670.5,-12 1670.5,-12 1670.5,-6 1676.5,0 1682.5,0 1682.5,0 1774.5,0 1774.5,0 1780.5,0 1786.5,-6 1786.5,-12 1786.5,-12 1786.5,-56 1786.5,-56 1786.5,-62 1780.5,-68 1774.5,-68\"/>\n<text text-anchor=\"start\" x=\"1698\" y=\"-52.8\" font-family=\"Helvetica,sans-Serif\" font-size=\"14.00\">node #27</text>\n<text text-anchor=\"start\" x=\"1689\" y=\"-37.8\" font-family=\"Helvetica,sans-Serif\" font-size=\"14.00\">samples = 4</text>\n<text text-anchor=\"start\" x=\"1680\" y=\"-22.8\" font-family=\"Helvetica,sans-Serif\" font-size=\"14.00\">value = [3, 1, 0]</text>\n<text text-anchor=\"start\" x=\"1678.5\" y=\"-7.8\" font-family=\"Helvetica,sans-Serif\" font-size=\"14.00\">class = average</text>\n</g>\n<!-- 26&#45;&gt;27 -->\n<g id=\"edge27\" class=\"edge\">\n<title>26&#45;&gt;27</title>\n<path fill=\"none\" stroke=\"black\" d=\"M1736.66,-103.73C1735.71,-95.7 1734.7,-87.24 1733.74,-79.11\"/>\n<polygon fill=\"black\" stroke=\"black\" points=\"1737.11,-78.82 1732.45,-69.3 1730.16,-79.64 1737.11,-78.82\"/>\n</g>\n<!-- 28 -->\n<g id=\"node29\" class=\"node\">\n<title>28</title>\n<path fill=\"#ffffff\" stroke=\"black\" d=\"M1908.5,-68C1908.5,-68 1816.5,-68 1816.5,-68 1810.5,-68 1804.5,-62 1804.5,-56 1804.5,-56 1804.5,-12 1804.5,-12 1804.5,-6 1810.5,0 1816.5,0 1816.5,0 1908.5,0 1908.5,0 1914.5,0 1920.5,-6 1920.5,-12 1920.5,-12 1920.5,-56 1920.5,-56 1920.5,-62 1914.5,-68 1908.5,-68\"/>\n<text text-anchor=\"start\" x=\"1832\" y=\"-52.8\" font-family=\"Helvetica,sans-Serif\" font-size=\"14.00\">node #28</text>\n<text text-anchor=\"start\" x=\"1823\" y=\"-37.8\" font-family=\"Helvetica,sans-Serif\" font-size=\"14.00\">samples = 4</text>\n<text text-anchor=\"start\" x=\"1814\" y=\"-22.8\" font-family=\"Helvetica,sans-Serif\" font-size=\"14.00\">value = [2, 2, 0]</text>\n<text text-anchor=\"start\" x=\"1812.5\" y=\"-7.8\" font-family=\"Helvetica,sans-Serif\" font-size=\"14.00\">class = average</text>\n</g>\n<!-- 26&#45;&gt;28 -->\n<g id=\"edge28\" class=\"edge\">\n<title>26&#45;&gt;28</title>\n<path fill=\"none\" stroke=\"black\" d=\"M1786.56,-103.73C1796.74,-94.51 1807.54,-84.74 1817.71,-75.53\"/>\n<polygon fill=\"black\" stroke=\"black\" points=\"1819.64,-78.6 1824.7,-69.3 1814.94,-73.41 1819.64,-78.6\"/>\n</g>\n</g>\n</svg>\n",
      "text/plain": [
       "<graphviz.sources.Source at 0x2a7a3db9190>"
      ]
     },
     "execution_count": 74,
     "metadata": {},
     "output_type": "execute_result"
    }
   ],
   "source": [
    "delivery_tree = tree.DecisionTreeClassifier(max_depth = 4, min_samples_split = 2, min_samples_leaf = 1)\n",
    "delivery_tree.fit(independetVariablesEncoded_p7_Floor, dependentVariableStars_p7_Floor)\n",
    "\n",
    "print(\"Decision tree model saved to delivery_tree!\")\n",
    "print(delivery_tree)\n",
    "print(independetVariablesEncoded_p7_Floor.columns.values)\n",
    "\n",
    "export_graphviz(delivery_tree,\n",
    "                feature_names=list(independetVariablesEncoded_p7_Floor.columns.values),\n",
    "                out_file=\"delivery_tree.dot\",\n",
    "                class_names=np.unique(dependentVariableStars_p7_Floor.astype(str)),\n",
    "                filled=True,\n",
    "                rounded=True,\n",
    "                node_ids=True,\n",
    "                special_characters=True,\n",
    "                impurity=False,\n",
    "                label=\"all\",\n",
    "                leaves_parallel = False)\n",
    "\n",
    "with open(\"delivery_tree.dot\") as delivery_tree_image:\n",
    "    delivery_tree_graph = delivery_tree_image.read()\n",
    "    \n",
    "graphviz.Source(delivery_tree_graph)"
   ]
  },
  {
   "cell_type": "markdown",
   "metadata": {},
   "source": [
    "# Referências"
   ]
  },
  {
   "cell_type": "markdown",
   "metadata": {
    "id": "3IPqosiQu52z"
   },
   "source": [
    "## Autores\n",
    "\n",
    "<a href=\"https://www.linkedin.com/in/eduardopecora/\" target=\"_blank\">Eduardo Pecora</a>\n",
    "\n",
    "<a href=\"https://www.linkedin.com/in/hesauhugocavalcanti/\" target=\"_blank\">Hesau Hugo</a>\n",
    "\n",
    "## Log de modificações\n",
    "\n",
    "| Data | Versão | Modificado por | Descrição |\n",
    "| ----------------- | ------- | ---------- | ---------------------------------- |\n",
    "| 04-04-2021       | 1.0     | Eduardo Pecora    | Inicial               |\n",
    "| 03-11-2021       | 1.1     | Eduardo Pecora    | Estrutura Aula        |\n",
    "| 17-04-2023       | 1.2     | Hesau Hugo        | Reestruturação        |\n",
    "<hr>\n",
    "\n"
   ]
  }
 ],
 "metadata": {
  "colab": {
   "collapsed_sections": [],
   "name": "DS07_1_Tree.ipynb",
   "provenance": []
  },
  "kernelspec": {
   "display_name": "Python 3.9.7 64-bit",
   "language": "python",
   "name": "python3"
  },
  "language_info": {
   "codemirror_mode": {
    "name": "ipython",
    "version": 3
   },
   "file_extension": ".py",
   "mimetype": "text/x-python",
   "name": "python",
   "nbconvert_exporter": "python",
   "pygments_lexer": "ipython3",
   "version": "3.9.7"
  },
  "vscode": {
   "interpreter": {
    "hash": "cf92aa13fedf815d5c8dd192b8d835913fde3e8bc926b2a0ad6cc74ef2ba3ca2"
   }
  }
 },
 "nbformat": 4,
 "nbformat_minor": 4
}
